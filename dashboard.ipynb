{
 "cells": [
  {
   "cell_type": "code",
   "execution_count": 1,
   "metadata": {},
   "outputs": [
    {
     "name": "stderr",
     "output_type": "stream",
     "text": [
      "/home/merlin/.local/lib/python3.8/site-packages/geopandas/_compat.py:124: UserWarning: The Shapely GEOS version (3.11.1-CAPI-1.17.1) is incompatible with the GEOS version PyGEOS was compiled with (3.10.4-CAPI-1.16.2). Conversions between both will be slow.\n",
      "  warnings.warn(\n",
      "/tmp/ipykernel_4449/168731610.py:5: DeprecationWarning: Shapely 2.0 is installed, but because PyGEOS is also installed, GeoPandas still uses PyGEOS by default. However, starting with version 0.14, the default will switch to Shapely. To force to use Shapely 2.0 now, you can either uninstall PyGEOS or set the environment variable USE_PYGEOS=0. You can do this before starting the Python process, or in your code before importing geopandas:\n",
      "\n",
      "import os\n",
      "os.environ['USE_PYGEOS'] = '0'\n",
      "import geopandas\n",
      "\n",
      "In the next release, GeoPandas will switch to using Shapely by default, even if PyGEOS is installed. If you only have PyGEOS installed to get speed-ups, this switch should be smooth. However, if you are using PyGEOS directly (calling PyGEOS functions on geometries from GeoPandas), this will then stop working and you are encouraged to migrate from PyGEOS to Shapely 2.0 (https://shapely.readthedocs.io/en/latest/migration_pygeos.html).\n",
      "  import geopandas as gdp\n"
     ]
    },
    {
     "data": {
      "application/javascript": [
       "(function(root) {\n",
       "  function now() {\n",
       "    return new Date();\n",
       "  }\n",
       "\n",
       "  var force = true;\n",
       "\n",
       "  if (typeof root._bokeh_onload_callbacks === \"undefined\" || force === true) {\n",
       "    root._bokeh_onload_callbacks = [];\n",
       "    root._bokeh_is_loading = undefined;\n",
       "  }\n",
       "\n",
       "  if (typeof (root._bokeh_timeout) === \"undefined\" || force === true) {\n",
       "    root._bokeh_timeout = Date.now() + 5000;\n",
       "    root._bokeh_failed_load = false;\n",
       "  }\n",
       "\n",
       "  function run_callbacks() {\n",
       "    try {\n",
       "      root._bokeh_onload_callbacks.forEach(function(callback) {\n",
       "        if (callback != null)\n",
       "          callback();\n",
       "      });\n",
       "    } finally {\n",
       "      delete root._bokeh_onload_callbacks\n",
       "    }\n",
       "    console.debug(\"Bokeh: all callbacks have finished\");\n",
       "  }\n",
       "\n",
       "  function load_libs(css_urls, js_urls, js_modules, callback) {\n",
       "    if (css_urls == null) css_urls = [];\n",
       "    if (js_urls == null) js_urls = [];\n",
       "    if (js_modules == null) js_modules = [];\n",
       "\n",
       "    root._bokeh_onload_callbacks.push(callback);\n",
       "    if (root._bokeh_is_loading > 0) {\n",
       "      console.debug(\"Bokeh: BokehJS is being loaded, scheduling callback at\", now());\n",
       "      return null;\n",
       "    }\n",
       "    if (js_urls.length === 0 && js_modules.length === 0) {\n",
       "      run_callbacks();\n",
       "      return null;\n",
       "    }\n",
       "    console.debug(\"Bokeh: BokehJS not loaded, scheduling load and callback at\", now());\n",
       "\n",
       "    function on_load() {\n",
       "      root._bokeh_is_loading--;\n",
       "      if (root._bokeh_is_loading === 0) {\n",
       "        console.debug(\"Bokeh: all BokehJS libraries/stylesheets loaded\");\n",
       "        run_callbacks()\n",
       "      }\n",
       "    }\n",
       "\n",
       "    function on_error() {\n",
       "      console.error(\"failed to load \" + url);\n",
       "    }\n",
       "\n",
       "    for (var i = 0; i < css_urls.length; i++) {\n",
       "      var url = css_urls[i];\n",
       "      const element = document.createElement(\"link\");\n",
       "      element.onload = on_load;\n",
       "      element.onerror = on_error;\n",
       "      element.rel = \"stylesheet\";\n",
       "      element.type = \"text/css\";\n",
       "      element.href = url;\n",
       "      console.debug(\"Bokeh: injecting link tag for BokehJS stylesheet: \", url);\n",
       "      document.body.appendChild(element);\n",
       "    }\n",
       "\n",
       "    var skip = [];\n",
       "    if (window.requirejs) {\n",
       "      window.requirejs.config({'packages': {}, 'paths': {'gridstack': 'https://cdn.jsdelivr.net/npm/gridstack@4.2.5/dist/gridstack-h5', 'notyf': 'https://cdn.jsdelivr.net/npm/notyf@3/notyf.min'}, 'shim': {'gridstack': {'exports': 'GridStack'}}});\n",
       "      require([\"gridstack\"], function(GridStack) {\n",
       "\twindow.GridStack = GridStack\n",
       "\ton_load()\n",
       "      })\n",
       "      require([\"notyf\"], function() {\n",
       "\ton_load()\n",
       "      })\n",
       "      root._bokeh_is_loading = css_urls.length + 2;\n",
       "    } else {\n",
       "      root._bokeh_is_loading = css_urls.length + js_urls.length + js_modules.length;\n",
       "    }    if (((window['GridStack'] !== undefined) && (!(window['GridStack'] instanceof HTMLElement))) || window.requirejs) {\n",
       "      var urls = ['https://cdn.holoviz.org/panel/0.14.2/dist/bundled/gridstack/gridstack@4.2.5/dist/gridstack-h5.js'];\n",
       "      for (var i = 0; i < urls.length; i++) {\n",
       "        skip.push(urls[i])\n",
       "      }\n",
       "    }    if (((window['Notyf'] !== undefined) && (!(window['Notyf'] instanceof HTMLElement))) || window.requirejs) {\n",
       "      var urls = ['https://cdn.holoviz.org/panel/0.14.2/dist/bundled/notificationarea/notyf@3/notyf.min.js'];\n",
       "      for (var i = 0; i < urls.length; i++) {\n",
       "        skip.push(urls[i])\n",
       "      }\n",
       "    }    for (var i = 0; i < js_urls.length; i++) {\n",
       "      var url = js_urls[i];\n",
       "      if (skip.indexOf(url) >= 0) {\n",
       "\tif (!window.requirejs) {\n",
       "\t  on_load();\n",
       "\t}\n",
       "\tcontinue;\n",
       "      }\n",
       "      var element = document.createElement('script');\n",
       "      element.onload = on_load;\n",
       "      element.onerror = on_error;\n",
       "      element.async = false;\n",
       "      element.src = url;\n",
       "      console.debug(\"Bokeh: injecting script tag for BokehJS library: \", url);\n",
       "      document.head.appendChild(element);\n",
       "    }\n",
       "    for (var i = 0; i < js_modules.length; i++) {\n",
       "      var url = js_modules[i];\n",
       "      if (skip.indexOf(url) >= 0) {\n",
       "\tif (!window.requirejs) {\n",
       "\t  on_load();\n",
       "\t}\n",
       "\tcontinue;\n",
       "      }\n",
       "      var element = document.createElement('script');\n",
       "      element.onload = on_load;\n",
       "      element.onerror = on_error;\n",
       "      element.async = false;\n",
       "      element.src = url;\n",
       "      element.type = \"module\";\n",
       "      console.debug(\"Bokeh: injecting script tag for BokehJS library: \", url);\n",
       "      document.head.appendChild(element);\n",
       "    }\n",
       "    if (!js_urls.length && !js_modules.length) {\n",
       "      on_load()\n",
       "    }\n",
       "  };\n",
       "\n",
       "  function inject_raw_css(css) {\n",
       "    const element = document.createElement(\"style\");\n",
       "    element.appendChild(document.createTextNode(css));\n",
       "    document.body.appendChild(element);\n",
       "  }\n",
       "\n",
       "  var js_urls = [\"https://cdn.bokeh.org/bokeh/release/bokeh-2.4.3.min.js\", \"https://cdn.bokeh.org/bokeh/release/bokeh-gl-2.4.3.min.js\", \"https://cdn.bokeh.org/bokeh/release/bokeh-widgets-2.4.3.min.js\", \"https://cdn.bokeh.org/bokeh/release/bokeh-tables-2.4.3.min.js\", \"https://cdn.bokeh.org/bokeh/release/bokeh-mathjax-2.4.3.min.js\", \"https://unpkg.com/@holoviz/panel@0.14.2/dist/panel.min.js\"];\n",
       "  var js_modules = [];\n",
       "  var css_urls = [\"https://cdn.holoviz.org/panel/0.14.2/dist/css/markdown.css\", \"https://cdn.holoviz.org/panel/0.14.2/dist/css/widgets.css\", \"https://cdn.holoviz.org/panel/0.14.2/dist/css/alerts.css\", \"https://cdn.holoviz.org/panel/0.14.2/dist/css/card.css\", \"https://cdn.holoviz.org/panel/0.14.2/dist/css/debugger.css\", \"https://cdn.holoviz.org/panel/0.14.2/dist/css/json.css\", \"https://cdn.holoviz.org/panel/0.14.2/dist/css/loading.css\", \"https://cdn.holoviz.org/panel/0.14.2/dist/css/dataframe.css\"];\n",
       "  var inline_js = [    function(Bokeh) {\n",
       "      inject_raw_css(\"\\n    .bk.pn-loading.arc:before {\\n      background-image: url(\\\"data:image/svg+xml;base64,PHN2ZyB4bWxucz0iaHR0cDovL3d3dy53My5vcmcvMjAwMC9zdmciIHN0eWxlPSJtYXJnaW46IGF1dG87IGJhY2tncm91bmQ6IG5vbmU7IGRpc3BsYXk6IGJsb2NrOyBzaGFwZS1yZW5kZXJpbmc6IGF1dG87IiB2aWV3Qm94PSIwIDAgMTAwIDEwMCIgcHJlc2VydmVBc3BlY3RSYXRpbz0ieE1pZFlNaWQiPiAgPGNpcmNsZSBjeD0iNTAiIGN5PSI1MCIgZmlsbD0ibm9uZSIgc3Ryb2tlPSIjYzNjM2MzIiBzdHJva2Utd2lkdGg9IjEwIiByPSIzNSIgc3Ryb2tlLWRhc2hhcnJheT0iMTY0LjkzMzYxNDMxMzQ2NDE1IDU2Ljk3Nzg3MTQzNzgyMTM4Ij4gICAgPGFuaW1hdGVUcmFuc2Zvcm0gYXR0cmlidXRlTmFtZT0idHJhbnNmb3JtIiB0eXBlPSJyb3RhdGUiIHJlcGVhdENvdW50PSJpbmRlZmluaXRlIiBkdXI9IjFzIiB2YWx1ZXM9IjAgNTAgNTA7MzYwIDUwIDUwIiBrZXlUaW1lcz0iMDsxIj48L2FuaW1hdGVUcmFuc2Zvcm0+ICA8L2NpcmNsZT48L3N2Zz4=\\\");\\n      background-size: auto calc(min(50%, 400px));\\n    }\\n    \");\n",
       "    },    function(Bokeh) {\n",
       "      Bokeh.set_log_level(\"info\");\n",
       "    },\n",
       "function(Bokeh) {} // ensure no trailing comma for IE\n",
       "  ];\n",
       "\n",
       "  function run_inline_js() {\n",
       "    if ((root.Bokeh !== undefined) || (force === true)) {\n",
       "      for (var i = 0; i < inline_js.length; i++) {\n",
       "        inline_js[i].call(root, root.Bokeh);\n",
       "      }} else if (Date.now() < root._bokeh_timeout) {\n",
       "      setTimeout(run_inline_js, 100);\n",
       "    } else if (!root._bokeh_failed_load) {\n",
       "      console.log(\"Bokeh: BokehJS failed to load within specified timeout.\");\n",
       "      root._bokeh_failed_load = true;\n",
       "    }\n",
       "  }\n",
       "\n",
       "  if (root._bokeh_is_loading === 0) {\n",
       "    console.debug(\"Bokeh: BokehJS loaded, going straight to plotting\");\n",
       "    run_inline_js();\n",
       "  } else {\n",
       "    load_libs(css_urls, js_urls, js_modules, function() {\n",
       "      console.debug(\"Bokeh: BokehJS plotting callback run at\", now());\n",
       "      run_inline_js();\n",
       "    });\n",
       "  }\n",
       "}(window));"
      ],
      "application/vnd.holoviews_load.v0+json": "(function(root) {\n  function now() {\n    return new Date();\n  }\n\n  var force = true;\n\n  if (typeof root._bokeh_onload_callbacks === \"undefined\" || force === true) {\n    root._bokeh_onload_callbacks = [];\n    root._bokeh_is_loading = undefined;\n  }\n\n  if (typeof (root._bokeh_timeout) === \"undefined\" || force === true) {\n    root._bokeh_timeout = Date.now() + 5000;\n    root._bokeh_failed_load = false;\n  }\n\n  function run_callbacks() {\n    try {\n      root._bokeh_onload_callbacks.forEach(function(callback) {\n        if (callback != null)\n          callback();\n      });\n    } finally {\n      delete root._bokeh_onload_callbacks\n    }\n    console.debug(\"Bokeh: all callbacks have finished\");\n  }\n\n  function load_libs(css_urls, js_urls, js_modules, callback) {\n    if (css_urls == null) css_urls = [];\n    if (js_urls == null) js_urls = [];\n    if (js_modules == null) js_modules = [];\n\n    root._bokeh_onload_callbacks.push(callback);\n    if (root._bokeh_is_loading > 0) {\n      console.debug(\"Bokeh: BokehJS is being loaded, scheduling callback at\", now());\n      return null;\n    }\n    if (js_urls.length === 0 && js_modules.length === 0) {\n      run_callbacks();\n      return null;\n    }\n    console.debug(\"Bokeh: BokehJS not loaded, scheduling load and callback at\", now());\n\n    function on_load() {\n      root._bokeh_is_loading--;\n      if (root._bokeh_is_loading === 0) {\n        console.debug(\"Bokeh: all BokehJS libraries/stylesheets loaded\");\n        run_callbacks()\n      }\n    }\n\n    function on_error() {\n      console.error(\"failed to load \" + url);\n    }\n\n    for (var i = 0; i < css_urls.length; i++) {\n      var url = css_urls[i];\n      const element = document.createElement(\"link\");\n      element.onload = on_load;\n      element.onerror = on_error;\n      element.rel = \"stylesheet\";\n      element.type = \"text/css\";\n      element.href = url;\n      console.debug(\"Bokeh: injecting link tag for BokehJS stylesheet: \", url);\n      document.body.appendChild(element);\n    }\n\n    var skip = [];\n    if (window.requirejs) {\n      window.requirejs.config({'packages': {}, 'paths': {'gridstack': 'https://cdn.jsdelivr.net/npm/gridstack@4.2.5/dist/gridstack-h5', 'notyf': 'https://cdn.jsdelivr.net/npm/notyf@3/notyf.min'}, 'shim': {'gridstack': {'exports': 'GridStack'}}});\n      require([\"gridstack\"], function(GridStack) {\n\twindow.GridStack = GridStack\n\ton_load()\n      })\n      require([\"notyf\"], function() {\n\ton_load()\n      })\n      root._bokeh_is_loading = css_urls.length + 2;\n    } else {\n      root._bokeh_is_loading = css_urls.length + js_urls.length + js_modules.length;\n    }    if (((window['GridStack'] !== undefined) && (!(window['GridStack'] instanceof HTMLElement))) || window.requirejs) {\n      var urls = ['https://cdn.holoviz.org/panel/0.14.2/dist/bundled/gridstack/gridstack@4.2.5/dist/gridstack-h5.js'];\n      for (var i = 0; i < urls.length; i++) {\n        skip.push(urls[i])\n      }\n    }    if (((window['Notyf'] !== undefined) && (!(window['Notyf'] instanceof HTMLElement))) || window.requirejs) {\n      var urls = ['https://cdn.holoviz.org/panel/0.14.2/dist/bundled/notificationarea/notyf@3/notyf.min.js'];\n      for (var i = 0; i < urls.length; i++) {\n        skip.push(urls[i])\n      }\n    }    for (var i = 0; i < js_urls.length; i++) {\n      var url = js_urls[i];\n      if (skip.indexOf(url) >= 0) {\n\tif (!window.requirejs) {\n\t  on_load();\n\t}\n\tcontinue;\n      }\n      var element = document.createElement('script');\n      element.onload = on_load;\n      element.onerror = on_error;\n      element.async = false;\n      element.src = url;\n      console.debug(\"Bokeh: injecting script tag for BokehJS library: \", url);\n      document.head.appendChild(element);\n    }\n    for (var i = 0; i < js_modules.length; i++) {\n      var url = js_modules[i];\n      if (skip.indexOf(url) >= 0) {\n\tif (!window.requirejs) {\n\t  on_load();\n\t}\n\tcontinue;\n      }\n      var element = document.createElement('script');\n      element.onload = on_load;\n      element.onerror = on_error;\n      element.async = false;\n      element.src = url;\n      element.type = \"module\";\n      console.debug(\"Bokeh: injecting script tag for BokehJS library: \", url);\n      document.head.appendChild(element);\n    }\n    if (!js_urls.length && !js_modules.length) {\n      on_load()\n    }\n  };\n\n  function inject_raw_css(css) {\n    const element = document.createElement(\"style\");\n    element.appendChild(document.createTextNode(css));\n    document.body.appendChild(element);\n  }\n\n  var js_urls = [\"https://cdn.bokeh.org/bokeh/release/bokeh-2.4.3.min.js\", \"https://cdn.bokeh.org/bokeh/release/bokeh-gl-2.4.3.min.js\", \"https://cdn.bokeh.org/bokeh/release/bokeh-widgets-2.4.3.min.js\", \"https://cdn.bokeh.org/bokeh/release/bokeh-tables-2.4.3.min.js\", \"https://cdn.bokeh.org/bokeh/release/bokeh-mathjax-2.4.3.min.js\", \"https://unpkg.com/@holoviz/panel@0.14.2/dist/panel.min.js\"];\n  var js_modules = [];\n  var css_urls = [\"https://cdn.holoviz.org/panel/0.14.2/dist/css/markdown.css\", \"https://cdn.holoviz.org/panel/0.14.2/dist/css/widgets.css\", \"https://cdn.holoviz.org/panel/0.14.2/dist/css/alerts.css\", \"https://cdn.holoviz.org/panel/0.14.2/dist/css/card.css\", \"https://cdn.holoviz.org/panel/0.14.2/dist/css/debugger.css\", \"https://cdn.holoviz.org/panel/0.14.2/dist/css/json.css\", \"https://cdn.holoviz.org/panel/0.14.2/dist/css/loading.css\", \"https://cdn.holoviz.org/panel/0.14.2/dist/css/dataframe.css\"];\n  var inline_js = [    function(Bokeh) {\n      inject_raw_css(\"\\n    .bk.pn-loading.arc:before {\\n      background-image: url(\\\"data:image/svg+xml;base64,PHN2ZyB4bWxucz0iaHR0cDovL3d3dy53My5vcmcvMjAwMC9zdmciIHN0eWxlPSJtYXJnaW46IGF1dG87IGJhY2tncm91bmQ6IG5vbmU7IGRpc3BsYXk6IGJsb2NrOyBzaGFwZS1yZW5kZXJpbmc6IGF1dG87IiB2aWV3Qm94PSIwIDAgMTAwIDEwMCIgcHJlc2VydmVBc3BlY3RSYXRpbz0ieE1pZFlNaWQiPiAgPGNpcmNsZSBjeD0iNTAiIGN5PSI1MCIgZmlsbD0ibm9uZSIgc3Ryb2tlPSIjYzNjM2MzIiBzdHJva2Utd2lkdGg9IjEwIiByPSIzNSIgc3Ryb2tlLWRhc2hhcnJheT0iMTY0LjkzMzYxNDMxMzQ2NDE1IDU2Ljk3Nzg3MTQzNzgyMTM4Ij4gICAgPGFuaW1hdGVUcmFuc2Zvcm0gYXR0cmlidXRlTmFtZT0idHJhbnNmb3JtIiB0eXBlPSJyb3RhdGUiIHJlcGVhdENvdW50PSJpbmRlZmluaXRlIiBkdXI9IjFzIiB2YWx1ZXM9IjAgNTAgNTA7MzYwIDUwIDUwIiBrZXlUaW1lcz0iMDsxIj48L2FuaW1hdGVUcmFuc2Zvcm0+ICA8L2NpcmNsZT48L3N2Zz4=\\\");\\n      background-size: auto calc(min(50%, 400px));\\n    }\\n    \");\n    },    function(Bokeh) {\n      Bokeh.set_log_level(\"info\");\n    },\nfunction(Bokeh) {} // ensure no trailing comma for IE\n  ];\n\n  function run_inline_js() {\n    if ((root.Bokeh !== undefined) || (force === true)) {\n      for (var i = 0; i < inline_js.length; i++) {\n        inline_js[i].call(root, root.Bokeh);\n      }} else if (Date.now() < root._bokeh_timeout) {\n      setTimeout(run_inline_js, 100);\n    } else if (!root._bokeh_failed_load) {\n      console.log(\"Bokeh: BokehJS failed to load within specified timeout.\");\n      root._bokeh_failed_load = true;\n    }\n  }\n\n  if (root._bokeh_is_loading === 0) {\n    console.debug(\"Bokeh: BokehJS loaded, going straight to plotting\");\n    run_inline_js();\n  } else {\n    load_libs(css_urls, js_urls, js_modules, function() {\n      console.debug(\"Bokeh: BokehJS plotting callback run at\", now());\n      run_inline_js();\n    });\n  }\n}(window));"
     },
     "metadata": {},
     "output_type": "display_data"
    },
    {
     "data": {
      "application/javascript": [
       "\n",
       "if ((window.PyViz === undefined) || (window.PyViz instanceof HTMLElement)) {\n",
       "  window.PyViz = {comms: {}, comm_status:{}, kernels:{}, receivers: {}, plot_index: []}\n",
       "}\n",
       "\n",
       "\n",
       "    function JupyterCommManager() {\n",
       "    }\n",
       "\n",
       "    JupyterCommManager.prototype.register_target = function(plot_id, comm_id, msg_handler) {\n",
       "      if (window.comm_manager || ((window.Jupyter !== undefined) && (Jupyter.notebook.kernel != null))) {\n",
       "        var comm_manager = window.comm_manager || Jupyter.notebook.kernel.comm_manager;\n",
       "        comm_manager.register_target(comm_id, function(comm) {\n",
       "          comm.on_msg(msg_handler);\n",
       "        });\n",
       "      } else if ((plot_id in window.PyViz.kernels) && (window.PyViz.kernels[plot_id])) {\n",
       "        window.PyViz.kernels[plot_id].registerCommTarget(comm_id, function(comm) {\n",
       "          comm.onMsg = msg_handler;\n",
       "        });\n",
       "      } else if (typeof google != 'undefined' && google.colab.kernel != null) {\n",
       "        google.colab.kernel.comms.registerTarget(comm_id, (comm) => {\n",
       "          var messages = comm.messages[Symbol.asyncIterator]();\n",
       "          function processIteratorResult(result) {\n",
       "            var message = result.value;\n",
       "            console.log(message)\n",
       "            var content = {data: message.data, comm_id};\n",
       "            var buffers = []\n",
       "            for (var buffer of message.buffers || []) {\n",
       "              buffers.push(new DataView(buffer))\n",
       "            }\n",
       "            var metadata = message.metadata || {};\n",
       "            var msg = {content, buffers, metadata}\n",
       "            msg_handler(msg);\n",
       "            return messages.next().then(processIteratorResult);\n",
       "          }\n",
       "          return messages.next().then(processIteratorResult);\n",
       "        })\n",
       "      }\n",
       "    }\n",
       "\n",
       "    JupyterCommManager.prototype.get_client_comm = function(plot_id, comm_id, msg_handler) {\n",
       "      if (comm_id in window.PyViz.comms) {\n",
       "        return window.PyViz.comms[comm_id];\n",
       "      } else if (window.comm_manager || ((window.Jupyter !== undefined) && (Jupyter.notebook.kernel != null))) {\n",
       "        var comm_manager = window.comm_manager || Jupyter.notebook.kernel.comm_manager;\n",
       "        var comm = comm_manager.new_comm(comm_id, {}, {}, {}, comm_id);\n",
       "        if (msg_handler) {\n",
       "          comm.on_msg(msg_handler);\n",
       "        }\n",
       "      } else if ((plot_id in window.PyViz.kernels) && (window.PyViz.kernels[plot_id])) {\n",
       "        var comm = window.PyViz.kernels[plot_id].connectToComm(comm_id);\n",
       "        comm.open();\n",
       "        if (msg_handler) {\n",
       "          comm.onMsg = msg_handler;\n",
       "        }\n",
       "      } else if (typeof google != 'undefined' && google.colab.kernel != null) {\n",
       "        var comm_promise = google.colab.kernel.comms.open(comm_id)\n",
       "        comm_promise.then((comm) => {\n",
       "          window.PyViz.comms[comm_id] = comm;\n",
       "          if (msg_handler) {\n",
       "            var messages = comm.messages[Symbol.asyncIterator]();\n",
       "            function processIteratorResult(result) {\n",
       "              var message = result.value;\n",
       "              var content = {data: message.data};\n",
       "              var metadata = message.metadata || {comm_id};\n",
       "              var msg = {content, metadata}\n",
       "              msg_handler(msg);\n",
       "              return messages.next().then(processIteratorResult);\n",
       "            }\n",
       "            return messages.next().then(processIteratorResult);\n",
       "          }\n",
       "        }) \n",
       "        var sendClosure = (data, metadata, buffers, disposeOnDone) => {\n",
       "          return comm_promise.then((comm) => {\n",
       "            comm.send(data, metadata, buffers, disposeOnDone);\n",
       "          });\n",
       "        };\n",
       "        var comm = {\n",
       "          send: sendClosure\n",
       "        };\n",
       "      }\n",
       "      window.PyViz.comms[comm_id] = comm;\n",
       "      return comm;\n",
       "    }\n",
       "    window.PyViz.comm_manager = new JupyterCommManager();\n",
       "    \n",
       "\n",
       "\n",
       "var JS_MIME_TYPE = 'application/javascript';\n",
       "var HTML_MIME_TYPE = 'text/html';\n",
       "var EXEC_MIME_TYPE = 'application/vnd.holoviews_exec.v0+json';\n",
       "var CLASS_NAME = 'output';\n",
       "\n",
       "/**\n",
       " * Render data to the DOM node\n",
       " */\n",
       "function render(props, node) {\n",
       "  var div = document.createElement(\"div\");\n",
       "  var script = document.createElement(\"script\");\n",
       "  node.appendChild(div);\n",
       "  node.appendChild(script);\n",
       "}\n",
       "\n",
       "/**\n",
       " * Handle when a new output is added\n",
       " */\n",
       "function handle_add_output(event, handle) {\n",
       "  var output_area = handle.output_area;\n",
       "  var output = handle.output;\n",
       "  if ((output.data == undefined) || (!output.data.hasOwnProperty(EXEC_MIME_TYPE))) {\n",
       "    return\n",
       "  }\n",
       "  var id = output.metadata[EXEC_MIME_TYPE][\"id\"];\n",
       "  var toinsert = output_area.element.find(\".\" + CLASS_NAME.split(' ')[0]);\n",
       "  if (id !== undefined) {\n",
       "    var nchildren = toinsert.length;\n",
       "    var html_node = toinsert[nchildren-1].children[0];\n",
       "    html_node.innerHTML = output.data[HTML_MIME_TYPE];\n",
       "    var scripts = [];\n",
       "    var nodelist = html_node.querySelectorAll(\"script\");\n",
       "    for (var i in nodelist) {\n",
       "      if (nodelist.hasOwnProperty(i)) {\n",
       "        scripts.push(nodelist[i])\n",
       "      }\n",
       "    }\n",
       "\n",
       "    scripts.forEach( function (oldScript) {\n",
       "      var newScript = document.createElement(\"script\");\n",
       "      var attrs = [];\n",
       "      var nodemap = oldScript.attributes;\n",
       "      for (var j in nodemap) {\n",
       "        if (nodemap.hasOwnProperty(j)) {\n",
       "          attrs.push(nodemap[j])\n",
       "        }\n",
       "      }\n",
       "      attrs.forEach(function(attr) { newScript.setAttribute(attr.name, attr.value) });\n",
       "      newScript.appendChild(document.createTextNode(oldScript.innerHTML));\n",
       "      oldScript.parentNode.replaceChild(newScript, oldScript);\n",
       "    });\n",
       "    if (JS_MIME_TYPE in output.data) {\n",
       "      toinsert[nchildren-1].children[1].textContent = output.data[JS_MIME_TYPE];\n",
       "    }\n",
       "    output_area._hv_plot_id = id;\n",
       "    if ((window.Bokeh !== undefined) && (id in Bokeh.index)) {\n",
       "      window.PyViz.plot_index[id] = Bokeh.index[id];\n",
       "    } else {\n",
       "      window.PyViz.plot_index[id] = null;\n",
       "    }\n",
       "  } else if (output.metadata[EXEC_MIME_TYPE][\"server_id\"] !== undefined) {\n",
       "    var bk_div = document.createElement(\"div\");\n",
       "    bk_div.innerHTML = output.data[HTML_MIME_TYPE];\n",
       "    var script_attrs = bk_div.children[0].attributes;\n",
       "    for (var i = 0; i < script_attrs.length; i++) {\n",
       "      toinsert[toinsert.length - 1].childNodes[1].setAttribute(script_attrs[i].name, script_attrs[i].value);\n",
       "    }\n",
       "    // store reference to server id on output_area\n",
       "    output_area._bokeh_server_id = output.metadata[EXEC_MIME_TYPE][\"server_id\"];\n",
       "  }\n",
       "}\n",
       "\n",
       "/**\n",
       " * Handle when an output is cleared or removed\n",
       " */\n",
       "function handle_clear_output(event, handle) {\n",
       "  var id = handle.cell.output_area._hv_plot_id;\n",
       "  var server_id = handle.cell.output_area._bokeh_server_id;\n",
       "  if (((id === undefined) || !(id in PyViz.plot_index)) && (server_id !== undefined)) { return; }\n",
       "  var comm = window.PyViz.comm_manager.get_client_comm(\"hv-extension-comm\", \"hv-extension-comm\", function () {});\n",
       "  if (server_id !== null) {\n",
       "    comm.send({event_type: 'server_delete', 'id': server_id});\n",
       "    return;\n",
       "  } else if (comm !== null) {\n",
       "    comm.send({event_type: 'delete', 'id': id});\n",
       "  }\n",
       "  delete PyViz.plot_index[id];\n",
       "  if ((window.Bokeh !== undefined) & (id in window.Bokeh.index)) {\n",
       "    var doc = window.Bokeh.index[id].model.document\n",
       "    doc.clear();\n",
       "    const i = window.Bokeh.documents.indexOf(doc);\n",
       "    if (i > -1) {\n",
       "      window.Bokeh.documents.splice(i, 1);\n",
       "    }\n",
       "  }\n",
       "}\n",
       "\n",
       "/**\n",
       " * Handle kernel restart event\n",
       " */\n",
       "function handle_kernel_cleanup(event, handle) {\n",
       "  delete PyViz.comms[\"hv-extension-comm\"];\n",
       "  window.PyViz.plot_index = {}\n",
       "}\n",
       "\n",
       "/**\n",
       " * Handle update_display_data messages\n",
       " */\n",
       "function handle_update_output(event, handle) {\n",
       "  handle_clear_output(event, {cell: {output_area: handle.output_area}})\n",
       "  handle_add_output(event, handle)\n",
       "}\n",
       "\n",
       "function register_renderer(events, OutputArea) {\n",
       "  function append_mime(data, metadata, element) {\n",
       "    // create a DOM node to render to\n",
       "    var toinsert = this.create_output_subarea(\n",
       "    metadata,\n",
       "    CLASS_NAME,\n",
       "    EXEC_MIME_TYPE\n",
       "    );\n",
       "    this.keyboard_manager.register_events(toinsert);\n",
       "    // Render to node\n",
       "    var props = {data: data, metadata: metadata[EXEC_MIME_TYPE]};\n",
       "    render(props, toinsert[0]);\n",
       "    element.append(toinsert);\n",
       "    return toinsert\n",
       "  }\n",
       "\n",
       "  events.on('output_added.OutputArea', handle_add_output);\n",
       "  events.on('output_updated.OutputArea', handle_update_output);\n",
       "  events.on('clear_output.CodeCell', handle_clear_output);\n",
       "  events.on('delete.Cell', handle_clear_output);\n",
       "  events.on('kernel_ready.Kernel', handle_kernel_cleanup);\n",
       "\n",
       "  OutputArea.prototype.register_mime_type(EXEC_MIME_TYPE, append_mime, {\n",
       "    safe: true,\n",
       "    index: 0\n",
       "  });\n",
       "}\n",
       "\n",
       "if (window.Jupyter !== undefined) {\n",
       "  try {\n",
       "    var events = require('base/js/events');\n",
       "    var OutputArea = require('notebook/js/outputarea').OutputArea;\n",
       "    if (OutputArea.prototype.mime_types().indexOf(EXEC_MIME_TYPE) == -1) {\n",
       "      register_renderer(events, OutputArea);\n",
       "    }\n",
       "  } catch(err) {\n",
       "  }\n",
       "}\n"
      ],
      "application/vnd.holoviews_load.v0+json": "\nif ((window.PyViz === undefined) || (window.PyViz instanceof HTMLElement)) {\n  window.PyViz = {comms: {}, comm_status:{}, kernels:{}, receivers: {}, plot_index: []}\n}\n\n\n    function JupyterCommManager() {\n    }\n\n    JupyterCommManager.prototype.register_target = function(plot_id, comm_id, msg_handler) {\n      if (window.comm_manager || ((window.Jupyter !== undefined) && (Jupyter.notebook.kernel != null))) {\n        var comm_manager = window.comm_manager || Jupyter.notebook.kernel.comm_manager;\n        comm_manager.register_target(comm_id, function(comm) {\n          comm.on_msg(msg_handler);\n        });\n      } else if ((plot_id in window.PyViz.kernels) && (window.PyViz.kernels[plot_id])) {\n        window.PyViz.kernels[plot_id].registerCommTarget(comm_id, function(comm) {\n          comm.onMsg = msg_handler;\n        });\n      } else if (typeof google != 'undefined' && google.colab.kernel != null) {\n        google.colab.kernel.comms.registerTarget(comm_id, (comm) => {\n          var messages = comm.messages[Symbol.asyncIterator]();\n          function processIteratorResult(result) {\n            var message = result.value;\n            console.log(message)\n            var content = {data: message.data, comm_id};\n            var buffers = []\n            for (var buffer of message.buffers || []) {\n              buffers.push(new DataView(buffer))\n            }\n            var metadata = message.metadata || {};\n            var msg = {content, buffers, metadata}\n            msg_handler(msg);\n            return messages.next().then(processIteratorResult);\n          }\n          return messages.next().then(processIteratorResult);\n        })\n      }\n    }\n\n    JupyterCommManager.prototype.get_client_comm = function(plot_id, comm_id, msg_handler) {\n      if (comm_id in window.PyViz.comms) {\n        return window.PyViz.comms[comm_id];\n      } else if (window.comm_manager || ((window.Jupyter !== undefined) && (Jupyter.notebook.kernel != null))) {\n        var comm_manager = window.comm_manager || Jupyter.notebook.kernel.comm_manager;\n        var comm = comm_manager.new_comm(comm_id, {}, {}, {}, comm_id);\n        if (msg_handler) {\n          comm.on_msg(msg_handler);\n        }\n      } else if ((plot_id in window.PyViz.kernels) && (window.PyViz.kernels[plot_id])) {\n        var comm = window.PyViz.kernels[plot_id].connectToComm(comm_id);\n        comm.open();\n        if (msg_handler) {\n          comm.onMsg = msg_handler;\n        }\n      } else if (typeof google != 'undefined' && google.colab.kernel != null) {\n        var comm_promise = google.colab.kernel.comms.open(comm_id)\n        comm_promise.then((comm) => {\n          window.PyViz.comms[comm_id] = comm;\n          if (msg_handler) {\n            var messages = comm.messages[Symbol.asyncIterator]();\n            function processIteratorResult(result) {\n              var message = result.value;\n              var content = {data: message.data};\n              var metadata = message.metadata || {comm_id};\n              var msg = {content, metadata}\n              msg_handler(msg);\n              return messages.next().then(processIteratorResult);\n            }\n            return messages.next().then(processIteratorResult);\n          }\n        }) \n        var sendClosure = (data, metadata, buffers, disposeOnDone) => {\n          return comm_promise.then((comm) => {\n            comm.send(data, metadata, buffers, disposeOnDone);\n          });\n        };\n        var comm = {\n          send: sendClosure\n        };\n      }\n      window.PyViz.comms[comm_id] = comm;\n      return comm;\n    }\n    window.PyViz.comm_manager = new JupyterCommManager();\n    \n\n\nvar JS_MIME_TYPE = 'application/javascript';\nvar HTML_MIME_TYPE = 'text/html';\nvar EXEC_MIME_TYPE = 'application/vnd.holoviews_exec.v0+json';\nvar CLASS_NAME = 'output';\n\n/**\n * Render data to the DOM node\n */\nfunction render(props, node) {\n  var div = document.createElement(\"div\");\n  var script = document.createElement(\"script\");\n  node.appendChild(div);\n  node.appendChild(script);\n}\n\n/**\n * Handle when a new output is added\n */\nfunction handle_add_output(event, handle) {\n  var output_area = handle.output_area;\n  var output = handle.output;\n  if ((output.data == undefined) || (!output.data.hasOwnProperty(EXEC_MIME_TYPE))) {\n    return\n  }\n  var id = output.metadata[EXEC_MIME_TYPE][\"id\"];\n  var toinsert = output_area.element.find(\".\" + CLASS_NAME.split(' ')[0]);\n  if (id !== undefined) {\n    var nchildren = toinsert.length;\n    var html_node = toinsert[nchildren-1].children[0];\n    html_node.innerHTML = output.data[HTML_MIME_TYPE];\n    var scripts = [];\n    var nodelist = html_node.querySelectorAll(\"script\");\n    for (var i in nodelist) {\n      if (nodelist.hasOwnProperty(i)) {\n        scripts.push(nodelist[i])\n      }\n    }\n\n    scripts.forEach( function (oldScript) {\n      var newScript = document.createElement(\"script\");\n      var attrs = [];\n      var nodemap = oldScript.attributes;\n      for (var j in nodemap) {\n        if (nodemap.hasOwnProperty(j)) {\n          attrs.push(nodemap[j])\n        }\n      }\n      attrs.forEach(function(attr) { newScript.setAttribute(attr.name, attr.value) });\n      newScript.appendChild(document.createTextNode(oldScript.innerHTML));\n      oldScript.parentNode.replaceChild(newScript, oldScript);\n    });\n    if (JS_MIME_TYPE in output.data) {\n      toinsert[nchildren-1].children[1].textContent = output.data[JS_MIME_TYPE];\n    }\n    output_area._hv_plot_id = id;\n    if ((window.Bokeh !== undefined) && (id in Bokeh.index)) {\n      window.PyViz.plot_index[id] = Bokeh.index[id];\n    } else {\n      window.PyViz.plot_index[id] = null;\n    }\n  } else if (output.metadata[EXEC_MIME_TYPE][\"server_id\"] !== undefined) {\n    var bk_div = document.createElement(\"div\");\n    bk_div.innerHTML = output.data[HTML_MIME_TYPE];\n    var script_attrs = bk_div.children[0].attributes;\n    for (var i = 0; i < script_attrs.length; i++) {\n      toinsert[toinsert.length - 1].childNodes[1].setAttribute(script_attrs[i].name, script_attrs[i].value);\n    }\n    // store reference to server id on output_area\n    output_area._bokeh_server_id = output.metadata[EXEC_MIME_TYPE][\"server_id\"];\n  }\n}\n\n/**\n * Handle when an output is cleared or removed\n */\nfunction handle_clear_output(event, handle) {\n  var id = handle.cell.output_area._hv_plot_id;\n  var server_id = handle.cell.output_area._bokeh_server_id;\n  if (((id === undefined) || !(id in PyViz.plot_index)) && (server_id !== undefined)) { return; }\n  var comm = window.PyViz.comm_manager.get_client_comm(\"hv-extension-comm\", \"hv-extension-comm\", function () {});\n  if (server_id !== null) {\n    comm.send({event_type: 'server_delete', 'id': server_id});\n    return;\n  } else if (comm !== null) {\n    comm.send({event_type: 'delete', 'id': id});\n  }\n  delete PyViz.plot_index[id];\n  if ((window.Bokeh !== undefined) & (id in window.Bokeh.index)) {\n    var doc = window.Bokeh.index[id].model.document\n    doc.clear();\n    const i = window.Bokeh.documents.indexOf(doc);\n    if (i > -1) {\n      window.Bokeh.documents.splice(i, 1);\n    }\n  }\n}\n\n/**\n * Handle kernel restart event\n */\nfunction handle_kernel_cleanup(event, handle) {\n  delete PyViz.comms[\"hv-extension-comm\"];\n  window.PyViz.plot_index = {}\n}\n\n/**\n * Handle update_display_data messages\n */\nfunction handle_update_output(event, handle) {\n  handle_clear_output(event, {cell: {output_area: handle.output_area}})\n  handle_add_output(event, handle)\n}\n\nfunction register_renderer(events, OutputArea) {\n  function append_mime(data, metadata, element) {\n    // create a DOM node to render to\n    var toinsert = this.create_output_subarea(\n    metadata,\n    CLASS_NAME,\n    EXEC_MIME_TYPE\n    );\n    this.keyboard_manager.register_events(toinsert);\n    // Render to node\n    var props = {data: data, metadata: metadata[EXEC_MIME_TYPE]};\n    render(props, toinsert[0]);\n    element.append(toinsert);\n    return toinsert\n  }\n\n  events.on('output_added.OutputArea', handle_add_output);\n  events.on('output_updated.OutputArea', handle_update_output);\n  events.on('clear_output.CodeCell', handle_clear_output);\n  events.on('delete.Cell', handle_clear_output);\n  events.on('kernel_ready.Kernel', handle_kernel_cleanup);\n\n  OutputArea.prototype.register_mime_type(EXEC_MIME_TYPE, append_mime, {\n    safe: true,\n    index: 0\n  });\n}\n\nif (window.Jupyter !== undefined) {\n  try {\n    var events = require('base/js/events');\n    var OutputArea = require('notebook/js/outputarea').OutputArea;\n    if (OutputArea.prototype.mime_types().indexOf(EXEC_MIME_TYPE) == -1) {\n      register_renderer(events, OutputArea);\n    }\n  } catch(err) {\n  }\n}\n"
     },
     "metadata": {},
     "output_type": "display_data"
    },
    {
     "data": {
      "text/html": [
       "<style>.bk-root, .bk-root .bk:before, .bk-root .bk:after {\n",
       "  font-family: var(--jp-ui-font-size1);\n",
       "  font-size: var(--jp-ui-font-size1);\n",
       "  color: var(--jp-ui-font-color1);\n",
       "}\n",
       "</style>"
      ]
     },
     "metadata": {},
     "output_type": "display_data"
    },
    {
     "data": {
      "application/javascript": [
       "(function(root) {\n",
       "  function now() {\n",
       "    return new Date();\n",
       "  }\n",
       "\n",
       "  var force = true;\n",
       "\n",
       "  if (typeof root._bokeh_onload_callbacks === \"undefined\" || force === true) {\n",
       "    root._bokeh_onload_callbacks = [];\n",
       "    root._bokeh_is_loading = undefined;\n",
       "  }\n",
       "\n",
       "  if (typeof (root._bokeh_timeout) === \"undefined\" || force === true) {\n",
       "    root._bokeh_timeout = Date.now() + 5000;\n",
       "    root._bokeh_failed_load = false;\n",
       "  }\n",
       "\n",
       "  function run_callbacks() {\n",
       "    try {\n",
       "      root._bokeh_onload_callbacks.forEach(function(callback) {\n",
       "        if (callback != null)\n",
       "          callback();\n",
       "      });\n",
       "    } finally {\n",
       "      delete root._bokeh_onload_callbacks\n",
       "    }\n",
       "    console.debug(\"Bokeh: all callbacks have finished\");\n",
       "  }\n",
       "\n",
       "  function load_libs(css_urls, js_urls, js_modules, callback) {\n",
       "    if (css_urls == null) css_urls = [];\n",
       "    if (js_urls == null) js_urls = [];\n",
       "    if (js_modules == null) js_modules = [];\n",
       "\n",
       "    root._bokeh_onload_callbacks.push(callback);\n",
       "    if (root._bokeh_is_loading > 0) {\n",
       "      console.debug(\"Bokeh: BokehJS is being loaded, scheduling callback at\", now());\n",
       "      return null;\n",
       "    }\n",
       "    if (js_urls.length === 0 && js_modules.length === 0) {\n",
       "      run_callbacks();\n",
       "      return null;\n",
       "    }\n",
       "    console.debug(\"Bokeh: BokehJS not loaded, scheduling load and callback at\", now());\n",
       "\n",
       "    function on_load() {\n",
       "      root._bokeh_is_loading--;\n",
       "      if (root._bokeh_is_loading === 0) {\n",
       "        console.debug(\"Bokeh: all BokehJS libraries/stylesheets loaded\");\n",
       "        run_callbacks()\n",
       "      }\n",
       "    }\n",
       "\n",
       "    function on_error() {\n",
       "      console.error(\"failed to load \" + url);\n",
       "    }\n",
       "\n",
       "    for (var i = 0; i < css_urls.length; i++) {\n",
       "      var url = css_urls[i];\n",
       "      const element = document.createElement(\"link\");\n",
       "      element.onload = on_load;\n",
       "      element.onerror = on_error;\n",
       "      element.rel = \"stylesheet\";\n",
       "      element.type = \"text/css\";\n",
       "      element.href = url;\n",
       "      console.debug(\"Bokeh: injecting link tag for BokehJS stylesheet: \", url);\n",
       "      document.body.appendChild(element);\n",
       "    }\n",
       "\n",
       "    var skip = [];\n",
       "    if (window.requirejs) {\n",
       "      window.requirejs.config({'packages': {}, 'paths': {'plotly': 'https://cdn.plot.ly/plotly-2.10.1.min', 'gridstack': 'https://cdn.jsdelivr.net/npm/gridstack@4.2.5/dist/gridstack-h5', 'notyf': 'https://cdn.jsdelivr.net/npm/notyf@3/notyf.min'}, 'shim': {'gridstack': {'exports': 'GridStack'}}});\n",
       "      require([\"plotly\"], function(Plotly) {\n",
       "\twindow.Plotly = Plotly\n",
       "\ton_load()\n",
       "      })\n",
       "      require([\"gridstack\"], function(GridStack) {\n",
       "\twindow.GridStack = GridStack\n",
       "\ton_load()\n",
       "      })\n",
       "      require([\"notyf\"], function() {\n",
       "\ton_load()\n",
       "      })\n",
       "      root._bokeh_is_loading = css_urls.length + 3;\n",
       "    } else {\n",
       "      root._bokeh_is_loading = css_urls.length + js_urls.length + js_modules.length;\n",
       "    }    if (((window['Plotly'] !== undefined) && (!(window['Plotly'] instanceof HTMLElement))) || window.requirejs) {\n",
       "      var urls = ['https://cdn.holoviz.org/panel/0.14.2/dist/bundled/plotlyplot/plotly-2.10.1.min.js'];\n",
       "      for (var i = 0; i < urls.length; i++) {\n",
       "        skip.push(urls[i])\n",
       "      }\n",
       "    }    if (((window['GridStack'] !== undefined) && (!(window['GridStack'] instanceof HTMLElement))) || window.requirejs) {\n",
       "      var urls = ['https://cdn.holoviz.org/panel/0.14.2/dist/bundled/gridstack/gridstack@4.2.5/dist/gridstack-h5.js'];\n",
       "      for (var i = 0; i < urls.length; i++) {\n",
       "        skip.push(urls[i])\n",
       "      }\n",
       "    }    if (((window['Notyf'] !== undefined) && (!(window['Notyf'] instanceof HTMLElement))) || window.requirejs) {\n",
       "      var urls = ['https://cdn.holoviz.org/panel/0.14.2/dist/bundled/notificationarea/notyf@3/notyf.min.js'];\n",
       "      for (var i = 0; i < urls.length; i++) {\n",
       "        skip.push(urls[i])\n",
       "      }\n",
       "    }    for (var i = 0; i < js_urls.length; i++) {\n",
       "      var url = js_urls[i];\n",
       "      if (skip.indexOf(url) >= 0) {\n",
       "\tif (!window.requirejs) {\n",
       "\t  on_load();\n",
       "\t}\n",
       "\tcontinue;\n",
       "      }\n",
       "      var element = document.createElement('script');\n",
       "      element.onload = on_load;\n",
       "      element.onerror = on_error;\n",
       "      element.async = false;\n",
       "      element.src = url;\n",
       "      console.debug(\"Bokeh: injecting script tag for BokehJS library: \", url);\n",
       "      document.head.appendChild(element);\n",
       "    }\n",
       "    for (var i = 0; i < js_modules.length; i++) {\n",
       "      var url = js_modules[i];\n",
       "      if (skip.indexOf(url) >= 0) {\n",
       "\tif (!window.requirejs) {\n",
       "\t  on_load();\n",
       "\t}\n",
       "\tcontinue;\n",
       "      }\n",
       "      var element = document.createElement('script');\n",
       "      element.onload = on_load;\n",
       "      element.onerror = on_error;\n",
       "      element.async = false;\n",
       "      element.src = url;\n",
       "      element.type = \"module\";\n",
       "      console.debug(\"Bokeh: injecting script tag for BokehJS library: \", url);\n",
       "      document.head.appendChild(element);\n",
       "    }\n",
       "    if (!js_urls.length && !js_modules.length) {\n",
       "      on_load()\n",
       "    }\n",
       "  };\n",
       "\n",
       "  function inject_raw_css(css) {\n",
       "    const element = document.createElement(\"style\");\n",
       "    element.appendChild(document.createTextNode(css));\n",
       "    document.body.appendChild(element);\n",
       "  }\n",
       "\n",
       "  var js_urls = [\"https://cdn.holoviz.org/panel/0.14.2/dist/bundled/jquery/jquery.slim.min.js\", \"https://cdn.holoviz.org/panel/0.14.2/dist/bundled/plotlyplot/plotly-2.10.1.min.js\", \"https://cdn.bokeh.org/bokeh/release/bokeh-2.4.3.min.js\", \"https://cdn.bokeh.org/bokeh/release/bokeh-gl-2.4.3.min.js\", \"https://cdn.bokeh.org/bokeh/release/bokeh-widgets-2.4.3.min.js\", \"https://cdn.bokeh.org/bokeh/release/bokeh-tables-2.4.3.min.js\", \"https://cdn.bokeh.org/bokeh/release/bokeh-mathjax-2.4.3.min.js\", \"https://unpkg.com/@holoviz/panel@0.14.2/dist/panel.min.js\"];\n",
       "  var js_modules = [];\n",
       "  var css_urls = [\"https://cdn.holoviz.org/panel/0.14.2/dist/css/markdown.css\", \"https://cdn.holoviz.org/panel/0.14.2/dist/css/widgets.css\", \"https://cdn.holoviz.org/panel/0.14.2/dist/css/alerts.css\", \"https://cdn.holoviz.org/panel/0.14.2/dist/css/card.css\", \"https://cdn.holoviz.org/panel/0.14.2/dist/css/debugger.css\", \"https://cdn.holoviz.org/panel/0.14.2/dist/css/json.css\", \"https://cdn.holoviz.org/panel/0.14.2/dist/css/loading.css\", \"https://cdn.holoviz.org/panel/0.14.2/dist/css/dataframe.css\"];\n",
       "  var inline_js = [    function(Bokeh) {\n",
       "      inject_raw_css(\"\\n    .bk.pn-loading.arc:before {\\n      background-image: url(\\\"data:image/svg+xml;base64,PHN2ZyB4bWxucz0iaHR0cDovL3d3dy53My5vcmcvMjAwMC9zdmciIHN0eWxlPSJtYXJnaW46IGF1dG87IGJhY2tncm91bmQ6IG5vbmU7IGRpc3BsYXk6IGJsb2NrOyBzaGFwZS1yZW5kZXJpbmc6IGF1dG87IiB2aWV3Qm94PSIwIDAgMTAwIDEwMCIgcHJlc2VydmVBc3BlY3RSYXRpbz0ieE1pZFlNaWQiPiAgPGNpcmNsZSBjeD0iNTAiIGN5PSI1MCIgZmlsbD0ibm9uZSIgc3Ryb2tlPSIjYzNjM2MzIiBzdHJva2Utd2lkdGg9IjEwIiByPSIzNSIgc3Ryb2tlLWRhc2hhcnJheT0iMTY0LjkzMzYxNDMxMzQ2NDE1IDU2Ljk3Nzg3MTQzNzgyMTM4Ij4gICAgPGFuaW1hdGVUcmFuc2Zvcm0gYXR0cmlidXRlTmFtZT0idHJhbnNmb3JtIiB0eXBlPSJyb3RhdGUiIHJlcGVhdENvdW50PSJpbmRlZmluaXRlIiBkdXI9IjFzIiB2YWx1ZXM9IjAgNTAgNTA7MzYwIDUwIDUwIiBrZXlUaW1lcz0iMDsxIj48L2FuaW1hdGVUcmFuc2Zvcm0+ICA8L2NpcmNsZT48L3N2Zz4=\\\");\\n      background-size: auto calc(min(50%, 400px));\\n    }\\n    \");\n",
       "    },    function(Bokeh) {\n",
       "      Bokeh.set_log_level(\"info\");\n",
       "    },\n",
       "function(Bokeh) {} // ensure no trailing comma for IE\n",
       "  ];\n",
       "\n",
       "  function run_inline_js() {\n",
       "    if ((root.Bokeh !== undefined) || (force === true)) {\n",
       "      for (var i = 0; i < inline_js.length; i++) {\n",
       "        inline_js[i].call(root, root.Bokeh);\n",
       "      }} else if (Date.now() < root._bokeh_timeout) {\n",
       "      setTimeout(run_inline_js, 100);\n",
       "    } else if (!root._bokeh_failed_load) {\n",
       "      console.log(\"Bokeh: BokehJS failed to load within specified timeout.\");\n",
       "      root._bokeh_failed_load = true;\n",
       "    }\n",
       "  }\n",
       "\n",
       "  if (root._bokeh_is_loading === 0) {\n",
       "    console.debug(\"Bokeh: BokehJS loaded, going straight to plotting\");\n",
       "    run_inline_js();\n",
       "  } else {\n",
       "    load_libs(css_urls, js_urls, js_modules, function() {\n",
       "      console.debug(\"Bokeh: BokehJS plotting callback run at\", now());\n",
       "      run_inline_js();\n",
       "    });\n",
       "  }\n",
       "}(window));"
      ],
      "application/vnd.holoviews_load.v0+json": "(function(root) {\n  function now() {\n    return new Date();\n  }\n\n  var force = true;\n\n  if (typeof root._bokeh_onload_callbacks === \"undefined\" || force === true) {\n    root._bokeh_onload_callbacks = [];\n    root._bokeh_is_loading = undefined;\n  }\n\n  if (typeof (root._bokeh_timeout) === \"undefined\" || force === true) {\n    root._bokeh_timeout = Date.now() + 5000;\n    root._bokeh_failed_load = false;\n  }\n\n  function run_callbacks() {\n    try {\n      root._bokeh_onload_callbacks.forEach(function(callback) {\n        if (callback != null)\n          callback();\n      });\n    } finally {\n      delete root._bokeh_onload_callbacks\n    }\n    console.debug(\"Bokeh: all callbacks have finished\");\n  }\n\n  function load_libs(css_urls, js_urls, js_modules, callback) {\n    if (css_urls == null) css_urls = [];\n    if (js_urls == null) js_urls = [];\n    if (js_modules == null) js_modules = [];\n\n    root._bokeh_onload_callbacks.push(callback);\n    if (root._bokeh_is_loading > 0) {\n      console.debug(\"Bokeh: BokehJS is being loaded, scheduling callback at\", now());\n      return null;\n    }\n    if (js_urls.length === 0 && js_modules.length === 0) {\n      run_callbacks();\n      return null;\n    }\n    console.debug(\"Bokeh: BokehJS not loaded, scheduling load and callback at\", now());\n\n    function on_load() {\n      root._bokeh_is_loading--;\n      if (root._bokeh_is_loading === 0) {\n        console.debug(\"Bokeh: all BokehJS libraries/stylesheets loaded\");\n        run_callbacks()\n      }\n    }\n\n    function on_error() {\n      console.error(\"failed to load \" + url);\n    }\n\n    for (var i = 0; i < css_urls.length; i++) {\n      var url = css_urls[i];\n      const element = document.createElement(\"link\");\n      element.onload = on_load;\n      element.onerror = on_error;\n      element.rel = \"stylesheet\";\n      element.type = \"text/css\";\n      element.href = url;\n      console.debug(\"Bokeh: injecting link tag for BokehJS stylesheet: \", url);\n      document.body.appendChild(element);\n    }\n\n    var skip = [];\n    if (window.requirejs) {\n      window.requirejs.config({'packages': {}, 'paths': {'plotly': 'https://cdn.plot.ly/plotly-2.10.1.min', 'gridstack': 'https://cdn.jsdelivr.net/npm/gridstack@4.2.5/dist/gridstack-h5', 'notyf': 'https://cdn.jsdelivr.net/npm/notyf@3/notyf.min'}, 'shim': {'gridstack': {'exports': 'GridStack'}}});\n      require([\"plotly\"], function(Plotly) {\n\twindow.Plotly = Plotly\n\ton_load()\n      })\n      require([\"gridstack\"], function(GridStack) {\n\twindow.GridStack = GridStack\n\ton_load()\n      })\n      require([\"notyf\"], function() {\n\ton_load()\n      })\n      root._bokeh_is_loading = css_urls.length + 3;\n    } else {\n      root._bokeh_is_loading = css_urls.length + js_urls.length + js_modules.length;\n    }    if (((window['Plotly'] !== undefined) && (!(window['Plotly'] instanceof HTMLElement))) || window.requirejs) {\n      var urls = ['https://cdn.holoviz.org/panel/0.14.2/dist/bundled/plotlyplot/plotly-2.10.1.min.js'];\n      for (var i = 0; i < urls.length; i++) {\n        skip.push(urls[i])\n      }\n    }    if (((window['GridStack'] !== undefined) && (!(window['GridStack'] instanceof HTMLElement))) || window.requirejs) {\n      var urls = ['https://cdn.holoviz.org/panel/0.14.2/dist/bundled/gridstack/gridstack@4.2.5/dist/gridstack-h5.js'];\n      for (var i = 0; i < urls.length; i++) {\n        skip.push(urls[i])\n      }\n    }    if (((window['Notyf'] !== undefined) && (!(window['Notyf'] instanceof HTMLElement))) || window.requirejs) {\n      var urls = ['https://cdn.holoviz.org/panel/0.14.2/dist/bundled/notificationarea/notyf@3/notyf.min.js'];\n      for (var i = 0; i < urls.length; i++) {\n        skip.push(urls[i])\n      }\n    }    for (var i = 0; i < js_urls.length; i++) {\n      var url = js_urls[i];\n      if (skip.indexOf(url) >= 0) {\n\tif (!window.requirejs) {\n\t  on_load();\n\t}\n\tcontinue;\n      }\n      var element = document.createElement('script');\n      element.onload = on_load;\n      element.onerror = on_error;\n      element.async = false;\n      element.src = url;\n      console.debug(\"Bokeh: injecting script tag for BokehJS library: \", url);\n      document.head.appendChild(element);\n    }\n    for (var i = 0; i < js_modules.length; i++) {\n      var url = js_modules[i];\n      if (skip.indexOf(url) >= 0) {\n\tif (!window.requirejs) {\n\t  on_load();\n\t}\n\tcontinue;\n      }\n      var element = document.createElement('script');\n      element.onload = on_load;\n      element.onerror = on_error;\n      element.async = false;\n      element.src = url;\n      element.type = \"module\";\n      console.debug(\"Bokeh: injecting script tag for BokehJS library: \", url);\n      document.head.appendChild(element);\n    }\n    if (!js_urls.length && !js_modules.length) {\n      on_load()\n    }\n  };\n\n  function inject_raw_css(css) {\n    const element = document.createElement(\"style\");\n    element.appendChild(document.createTextNode(css));\n    document.body.appendChild(element);\n  }\n\n  var js_urls = [\"https://cdn.holoviz.org/panel/0.14.2/dist/bundled/jquery/jquery.slim.min.js\", \"https://cdn.holoviz.org/panel/0.14.2/dist/bundled/plotlyplot/plotly-2.10.1.min.js\", \"https://cdn.bokeh.org/bokeh/release/bokeh-2.4.3.min.js\", \"https://cdn.bokeh.org/bokeh/release/bokeh-gl-2.4.3.min.js\", \"https://cdn.bokeh.org/bokeh/release/bokeh-widgets-2.4.3.min.js\", \"https://cdn.bokeh.org/bokeh/release/bokeh-tables-2.4.3.min.js\", \"https://cdn.bokeh.org/bokeh/release/bokeh-mathjax-2.4.3.min.js\", \"https://unpkg.com/@holoviz/panel@0.14.2/dist/panel.min.js\"];\n  var js_modules = [];\n  var css_urls = [\"https://cdn.holoviz.org/panel/0.14.2/dist/css/markdown.css\", \"https://cdn.holoviz.org/panel/0.14.2/dist/css/widgets.css\", \"https://cdn.holoviz.org/panel/0.14.2/dist/css/alerts.css\", \"https://cdn.holoviz.org/panel/0.14.2/dist/css/card.css\", \"https://cdn.holoviz.org/panel/0.14.2/dist/css/debugger.css\", \"https://cdn.holoviz.org/panel/0.14.2/dist/css/json.css\", \"https://cdn.holoviz.org/panel/0.14.2/dist/css/loading.css\", \"https://cdn.holoviz.org/panel/0.14.2/dist/css/dataframe.css\"];\n  var inline_js = [    function(Bokeh) {\n      inject_raw_css(\"\\n    .bk.pn-loading.arc:before {\\n      background-image: url(\\\"data:image/svg+xml;base64,PHN2ZyB4bWxucz0iaHR0cDovL3d3dy53My5vcmcvMjAwMC9zdmciIHN0eWxlPSJtYXJnaW46IGF1dG87IGJhY2tncm91bmQ6IG5vbmU7IGRpc3BsYXk6IGJsb2NrOyBzaGFwZS1yZW5kZXJpbmc6IGF1dG87IiB2aWV3Qm94PSIwIDAgMTAwIDEwMCIgcHJlc2VydmVBc3BlY3RSYXRpbz0ieE1pZFlNaWQiPiAgPGNpcmNsZSBjeD0iNTAiIGN5PSI1MCIgZmlsbD0ibm9uZSIgc3Ryb2tlPSIjYzNjM2MzIiBzdHJva2Utd2lkdGg9IjEwIiByPSIzNSIgc3Ryb2tlLWRhc2hhcnJheT0iMTY0LjkzMzYxNDMxMzQ2NDE1IDU2Ljk3Nzg3MTQzNzgyMTM4Ij4gICAgPGFuaW1hdGVUcmFuc2Zvcm0gYXR0cmlidXRlTmFtZT0idHJhbnNmb3JtIiB0eXBlPSJyb3RhdGUiIHJlcGVhdENvdW50PSJpbmRlZmluaXRlIiBkdXI9IjFzIiB2YWx1ZXM9IjAgNTAgNTA7MzYwIDUwIDUwIiBrZXlUaW1lcz0iMDsxIj48L2FuaW1hdGVUcmFuc2Zvcm0+ICA8L2NpcmNsZT48L3N2Zz4=\\\");\\n      background-size: auto calc(min(50%, 400px));\\n    }\\n    \");\n    },    function(Bokeh) {\n      Bokeh.set_log_level(\"info\");\n    },\nfunction(Bokeh) {} // ensure no trailing comma for IE\n  ];\n\n  function run_inline_js() {\n    if ((root.Bokeh !== undefined) || (force === true)) {\n      for (var i = 0; i < inline_js.length; i++) {\n        inline_js[i].call(root, root.Bokeh);\n      }} else if (Date.now() < root._bokeh_timeout) {\n      setTimeout(run_inline_js, 100);\n    } else if (!root._bokeh_failed_load) {\n      console.log(\"Bokeh: BokehJS failed to load within specified timeout.\");\n      root._bokeh_failed_load = true;\n    }\n  }\n\n  if (root._bokeh_is_loading === 0) {\n    console.debug(\"Bokeh: BokehJS loaded, going straight to plotting\");\n    run_inline_js();\n  } else {\n    load_libs(css_urls, js_urls, js_modules, function() {\n      console.debug(\"Bokeh: BokehJS plotting callback run at\", now());\n      run_inline_js();\n    });\n  }\n}(window));"
     },
     "metadata": {},
     "output_type": "display_data"
    },
    {
     "data": {
      "application/javascript": [
       "\n",
       "if ((window.PyViz === undefined) || (window.PyViz instanceof HTMLElement)) {\n",
       "  window.PyViz = {comms: {}, comm_status:{}, kernels:{}, receivers: {}, plot_index: []}\n",
       "}\n",
       "\n",
       "\n",
       "    function JupyterCommManager() {\n",
       "    }\n",
       "\n",
       "    JupyterCommManager.prototype.register_target = function(plot_id, comm_id, msg_handler) {\n",
       "      if (window.comm_manager || ((window.Jupyter !== undefined) && (Jupyter.notebook.kernel != null))) {\n",
       "        var comm_manager = window.comm_manager || Jupyter.notebook.kernel.comm_manager;\n",
       "        comm_manager.register_target(comm_id, function(comm) {\n",
       "          comm.on_msg(msg_handler);\n",
       "        });\n",
       "      } else if ((plot_id in window.PyViz.kernels) && (window.PyViz.kernels[plot_id])) {\n",
       "        window.PyViz.kernels[plot_id].registerCommTarget(comm_id, function(comm) {\n",
       "          comm.onMsg = msg_handler;\n",
       "        });\n",
       "      } else if (typeof google != 'undefined' && google.colab.kernel != null) {\n",
       "        google.colab.kernel.comms.registerTarget(comm_id, (comm) => {\n",
       "          var messages = comm.messages[Symbol.asyncIterator]();\n",
       "          function processIteratorResult(result) {\n",
       "            var message = result.value;\n",
       "            console.log(message)\n",
       "            var content = {data: message.data, comm_id};\n",
       "            var buffers = []\n",
       "            for (var buffer of message.buffers || []) {\n",
       "              buffers.push(new DataView(buffer))\n",
       "            }\n",
       "            var metadata = message.metadata || {};\n",
       "            var msg = {content, buffers, metadata}\n",
       "            msg_handler(msg);\n",
       "            return messages.next().then(processIteratorResult);\n",
       "          }\n",
       "          return messages.next().then(processIteratorResult);\n",
       "        })\n",
       "      }\n",
       "    }\n",
       "\n",
       "    JupyterCommManager.prototype.get_client_comm = function(plot_id, comm_id, msg_handler) {\n",
       "      if (comm_id in window.PyViz.comms) {\n",
       "        return window.PyViz.comms[comm_id];\n",
       "      } else if (window.comm_manager || ((window.Jupyter !== undefined) && (Jupyter.notebook.kernel != null))) {\n",
       "        var comm_manager = window.comm_manager || Jupyter.notebook.kernel.comm_manager;\n",
       "        var comm = comm_manager.new_comm(comm_id, {}, {}, {}, comm_id);\n",
       "        if (msg_handler) {\n",
       "          comm.on_msg(msg_handler);\n",
       "        }\n",
       "      } else if ((plot_id in window.PyViz.kernels) && (window.PyViz.kernels[plot_id])) {\n",
       "        var comm = window.PyViz.kernels[plot_id].connectToComm(comm_id);\n",
       "        comm.open();\n",
       "        if (msg_handler) {\n",
       "          comm.onMsg = msg_handler;\n",
       "        }\n",
       "      } else if (typeof google != 'undefined' && google.colab.kernel != null) {\n",
       "        var comm_promise = google.colab.kernel.comms.open(comm_id)\n",
       "        comm_promise.then((comm) => {\n",
       "          window.PyViz.comms[comm_id] = comm;\n",
       "          if (msg_handler) {\n",
       "            var messages = comm.messages[Symbol.asyncIterator]();\n",
       "            function processIteratorResult(result) {\n",
       "              var message = result.value;\n",
       "              var content = {data: message.data};\n",
       "              var metadata = message.metadata || {comm_id};\n",
       "              var msg = {content, metadata}\n",
       "              msg_handler(msg);\n",
       "              return messages.next().then(processIteratorResult);\n",
       "            }\n",
       "            return messages.next().then(processIteratorResult);\n",
       "          }\n",
       "        }) \n",
       "        var sendClosure = (data, metadata, buffers, disposeOnDone) => {\n",
       "          return comm_promise.then((comm) => {\n",
       "            comm.send(data, metadata, buffers, disposeOnDone);\n",
       "          });\n",
       "        };\n",
       "        var comm = {\n",
       "          send: sendClosure\n",
       "        };\n",
       "      }\n",
       "      window.PyViz.comms[comm_id] = comm;\n",
       "      return comm;\n",
       "    }\n",
       "    window.PyViz.comm_manager = new JupyterCommManager();\n",
       "    \n",
       "\n",
       "\n",
       "var JS_MIME_TYPE = 'application/javascript';\n",
       "var HTML_MIME_TYPE = 'text/html';\n",
       "var EXEC_MIME_TYPE = 'application/vnd.holoviews_exec.v0+json';\n",
       "var CLASS_NAME = 'output';\n",
       "\n",
       "/**\n",
       " * Render data to the DOM node\n",
       " */\n",
       "function render(props, node) {\n",
       "  var div = document.createElement(\"div\");\n",
       "  var script = document.createElement(\"script\");\n",
       "  node.appendChild(div);\n",
       "  node.appendChild(script);\n",
       "}\n",
       "\n",
       "/**\n",
       " * Handle when a new output is added\n",
       " */\n",
       "function handle_add_output(event, handle) {\n",
       "  var output_area = handle.output_area;\n",
       "  var output = handle.output;\n",
       "  if ((output.data == undefined) || (!output.data.hasOwnProperty(EXEC_MIME_TYPE))) {\n",
       "    return\n",
       "  }\n",
       "  var id = output.metadata[EXEC_MIME_TYPE][\"id\"];\n",
       "  var toinsert = output_area.element.find(\".\" + CLASS_NAME.split(' ')[0]);\n",
       "  if (id !== undefined) {\n",
       "    var nchildren = toinsert.length;\n",
       "    var html_node = toinsert[nchildren-1].children[0];\n",
       "    html_node.innerHTML = output.data[HTML_MIME_TYPE];\n",
       "    var scripts = [];\n",
       "    var nodelist = html_node.querySelectorAll(\"script\");\n",
       "    for (var i in nodelist) {\n",
       "      if (nodelist.hasOwnProperty(i)) {\n",
       "        scripts.push(nodelist[i])\n",
       "      }\n",
       "    }\n",
       "\n",
       "    scripts.forEach( function (oldScript) {\n",
       "      var newScript = document.createElement(\"script\");\n",
       "      var attrs = [];\n",
       "      var nodemap = oldScript.attributes;\n",
       "      for (var j in nodemap) {\n",
       "        if (nodemap.hasOwnProperty(j)) {\n",
       "          attrs.push(nodemap[j])\n",
       "        }\n",
       "      }\n",
       "      attrs.forEach(function(attr) { newScript.setAttribute(attr.name, attr.value) });\n",
       "      newScript.appendChild(document.createTextNode(oldScript.innerHTML));\n",
       "      oldScript.parentNode.replaceChild(newScript, oldScript);\n",
       "    });\n",
       "    if (JS_MIME_TYPE in output.data) {\n",
       "      toinsert[nchildren-1].children[1].textContent = output.data[JS_MIME_TYPE];\n",
       "    }\n",
       "    output_area._hv_plot_id = id;\n",
       "    if ((window.Bokeh !== undefined) && (id in Bokeh.index)) {\n",
       "      window.PyViz.plot_index[id] = Bokeh.index[id];\n",
       "    } else {\n",
       "      window.PyViz.plot_index[id] = null;\n",
       "    }\n",
       "  } else if (output.metadata[EXEC_MIME_TYPE][\"server_id\"] !== undefined) {\n",
       "    var bk_div = document.createElement(\"div\");\n",
       "    bk_div.innerHTML = output.data[HTML_MIME_TYPE];\n",
       "    var script_attrs = bk_div.children[0].attributes;\n",
       "    for (var i = 0; i < script_attrs.length; i++) {\n",
       "      toinsert[toinsert.length - 1].childNodes[1].setAttribute(script_attrs[i].name, script_attrs[i].value);\n",
       "    }\n",
       "    // store reference to server id on output_area\n",
       "    output_area._bokeh_server_id = output.metadata[EXEC_MIME_TYPE][\"server_id\"];\n",
       "  }\n",
       "}\n",
       "\n",
       "/**\n",
       " * Handle when an output is cleared or removed\n",
       " */\n",
       "function handle_clear_output(event, handle) {\n",
       "  var id = handle.cell.output_area._hv_plot_id;\n",
       "  var server_id = handle.cell.output_area._bokeh_server_id;\n",
       "  if (((id === undefined) || !(id in PyViz.plot_index)) && (server_id !== undefined)) { return; }\n",
       "  var comm = window.PyViz.comm_manager.get_client_comm(\"hv-extension-comm\", \"hv-extension-comm\", function () {});\n",
       "  if (server_id !== null) {\n",
       "    comm.send({event_type: 'server_delete', 'id': server_id});\n",
       "    return;\n",
       "  } else if (comm !== null) {\n",
       "    comm.send({event_type: 'delete', 'id': id});\n",
       "  }\n",
       "  delete PyViz.plot_index[id];\n",
       "  if ((window.Bokeh !== undefined) & (id in window.Bokeh.index)) {\n",
       "    var doc = window.Bokeh.index[id].model.document\n",
       "    doc.clear();\n",
       "    const i = window.Bokeh.documents.indexOf(doc);\n",
       "    if (i > -1) {\n",
       "      window.Bokeh.documents.splice(i, 1);\n",
       "    }\n",
       "  }\n",
       "}\n",
       "\n",
       "/**\n",
       " * Handle kernel restart event\n",
       " */\n",
       "function handle_kernel_cleanup(event, handle) {\n",
       "  delete PyViz.comms[\"hv-extension-comm\"];\n",
       "  window.PyViz.plot_index = {}\n",
       "}\n",
       "\n",
       "/**\n",
       " * Handle update_display_data messages\n",
       " */\n",
       "function handle_update_output(event, handle) {\n",
       "  handle_clear_output(event, {cell: {output_area: handle.output_area}})\n",
       "  handle_add_output(event, handle)\n",
       "}\n",
       "\n",
       "function register_renderer(events, OutputArea) {\n",
       "  function append_mime(data, metadata, element) {\n",
       "    // create a DOM node to render to\n",
       "    var toinsert = this.create_output_subarea(\n",
       "    metadata,\n",
       "    CLASS_NAME,\n",
       "    EXEC_MIME_TYPE\n",
       "    );\n",
       "    this.keyboard_manager.register_events(toinsert);\n",
       "    // Render to node\n",
       "    var props = {data: data, metadata: metadata[EXEC_MIME_TYPE]};\n",
       "    render(props, toinsert[0]);\n",
       "    element.append(toinsert);\n",
       "    return toinsert\n",
       "  }\n",
       "\n",
       "  events.on('output_added.OutputArea', handle_add_output);\n",
       "  events.on('output_updated.OutputArea', handle_update_output);\n",
       "  events.on('clear_output.CodeCell', handle_clear_output);\n",
       "  events.on('delete.Cell', handle_clear_output);\n",
       "  events.on('kernel_ready.Kernel', handle_kernel_cleanup);\n",
       "\n",
       "  OutputArea.prototype.register_mime_type(EXEC_MIME_TYPE, append_mime, {\n",
       "    safe: true,\n",
       "    index: 0\n",
       "  });\n",
       "}\n",
       "\n",
       "if (window.Jupyter !== undefined) {\n",
       "  try {\n",
       "    var events = require('base/js/events');\n",
       "    var OutputArea = require('notebook/js/outputarea').OutputArea;\n",
       "    if (OutputArea.prototype.mime_types().indexOf(EXEC_MIME_TYPE) == -1) {\n",
       "      register_renderer(events, OutputArea);\n",
       "    }\n",
       "  } catch(err) {\n",
       "  }\n",
       "}\n"
      ],
      "application/vnd.holoviews_load.v0+json": "\nif ((window.PyViz === undefined) || (window.PyViz instanceof HTMLElement)) {\n  window.PyViz = {comms: {}, comm_status:{}, kernels:{}, receivers: {}, plot_index: []}\n}\n\n\n    function JupyterCommManager() {\n    }\n\n    JupyterCommManager.prototype.register_target = function(plot_id, comm_id, msg_handler) {\n      if (window.comm_manager || ((window.Jupyter !== undefined) && (Jupyter.notebook.kernel != null))) {\n        var comm_manager = window.comm_manager || Jupyter.notebook.kernel.comm_manager;\n        comm_manager.register_target(comm_id, function(comm) {\n          comm.on_msg(msg_handler);\n        });\n      } else if ((plot_id in window.PyViz.kernels) && (window.PyViz.kernels[plot_id])) {\n        window.PyViz.kernels[plot_id].registerCommTarget(comm_id, function(comm) {\n          comm.onMsg = msg_handler;\n        });\n      } else if (typeof google != 'undefined' && google.colab.kernel != null) {\n        google.colab.kernel.comms.registerTarget(comm_id, (comm) => {\n          var messages = comm.messages[Symbol.asyncIterator]();\n          function processIteratorResult(result) {\n            var message = result.value;\n            console.log(message)\n            var content = {data: message.data, comm_id};\n            var buffers = []\n            for (var buffer of message.buffers || []) {\n              buffers.push(new DataView(buffer))\n            }\n            var metadata = message.metadata || {};\n            var msg = {content, buffers, metadata}\n            msg_handler(msg);\n            return messages.next().then(processIteratorResult);\n          }\n          return messages.next().then(processIteratorResult);\n        })\n      }\n    }\n\n    JupyterCommManager.prototype.get_client_comm = function(plot_id, comm_id, msg_handler) {\n      if (comm_id in window.PyViz.comms) {\n        return window.PyViz.comms[comm_id];\n      } else if (window.comm_manager || ((window.Jupyter !== undefined) && (Jupyter.notebook.kernel != null))) {\n        var comm_manager = window.comm_manager || Jupyter.notebook.kernel.comm_manager;\n        var comm = comm_manager.new_comm(comm_id, {}, {}, {}, comm_id);\n        if (msg_handler) {\n          comm.on_msg(msg_handler);\n        }\n      } else if ((plot_id in window.PyViz.kernels) && (window.PyViz.kernels[plot_id])) {\n        var comm = window.PyViz.kernels[plot_id].connectToComm(comm_id);\n        comm.open();\n        if (msg_handler) {\n          comm.onMsg = msg_handler;\n        }\n      } else if (typeof google != 'undefined' && google.colab.kernel != null) {\n        var comm_promise = google.colab.kernel.comms.open(comm_id)\n        comm_promise.then((comm) => {\n          window.PyViz.comms[comm_id] = comm;\n          if (msg_handler) {\n            var messages = comm.messages[Symbol.asyncIterator]();\n            function processIteratorResult(result) {\n              var message = result.value;\n              var content = {data: message.data};\n              var metadata = message.metadata || {comm_id};\n              var msg = {content, metadata}\n              msg_handler(msg);\n              return messages.next().then(processIteratorResult);\n            }\n            return messages.next().then(processIteratorResult);\n          }\n        }) \n        var sendClosure = (data, metadata, buffers, disposeOnDone) => {\n          return comm_promise.then((comm) => {\n            comm.send(data, metadata, buffers, disposeOnDone);\n          });\n        };\n        var comm = {\n          send: sendClosure\n        };\n      }\n      window.PyViz.comms[comm_id] = comm;\n      return comm;\n    }\n    window.PyViz.comm_manager = new JupyterCommManager();\n    \n\n\nvar JS_MIME_TYPE = 'application/javascript';\nvar HTML_MIME_TYPE = 'text/html';\nvar EXEC_MIME_TYPE = 'application/vnd.holoviews_exec.v0+json';\nvar CLASS_NAME = 'output';\n\n/**\n * Render data to the DOM node\n */\nfunction render(props, node) {\n  var div = document.createElement(\"div\");\n  var script = document.createElement(\"script\");\n  node.appendChild(div);\n  node.appendChild(script);\n}\n\n/**\n * Handle when a new output is added\n */\nfunction handle_add_output(event, handle) {\n  var output_area = handle.output_area;\n  var output = handle.output;\n  if ((output.data == undefined) || (!output.data.hasOwnProperty(EXEC_MIME_TYPE))) {\n    return\n  }\n  var id = output.metadata[EXEC_MIME_TYPE][\"id\"];\n  var toinsert = output_area.element.find(\".\" + CLASS_NAME.split(' ')[0]);\n  if (id !== undefined) {\n    var nchildren = toinsert.length;\n    var html_node = toinsert[nchildren-1].children[0];\n    html_node.innerHTML = output.data[HTML_MIME_TYPE];\n    var scripts = [];\n    var nodelist = html_node.querySelectorAll(\"script\");\n    for (var i in nodelist) {\n      if (nodelist.hasOwnProperty(i)) {\n        scripts.push(nodelist[i])\n      }\n    }\n\n    scripts.forEach( function (oldScript) {\n      var newScript = document.createElement(\"script\");\n      var attrs = [];\n      var nodemap = oldScript.attributes;\n      for (var j in nodemap) {\n        if (nodemap.hasOwnProperty(j)) {\n          attrs.push(nodemap[j])\n        }\n      }\n      attrs.forEach(function(attr) { newScript.setAttribute(attr.name, attr.value) });\n      newScript.appendChild(document.createTextNode(oldScript.innerHTML));\n      oldScript.parentNode.replaceChild(newScript, oldScript);\n    });\n    if (JS_MIME_TYPE in output.data) {\n      toinsert[nchildren-1].children[1].textContent = output.data[JS_MIME_TYPE];\n    }\n    output_area._hv_plot_id = id;\n    if ((window.Bokeh !== undefined) && (id in Bokeh.index)) {\n      window.PyViz.plot_index[id] = Bokeh.index[id];\n    } else {\n      window.PyViz.plot_index[id] = null;\n    }\n  } else if (output.metadata[EXEC_MIME_TYPE][\"server_id\"] !== undefined) {\n    var bk_div = document.createElement(\"div\");\n    bk_div.innerHTML = output.data[HTML_MIME_TYPE];\n    var script_attrs = bk_div.children[0].attributes;\n    for (var i = 0; i < script_attrs.length; i++) {\n      toinsert[toinsert.length - 1].childNodes[1].setAttribute(script_attrs[i].name, script_attrs[i].value);\n    }\n    // store reference to server id on output_area\n    output_area._bokeh_server_id = output.metadata[EXEC_MIME_TYPE][\"server_id\"];\n  }\n}\n\n/**\n * Handle when an output is cleared or removed\n */\nfunction handle_clear_output(event, handle) {\n  var id = handle.cell.output_area._hv_plot_id;\n  var server_id = handle.cell.output_area._bokeh_server_id;\n  if (((id === undefined) || !(id in PyViz.plot_index)) && (server_id !== undefined)) { return; }\n  var comm = window.PyViz.comm_manager.get_client_comm(\"hv-extension-comm\", \"hv-extension-comm\", function () {});\n  if (server_id !== null) {\n    comm.send({event_type: 'server_delete', 'id': server_id});\n    return;\n  } else if (comm !== null) {\n    comm.send({event_type: 'delete', 'id': id});\n  }\n  delete PyViz.plot_index[id];\n  if ((window.Bokeh !== undefined) & (id in window.Bokeh.index)) {\n    var doc = window.Bokeh.index[id].model.document\n    doc.clear();\n    const i = window.Bokeh.documents.indexOf(doc);\n    if (i > -1) {\n      window.Bokeh.documents.splice(i, 1);\n    }\n  }\n}\n\n/**\n * Handle kernel restart event\n */\nfunction handle_kernel_cleanup(event, handle) {\n  delete PyViz.comms[\"hv-extension-comm\"];\n  window.PyViz.plot_index = {}\n}\n\n/**\n * Handle update_display_data messages\n */\nfunction handle_update_output(event, handle) {\n  handle_clear_output(event, {cell: {output_area: handle.output_area}})\n  handle_add_output(event, handle)\n}\n\nfunction register_renderer(events, OutputArea) {\n  function append_mime(data, metadata, element) {\n    // create a DOM node to render to\n    var toinsert = this.create_output_subarea(\n    metadata,\n    CLASS_NAME,\n    EXEC_MIME_TYPE\n    );\n    this.keyboard_manager.register_events(toinsert);\n    // Render to node\n    var props = {data: data, metadata: metadata[EXEC_MIME_TYPE]};\n    render(props, toinsert[0]);\n    element.append(toinsert);\n    return toinsert\n  }\n\n  events.on('output_added.OutputArea', handle_add_output);\n  events.on('output_updated.OutputArea', handle_update_output);\n  events.on('clear_output.CodeCell', handle_clear_output);\n  events.on('delete.Cell', handle_clear_output);\n  events.on('kernel_ready.Kernel', handle_kernel_cleanup);\n\n  OutputArea.prototype.register_mime_type(EXEC_MIME_TYPE, append_mime, {\n    safe: true,\n    index: 0\n  });\n}\n\nif (window.Jupyter !== undefined) {\n  try {\n    var events = require('base/js/events');\n    var OutputArea = require('notebook/js/outputarea').OutputArea;\n    if (OutputArea.prototype.mime_types().indexOf(EXEC_MIME_TYPE) == -1) {\n      register_renderer(events, OutputArea);\n    }\n  } catch(err) {\n  }\n}\n"
     },
     "metadata": {},
     "output_type": "display_data"
    },
    {
     "data": {
      "text/html": [
       "<style>.bk-root, .bk-root .bk:before, .bk-root .bk:after {\n",
       "  font-family: var(--jp-ui-font-size1);\n",
       "  font-size: var(--jp-ui-font-size1);\n",
       "  color: var(--jp-ui-font-color1);\n",
       "}\n",
       "</style>"
      ]
     },
     "metadata": {},
     "output_type": "display_data"
    },
    {
     "name": "stdout",
     "output_type": "stream",
     "text": [
      "3.8.13\n"
     ]
    }
   ],
   "source": [
    "import pandas as pd\n",
    "import numpy as np\n",
    "import datetime as dt # for date data type\n",
    "import seaborn as sns # For creating plots\n",
    "import geopandas as gdp\n",
    "import matplotlib.pyplot as plt\n",
    "import plotly.express as px\n",
    "import holoviews as hv\n",
    "import datetime\n",
    "import numexpr\n",
    "from platform import python_version\n",
    "\n",
    "import panel as pn\n",
    "\n",
    "pn.extension()\n",
    "pn.extension('plotly')\n",
    "\n",
    "print(python_version())"
   ]
  },
  {
   "cell_type": "code",
   "execution_count": null,
   "metadata": {},
   "outputs": [],
   "source": []
  },
  {
   "cell_type": "code",
   "execution_count": 2,
   "metadata": {},
   "outputs": [
    {
     "data": {
      "text/html": [
       "<div>\n",
       "<style scoped>\n",
       "    .dataframe tbody tr th:only-of-type {\n",
       "        vertical-align: middle;\n",
       "    }\n",
       "\n",
       "    .dataframe tbody tr th {\n",
       "        vertical-align: top;\n",
       "    }\n",
       "\n",
       "    .dataframe thead th {\n",
       "        text-align: right;\n",
       "    }\n",
       "</style>\n",
       "<table border=\"1\" class=\"dataframe\">\n",
       "  <thead>\n",
       "    <tr style=\"text-align: right;\">\n",
       "      <th></th>\n",
       "      <th>Unnamed: 0</th>\n",
       "      <th>Juhtumi nr</th>\n",
       "      <th>Toimumisaeg</th>\n",
       "      <th>Isikuid</th>\n",
       "      <th>Hukkunuid</th>\n",
       "      <th>Vigastatuid</th>\n",
       "      <th>Sõidukeid</th>\n",
       "      <th>Aadress (PPA)</th>\n",
       "      <th>Maja nr (PPA)</th>\n",
       "      <th>Tänav (PPA)</th>\n",
       "      <th>...</th>\n",
       "      <th>Tee nr (PPA)</th>\n",
       "      <th>Tee km (PPA)</th>\n",
       "      <th>Ilmastik [1]</th>\n",
       "      <th>Valgustus [1]</th>\n",
       "      <th>Valgustus [2]</th>\n",
       "      <th>GPS X</th>\n",
       "      <th>GPS Y</th>\n",
       "      <th>Asukoht</th>\n",
       "      <th>lon</th>\n",
       "      <th>lat</th>\n",
       "    </tr>\n",
       "    <tr>\n",
       "      <th>Toimumisaeg2</th>\n",
       "      <th></th>\n",
       "      <th></th>\n",
       "      <th></th>\n",
       "      <th></th>\n",
       "      <th></th>\n",
       "      <th></th>\n",
       "      <th></th>\n",
       "      <th></th>\n",
       "      <th></th>\n",
       "      <th></th>\n",
       "      <th></th>\n",
       "      <th></th>\n",
       "      <th></th>\n",
       "      <th></th>\n",
       "      <th></th>\n",
       "      <th></th>\n",
       "      <th></th>\n",
       "      <th></th>\n",
       "      <th></th>\n",
       "      <th></th>\n",
       "      <th></th>\n",
       "    </tr>\n",
       "  </thead>\n",
       "  <tbody>\n",
       "    <tr>\n",
       "      <th>2011-01-05</th>\n",
       "      <td>2117</td>\n",
       "      <td>2490110002994</td>\n",
       "      <td>1/5/11</td>\n",
       "      <td>1.0</td>\n",
       "      <td>0</td>\n",
       "      <td>2</td>\n",
       "      <td>1.0</td>\n",
       "      <td>Jõgeva maakond VANA Põltsamaa vald</td>\n",
       "      <td>NaN</td>\n",
       "      <td>PIKKNURME - PÕLTSAMAA</td>\n",
       "      <td>...</td>\n",
       "      <td>14175.0</td>\n",
       "      <td>9,2</td>\n",
       "      <td>Selged olud</td>\n",
       "      <td>Valge aeg</td>\n",
       "      <td>Valge aeg</td>\n",
       "      <td>6495324</td>\n",
       "      <td>621101</td>\n",
       "      <td>POINT (26.082246440862306 58.5809878216108)</td>\n",
       "      <td>26.082246</td>\n",
       "      <td>58.580988</td>\n",
       "    </tr>\n",
       "    <tr>\n",
       "      <th>2011-01-08</th>\n",
       "      <td>455</td>\n",
       "      <td>2302110170106</td>\n",
       "      <td>1/8/11</td>\n",
       "      <td>2.0</td>\n",
       "      <td>0</td>\n",
       "      <td>1</td>\n",
       "      <td>2.0</td>\n",
       "      <td>Harju maakond Rae vald</td>\n",
       "      <td>NaN</td>\n",
       "      <td>TALLINN - TARTU - VÕRU - LUHAMAA</td>\n",
       "      <td>...</td>\n",
       "      <td>2.0</td>\n",
       "      <td>9</td>\n",
       "      <td>Selged olud</td>\n",
       "      <td>Valge aeg</td>\n",
       "      <td>Valge aeg</td>\n",
       "      <td>6582359</td>\n",
       "      <td>548106</td>\n",
       "      <td>POINT (24.846256904304 59.37649481762436)</td>\n",
       "      <td>24.846257</td>\n",
       "      <td>59.376495</td>\n",
       "    </tr>\n",
       "    <tr>\n",
       "      <th>2011-01-08</th>\n",
       "      <td>2350</td>\n",
       "      <td>2502110056614</td>\n",
       "      <td>1/8/11</td>\n",
       "      <td>1.0</td>\n",
       "      <td>0</td>\n",
       "      <td>1</td>\n",
       "      <td>1.0</td>\n",
       "      <td>Pärnu maakond VANA Häädemeeste vald</td>\n",
       "      <td>NaN</td>\n",
       "      <td>IKLA - PIIRI</td>\n",
       "      <td>...</td>\n",
       "      <td>19348.0</td>\n",
       "      <td>1</td>\n",
       "      <td>Selged olud</td>\n",
       "      <td>Valge aeg</td>\n",
       "      <td>Valge aeg</td>\n",
       "      <td>6415281</td>\n",
       "      <td>522787</td>\n",
       "      <td>POINT (24.38404570760267 57.87861953982567)</td>\n",
       "      <td>24.384046</td>\n",
       "      <td>57.878620</td>\n",
       "    </tr>\n",
       "    <tr>\n",
       "      <th>2011-01-11</th>\n",
       "      <td>645</td>\n",
       "      <td>2302110256946</td>\n",
       "      <td>1/11/11</td>\n",
       "      <td>4.0</td>\n",
       "      <td>0</td>\n",
       "      <td>2</td>\n",
       "      <td>4.0</td>\n",
       "      <td>Harju maakond Tallinn Kristiine linnaosa Sõpr...</td>\n",
       "      <td>NaN</td>\n",
       "      <td>Sõpruse pst</td>\n",
       "      <td>...</td>\n",
       "      <td>NaN</td>\n",
       "      <td>NaN</td>\n",
       "      <td>Pilvised olud</td>\n",
       "      <td>Pimeda aeg</td>\n",
       "      <td>Pimeda ajal valgustus põleb</td>\n",
       "      <td>6587100</td>\n",
       "      <td>540473</td>\n",
       "      <td>POINT (24.712878334859145 59.41984523631749)</td>\n",
       "      <td>24.712878</td>\n",
       "      <td>59.419845</td>\n",
       "    </tr>\n",
       "    <tr>\n",
       "      <th>2011-01-11</th>\n",
       "      <td>644</td>\n",
       "      <td>2302110256697</td>\n",
       "      <td>1/11/11</td>\n",
       "      <td>2.0</td>\n",
       "      <td>1</td>\n",
       "      <td>0</td>\n",
       "      <td>3.0</td>\n",
       "      <td>Harju maakond Kiili vald</td>\n",
       "      <td>NaN</td>\n",
       "      <td>TALLINN - RAPLA - TÜRI</td>\n",
       "      <td>...</td>\n",
       "      <td>15.0</td>\n",
       "      <td>5,3</td>\n",
       "      <td>Selged olud</td>\n",
       "      <td>Valge aeg</td>\n",
       "      <td>Valge aeg</td>\n",
       "      <td>6579784</td>\n",
       "      <td>543958</td>\n",
       "      <td>POINT (24.772772270384877 59.35383139613875)</td>\n",
       "      <td>24.772772</td>\n",
       "      <td>59.353831</td>\n",
       "    </tr>\n",
       "  </tbody>\n",
       "</table>\n",
       "<p>5 rows × 57 columns</p>\n",
       "</div>"
      ],
      "text/plain": [
       "              Unnamed: 0     Juhtumi nr Toimumisaeg  Isikuid  Hukkunuid   \n",
       "Toimumisaeg2                                                              \n",
       "2011-01-05          2117  2490110002994      1/5/11      1.0          0  \\\n",
       "2011-01-08           455  2302110170106      1/8/11      2.0          0   \n",
       "2011-01-08          2350  2502110056614      1/8/11      1.0          0   \n",
       "2011-01-11           645  2302110256946     1/11/11      4.0          0   \n",
       "2011-01-11           644  2302110256697     1/11/11      2.0          1   \n",
       "\n",
       "              Vigastatuid  Sõidukeid   \n",
       "Toimumisaeg2                           \n",
       "2011-01-05              2        1.0  \\\n",
       "2011-01-08              1        2.0   \n",
       "2011-01-08              1        1.0   \n",
       "2011-01-11              2        4.0   \n",
       "2011-01-11              0        3.0   \n",
       "\n",
       "                                                  Aadress (PPA) Maja nr (PPA)   \n",
       "Toimumisaeg2                                                                    \n",
       "2011-01-05                 Jõgeva maakond VANA Põltsamaa vald             NaN  \\\n",
       "2011-01-08                             Harju maakond Rae vald             NaN   \n",
       "2011-01-08                Pärnu maakond VANA Häädemeeste vald             NaN   \n",
       "2011-01-11     Harju maakond Tallinn Kristiine linnaosa Sõpr...           NaN   \n",
       "2011-01-11                           Harju maakond Kiili vald             NaN   \n",
       "\n",
       "                                   Tänav (PPA)  ... Tee nr (PPA) Tee km (PPA)   \n",
       "Toimumisaeg2                                    ...                             \n",
       "2011-01-05               PIKKNURME - PÕLTSAMAA  ...      14175.0          9,2  \\\n",
       "2011-01-08    TALLINN - TARTU - VÕRU - LUHAMAA  ...          2.0            9   \n",
       "2011-01-08                        IKLA - PIIRI  ...      19348.0            1   \n",
       "2011-01-11                         Sõpruse pst  ...          NaN          NaN   \n",
       "2011-01-11              TALLINN - RAPLA - TÜRI  ...         15.0          5,3   \n",
       "\n",
       "               Ilmastik [1] Valgustus [1]                Valgustus [2]   \n",
       "Toimumisaeg2                                                             \n",
       "2011-01-05      Selged olud     Valge aeg                    Valge aeg  \\\n",
       "2011-01-08      Selged olud     Valge aeg                    Valge aeg   \n",
       "2011-01-08      Selged olud     Valge aeg                    Valge aeg   \n",
       "2011-01-11    Pilvised olud    Pimeda aeg  Pimeda ajal valgustus põleb   \n",
       "2011-01-11      Selged olud     Valge aeg                    Valge aeg   \n",
       "\n",
       "                GPS X   GPS Y                                       Asukoht   \n",
       "Toimumisaeg2                                                                  \n",
       "2011-01-05    6495324  621101   POINT (26.082246440862306 58.5809878216108)  \\\n",
       "2011-01-08    6582359  548106     POINT (24.846256904304 59.37649481762436)   \n",
       "2011-01-08    6415281  522787   POINT (24.38404570760267 57.87861953982567)   \n",
       "2011-01-11    6587100  540473  POINT (24.712878334859145 59.41984523631749)   \n",
       "2011-01-11    6579784  543958  POINT (24.772772270384877 59.35383139613875)   \n",
       "\n",
       "                    lon        lat  \n",
       "Toimumisaeg2                        \n",
       "2011-01-05    26.082246  58.580988  \n",
       "2011-01-08    24.846257  59.376495  \n",
       "2011-01-08    24.384046  57.878620  \n",
       "2011-01-11    24.712878  59.419845  \n",
       "2011-01-11    24.772772  59.353831  \n",
       "\n",
       "[5 rows x 57 columns]"
      ]
     },
     "execution_count": 2,
     "metadata": {},
     "output_type": "execute_result"
    }
   ],
   "source": [
    "df= pd.read_csv(\"df_clean.csv\", parse_dates=['Toimumisaeg2']).set_index(\"Toimumisaeg2\").sort_index()\n",
    "df.head(5)"
   ]
  },
  {
   "cell_type": "code",
   "execution_count": 3,
   "metadata": {},
   "outputs": [],
   "source": [
    "# Make suitable df for dashboard\n",
    "\n",
    "df['year'] = df.index.year.astype('category')\n",
    "df['month'] = df.index.month.astype('category')\n",
    "df['day_of_week'] = df.index.day_name().astype('category')\n",
    "df['hour_of_day'] = np.where(df.index.time != datetime.time(0, 0), df.index.hour.astype('category'), np.nan)\n"
   ]
  },
  {
   "cell_type": "markdown",
   "metadata": {},
   "source": [
    "## Siia kogun nupud"
   ]
  },
  {
   "cell_type": "code",
   "execution_count": 4,
   "metadata": {},
   "outputs": [],
   "source": [
    "min = pd.to_datetime(df.index.min())\n",
    "max =pd.to_datetime(df.index.max())\n",
    "\n",
    "# Slider kaardile aja perioodi muutmiseks\n",
    "slider = pn.widgets.DateRangeSlider(\n",
    "    name='Ajavahemik',\n",
    "    start=min, end=max,\n",
    "    value=(min, max),\n",
    "    step=10000\n",
    ")\n",
    "\n",
    "#datetime_range_slider"
   ]
  },
  {
   "cell_type": "code",
   "execution_count": 7,
   "metadata": {},
   "outputs": [
    {
     "data": {},
     "metadata": {},
     "output_type": "display_data"
    },
    {
     "data": {
      "application/vnd.holoviews_exec.v0+json": "",
      "text/html": [
       "<div id='1006'>\n",
       "  <div class=\"bk-root\" id=\"3febb633-3f74-4dd1-8727-088f3e33174a\" data-root-id=\"1006\"></div>\n",
       "</div>\n",
       "<script type=\"application/javascript\">(function(root) {\n",
       "  function embed_document(root) {\n",
       "    var docs_json = {\"e78c1ad7-5b63-4b7c-aa04-5ebe46e34052\":{\"defs\":[{\"extends\":null,\"module\":null,\"name\":\"ReactiveHTML1\",\"overrides\":[],\"properties\":[]},{\"extends\":null,\"module\":null,\"name\":\"FlexBox1\",\"overrides\":[],\"properties\":[{\"default\":\"flex-start\",\"kind\":null,\"name\":\"align_content\"},{\"default\":\"flex-start\",\"kind\":null,\"name\":\"align_items\"},{\"default\":\"row\",\"kind\":null,\"name\":\"flex_direction\"},{\"default\":\"wrap\",\"kind\":null,\"name\":\"flex_wrap\"},{\"default\":\"flex-start\",\"kind\":null,\"name\":\"justify_content\"}]},{\"extends\":null,\"module\":null,\"name\":\"GridStack1\",\"overrides\":[],\"properties\":[{\"default\":\"warn\",\"kind\":null,\"name\":\"mode\"},{\"default\":null,\"kind\":null,\"name\":\"ncols\"},{\"default\":null,\"kind\":null,\"name\":\"nrows\"},{\"default\":true,\"kind\":null,\"name\":\"allow_resize\"},{\"default\":true,\"kind\":null,\"name\":\"allow_drag\"},{\"default\":[],\"kind\":null,\"name\":\"state\"}]},{\"extends\":null,\"module\":null,\"name\":\"click1\",\"overrides\":[],\"properties\":[{\"default\":\"\",\"kind\":null,\"name\":\"terminal_output\"},{\"default\":\"\",\"kind\":null,\"name\":\"debug_name\"},{\"default\":0,\"kind\":null,\"name\":\"clears\"}]},{\"extends\":null,\"module\":null,\"name\":\"NotificationAreaBase1\",\"overrides\":[],\"properties\":[{\"default\":\"bottom-right\",\"kind\":null,\"name\":\"position\"},{\"default\":0,\"kind\":null,\"name\":\"_clear\"}]},{\"extends\":null,\"module\":null,\"name\":\"NotificationArea1\",\"overrides\":[],\"properties\":[{\"default\":[],\"kind\":null,\"name\":\"notifications\"},{\"default\":\"bottom-right\",\"kind\":null,\"name\":\"position\"},{\"default\":0,\"kind\":null,\"name\":\"_clear\"},{\"default\":[{\"background\":\"#ffc107\",\"icon\":{\"className\":\"fas fa-exclamation-triangle\",\"color\":\"white\",\"tagName\":\"i\"},\"type\":\"warning\"},{\"background\":\"#007bff\",\"icon\":{\"className\":\"fas fa-info-circle\",\"color\":\"white\",\"tagName\":\"i\"},\"type\":\"info\"}],\"kind\":null,\"name\":\"types\"}]},{\"extends\":null,\"module\":null,\"name\":\"Notification\",\"overrides\":[],\"properties\":[{\"default\":null,\"kind\":null,\"name\":\"background\"},{\"default\":3000,\"kind\":null,\"name\":\"duration\"},{\"default\":null,\"kind\":null,\"name\":\"icon\"},{\"default\":\"\",\"kind\":null,\"name\":\"message\"},{\"default\":null,\"kind\":null,\"name\":\"notification_type\"},{\"default\":false,\"kind\":null,\"name\":\"_destroyed\"}]},{\"extends\":null,\"module\":null,\"name\":\"TemplateActions1\",\"overrides\":[],\"properties\":[{\"default\":0,\"kind\":null,\"name\":\"open_modal\"},{\"default\":0,\"kind\":null,\"name\":\"close_modal\"}]},{\"extends\":null,\"module\":null,\"name\":\"MaterialTemplateActions1\",\"overrides\":[],\"properties\":[{\"default\":0,\"kind\":null,\"name\":\"open_modal\"},{\"default\":0,\"kind\":null,\"name\":\"close_modal\"}]}],\"roots\":{\"references\":[{\"attributes\":{\"client_comm_id\":\"3674d3c3fe6640c2a7fcaa6806dc2b63\",\"comm_id\":\"e75436133acc43d3aec44a8aa5094976\",\"plot_id\":\"1006\"},\"id\":\"1007\",\"type\":\"panel.models.comm_manager.CommManager\"},{\"attributes\":{\"active\":0,\"labels\":[\"Aastad\",\"Kuud\",\"P\\u00e4evad\",\"Tunnid\"],\"margin\":[5,10,5,10],\"orientation\":\"vertical\"},\"id\":\"1006\",\"type\":\"RadioButtonGroup\"}],\"root_ids\":[\"1006\",\"1007\"]},\"title\":\"Bokeh Application\",\"version\":\"2.4.3\"}};\n",
       "    var render_items = [{\"docid\":\"e78c1ad7-5b63-4b7c-aa04-5ebe46e34052\",\"root_ids\":[\"1006\"],\"roots\":{\"1006\":\"3febb633-3f74-4dd1-8727-088f3e33174a\"}}];\n",
       "    root.Bokeh.embed.embed_items_notebook(docs_json, render_items);\n",
       "    for (const render_item of render_items) {\n",
       "      for (const root_id of render_item.root_ids) {\n",
       "\tconst id_el = document.getElementById(root_id)\n",
       "\tif (id_el.children.length && (id_el.children[0].className === 'bk-root')) {\n",
       "\t  const root_el = id_el.children[0]\n",
       "\t  root_el.id = root_el.id + '-rendered'\n",
       "\t}\n",
       "      }\n",
       "    }\n",
       "  }\n",
       "  if (root.Bokeh !== undefined && root.Bokeh.Panel !== undefined && ( root['Plotly'] !== undefined)) {\n",
       "    embed_document(root);\n",
       "  } else {\n",
       "    var attempts = 0;\n",
       "    var timer = setInterval(function(root) {\n",
       "      if (root.Bokeh !== undefined && root.Bokeh.Panel !== undefined && (root['Plotly'] !== undefined)) {\n",
       "        clearInterval(timer);\n",
       "        embed_document(root);\n",
       "      } else if (document.readyState == \"complete\") {\n",
       "        attempts++;\n",
       "        if (attempts > 200) {\n",
       "          clearInterval(timer);\n",
       "          console.log(\"Bokeh: ERROR: Unable to run BokehJS code because BokehJS library is missing\");\n",
       "        }\n",
       "      }\n",
       "    }, 25, root)\n",
       "  }\n",
       "})(window);</script>"
      ],
      "text/plain": [
       "RadioButtonGroup(name='Periood', options=['Aastad', 'Kuud', ...], orientation='vertical', value='Aastad')"
      ]
     },
     "execution_count": 7,
     "metadata": {
      "application/vnd.holoviews_exec.v0+json": {
       "id": "1006"
      }
     },
     "output_type": "execute_result"
    }
   ],
   "source": [
    "# valikunupud perioodi joonistele\n",
    "\n",
    "perioodid = pn.widgets.RadioButtonGroup(\n",
    "    name='Periood', options=['Aastad', 'Kuud', 'Päevad', 'Tunnid'], button_type='default', orientation='vertical')\n",
    "\n",
    "perioodid"
   ]
  },
  {
   "cell_type": "code",
   "execution_count": 5,
   "metadata": {},
   "outputs": [
    {
     "data": {},
     "metadata": {},
     "output_type": "display_data"
    },
    {
     "data": {
      "application/vnd.holoviews_exec.v0+json": "",
      "text/html": [
       "<div id='1002'>\n",
       "  <div class=\"bk-root\" id=\"3c56ca24-f7e7-45b5-bf1d-8b6a665f6233\" data-root-id=\"1002\"></div>\n",
       "</div>\n",
       "<script type=\"application/javascript\">(function(root) {\n",
       "  function embed_document(root) {\n",
       "    var docs_json = {\"1cc3f4fa-aaa2-4744-952a-d828d292d4fd\":{\"defs\":[{\"extends\":null,\"module\":null,\"name\":\"ReactiveHTML1\",\"overrides\":[],\"properties\":[]},{\"extends\":null,\"module\":null,\"name\":\"FlexBox1\",\"overrides\":[],\"properties\":[{\"default\":\"flex-start\",\"kind\":null,\"name\":\"align_content\"},{\"default\":\"flex-start\",\"kind\":null,\"name\":\"align_items\"},{\"default\":\"row\",\"kind\":null,\"name\":\"flex_direction\"},{\"default\":\"wrap\",\"kind\":null,\"name\":\"flex_wrap\"},{\"default\":\"flex-start\",\"kind\":null,\"name\":\"justify_content\"}]},{\"extends\":null,\"module\":null,\"name\":\"GridStack1\",\"overrides\":[],\"properties\":[{\"default\":\"warn\",\"kind\":null,\"name\":\"mode\"},{\"default\":null,\"kind\":null,\"name\":\"ncols\"},{\"default\":null,\"kind\":null,\"name\":\"nrows\"},{\"default\":true,\"kind\":null,\"name\":\"allow_resize\"},{\"default\":true,\"kind\":null,\"name\":\"allow_drag\"},{\"default\":[],\"kind\":null,\"name\":\"state\"}]},{\"extends\":null,\"module\":null,\"name\":\"click1\",\"overrides\":[],\"properties\":[{\"default\":\"\",\"kind\":null,\"name\":\"terminal_output\"},{\"default\":\"\",\"kind\":null,\"name\":\"debug_name\"},{\"default\":0,\"kind\":null,\"name\":\"clears\"}]},{\"extends\":null,\"module\":null,\"name\":\"NotificationAreaBase1\",\"overrides\":[],\"properties\":[{\"default\":\"bottom-right\",\"kind\":null,\"name\":\"position\"},{\"default\":0,\"kind\":null,\"name\":\"_clear\"}]},{\"extends\":null,\"module\":null,\"name\":\"NotificationArea1\",\"overrides\":[],\"properties\":[{\"default\":[],\"kind\":null,\"name\":\"notifications\"},{\"default\":\"bottom-right\",\"kind\":null,\"name\":\"position\"},{\"default\":0,\"kind\":null,\"name\":\"_clear\"},{\"default\":[{\"background\":\"#ffc107\",\"icon\":{\"className\":\"fas fa-exclamation-triangle\",\"color\":\"white\",\"tagName\":\"i\"},\"type\":\"warning\"},{\"background\":\"#007bff\",\"icon\":{\"className\":\"fas fa-info-circle\",\"color\":\"white\",\"tagName\":\"i\"},\"type\":\"info\"}],\"kind\":null,\"name\":\"types\"}]},{\"extends\":null,\"module\":null,\"name\":\"Notification\",\"overrides\":[],\"properties\":[{\"default\":null,\"kind\":null,\"name\":\"background\"},{\"default\":3000,\"kind\":null,\"name\":\"duration\"},{\"default\":null,\"kind\":null,\"name\":\"icon\"},{\"default\":\"\",\"kind\":null,\"name\":\"message\"},{\"default\":null,\"kind\":null,\"name\":\"notification_type\"},{\"default\":false,\"kind\":null,\"name\":\"_destroyed\"}]},{\"extends\":null,\"module\":null,\"name\":\"TemplateActions1\",\"overrides\":[],\"properties\":[{\"default\":0,\"kind\":null,\"name\":\"open_modal\"},{\"default\":0,\"kind\":null,\"name\":\"close_modal\"}]},{\"extends\":null,\"module\":null,\"name\":\"MaterialTemplateActions1\",\"overrides\":[],\"properties\":[{\"default\":0,\"kind\":null,\"name\":\"open_modal\"},{\"default\":0,\"kind\":null,\"name\":\"close_modal\"}]}],\"roots\":{\"references\":[{\"attributes\":{\"reload\":false},\"id\":\"1005\",\"type\":\"panel.models.location.Location\"},{\"attributes\":{\"margin\":[5,10,5,10],\"options\":[\"Jalak\\u00e4ija osalusel\",\"Kergliikurijuhi osalusel\",\"Kaass\\u00f5itja osalusel\",\"Maastikus\\u00f5iduki juhi osalusel\",\"Eaka (65+) mootors\\u00f5idukijuhi osalusel\",\"Bussijuhi osalusel\",\"Veoautojuhi osalusel\",\"\\u00dchiss\\u00f5idukijuhi osalusel\",\"S\\u00f5iduautojuhi osalusel\",\"Mootorratturi osalusel\",\"Mopeedijuhi osalusel\",\"Jalgratturi osalusel\",\"Alaealise osalusel\",\"Turvavarustust mitte kasutanud isiku osalusel\",\"Esmase juhiloa omaniku osalusel\",\"Mootors\\u00f5idukijuhi osalusel\"],\"placeholder\":\"\",\"title\":\"Liiklus\\u00f5nnetuse osalised\"},\"id\":\"1003\",\"type\":\"MultiChoice\"},{\"attributes\":{\"children\":[{\"id\":\"1003\"}],\"height\":400,\"margin\":[0,0,0,0],\"min_height\":400,\"name\":\"Column00781\"},\"id\":\"1002\",\"type\":\"Column\"},{\"attributes\":{\"client_comm_id\":\"10d7905efcad4e259f92024dcc343aab\",\"comm_id\":\"c3789e9c30184ad2956cc09f3e926fc9\",\"plot_id\":\"1002\"},\"id\":\"1004\",\"type\":\"panel.models.comm_manager.CommManager\"}],\"root_ids\":[\"1002\",\"1004\",\"1005\"]},\"title\":\"Bokeh Application\",\"version\":\"2.4.3\"}};\n",
       "    var render_items = [{\"docid\":\"1cc3f4fa-aaa2-4744-952a-d828d292d4fd\",\"root_ids\":[\"1002\"],\"roots\":{\"1002\":\"3c56ca24-f7e7-45b5-bf1d-8b6a665f6233\"}}];\n",
       "    root.Bokeh.embed.embed_items_notebook(docs_json, render_items);\n",
       "    for (const render_item of render_items) {\n",
       "      for (const root_id of render_item.root_ids) {\n",
       "\tconst id_el = document.getElementById(root_id)\n",
       "\tif (id_el.children.length && (id_el.children[0].className === 'bk-root')) {\n",
       "\t  const root_el = id_el.children[0]\n",
       "\t  root_el.id = root_el.id + '-rendered'\n",
       "\t}\n",
       "      }\n",
       "    }\n",
       "  }\n",
       "  if (root.Bokeh !== undefined && root.Bokeh.Panel !== undefined && ( root['Plotly'] !== undefined)) {\n",
       "    embed_document(root);\n",
       "  } else {\n",
       "    var attempts = 0;\n",
       "    var timer = setInterval(function(root) {\n",
       "      if (root.Bokeh !== undefined && root.Bokeh.Panel !== undefined && (root['Plotly'] !== undefined)) {\n",
       "        clearInterval(timer);\n",
       "        embed_document(root);\n",
       "      } else if (document.readyState == \"complete\") {\n",
       "        attempts++;\n",
       "        if (attempts > 200) {\n",
       "          clearInterval(timer);\n",
       "          console.log(\"Bokeh: ERROR: Unable to run BokehJS code because BokehJS library is missing\");\n",
       "        }\n",
       "      }\n",
       "    }, 25, root)\n",
       "  }\n",
       "})(window);</script>"
      ],
      "text/plain": [
       "Column(height=400)\n",
       "    [0] MultiChoice(name='Liiklusõnnetuse o..., options=['Jalakäija osalusel', ...])"
      ]
     },
     "execution_count": 5,
     "metadata": {
      "application/vnd.holoviews_exec.v0+json": {
       "id": "1002"
      }
     },
     "output_type": "execute_result"
    }
   ],
   "source": [
    "# multiselect widget for participant type\n",
    "# pole kasutusel\n",
    "\n",
    "multi_choice = pn.widgets.MultiChoice(name='Liiklusõnnetuse osalised', value=[],\n",
    "    options=['Jalakäija osalusel', 'Kergliikurijuhi osalusel', 'Kaassõitja osalusel', 'Maastikusõiduki juhi osalusel', \"Eaka (65+) mootorsõidukijuhi osalusel\",  \"Bussijuhi osalusel\", \"Veoautojuhi osalusel\", \"Ühissõidukijuhi osalusel\", \"Sõiduautojuhi osalusel\", \"Mootorratturi osalusel\", \"Mopeedijuhi osalusel\", \"Jalgratturi osalusel\", \"Alaealise osalusel\", \"Turvavarustust mitte kasutanud isiku osalusel\", \"Esmase juhiloa omaniku osalusel\", \"Mootorsõidukijuhi osalusel\"])\n",
    "\n",
    "pn.Column(multi_choice, height=400)\n",
    "#multi_choice"
   ]
  },
  {
   "cell_type": "code",
   "execution_count": null,
   "metadata": {},
   "outputs": [],
   "source": [
    "# suured numbrid - hukkunud, vigastatud ja õnnetusi\n",
    "@pn.depends( pn.widgets.RadioButtonGroup.param.value)   \n",
    "def statistika(slider_value):\n",
    "    df_kaart=df.loc[pd.to_datetime(slider_value[0]):pd.to_datetime(slider_value[1])]    \n",
    "    options=['Hukkunuid', 'Vigastatuid', 'Isikuid', 'Sõidukeid']\n",
    "\n",
    "    # Count the number of accidents for each participant type\n",
    "    df_sum = df_kaart[options].apply(pd.Series.sum).T.reset_index()\n",
    "\n",
    "\n",
    "    # Create the plot using Plotly Express\n",
    "    fig = px.bar(df_count, y='index', x=1.0, title='Õnnetuses osalejad')\n",
    "    fig.update_layout(\n",
    "    xaxis_title='Kokku',\n",
    "    yaxis_title='')\n",
    "\n",
    "    return fig\n",
    "\n",
    "statistika(slider.value)"
   ]
  },
  {
   "cell_type": "code",
   "execution_count": 26,
   "metadata": {},
   "outputs": [
    {
     "data": {
      "application/vnd.plotly.v1+json": {
       "config": {
        "plotlyServerURL": "https://plot.ly"
       },
       "data": [
        {
         "alignmentgroup": "True",
         "hovertemplate": "1.0=%{x}<br>index=%{y}<extra></extra>",
         "legendgroup": "",
         "marker": {
          "color": "#636efa",
          "pattern": {
           "shape": ""
          }
         },
         "name": "",
         "offsetgroup": "",
         "orientation": "h",
         "showlegend": false,
         "textposition": "auto",
         "type": "bar",
         "x": [
          87,
          214,
          494,
          727,
          869,
          892,
          1134,
          1385,
          1531,
          1555,
          2007,
          2298,
          3217,
          3413,
          9757,
          11886
         ],
         "xaxis": "x",
         "y": [
          "Maastikusõiduki juhi osalusel",
          "Kergliikurijuhi osalusel",
          "Mopeedijuhi osalusel",
          "Bussijuhi osalusel",
          "Ühissõidukijuhi osalusel",
          "Mootorratturi osalusel",
          "Esmase juhiloa omaniku osalusel",
          "Veoautojuhi osalusel",
          "Turvavarustust mitte kasutanud isiku osalusel",
          "Eaka (65+) mootorsõidukijuhi osalusel",
          "Jalgratturi osalusel",
          "Alaealise osalusel",
          "Jalakäija osalusel",
          "Kaassõitja osalusel",
          "Sõiduautojuhi osalusel",
          "Mootorsõidukijuhi osalusel"
         ],
         "yaxis": "y"
        }
       ],
       "layout": {
        "autosize": true,
        "barmode": "relative",
        "legend": {
         "tracegroupgap": 0
        },
        "template": {
         "data": {
          "bar": [
           {
            "error_x": {
             "color": "#2a3f5f"
            },
            "error_y": {
             "color": "#2a3f5f"
            },
            "marker": {
             "line": {
              "color": "#E5ECF6",
              "width": 0.5
             },
             "pattern": {
              "fillmode": "overlay",
              "size": 10,
              "solidity": 0.2
             }
            },
            "type": "bar"
           }
          ],
          "barpolar": [
           {
            "marker": {
             "line": {
              "color": "#E5ECF6",
              "width": 0.5
             },
             "pattern": {
              "fillmode": "overlay",
              "size": 10,
              "solidity": 0.2
             }
            },
            "type": "barpolar"
           }
          ],
          "carpet": [
           {
            "aaxis": {
             "endlinecolor": "#2a3f5f",
             "gridcolor": "white",
             "linecolor": "white",
             "minorgridcolor": "white",
             "startlinecolor": "#2a3f5f"
            },
            "baxis": {
             "endlinecolor": "#2a3f5f",
             "gridcolor": "white",
             "linecolor": "white",
             "minorgridcolor": "white",
             "startlinecolor": "#2a3f5f"
            },
            "type": "carpet"
           }
          ],
          "choropleth": [
           {
            "colorbar": {
             "outlinewidth": 0,
             "ticks": ""
            },
            "type": "choropleth"
           }
          ],
          "contour": [
           {
            "colorbar": {
             "outlinewidth": 0,
             "ticks": ""
            },
            "colorscale": [
             [
              0,
              "#0d0887"
             ],
             [
              0.1111111111111111,
              "#46039f"
             ],
             [
              0.2222222222222222,
              "#7201a8"
             ],
             [
              0.3333333333333333,
              "#9c179e"
             ],
             [
              0.4444444444444444,
              "#bd3786"
             ],
             [
              0.5555555555555556,
              "#d8576b"
             ],
             [
              0.6666666666666666,
              "#ed7953"
             ],
             [
              0.7777777777777778,
              "#fb9f3a"
             ],
             [
              0.8888888888888888,
              "#fdca26"
             ],
             [
              1,
              "#f0f921"
             ]
            ],
            "type": "contour"
           }
          ],
          "contourcarpet": [
           {
            "colorbar": {
             "outlinewidth": 0,
             "ticks": ""
            },
            "type": "contourcarpet"
           }
          ],
          "heatmap": [
           {
            "colorbar": {
             "outlinewidth": 0,
             "ticks": ""
            },
            "colorscale": [
             [
              0,
              "#0d0887"
             ],
             [
              0.1111111111111111,
              "#46039f"
             ],
             [
              0.2222222222222222,
              "#7201a8"
             ],
             [
              0.3333333333333333,
              "#9c179e"
             ],
             [
              0.4444444444444444,
              "#bd3786"
             ],
             [
              0.5555555555555556,
              "#d8576b"
             ],
             [
              0.6666666666666666,
              "#ed7953"
             ],
             [
              0.7777777777777778,
              "#fb9f3a"
             ],
             [
              0.8888888888888888,
              "#fdca26"
             ],
             [
              1,
              "#f0f921"
             ]
            ],
            "type": "heatmap"
           }
          ],
          "heatmapgl": [
           {
            "colorbar": {
             "outlinewidth": 0,
             "ticks": ""
            },
            "colorscale": [
             [
              0,
              "#0d0887"
             ],
             [
              0.1111111111111111,
              "#46039f"
             ],
             [
              0.2222222222222222,
              "#7201a8"
             ],
             [
              0.3333333333333333,
              "#9c179e"
             ],
             [
              0.4444444444444444,
              "#bd3786"
             ],
             [
              0.5555555555555556,
              "#d8576b"
             ],
             [
              0.6666666666666666,
              "#ed7953"
             ],
             [
              0.7777777777777778,
              "#fb9f3a"
             ],
             [
              0.8888888888888888,
              "#fdca26"
             ],
             [
              1,
              "#f0f921"
             ]
            ],
            "type": "heatmapgl"
           }
          ],
          "histogram": [
           {
            "marker": {
             "pattern": {
              "fillmode": "overlay",
              "size": 10,
              "solidity": 0.2
             }
            },
            "type": "histogram"
           }
          ],
          "histogram2d": [
           {
            "colorbar": {
             "outlinewidth": 0,
             "ticks": ""
            },
            "colorscale": [
             [
              0,
              "#0d0887"
             ],
             [
              0.1111111111111111,
              "#46039f"
             ],
             [
              0.2222222222222222,
              "#7201a8"
             ],
             [
              0.3333333333333333,
              "#9c179e"
             ],
             [
              0.4444444444444444,
              "#bd3786"
             ],
             [
              0.5555555555555556,
              "#d8576b"
             ],
             [
              0.6666666666666666,
              "#ed7953"
             ],
             [
              0.7777777777777778,
              "#fb9f3a"
             ],
             [
              0.8888888888888888,
              "#fdca26"
             ],
             [
              1,
              "#f0f921"
             ]
            ],
            "type": "histogram2d"
           }
          ],
          "histogram2dcontour": [
           {
            "colorbar": {
             "outlinewidth": 0,
             "ticks": ""
            },
            "colorscale": [
             [
              0,
              "#0d0887"
             ],
             [
              0.1111111111111111,
              "#46039f"
             ],
             [
              0.2222222222222222,
              "#7201a8"
             ],
             [
              0.3333333333333333,
              "#9c179e"
             ],
             [
              0.4444444444444444,
              "#bd3786"
             ],
             [
              0.5555555555555556,
              "#d8576b"
             ],
             [
              0.6666666666666666,
              "#ed7953"
             ],
             [
              0.7777777777777778,
              "#fb9f3a"
             ],
             [
              0.8888888888888888,
              "#fdca26"
             ],
             [
              1,
              "#f0f921"
             ]
            ],
            "type": "histogram2dcontour"
           }
          ],
          "mesh3d": [
           {
            "colorbar": {
             "outlinewidth": 0,
             "ticks": ""
            },
            "type": "mesh3d"
           }
          ],
          "parcoords": [
           {
            "line": {
             "colorbar": {
              "outlinewidth": 0,
              "ticks": ""
             }
            },
            "type": "parcoords"
           }
          ],
          "pie": [
           {
            "automargin": true,
            "type": "pie"
           }
          ],
          "scatter": [
           {
            "fillpattern": {
             "fillmode": "overlay",
             "size": 10,
             "solidity": 0.2
            },
            "type": "scatter"
           }
          ],
          "scatter3d": [
           {
            "line": {
             "colorbar": {
              "outlinewidth": 0,
              "ticks": ""
             }
            },
            "marker": {
             "colorbar": {
              "outlinewidth": 0,
              "ticks": ""
             }
            },
            "type": "scatter3d"
           }
          ],
          "scattercarpet": [
           {
            "marker": {
             "colorbar": {
              "outlinewidth": 0,
              "ticks": ""
             }
            },
            "type": "scattercarpet"
           }
          ],
          "scattergeo": [
           {
            "marker": {
             "colorbar": {
              "outlinewidth": 0,
              "ticks": ""
             }
            },
            "type": "scattergeo"
           }
          ],
          "scattergl": [
           {
            "marker": {
             "colorbar": {
              "outlinewidth": 0,
              "ticks": ""
             }
            },
            "type": "scattergl"
           }
          ],
          "scattermapbox": [
           {
            "marker": {
             "colorbar": {
              "outlinewidth": 0,
              "ticks": ""
             }
            },
            "type": "scattermapbox"
           }
          ],
          "scatterpolar": [
           {
            "marker": {
             "colorbar": {
              "outlinewidth": 0,
              "ticks": ""
             }
            },
            "type": "scatterpolar"
           }
          ],
          "scatterpolargl": [
           {
            "marker": {
             "colorbar": {
              "outlinewidth": 0,
              "ticks": ""
             }
            },
            "type": "scatterpolargl"
           }
          ],
          "scatterternary": [
           {
            "marker": {
             "colorbar": {
              "outlinewidth": 0,
              "ticks": ""
             }
            },
            "type": "scatterternary"
           }
          ],
          "surface": [
           {
            "colorbar": {
             "outlinewidth": 0,
             "ticks": ""
            },
            "colorscale": [
             [
              0,
              "#0d0887"
             ],
             [
              0.1111111111111111,
              "#46039f"
             ],
             [
              0.2222222222222222,
              "#7201a8"
             ],
             [
              0.3333333333333333,
              "#9c179e"
             ],
             [
              0.4444444444444444,
              "#bd3786"
             ],
             [
              0.5555555555555556,
              "#d8576b"
             ],
             [
              0.6666666666666666,
              "#ed7953"
             ],
             [
              0.7777777777777778,
              "#fb9f3a"
             ],
             [
              0.8888888888888888,
              "#fdca26"
             ],
             [
              1,
              "#f0f921"
             ]
            ],
            "type": "surface"
           }
          ],
          "table": [
           {
            "cells": {
             "fill": {
              "color": "#EBF0F8"
             },
             "line": {
              "color": "white"
             }
            },
            "header": {
             "fill": {
              "color": "#C8D4E3"
             },
             "line": {
              "color": "white"
             }
            },
            "type": "table"
           }
          ]
         },
         "layout": {
          "annotationdefaults": {
           "arrowcolor": "#2a3f5f",
           "arrowhead": 0,
           "arrowwidth": 1
          },
          "autotypenumbers": "strict",
          "coloraxis": {
           "colorbar": {
            "outlinewidth": 0,
            "ticks": ""
           }
          },
          "colorscale": {
           "diverging": [
            [
             0,
             "#8e0152"
            ],
            [
             0.1,
             "#c51b7d"
            ],
            [
             0.2,
             "#de77ae"
            ],
            [
             0.3,
             "#f1b6da"
            ],
            [
             0.4,
             "#fde0ef"
            ],
            [
             0.5,
             "#f7f7f7"
            ],
            [
             0.6,
             "#e6f5d0"
            ],
            [
             0.7,
             "#b8e186"
            ],
            [
             0.8,
             "#7fbc41"
            ],
            [
             0.9,
             "#4d9221"
            ],
            [
             1,
             "#276419"
            ]
           ],
           "sequential": [
            [
             0,
             "#0d0887"
            ],
            [
             0.1111111111111111,
             "#46039f"
            ],
            [
             0.2222222222222222,
             "#7201a8"
            ],
            [
             0.3333333333333333,
             "#9c179e"
            ],
            [
             0.4444444444444444,
             "#bd3786"
            ],
            [
             0.5555555555555556,
             "#d8576b"
            ],
            [
             0.6666666666666666,
             "#ed7953"
            ],
            [
             0.7777777777777778,
             "#fb9f3a"
            ],
            [
             0.8888888888888888,
             "#fdca26"
            ],
            [
             1,
             "#f0f921"
            ]
           ],
           "sequentialminus": [
            [
             0,
             "#0d0887"
            ],
            [
             0.1111111111111111,
             "#46039f"
            ],
            [
             0.2222222222222222,
             "#7201a8"
            ],
            [
             0.3333333333333333,
             "#9c179e"
            ],
            [
             0.4444444444444444,
             "#bd3786"
            ],
            [
             0.5555555555555556,
             "#d8576b"
            ],
            [
             0.6666666666666666,
             "#ed7953"
            ],
            [
             0.7777777777777778,
             "#fb9f3a"
            ],
            [
             0.8888888888888888,
             "#fdca26"
            ],
            [
             1,
             "#f0f921"
            ]
           ]
          },
          "colorway": [
           "#636efa",
           "#EF553B",
           "#00cc96",
           "#ab63fa",
           "#FFA15A",
           "#19d3f3",
           "#FF6692",
           "#B6E880",
           "#FF97FF",
           "#FECB52"
          ],
          "font": {
           "color": "#2a3f5f"
          },
          "geo": {
           "bgcolor": "white",
           "lakecolor": "white",
           "landcolor": "#E5ECF6",
           "showlakes": true,
           "showland": true,
           "subunitcolor": "white"
          },
          "hoverlabel": {
           "align": "left"
          },
          "hovermode": "closest",
          "mapbox": {
           "style": "light"
          },
          "paper_bgcolor": "white",
          "plot_bgcolor": "#E5ECF6",
          "polar": {
           "angularaxis": {
            "gridcolor": "white",
            "linecolor": "white",
            "ticks": ""
           },
           "bgcolor": "#E5ECF6",
           "radialaxis": {
            "gridcolor": "white",
            "linecolor": "white",
            "ticks": ""
           }
          },
          "scene": {
           "xaxis": {
            "backgroundcolor": "#E5ECF6",
            "gridcolor": "white",
            "gridwidth": 2,
            "linecolor": "white",
            "showbackground": true,
            "ticks": "",
            "zerolinecolor": "white"
           },
           "yaxis": {
            "backgroundcolor": "#E5ECF6",
            "gridcolor": "white",
            "gridwidth": 2,
            "linecolor": "white",
            "showbackground": true,
            "ticks": "",
            "zerolinecolor": "white"
           },
           "zaxis": {
            "backgroundcolor": "#E5ECF6",
            "gridcolor": "white",
            "gridwidth": 2,
            "linecolor": "white",
            "showbackground": true,
            "ticks": "",
            "zerolinecolor": "white"
           }
          },
          "shapedefaults": {
           "line": {
            "color": "#2a3f5f"
           }
          },
          "ternary": {
           "aaxis": {
            "gridcolor": "white",
            "linecolor": "white",
            "ticks": ""
           },
           "baxis": {
            "gridcolor": "white",
            "linecolor": "white",
            "ticks": ""
           },
           "bgcolor": "#E5ECF6",
           "caxis": {
            "gridcolor": "white",
            "linecolor": "white",
            "ticks": ""
           }
          },
          "title": {
           "x": 0.05
          },
          "xaxis": {
           "automargin": true,
           "gridcolor": "white",
           "linecolor": "white",
           "ticks": "",
           "title": {
            "standoff": 15
           },
           "zerolinecolor": "white",
           "zerolinewidth": 2
          },
          "yaxis": {
           "automargin": true,
           "gridcolor": "white",
           "linecolor": "white",
           "ticks": "",
           "title": {
            "standoff": 15
           },
           "zerolinecolor": "white",
           "zerolinewidth": 2
          }
         }
        },
        "title": {
         "text": "Õnnetuses osalejad"
        },
        "xaxis": {
         "anchor": "y",
         "autorange": true,
         "domain": [
          0,
          1
         ],
         "range": [
          0,
          12511.578947368422
         ],
         "title": {
          "text": "Kokku"
         },
         "type": "linear"
        },
        "yaxis": {
         "anchor": "x",
         "autorange": true,
         "domain": [
          0,
          1
         ],
         "range": [
          -0.5,
          15.5
         ],
         "title": {
          "text": ""
         },
         "type": "category"
        }
       }
      },
      "image/png": "[encoded data removed]",
      "text/html": [
       "<div>                            <div id=\"e74a9321-3c3e-47ec-aef5-32f2092d133a\" class=\"plotly-graph-div\" style=\"height:525px; width:100%;\"></div>            <script type=\"text/javascript\">                require([\"plotly\"], function(Plotly) {                    window.PLOTLYENV=window.PLOTLYENV || {};                                    if (document.getElementById(\"e74a9321-3c3e-47ec-aef5-32f2092d133a\")) {                    Plotly.newPlot(                        \"e74a9321-3c3e-47ec-aef5-32f2092d133a\",                        [{\"alignmentgroup\":\"True\",\"hovertemplate\":\"1.0=%{x}<br>index=%{y}<extra></extra>\",\"legendgroup\":\"\",\"marker\":{\"color\":\"#636efa\",\"pattern\":{\"shape\":\"\"}},\"name\":\"\",\"offsetgroup\":\"\",\"orientation\":\"h\",\"showlegend\":false,\"textposition\":\"auto\",\"x\":[87,214,494,727,869,892,1134,1385,1531,1555,2007,2298,3217,3413,9757,11886],\"xaxis\":\"x\",\"y\":[\"Maastikus\\u00f5iduki juhi osalusel\",\"Kergliikurijuhi osalusel\",\"Mopeedijuhi osalusel\",\"Bussijuhi osalusel\",\"\\u00dchiss\\u00f5idukijuhi osalusel\",\"Mootorratturi osalusel\",\"Esmase juhiloa omaniku osalusel\",\"Veoautojuhi osalusel\",\"Turvavarustust mitte kasutanud isiku osalusel\",\"Eaka (65+) mootors\\u00f5idukijuhi osalusel\",\"Jalgratturi osalusel\",\"Alaealise osalusel\",\"Jalak\\u00e4ija osalusel\",\"Kaass\\u00f5itja osalusel\",\"S\\u00f5iduautojuhi osalusel\",\"Mootors\\u00f5idukijuhi osalusel\"],\"yaxis\":\"y\",\"type\":\"bar\"}],                        {\"template\":{\"data\":{\"histogram2dcontour\":[{\"type\":\"histogram2dcontour\",\"colorbar\":{\"outlinewidth\":0,\"ticks\":\"\"},\"colorscale\":[[0.0,\"#0d0887\"],[0.1111111111111111,\"#46039f\"],[0.2222222222222222,\"#7201a8\"],[0.3333333333333333,\"#9c179e\"],[0.4444444444444444,\"#bd3786\"],[0.5555555555555556,\"#d8576b\"],[0.6666666666666666,\"#ed7953\"],[0.7777777777777778,\"#fb9f3a\"],[0.8888888888888888,\"#fdca26\"],[1.0,\"#f0f921\"]]}],\"choropleth\":[{\"type\":\"choropleth\",\"colorbar\":{\"outlinewidth\":0,\"ticks\":\"\"}}],\"histogram2d\":[{\"type\":\"histogram2d\",\"colorbar\":{\"outlinewidth\":0,\"ticks\":\"\"},\"colorscale\":[[0.0,\"#0d0887\"],[0.1111111111111111,\"#46039f\"],[0.2222222222222222,\"#7201a8\"],[0.3333333333333333,\"#9c179e\"],[0.4444444444444444,\"#bd3786\"],[0.5555555555555556,\"#d8576b\"],[0.6666666666666666,\"#ed7953\"],[0.7777777777777778,\"#fb9f3a\"],[0.8888888888888888,\"#fdca26\"],[1.0,\"#f0f921\"]]}],\"heatmap\":[{\"type\":\"heatmap\",\"colorbar\":{\"outlinewidth\":0,\"ticks\":\"\"},\"colorscale\":[[0.0,\"#0d0887\"],[0.1111111111111111,\"#46039f\"],[0.2222222222222222,\"#7201a8\"],[0.3333333333333333,\"#9c179e\"],[0.4444444444444444,\"#bd3786\"],[0.5555555555555556,\"#d8576b\"],[0.6666666666666666,\"#ed7953\"],[0.7777777777777778,\"#fb9f3a\"],[0.8888888888888888,\"#fdca26\"],[1.0,\"#f0f921\"]]}],\"heatmapgl\":[{\"type\":\"heatmapgl\",\"colorbar\":{\"outlinewidth\":0,\"ticks\":\"\"},\"colorscale\":[[0.0,\"#0d0887\"],[0.1111111111111111,\"#46039f\"],[0.2222222222222222,\"#7201a8\"],[0.3333333333333333,\"#9c179e\"],[0.4444444444444444,\"#bd3786\"],[0.5555555555555556,\"#d8576b\"],[0.6666666666666666,\"#ed7953\"],[0.7777777777777778,\"#fb9f3a\"],[0.8888888888888888,\"#fdca26\"],[1.0,\"#f0f921\"]]}],\"contourcarpet\":[{\"type\":\"contourcarpet\",\"colorbar\":{\"outlinewidth\":0,\"ticks\":\"\"}}],\"contour\":[{\"type\":\"contour\",\"colorbar\":{\"outlinewidth\":0,\"ticks\":\"\"},\"colorscale\":[[0.0,\"#0d0887\"],[0.1111111111111111,\"#46039f\"],[0.2222222222222222,\"#7201a8\"],[0.3333333333333333,\"#9c179e\"],[0.4444444444444444,\"#bd3786\"],[0.5555555555555556,\"#d8576b\"],[0.6666666666666666,\"#ed7953\"],[0.7777777777777778,\"#fb9f3a\"],[0.8888888888888888,\"#fdca26\"],[1.0,\"#f0f921\"]]}],\"surface\":[{\"type\":\"surface\",\"colorbar\":{\"outlinewidth\":0,\"ticks\":\"\"},\"colorscale\":[[0.0,\"#0d0887\"],[0.1111111111111111,\"#46039f\"],[0.2222222222222222,\"#7201a8\"],[0.3333333333333333,\"#9c179e\"],[0.4444444444444444,\"#bd3786\"],[0.5555555555555556,\"#d8576b\"],[0.6666666666666666,\"#ed7953\"],[0.7777777777777778,\"#fb9f3a\"],[0.8888888888888888,\"#fdca26\"],[1.0,\"#f0f921\"]]}],\"mesh3d\":[{\"type\":\"mesh3d\",\"colorbar\":{\"outlinewidth\":0,\"ticks\":\"\"}}],\"scatter\":[{\"fillpattern\":{\"fillmode\":\"overlay\",\"size\":10,\"solidity\":0.2},\"type\":\"scatter\"}],\"parcoords\":[{\"type\":\"parcoords\",\"line\":{\"colorbar\":{\"outlinewidth\":0,\"ticks\":\"\"}}}],\"scatterpolargl\":[{\"type\":\"scatterpolargl\",\"marker\":{\"colorbar\":{\"outlinewidth\":0,\"ticks\":\"\"}}}],\"bar\":[{\"error_x\":{\"color\":\"#2a3f5f\"},\"error_y\":{\"color\":\"#2a3f5f\"},\"marker\":{\"line\":{\"color\":\"#E5ECF6\",\"width\":0.5},\"pattern\":{\"fillmode\":\"overlay\",\"size\":10,\"solidity\":0.2}},\"type\":\"bar\"}],\"scattergeo\":[{\"type\":\"scattergeo\",\"marker\":{\"colorbar\":{\"outlinewidth\":0,\"ticks\":\"\"}}}],\"scatterpolar\":[{\"type\":\"scatterpolar\",\"marker\":{\"colorbar\":{\"outlinewidth\":0,\"ticks\":\"\"}}}],\"histogram\":[{\"marker\":{\"pattern\":{\"fillmode\":\"overlay\",\"size\":10,\"solidity\":0.2}},\"type\":\"histogram\"}],\"scattergl\":[{\"type\":\"scattergl\",\"marker\":{\"colorbar\":{\"outlinewidth\":0,\"ticks\":\"\"}}}],\"scatter3d\":[{\"type\":\"scatter3d\",\"line\":{\"colorbar\":{\"outlinewidth\":0,\"ticks\":\"\"}},\"marker\":{\"colorbar\":{\"outlinewidth\":0,\"ticks\":\"\"}}}],\"scattermapbox\":[{\"type\":\"scattermapbox\",\"marker\":{\"colorbar\":{\"outlinewidth\":0,\"ticks\":\"\"}}}],\"scatterternary\":[{\"type\":\"scatterternary\",\"marker\":{\"colorbar\":{\"outlinewidth\":0,\"ticks\":\"\"}}}],\"scattercarpet\":[{\"type\":\"scattercarpet\",\"marker\":{\"colorbar\":{\"outlinewidth\":0,\"ticks\":\"\"}}}],\"carpet\":[{\"aaxis\":{\"endlinecolor\":\"#2a3f5f\",\"gridcolor\":\"white\",\"linecolor\":\"white\",\"minorgridcolor\":\"white\",\"startlinecolor\":\"#2a3f5f\"},\"baxis\":{\"endlinecolor\":\"#2a3f5f\",\"gridcolor\":\"white\",\"linecolor\":\"white\",\"minorgridcolor\":\"white\",\"startlinecolor\":\"#2a3f5f\"},\"type\":\"carpet\"}],\"table\":[{\"cells\":{\"fill\":{\"color\":\"#EBF0F8\"},\"line\":{\"color\":\"white\"}},\"header\":{\"fill\":{\"color\":\"#C8D4E3\"},\"line\":{\"color\":\"white\"}},\"type\":\"table\"}],\"barpolar\":[{\"marker\":{\"line\":{\"color\":\"#E5ECF6\",\"width\":0.5},\"pattern\":{\"fillmode\":\"overlay\",\"size\":10,\"solidity\":0.2}},\"type\":\"barpolar\"}],\"pie\":[{\"automargin\":true,\"type\":\"pie\"}]},\"layout\":{\"autotypenumbers\":\"strict\",\"colorway\":[\"#636efa\",\"#EF553B\",\"#00cc96\",\"#ab63fa\",\"#FFA15A\",\"#19d3f3\",\"#FF6692\",\"#B6E880\",\"#FF97FF\",\"#FECB52\"],\"font\":{\"color\":\"#2a3f5f\"},\"hovermode\":\"closest\",\"hoverlabel\":{\"align\":\"left\"},\"paper_bgcolor\":\"white\",\"plot_bgcolor\":\"#E5ECF6\",\"polar\":{\"bgcolor\":\"#E5ECF6\",\"angularaxis\":{\"gridcolor\":\"white\",\"linecolor\":\"white\",\"ticks\":\"\"},\"radialaxis\":{\"gridcolor\":\"white\",\"linecolor\":\"white\",\"ticks\":\"\"}},\"ternary\":{\"bgcolor\":\"#E5ECF6\",\"aaxis\":{\"gridcolor\":\"white\",\"linecolor\":\"white\",\"ticks\":\"\"},\"baxis\":{\"gridcolor\":\"white\",\"linecolor\":\"white\",\"ticks\":\"\"},\"caxis\":{\"gridcolor\":\"white\",\"linecolor\":\"white\",\"ticks\":\"\"}},\"coloraxis\":{\"colorbar\":{\"outlinewidth\":0,\"ticks\":\"\"}},\"colorscale\":{\"sequential\":[[0.0,\"#0d0887\"],[0.1111111111111111,\"#46039f\"],[0.2222222222222222,\"#7201a8\"],[0.3333333333333333,\"#9c179e\"],[0.4444444444444444,\"#bd3786\"],[0.5555555555555556,\"#d8576b\"],[0.6666666666666666,\"#ed7953\"],[0.7777777777777778,\"#fb9f3a\"],[0.8888888888888888,\"#fdca26\"],[1.0,\"#f0f921\"]],\"sequentialminus\":[[0.0,\"#0d0887\"],[0.1111111111111111,\"#46039f\"],[0.2222222222222222,\"#7201a8\"],[0.3333333333333333,\"#9c179e\"],[0.4444444444444444,\"#bd3786\"],[0.5555555555555556,\"#d8576b\"],[0.6666666666666666,\"#ed7953\"],[0.7777777777777778,\"#fb9f3a\"],[0.8888888888888888,\"#fdca26\"],[1.0,\"#f0f921\"]],\"diverging\":[[0,\"#8e0152\"],[0.1,\"#c51b7d\"],[0.2,\"#de77ae\"],[0.3,\"#f1b6da\"],[0.4,\"#fde0ef\"],[0.5,\"#f7f7f7\"],[0.6,\"#e6f5d0\"],[0.7,\"#b8e186\"],[0.8,\"#7fbc41\"],[0.9,\"#4d9221\"],[1,\"#276419\"]]},\"xaxis\":{\"gridcolor\":\"white\",\"linecolor\":\"white\",\"ticks\":\"\",\"title\":{\"standoff\":15},\"zerolinecolor\":\"white\",\"automargin\":true,\"zerolinewidth\":2},\"yaxis\":{\"gridcolor\":\"white\",\"linecolor\":\"white\",\"ticks\":\"\",\"title\":{\"standoff\":15},\"zerolinecolor\":\"white\",\"automargin\":true,\"zerolinewidth\":2},\"scene\":{\"xaxis\":{\"backgroundcolor\":\"#E5ECF6\",\"gridcolor\":\"white\",\"linecolor\":\"white\",\"showbackground\":true,\"ticks\":\"\",\"zerolinecolor\":\"white\",\"gridwidth\":2},\"yaxis\":{\"backgroundcolor\":\"#E5ECF6\",\"gridcolor\":\"white\",\"linecolor\":\"white\",\"showbackground\":true,\"ticks\":\"\",\"zerolinecolor\":\"white\",\"gridwidth\":2},\"zaxis\":{\"backgroundcolor\":\"#E5ECF6\",\"gridcolor\":\"white\",\"linecolor\":\"white\",\"showbackground\":true,\"ticks\":\"\",\"zerolinecolor\":\"white\",\"gridwidth\":2}},\"shapedefaults\":{\"line\":{\"color\":\"#2a3f5f\"}},\"annotationdefaults\":{\"arrowcolor\":\"#2a3f5f\",\"arrowhead\":0,\"arrowwidth\":1},\"geo\":{\"bgcolor\":\"white\",\"landcolor\":\"#E5ECF6\",\"subunitcolor\":\"white\",\"showland\":true,\"showlakes\":true,\"lakecolor\":\"white\"},\"title\":{\"x\":0.05},\"mapbox\":{\"style\":\"light\"}}},\"xaxis\":{\"anchor\":\"y\",\"domain\":[0.0,1.0],\"title\":{\"text\":\"Kokku\"}},\"yaxis\":{\"anchor\":\"x\",\"domain\":[0.0,1.0],\"title\":{\"text\":\"\"}},\"legend\":{\"tracegroupgap\":0},\"title\":{\"text\":\"\\u00d5nnetuses osalejad\"},\"barmode\":\"relative\"},                        {\"responsive\": true}                    ).then(function(){\n",
       "                            \n",
       "var gd = document.getElementById('e74a9321-3c3e-47ec-aef5-32f2092d133a');\n",
       "var x = new MutationObserver(function (mutations, observer) {{\n",
       "        var display = window.getComputedStyle(gd).display;\n",
       "        if (!display || display === 'none') {{\n",
       "            console.log([gd, 'removed!']);\n",
       "            Plotly.purge(gd);\n",
       "            observer.disconnect();\n",
       "        }}\n",
       "}});\n",
       "\n",
       "// Listen for the removal of the full notebook cells\n",
       "var notebookContainer = gd.closest('#notebook-container');\n",
       "if (notebookContainer) {{\n",
       "    x.observe(notebookContainer, {childList: true});\n",
       "}}\n",
       "\n",
       "// Listen for the clearing of the current output cell\n",
       "var outputEl = gd.closest('.output');\n",
       "if (outputEl) {{\n",
       "    x.observe(outputEl, {childList: true});\n",
       "}}\n",
       "\n",
       "                        })                };                });            </script>        </div>"
      ]
     },
     "metadata": {},
     "output_type": "display_data"
    }
   ],
   "source": [
    "# liiklusõnnetused osaleja tüüpide kaupa\n",
    "@pn.depends( pn.widgets.RadioButtonGroup.param.value)   \n",
    "def osalejad(slider_value):\n",
    "    df_kaart=df.loc[pd.to_datetime(slider_value[0]):pd.to_datetime(slider_value[1])]    \n",
    "    options=['Jalakäija osalusel', 'Kergliikurijuhi osalusel', 'Kaassõitja osalusel', 'Maastikusõiduki juhi osalusel', \"Eaka (65+) mootorsõidukijuhi osalusel\",  \"Bussijuhi osalusel\", \"Veoautojuhi osalusel\", \"Ühissõidukijuhi osalusel\", \"Sõiduautojuhi osalusel\", \"Mootorratturi osalusel\", \"Mopeedijuhi osalusel\", \"Jalgratturi osalusel\", \"Alaealise osalusel\", \"Turvavarustust mitte kasutanud isiku osalusel\", \"Esmase juhiloa omaniku osalusel\", \"Mootorsõidukijuhi osalusel\"]\n",
    "\n",
    "    # Count the number of accidents for each participant type\n",
    "    df_count = df_kaart[options].apply(pd.Series.value_counts).T.reset_index().sort_values(1.0)\n",
    "\n",
    "\n",
    "    # Create the plot using Plotly Express\n",
    "    fig = px.bar(df_count, y='index', x=1.0, title='Õnnetuses osalejad')\n",
    "    fig.update_layout(\n",
    "    xaxis_title='Kokku',\n",
    "    yaxis_title='')\n",
    "\n",
    "    return fig\n",
    "\n",
    "osalejad(slider.value)"
   ]
  },
  {
   "cell_type": "code",
   "execution_count": 8,
   "metadata": {},
   "outputs": [
    {
     "data": {
      "text/plain": [
       "'Aastad'"
      ]
     },
     "execution_count": 8,
     "metadata": {},
     "output_type": "execute_result"
    }
   ],
   "source": [
    "perioodid.value\n",
    "\n"
   ]
  },
  {
   "cell_type": "code",
   "execution_count": null,
   "metadata": {},
   "outputs": [],
   "source": []
  },
  {
   "cell_type": "code",
   "execution_count": 9,
   "metadata": {},
   "outputs": [
    {
     "data": {
      "application/vnd.plotly.v1+json": {
       "config": {
        "plotlyServerURL": "https://plot.ly"
       },
       "data": [
        {
         "alignmentgroup": "True",
         "hovertemplate": "Aasta=%{x}<br>Õnnetuste arv=%{y}<extra></extra>",
         "legendgroup": "",
         "marker": {
          "color": "#636efa",
          "pattern": {
           "shape": ""
          }
         },
         "name": "",
         "offsetgroup": "",
         "orientation": "v",
         "showlegend": false,
         "textposition": "auto",
         "type": "bar",
         "x": [
          2011,
          2012,
          2013,
          2014,
          2015,
          2016,
          2017,
          2018,
          2019,
          2020,
          2021
         ],
         "xaxis": "x",
         "y": [
          362,
          1248,
          1251,
          1265,
          1246,
          1364,
          1278,
          1354,
          1319,
          1280,
          1492
         ],
         "yaxis": "y"
        }
       ],
       "layout": {
        "autosize": true,
        "barmode": "relative",
        "legend": {
         "tracegroupgap": 0
        },
        "template": {
         "data": {
          "bar": [
           {
            "error_x": {
             "color": "#2a3f5f"
            },
            "error_y": {
             "color": "#2a3f5f"
            },
            "marker": {
             "line": {
              "color": "#E5ECF6",
              "width": 0.5
             },
             "pattern": {
              "fillmode": "overlay",
              "size": 10,
              "solidity": 0.2
             }
            },
            "type": "bar"
           }
          ],
          "barpolar": [
           {
            "marker": {
             "line": {
              "color": "#E5ECF6",
              "width": 0.5
             },
             "pattern": {
              "fillmode": "overlay",
              "size": 10,
              "solidity": 0.2
             }
            },
            "type": "barpolar"
           }
          ],
          "carpet": [
           {
            "aaxis": {
             "endlinecolor": "#2a3f5f",
             "gridcolor": "white",
             "linecolor": "white",
             "minorgridcolor": "white",
             "startlinecolor": "#2a3f5f"
            },
            "baxis": {
             "endlinecolor": "#2a3f5f",
             "gridcolor": "white",
             "linecolor": "white",
             "minorgridcolor": "white",
             "startlinecolor": "#2a3f5f"
            },
            "type": "carpet"
           }
          ],
          "choropleth": [
           {
            "colorbar": {
             "outlinewidth": 0,
             "ticks": ""
            },
            "type": "choropleth"
           }
          ],
          "contour": [
           {
            "colorbar": {
             "outlinewidth": 0,
             "ticks": ""
            },
            "colorscale": [
             [
              0,
              "#0d0887"
             ],
             [
              0.1111111111111111,
              "#46039f"
             ],
             [
              0.2222222222222222,
              "#7201a8"
             ],
             [
              0.3333333333333333,
              "#9c179e"
             ],
             [
              0.4444444444444444,
              "#bd3786"
             ],
             [
              0.5555555555555556,
              "#d8576b"
             ],
             [
              0.6666666666666666,
              "#ed7953"
             ],
             [
              0.7777777777777778,
              "#fb9f3a"
             ],
             [
              0.8888888888888888,
              "#fdca26"
             ],
             [
              1,
              "#f0f921"
             ]
            ],
            "type": "contour"
           }
          ],
          "contourcarpet": [
           {
            "colorbar": {
             "outlinewidth": 0,
             "ticks": ""
            },
            "type": "contourcarpet"
           }
          ],
          "heatmap": [
           {
            "colorbar": {
             "outlinewidth": 0,
             "ticks": ""
            },
            "colorscale": [
             [
              0,
              "#0d0887"
             ],
             [
              0.1111111111111111,
              "#46039f"
             ],
             [
              0.2222222222222222,
              "#7201a8"
             ],
             [
              0.3333333333333333,
              "#9c179e"
             ],
             [
              0.4444444444444444,
              "#bd3786"
             ],
             [
              0.5555555555555556,
              "#d8576b"
             ],
             [
              0.6666666666666666,
              "#ed7953"
             ],
             [
              0.7777777777777778,
              "#fb9f3a"
             ],
             [
              0.8888888888888888,
              "#fdca26"
             ],
             [
              1,
              "#f0f921"
             ]
            ],
            "type": "heatmap"
           }
          ],
          "heatmapgl": [
           {
            "colorbar": {
             "outlinewidth": 0,
             "ticks": ""
            },
            "colorscale": [
             [
              0,
              "#0d0887"
             ],
             [
              0.1111111111111111,
              "#46039f"
             ],
             [
              0.2222222222222222,
              "#7201a8"
             ],
             [
              0.3333333333333333,
              "#9c179e"
             ],
             [
              0.4444444444444444,
              "#bd3786"
             ],
             [
              0.5555555555555556,
              "#d8576b"
             ],
             [
              0.6666666666666666,
              "#ed7953"
             ],
             [
              0.7777777777777778,
              "#fb9f3a"
             ],
             [
              0.8888888888888888,
              "#fdca26"
             ],
             [
              1,
              "#f0f921"
             ]
            ],
            "type": "heatmapgl"
           }
          ],
          "histogram": [
           {
            "marker": {
             "pattern": {
              "fillmode": "overlay",
              "size": 10,
              "solidity": 0.2
             }
            },
            "type": "histogram"
           }
          ],
          "histogram2d": [
           {
            "colorbar": {
             "outlinewidth": 0,
             "ticks": ""
            },
            "colorscale": [
             [
              0,
              "#0d0887"
             ],
             [
              0.1111111111111111,
              "#46039f"
             ],
             [
              0.2222222222222222,
              "#7201a8"
             ],
             [
              0.3333333333333333,
              "#9c179e"
             ],
             [
              0.4444444444444444,
              "#bd3786"
             ],
             [
              0.5555555555555556,
              "#d8576b"
             ],
             [
              0.6666666666666666,
              "#ed7953"
             ],
             [
              0.7777777777777778,
              "#fb9f3a"
             ],
             [
              0.8888888888888888,
              "#fdca26"
             ],
             [
              1,
              "#f0f921"
             ]
            ],
            "type": "histogram2d"
           }
          ],
          "histogram2dcontour": [
           {
            "colorbar": {
             "outlinewidth": 0,
             "ticks": ""
            },
            "colorscale": [
             [
              0,
              "#0d0887"
             ],
             [
              0.1111111111111111,
              "#46039f"
             ],
             [
              0.2222222222222222,
              "#7201a8"
             ],
             [
              0.3333333333333333,
              "#9c179e"
             ],
             [
              0.4444444444444444,
              "#bd3786"
             ],
             [
              0.5555555555555556,
              "#d8576b"
             ],
             [
              0.6666666666666666,
              "#ed7953"
             ],
             [
              0.7777777777777778,
              "#fb9f3a"
             ],
             [
              0.8888888888888888,
              "#fdca26"
             ],
             [
              1,
              "#f0f921"
             ]
            ],
            "type": "histogram2dcontour"
           }
          ],
          "mesh3d": [
           {
            "colorbar": {
             "outlinewidth": 0,
             "ticks": ""
            },
            "type": "mesh3d"
           }
          ],
          "parcoords": [
           {
            "line": {
             "colorbar": {
              "outlinewidth": 0,
              "ticks": ""
             }
            },
            "type": "parcoords"
           }
          ],
          "pie": [
           {
            "automargin": true,
            "type": "pie"
           }
          ],
          "scatter": [
           {
            "fillpattern": {
             "fillmode": "overlay",
             "size": 10,
             "solidity": 0.2
            },
            "type": "scatter"
           }
          ],
          "scatter3d": [
           {
            "line": {
             "colorbar": {
              "outlinewidth": 0,
              "ticks": ""
             }
            },
            "marker": {
             "colorbar": {
              "outlinewidth": 0,
              "ticks": ""
             }
            },
            "type": "scatter3d"
           }
          ],
          "scattercarpet": [
           {
            "marker": {
             "colorbar": {
              "outlinewidth": 0,
              "ticks": ""
             }
            },
            "type": "scattercarpet"
           }
          ],
          "scattergeo": [
           {
            "marker": {
             "colorbar": {
              "outlinewidth": 0,
              "ticks": ""
             }
            },
            "type": "scattergeo"
           }
          ],
          "scattergl": [
           {
            "marker": {
             "colorbar": {
              "outlinewidth": 0,
              "ticks": ""
             }
            },
            "type": "scattergl"
           }
          ],
          "scattermapbox": [
           {
            "marker": {
             "colorbar": {
              "outlinewidth": 0,
              "ticks": ""
             }
            },
            "type": "scattermapbox"
           }
          ],
          "scatterpolar": [
           {
            "marker": {
             "colorbar": {
              "outlinewidth": 0,
              "ticks": ""
             }
            },
            "type": "scatterpolar"
           }
          ],
          "scatterpolargl": [
           {
            "marker": {
             "colorbar": {
              "outlinewidth": 0,
              "ticks": ""
             }
            },
            "type": "scatterpolargl"
           }
          ],
          "scatterternary": [
           {
            "marker": {
             "colorbar": {
              "outlinewidth": 0,
              "ticks": ""
             }
            },
            "type": "scatterternary"
           }
          ],
          "surface": [
           {
            "colorbar": {
             "outlinewidth": 0,
             "ticks": ""
            },
            "colorscale": [
             [
              0,
              "#0d0887"
             ],
             [
              0.1111111111111111,
              "#46039f"
             ],
             [
              0.2222222222222222,
              "#7201a8"
             ],
             [
              0.3333333333333333,
              "#9c179e"
             ],
             [
              0.4444444444444444,
              "#bd3786"
             ],
             [
              0.5555555555555556,
              "#d8576b"
             ],
             [
              0.6666666666666666,
              "#ed7953"
             ],
             [
              0.7777777777777778,
              "#fb9f3a"
             ],
             [
              0.8888888888888888,
              "#fdca26"
             ],
             [
              1,
              "#f0f921"
             ]
            ],
            "type": "surface"
           }
          ],
          "table": [
           {
            "cells": {
             "fill": {
              "color": "#EBF0F8"
             },
             "line": {
              "color": "white"
             }
            },
            "header": {
             "fill": {
              "color": "#C8D4E3"
             },
             "line": {
              "color": "white"
             }
            },
            "type": "table"
           }
          ]
         },
         "layout": {
          "annotationdefaults": {
           "arrowcolor": "#2a3f5f",
           "arrowhead": 0,
           "arrowwidth": 1
          },
          "autotypenumbers": "strict",
          "coloraxis": {
           "colorbar": {
            "outlinewidth": 0,
            "ticks": ""
           }
          },
          "colorscale": {
           "diverging": [
            [
             0,
             "#8e0152"
            ],
            [
             0.1,
             "#c51b7d"
            ],
            [
             0.2,
             "#de77ae"
            ],
            [
             0.3,
             "#f1b6da"
            ],
            [
             0.4,
             "#fde0ef"
            ],
            [
             0.5,
             "#f7f7f7"
            ],
            [
             0.6,
             "#e6f5d0"
            ],
            [
             0.7,
             "#b8e186"
            ],
            [
             0.8,
             "#7fbc41"
            ],
            [
             0.9,
             "#4d9221"
            ],
            [
             1,
             "#276419"
            ]
           ],
           "sequential": [
            [
             0,
             "#0d0887"
            ],
            [
             0.1111111111111111,
             "#46039f"
            ],
            [
             0.2222222222222222,
             "#7201a8"
            ],
            [
             0.3333333333333333,
             "#9c179e"
            ],
            [
             0.4444444444444444,
             "#bd3786"
            ],
            [
             0.5555555555555556,
             "#d8576b"
            ],
            [
             0.6666666666666666,
             "#ed7953"
            ],
            [
             0.7777777777777778,
             "#fb9f3a"
            ],
            [
             0.8888888888888888,
             "#fdca26"
            ],
            [
             1,
             "#f0f921"
            ]
           ],
           "sequentialminus": [
            [
             0,
             "#0d0887"
            ],
            [
             0.1111111111111111,
             "#46039f"
            ],
            [
             0.2222222222222222,
             "#7201a8"
            ],
            [
             0.3333333333333333,
             "#9c179e"
            ],
            [
             0.4444444444444444,
             "#bd3786"
            ],
            [
             0.5555555555555556,
             "#d8576b"
            ],
            [
             0.6666666666666666,
             "#ed7953"
            ],
            [
             0.7777777777777778,
             "#fb9f3a"
            ],
            [
             0.8888888888888888,
             "#fdca26"
            ],
            [
             1,
             "#f0f921"
            ]
           ]
          },
          "colorway": [
           "#636efa",
           "#EF553B",
           "#00cc96",
           "#ab63fa",
           "#FFA15A",
           "#19d3f3",
           "#FF6692",
           "#B6E880",
           "#FF97FF",
           "#FECB52"
          ],
          "font": {
           "color": "#2a3f5f"
          },
          "geo": {
           "bgcolor": "white",
           "lakecolor": "white",
           "landcolor": "#E5ECF6",
           "showlakes": true,
           "showland": true,
           "subunitcolor": "white"
          },
          "hoverlabel": {
           "align": "left"
          },
          "hovermode": "closest",
          "mapbox": {
           "style": "light"
          },
          "paper_bgcolor": "white",
          "plot_bgcolor": "#E5ECF6",
          "polar": {
           "angularaxis": {
            "gridcolor": "white",
            "linecolor": "white",
            "ticks": ""
           },
           "bgcolor": "#E5ECF6",
           "radialaxis": {
            "gridcolor": "white",
            "linecolor": "white",
            "ticks": ""
           }
          },
          "scene": {
           "xaxis": {
            "backgroundcolor": "#E5ECF6",
            "gridcolor": "white",
            "gridwidth": 2,
            "linecolor": "white",
            "showbackground": true,
            "ticks": "",
            "zerolinecolor": "white"
           },
           "yaxis": {
            "backgroundcolor": "#E5ECF6",
            "gridcolor": "white",
            "gridwidth": 2,
            "linecolor": "white",
            "showbackground": true,
            "ticks": "",
            "zerolinecolor": "white"
           },
           "zaxis": {
            "backgroundcolor": "#E5ECF6",
            "gridcolor": "white",
            "gridwidth": 2,
            "linecolor": "white",
            "showbackground": true,
            "ticks": "",
            "zerolinecolor": "white"
           }
          },
          "shapedefaults": {
           "line": {
            "color": "#2a3f5f"
           }
          },
          "ternary": {
           "aaxis": {
            "gridcolor": "white",
            "linecolor": "white",
            "ticks": ""
           },
           "baxis": {
            "gridcolor": "white",
            "linecolor": "white",
            "ticks": ""
           },
           "bgcolor": "#E5ECF6",
           "caxis": {
            "gridcolor": "white",
            "linecolor": "white",
            "ticks": ""
           }
          },
          "title": {
           "x": 0.05
          },
          "xaxis": {
           "automargin": true,
           "gridcolor": "white",
           "linecolor": "white",
           "ticks": "",
           "title": {
            "standoff": 15
           },
           "zerolinecolor": "white",
           "zerolinewidth": 2
          },
          "yaxis": {
           "automargin": true,
           "gridcolor": "white",
           "linecolor": "white",
           "ticks": "",
           "title": {
            "standoff": 15
           },
           "zerolinecolor": "white",
           "zerolinewidth": 2
          }
         }
        },
        "title": {
         "text": "Õnnetusi aasta kaupa"
        },
        "xaxis": {
         "anchor": "y",
         "autorange": true,
         "domain": [
          0,
          1
         ],
         "range": [
          2010.5,
          2021.5
         ],
         "title": {
          "text": "Aasta"
         },
         "type": "linear"
        },
        "yaxis": {
         "anchor": "x",
         "autorange": true,
         "domain": [
          0,
          1
         ],
         "range": [
          0,
          1570.5263157894738
         ],
         "title": {
          "text": "Õnnetuste arv"
         },
         "type": "linear"
        }
       }
      },
      "image/png": "[encoded data removed]",
      "text/html": [
       "<div>                            <div id=\"24747aac-dbfd-4429-a80a-561093c96ccf\" class=\"plotly-graph-div\" style=\"height:525px; width:100%;\"></div>            <script type=\"text/javascript\">                require([\"plotly\"], function(Plotly) {                    window.PLOTLYENV=window.PLOTLYENV || {};                                    if (document.getElementById(\"24747aac-dbfd-4429-a80a-561093c96ccf\")) {                    Plotly.newPlot(                        \"24747aac-dbfd-4429-a80a-561093c96ccf\",                        [{\"alignmentgroup\":\"True\",\"hovertemplate\":\"Aasta=%{x}<br>\\u00d5nnetuste arv=%{y}<extra></extra>\",\"legendgroup\":\"\",\"marker\":{\"color\":\"#636efa\",\"pattern\":{\"shape\":\"\"}},\"name\":\"\",\"offsetgroup\":\"\",\"orientation\":\"v\",\"showlegend\":false,\"textposition\":\"auto\",\"x\":[2011,2012,2013,2014,2015,2016,2017,2018,2019,2020,2021],\"xaxis\":\"x\",\"y\":[362,1248,1251,1265,1246,1364,1278,1354,1319,1280,1492],\"yaxis\":\"y\",\"type\":\"bar\"}],                        {\"template\":{\"data\":{\"histogram2dcontour\":[{\"type\":\"histogram2dcontour\",\"colorbar\":{\"outlinewidth\":0,\"ticks\":\"\"},\"colorscale\":[[0.0,\"#0d0887\"],[0.1111111111111111,\"#46039f\"],[0.2222222222222222,\"#7201a8\"],[0.3333333333333333,\"#9c179e\"],[0.4444444444444444,\"#bd3786\"],[0.5555555555555556,\"#d8576b\"],[0.6666666666666666,\"#ed7953\"],[0.7777777777777778,\"#fb9f3a\"],[0.8888888888888888,\"#fdca26\"],[1.0,\"#f0f921\"]]}],\"choropleth\":[{\"type\":\"choropleth\",\"colorbar\":{\"outlinewidth\":0,\"ticks\":\"\"}}],\"histogram2d\":[{\"type\":\"histogram2d\",\"colorbar\":{\"outlinewidth\":0,\"ticks\":\"\"},\"colorscale\":[[0.0,\"#0d0887\"],[0.1111111111111111,\"#46039f\"],[0.2222222222222222,\"#7201a8\"],[0.3333333333333333,\"#9c179e\"],[0.4444444444444444,\"#bd3786\"],[0.5555555555555556,\"#d8576b\"],[0.6666666666666666,\"#ed7953\"],[0.7777777777777778,\"#fb9f3a\"],[0.8888888888888888,\"#fdca26\"],[1.0,\"#f0f921\"]]}],\"heatmap\":[{\"type\":\"heatmap\",\"colorbar\":{\"outlinewidth\":0,\"ticks\":\"\"},\"colorscale\":[[0.0,\"#0d0887\"],[0.1111111111111111,\"#46039f\"],[0.2222222222222222,\"#7201a8\"],[0.3333333333333333,\"#9c179e\"],[0.4444444444444444,\"#bd3786\"],[0.5555555555555556,\"#d8576b\"],[0.6666666666666666,\"#ed7953\"],[0.7777777777777778,\"#fb9f3a\"],[0.8888888888888888,\"#fdca26\"],[1.0,\"#f0f921\"]]}],\"heatmapgl\":[{\"type\":\"heatmapgl\",\"colorbar\":{\"outlinewidth\":0,\"ticks\":\"\"},\"colorscale\":[[0.0,\"#0d0887\"],[0.1111111111111111,\"#46039f\"],[0.2222222222222222,\"#7201a8\"],[0.3333333333333333,\"#9c179e\"],[0.4444444444444444,\"#bd3786\"],[0.5555555555555556,\"#d8576b\"],[0.6666666666666666,\"#ed7953\"],[0.7777777777777778,\"#fb9f3a\"],[0.8888888888888888,\"#fdca26\"],[1.0,\"#f0f921\"]]}],\"contourcarpet\":[{\"type\":\"contourcarpet\",\"colorbar\":{\"outlinewidth\":0,\"ticks\":\"\"}}],\"contour\":[{\"type\":\"contour\",\"colorbar\":{\"outlinewidth\":0,\"ticks\":\"\"},\"colorscale\":[[0.0,\"#0d0887\"],[0.1111111111111111,\"#46039f\"],[0.2222222222222222,\"#7201a8\"],[0.3333333333333333,\"#9c179e\"],[0.4444444444444444,\"#bd3786\"],[0.5555555555555556,\"#d8576b\"],[0.6666666666666666,\"#ed7953\"],[0.7777777777777778,\"#fb9f3a\"],[0.8888888888888888,\"#fdca26\"],[1.0,\"#f0f921\"]]}],\"surface\":[{\"type\":\"surface\",\"colorbar\":{\"outlinewidth\":0,\"ticks\":\"\"},\"colorscale\":[[0.0,\"#0d0887\"],[0.1111111111111111,\"#46039f\"],[0.2222222222222222,\"#7201a8\"],[0.3333333333333333,\"#9c179e\"],[0.4444444444444444,\"#bd3786\"],[0.5555555555555556,\"#d8576b\"],[0.6666666666666666,\"#ed7953\"],[0.7777777777777778,\"#fb9f3a\"],[0.8888888888888888,\"#fdca26\"],[1.0,\"#f0f921\"]]}],\"mesh3d\":[{\"type\":\"mesh3d\",\"colorbar\":{\"outlinewidth\":0,\"ticks\":\"\"}}],\"scatter\":[{\"fillpattern\":{\"fillmode\":\"overlay\",\"size\":10,\"solidity\":0.2},\"type\":\"scatter\"}],\"parcoords\":[{\"type\":\"parcoords\",\"line\":{\"colorbar\":{\"outlinewidth\":0,\"ticks\":\"\"}}}],\"scatterpolargl\":[{\"type\":\"scatterpolargl\",\"marker\":{\"colorbar\":{\"outlinewidth\":0,\"ticks\":\"\"}}}],\"bar\":[{\"error_x\":{\"color\":\"#2a3f5f\"},\"error_y\":{\"color\":\"#2a3f5f\"},\"marker\":{\"line\":{\"color\":\"#E5ECF6\",\"width\":0.5},\"pattern\":{\"fillmode\":\"overlay\",\"size\":10,\"solidity\":0.2}},\"type\":\"bar\"}],\"scattergeo\":[{\"type\":\"scattergeo\",\"marker\":{\"colorbar\":{\"outlinewidth\":0,\"ticks\":\"\"}}}],\"scatterpolar\":[{\"type\":\"scatterpolar\",\"marker\":{\"colorbar\":{\"outlinewidth\":0,\"ticks\":\"\"}}}],\"histogram\":[{\"marker\":{\"pattern\":{\"fillmode\":\"overlay\",\"size\":10,\"solidity\":0.2}},\"type\":\"histogram\"}],\"scattergl\":[{\"type\":\"scattergl\",\"marker\":{\"colorbar\":{\"outlinewidth\":0,\"ticks\":\"\"}}}],\"scatter3d\":[{\"type\":\"scatter3d\",\"line\":{\"colorbar\":{\"outlinewidth\":0,\"ticks\":\"\"}},\"marker\":{\"colorbar\":{\"outlinewidth\":0,\"ticks\":\"\"}}}],\"scattermapbox\":[{\"type\":\"scattermapbox\",\"marker\":{\"colorbar\":{\"outlinewidth\":0,\"ticks\":\"\"}}}],\"scatterternary\":[{\"type\":\"scatterternary\",\"marker\":{\"colorbar\":{\"outlinewidth\":0,\"ticks\":\"\"}}}],\"scattercarpet\":[{\"type\":\"scattercarpet\",\"marker\":{\"colorbar\":{\"outlinewidth\":0,\"ticks\":\"\"}}}],\"carpet\":[{\"aaxis\":{\"endlinecolor\":\"#2a3f5f\",\"gridcolor\":\"white\",\"linecolor\":\"white\",\"minorgridcolor\":\"white\",\"startlinecolor\":\"#2a3f5f\"},\"baxis\":{\"endlinecolor\":\"#2a3f5f\",\"gridcolor\":\"white\",\"linecolor\":\"white\",\"minorgridcolor\":\"white\",\"startlinecolor\":\"#2a3f5f\"},\"type\":\"carpet\"}],\"table\":[{\"cells\":{\"fill\":{\"color\":\"#EBF0F8\"},\"line\":{\"color\":\"white\"}},\"header\":{\"fill\":{\"color\":\"#C8D4E3\"},\"line\":{\"color\":\"white\"}},\"type\":\"table\"}],\"barpolar\":[{\"marker\":{\"line\":{\"color\":\"#E5ECF6\",\"width\":0.5},\"pattern\":{\"fillmode\":\"overlay\",\"size\":10,\"solidity\":0.2}},\"type\":\"barpolar\"}],\"pie\":[{\"automargin\":true,\"type\":\"pie\"}]},\"layout\":{\"autotypenumbers\":\"strict\",\"colorway\":[\"#636efa\",\"#EF553B\",\"#00cc96\",\"#ab63fa\",\"#FFA15A\",\"#19d3f3\",\"#FF6692\",\"#B6E880\",\"#FF97FF\",\"#FECB52\"],\"font\":{\"color\":\"#2a3f5f\"},\"hovermode\":\"closest\",\"hoverlabel\":{\"align\":\"left\"},\"paper_bgcolor\":\"white\",\"plot_bgcolor\":\"#E5ECF6\",\"polar\":{\"bgcolor\":\"#E5ECF6\",\"angularaxis\":{\"gridcolor\":\"white\",\"linecolor\":\"white\",\"ticks\":\"\"},\"radialaxis\":{\"gridcolor\":\"white\",\"linecolor\":\"white\",\"ticks\":\"\"}},\"ternary\":{\"bgcolor\":\"#E5ECF6\",\"aaxis\":{\"gridcolor\":\"white\",\"linecolor\":\"white\",\"ticks\":\"\"},\"baxis\":{\"gridcolor\":\"white\",\"linecolor\":\"white\",\"ticks\":\"\"},\"caxis\":{\"gridcolor\":\"white\",\"linecolor\":\"white\",\"ticks\":\"\"}},\"coloraxis\":{\"colorbar\":{\"outlinewidth\":0,\"ticks\":\"\"}},\"colorscale\":{\"sequential\":[[0.0,\"#0d0887\"],[0.1111111111111111,\"#46039f\"],[0.2222222222222222,\"#7201a8\"],[0.3333333333333333,\"#9c179e\"],[0.4444444444444444,\"#bd3786\"],[0.5555555555555556,\"#d8576b\"],[0.6666666666666666,\"#ed7953\"],[0.7777777777777778,\"#fb9f3a\"],[0.8888888888888888,\"#fdca26\"],[1.0,\"#f0f921\"]],\"sequentialminus\":[[0.0,\"#0d0887\"],[0.1111111111111111,\"#46039f\"],[0.2222222222222222,\"#7201a8\"],[0.3333333333333333,\"#9c179e\"],[0.4444444444444444,\"#bd3786\"],[0.5555555555555556,\"#d8576b\"],[0.6666666666666666,\"#ed7953\"],[0.7777777777777778,\"#fb9f3a\"],[0.8888888888888888,\"#fdca26\"],[1.0,\"#f0f921\"]],\"diverging\":[[0,\"#8e0152\"],[0.1,\"#c51b7d\"],[0.2,\"#de77ae\"],[0.3,\"#f1b6da\"],[0.4,\"#fde0ef\"],[0.5,\"#f7f7f7\"],[0.6,\"#e6f5d0\"],[0.7,\"#b8e186\"],[0.8,\"#7fbc41\"],[0.9,\"#4d9221\"],[1,\"#276419\"]]},\"xaxis\":{\"gridcolor\":\"white\",\"linecolor\":\"white\",\"ticks\":\"\",\"title\":{\"standoff\":15},\"zerolinecolor\":\"white\",\"automargin\":true,\"zerolinewidth\":2},\"yaxis\":{\"gridcolor\":\"white\",\"linecolor\":\"white\",\"ticks\":\"\",\"title\":{\"standoff\":15},\"zerolinecolor\":\"white\",\"automargin\":true,\"zerolinewidth\":2},\"scene\":{\"xaxis\":{\"backgroundcolor\":\"#E5ECF6\",\"gridcolor\":\"white\",\"linecolor\":\"white\",\"showbackground\":true,\"ticks\":\"\",\"zerolinecolor\":\"white\",\"gridwidth\":2},\"yaxis\":{\"backgroundcolor\":\"#E5ECF6\",\"gridcolor\":\"white\",\"linecolor\":\"white\",\"showbackground\":true,\"ticks\":\"\",\"zerolinecolor\":\"white\",\"gridwidth\":2},\"zaxis\":{\"backgroundcolor\":\"#E5ECF6\",\"gridcolor\":\"white\",\"linecolor\":\"white\",\"showbackground\":true,\"ticks\":\"\",\"zerolinecolor\":\"white\",\"gridwidth\":2}},\"shapedefaults\":{\"line\":{\"color\":\"#2a3f5f\"}},\"annotationdefaults\":{\"arrowcolor\":\"#2a3f5f\",\"arrowhead\":0,\"arrowwidth\":1},\"geo\":{\"bgcolor\":\"white\",\"landcolor\":\"#E5ECF6\",\"subunitcolor\":\"white\",\"showland\":true,\"showlakes\":true,\"lakecolor\":\"white\"},\"title\":{\"x\":0.05},\"mapbox\":{\"style\":\"light\"}}},\"xaxis\":{\"anchor\":\"y\",\"domain\":[0.0,1.0],\"title\":{\"text\":\"Aasta\"}},\"yaxis\":{\"anchor\":\"x\",\"domain\":[0.0,1.0],\"title\":{\"text\":\"\\u00d5nnetuste arv\"}},\"legend\":{\"tracegroupgap\":0},\"title\":{\"text\":\"\\u00d5nnetusi aasta kaupa\"},\"barmode\":\"relative\"},                        {\"responsive\": true}                    ).then(function(){\n",
       "                            \n",
       "var gd = document.getElementById('24747aac-dbfd-4429-a80a-561093c96ccf');\n",
       "var x = new MutationObserver(function (mutations, observer) {{\n",
       "        var display = window.getComputedStyle(gd).display;\n",
       "        if (!display || display === 'none') {{\n",
       "            console.log([gd, 'removed!']);\n",
       "            Plotly.purge(gd);\n",
       "            observer.disconnect();\n",
       "        }}\n",
       "}});\n",
       "\n",
       "// Listen for the removal of the full notebook cells\n",
       "var notebookContainer = gd.closest('#notebook-container');\n",
       "if (notebookContainer) {{\n",
       "    x.observe(notebookContainer, {childList: true});\n",
       "}}\n",
       "\n",
       "// Listen for the clearing of the current output cell\n",
       "var outputEl = gd.closest('.output');\n",
       "if (outputEl) {{\n",
       "    x.observe(outputEl, {childList: true});\n",
       "}}\n",
       "\n",
       "                        })                };                });            </script>        </div>"
      ]
     },
     "metadata": {},
     "output_type": "display_data"
    }
   ],
   "source": [
    "# Extracting year, month, day of week, and hour of day from the 'time_of_accident' column\n",
    "\n",
    "#@pn.depends( pn.widgets.Button.param.button_type.objects)\n",
    "@pn.depends( pn.widgets.RadioButtonGroup.param.value)\n",
    "def perioodid_joonis(perioodid, slider_value):\n",
    "    df_kaart=df.loc[pd.to_datetime(slider_value[0]):pd.to_datetime(slider_value[1])]\n",
    "    \n",
    "    # Counting the number of accidents for each time component\n",
    "    Aastad = df_kaart['year'].value_counts().sort_index()\n",
    "    Kuud = df_kaart['month'].value_counts().sort_index()\n",
    "    Päevad = df_kaart['day_of_week'].value_counts().sort_index()\n",
    "    Tunnid =df_kaart['hour_of_day'].value_counts().sort_index()\n",
    "\n",
    "    # Creating bar plots using Plotly\n",
    "    if perioodid == \"Aastad\":\n",
    "        fig = px.bar(x=Aastad.index, y=Aastad.values, labels={'x': 'Aasta', 'y': 'Õnnetuste arv'}, title='Õnnetusi aasta kaupa')\n",
    "    elif perioodid == \"Kuud\":\n",
    "        fig = px.bar(x=Kuud.index, y=Kuud.values, labels={'x': 'Kuu','y': 'Õnnetuste arv'}, title='Õnnetusi kuude kaupa')\n",
    "    elif perioodid == \"Päevad\":\n",
    "        fig = px.bar(x=Päevad.index, y=Päevad.values, labels={'x': 'Nädalapäev','y': 'Õnnetuste arv'}, title='Õnnetusi päevade kaupa')\n",
    "    elif perioodid == \"Tunnid\":\n",
    "        fig = px.bar(x=Tunnid.index, y=Tunnid.values, labels={'x': 'Tund','y': 'Õnnetuste arv'}, title='Õnnetusi tundide kaupa')\n",
    "    \n",
    "    return fig\n",
    "\n",
    "perioodid_joonis(perioodid.value, slider.value)"
   ]
  },
  {
   "cell_type": "code",
   "execution_count": 10,
   "metadata": {},
   "outputs": [
    {
     "name": "stdout",
     "output_type": "stream",
     "text": [
      "<class 'pandas.core.frame.DataFrame'>\n",
      "DatetimeIndex: 13459 entries, 2011-01-05 00:00:00 to 2021-12-31 23:45:00\n",
      "Data columns (total 61 columns):\n",
      " #   Column                                         Non-Null Count  Dtype   \n",
      "---  ------                                         --------------  -----   \n",
      " 0   Unnamed: 0                                     13459 non-null  int64   \n",
      " 1   Juhtumi nr                                     13459 non-null  object  \n",
      " 2   Toimumisaeg                                    13459 non-null  object  \n",
      " 3   Isikuid                                        13384 non-null  float64 \n",
      " 4   Hukkunuid                                      13459 non-null  int64   \n",
      " 5   Vigastatuid                                    13459 non-null  int64   \n",
      " 6   Sõidukeid                                      13384 non-null  float64 \n",
      " 7   Aadress (PPA)                                  13381 non-null  object  \n",
      " 8   Maja nr (PPA)                                  6271 non-null   object  \n",
      " 9   Tänav (PPA)                                    12845 non-null  object  \n",
      " 10  Ristuv tänav (PPA)                             2487 non-null   object  \n",
      " 11  Maakond (PPA)                                  13456 non-null  object  \n",
      " 12  Omavalitsus (PPA)                              13451 non-null  object  \n",
      " 13  Asustus (PPA)                                  8193 non-null   object  \n",
      " 14  Asula                                          13459 non-null  object  \n",
      " 15  Liiklusõnnetuse liik [1]                       13459 non-null  object  \n",
      " 16  Liiklusõnnetuse liik [3]                       13459 non-null  object  \n",
      " 17  Kergliikurijuhi osalusel                       13339 non-null  float64 \n",
      " 18  Jalakäija osalusel                             13339 non-null  float64 \n",
      " 19  Kaassõitja osalusel                            13339 non-null  float64 \n",
      " 20  Maastikusõiduki juhi osalusel                  13339 non-null  float64 \n",
      " 21  Eaka (65+) mootorsõidukijuhi osalusel          13339 non-null  float64 \n",
      " 22  Bussijuhi osalusel                             13339 non-null  float64 \n",
      " 23  Veoautojuhi osalusel                           13339 non-null  float64 \n",
      " 24  Ühissõidukijuhi osalusel                       13339 non-null  float64 \n",
      " 25  Sõiduautojuhi osalusel                         13339 non-null  float64 \n",
      " 26  Mootorratturi osalusel                         13339 non-null  float64 \n",
      " 27  Mopeedijuhi osalusel                           13339 non-null  float64 \n",
      " 28  Jalgratturi osalusel                           13339 non-null  float64 \n",
      " 29  Alaealise osalusel                             13339 non-null  float64 \n",
      " 30  Turvavarustust mitte kasutanud isiku osalusel  13339 non-null  float64 \n",
      " 31  Esmase juhiloa omaniku osalusel                13339 non-null  float64 \n",
      " 32  Mootorsõidukijuhi osalusel                     13339 non-null  float64 \n",
      " 33  Tüüpskeemi nr                                  13089 non-null  float64 \n",
      " 34  Tüüpskeem [2]                                  13089 non-null  object  \n",
      " 35  Tee tüüp [1]                                   13383 non-null  object  \n",
      " 36  Tee tüüp [2]                                   13383 non-null  object  \n",
      " 37  Tee element [1]                                13055 non-null  object  \n",
      " 38  Tee element [2]                                13055 non-null  object  \n",
      " 39  Tee objekt [2]                                 13079 non-null  object  \n",
      " 40  Kurvilisus                                     13121 non-null  object  \n",
      " 41  Tee tasasus                                    13173 non-null  object  \n",
      " 42  Tee seisund                                    13221 non-null  object  \n",
      " 43  Teekate                                        13260 non-null  object  \n",
      " 44  Teekatte seisund [2]                           13261 non-null  object  \n",
      " 45  Sõiduradade arv                                4181 non-null   object  \n",
      " 46  Lubatud sõidukiirus (PPA)                      13089 non-null  float64 \n",
      " 47  Tee nr (PPA)                                   4299 non-null   float64 \n",
      " 48  Tee km (PPA)                                   4302 non-null   object  \n",
      " 49  Ilmastik [1]                                   13256 non-null  object  \n",
      " 50  Valgustus [1]                                  13255 non-null  object  \n",
      " 51  Valgustus [2]                                  13255 non-null  object  \n",
      " 52  GPS X                                          13459 non-null  int64   \n",
      " 53  GPS Y                                          13459 non-null  int64   \n",
      " 54  Asukoht                                        13459 non-null  object  \n",
      " 55  lon                                            13459 non-null  float64 \n",
      " 56  lat                                            13459 non-null  float64 \n",
      " 57  year                                           13459 non-null  category\n",
      " 58  month                                          13459 non-null  category\n",
      " 59  day_of_week                                    13459 non-null  category\n",
      " 60  hour_of_day                                    7995 non-null   float64 \n",
      "dtypes: category(3), float64(24), int64(5), object(29)\n",
      "memory usage: 6.6+ MB\n"
     ]
    }
   ],
   "source": [
    "df.info()"
   ]
  },
  {
   "cell_type": "code",
   "execution_count": 11,
   "metadata": {},
   "outputs": [],
   "source": [
    "@pn.depends( pn.widgets.DateRangeSlider.param.value_throttled)\n",
    "def kaart(slider_value):\n",
    "    df_kaart=df.loc[pd.to_datetime(slider_value[0]):pd.to_datetime(slider_value[1])]\n",
    "    fig = px.scatter_mapbox(df_kaart, lat =\"lat\", lon=\"lon\", height=600, zoom=6.5)\n",
    "    fig.update_layout(mapbox_style=\"open-street-map\")\n",
    "    fig.update_layout(margin={\"r\":0,\"t\":0,\"l\":0,\"b\":0})\n",
    "    #fig.show()\n",
    "    \n",
    "    return fig\n",
    "#kaart(lider.value)"
   ]
  },
  {
   "cell_type": "code",
   "execution_count": 12,
   "metadata": {},
   "outputs": [],
   "source": [
    "# Function to display current year\n",
    "@pn.depends( pn.widgets.DateRangeSlider.param.value_throttled)\n",
    "def tiitel(slider):\n",
    "    return '### Liiklusõnnetuste statistika ajavahemikul '"
   ]
  },
  {
   "cell_type": "code",
   "execution_count": null,
   "metadata": {},
   "outputs": [],
   "source": []
  },
  {
   "cell_type": "code",
   "execution_count": 27,
   "metadata": {},
   "outputs": [
    {
     "data": {},
     "metadata": {},
     "output_type": "display_data"
    },
    {
     "data": {
      "application/vnd.holoviews_exec.v0+json": "",
      "text/html": [
       "<div id='1268'>\n",
       "  <div class=\"bk-root\" id=\"a2057870-f12e-4a42-91a7-7a3b139549f4\" data-root-id=\"1268\"></div>\n",
       "</div>\n",
       "<script type=\"application/javascript\">(function(root) {\n",
       "  function embed_document(root) {\n",
       "    var docs_json = {\"8dda71bd-9cf3-4012-b492-03841f70e42c\":{\"defs\":[{\"extends\":null,\"module\":null,\"name\":\"ReactiveHTML1\",\"overrides\":[],\"properties\":[]},{\"extends\":null,\"module\":null,\"name\":\"FlexBox1\",\"overrides\":[],\"properties\":[{\"default\":\"flex-start\",\"kind\":null,\"name\":\"align_content\"},{\"default\":\"flex-start\",\"kind\":null,\"name\":\"align_items\"},{\"default\":\"row\",\"kind\":null,\"name\":\"flex_direction\"},{\"default\":\"wrap\",\"kind\":null,\"name\":\"flex_wrap\"},{\"default\":\"flex-start\",\"kind\":null,\"name\":\"justify_content\"}]},{\"extends\":null,\"module\":null,\"name\":\"GridStack1\",\"overrides\":[],\"properties\":[{\"default\":\"warn\",\"kind\":null,\"name\":\"mode\"},{\"default\":null,\"kind\":null,\"name\":\"ncols\"},{\"default\":null,\"kind\":null,\"name\":\"nrows\"},{\"default\":true,\"kind\":null,\"name\":\"allow_resize\"},{\"default\":true,\"kind\":null,\"name\":\"allow_drag\"},{\"default\":[],\"kind\":null,\"name\":\"state\"}]},{\"extends\":null,\"module\":null,\"name\":\"click1\",\"overrides\":[],\"properties\":[{\"default\":\"\",\"kind\":null,\"name\":\"terminal_output\"},{\"default\":\"\",\"kind\":null,\"name\":\"debug_name\"},{\"default\":0,\"kind\":null,\"name\":\"clears\"}]},{\"extends\":null,\"module\":null,\"name\":\"NotificationAreaBase1\",\"overrides\":[],\"properties\":[{\"default\":\"bottom-right\",\"kind\":null,\"name\":\"position\"},{\"default\":0,\"kind\":null,\"name\":\"_clear\"}]},{\"extends\":null,\"module\":null,\"name\":\"NotificationArea1\",\"overrides\":[],\"properties\":[{\"default\":[],\"kind\":null,\"name\":\"notifications\"},{\"default\":\"bottom-right\",\"kind\":null,\"name\":\"position\"},{\"default\":0,\"kind\":null,\"name\":\"_clear\"},{\"default\":[{\"background\":\"#ffc107\",\"icon\":{\"className\":\"fas fa-exclamation-triangle\",\"color\":\"white\",\"tagName\":\"i\"},\"type\":\"warning\"},{\"background\":\"#007bff\",\"icon\":{\"className\":\"fas fa-info-circle\",\"color\":\"white\",\"tagName\":\"i\"},\"type\":\"info\"}],\"kind\":null,\"name\":\"types\"}]},{\"extends\":null,\"module\":null,\"name\":\"Notification\",\"overrides\":[],\"properties\":[{\"default\":null,\"kind\":null,\"name\":\"background\"},{\"default\":3000,\"kind\":null,\"name\":\"duration\"},{\"default\":null,\"kind\":null,\"name\":\"icon\"},{\"default\":\"\",\"kind\":null,\"name\":\"message\"},{\"default\":null,\"kind\":null,\"name\":\"notification_type\"},{\"default\":false,\"kind\":null,\"name\":\"_destroyed\"}]},{\"extends\":null,\"module\":null,\"name\":\"TemplateActions1\",\"overrides\":[],\"properties\":[{\"default\":0,\"kind\":null,\"name\":\"open_modal\"},{\"default\":0,\"kind\":null,\"name\":\"close_modal\"}]},{\"extends\":null,\"module\":null,\"name\":\"MaterialTemplateActions1\",\"overrides\":[],\"properties\":[{\"default\":0,\"kind\":null,\"name\":\"open_modal\"},{\"default\":0,\"kind\":null,\"name\":\"close_modal\"}]}],\"roots\":{\"references\":[{\"attributes\":{\"css_classes\":[\"markdown\"],\"margin\":[5,5,5,5],\"name\":\"ParamFunction01018\",\"text\":\"&lt;h3&gt;Liiklus\\u00f5nnetuste statistika ajavahemikul&lt;/h3&gt;\"},\"id\":\"1273\",\"type\":\"panel.models.markup.HTML\"},{\"attributes\":{\"children\":[{\"id\":\"1288\"}],\"margin\":[0,0,0,0],\"name\":\"Row01047\"},\"id\":\"1286\",\"type\":\"Row\"},{\"attributes\":{},\"id\":\"1293\",\"type\":\"UnionRenderers\"},{\"attributes\":{\"children\":[{\"id\":\"1272\"},{\"id\":\"1274\"}],\"margin\":[0,0,0,0],\"name\":\"Row01025\"},\"id\":\"1271\",\"type\":\"Row\"},{\"attributes\":{\"children\":[{\"id\":\"1276\"}],\"margin\":[0,0,0,0],\"name\":\"Row01033\"},\"id\":\"1275\",\"type\":\"Row\"},{\"attributes\":{\"data\":[{\"alignmentgroup\":\"True\",\"hovertemplate\":\"1.0=%{x}<br>index=%{y}<extra></extra>\",\"legendgroup\":\"\",\"marker\":{\"color\":\"#636efa\",\"pattern\":{\"shape\":\"\"}},\"name\":\"\",\"offsetgroup\":\"\",\"orientation\":\"h\",\"showlegend\":false,\"textposition\":\"auto\",\"type\":\"bar\",\"xaxis\":\"x\",\"yaxis\":\"y\"}],\"data_sources\":[{\"id\":\"1287\"}],\"layout\":{\"barmode\":\"relative\",\"legend\":{\"tracegroupgap\":0},\"template\":{\"data\":{\"bar\":[{\"error_x\":{\"color\":\"#2a3f5f\"},\"error_y\":{\"color\":\"#2a3f5f\"},\"marker\":{\"line\":{\"color\":\"#E5ECF6\",\"width\":0.5},\"pattern\":{\"fillmode\":\"overlay\",\"size\":10,\"solidity\":0.2}},\"type\":\"bar\"}],\"barpolar\":[{\"marker\":{\"line\":{\"color\":\"#E5ECF6\",\"width\":0.5},\"pattern\":{\"fillmode\":\"overlay\",\"size\":10,\"solidity\":0.2}},\"type\":\"barpolar\"}],\"carpet\":[{\"aaxis\":{\"endlinecolor\":\"#2a3f5f\",\"gridcolor\":\"white\",\"linecolor\":\"white\",\"minorgridcolor\":\"white\",\"startlinecolor\":\"#2a3f5f\"},\"baxis\":{\"endlinecolor\":\"#2a3f5f\",\"gridcolor\":\"white\",\"linecolor\":\"white\",\"minorgridcolor\":\"white\",\"startlinecolor\":\"#2a3f5f\"},\"type\":\"carpet\"}],\"choropleth\":[{\"colorbar\":{\"outlinewidth\":0,\"ticks\":\"\"},\"type\":\"choropleth\"}],\"contour\":[{\"colorbar\":{\"outlinewidth\":0,\"ticks\":\"\"},\"colorscale\":[[0.0,\"#0d0887\"],[0.1111111111111111,\"#46039f\"],[0.2222222222222222,\"#7201a8\"],[0.3333333333333333,\"#9c179e\"],[0.4444444444444444,\"#bd3786\"],[0.5555555555555556,\"#d8576b\"],[0.6666666666666666,\"#ed7953\"],[0.7777777777777778,\"#fb9f3a\"],[0.8888888888888888,\"#fdca26\"],[1.0,\"#f0f921\"]],\"type\":\"contour\"}],\"contourcarpet\":[{\"colorbar\":{\"outlinewidth\":0,\"ticks\":\"\"},\"type\":\"contourcarpet\"}],\"heatmap\":[{\"colorbar\":{\"outlinewidth\":0,\"ticks\":\"\"},\"colorscale\":[[0.0,\"#0d0887\"],[0.1111111111111111,\"#46039f\"],[0.2222222222222222,\"#7201a8\"],[0.3333333333333333,\"#9c179e\"],[0.4444444444444444,\"#bd3786\"],[0.5555555555555556,\"#d8576b\"],[0.6666666666666666,\"#ed7953\"],[0.7777777777777778,\"#fb9f3a\"],[0.8888888888888888,\"#fdca26\"],[1.0,\"#f0f921\"]],\"type\":\"heatmap\"}],\"heatmapgl\":[{\"colorbar\":{\"outlinewidth\":0,\"ticks\":\"\"},\"colorscale\":[[0.0,\"#0d0887\"],[0.1111111111111111,\"#46039f\"],[0.2222222222222222,\"#7201a8\"],[0.3333333333333333,\"#9c179e\"],[0.4444444444444444,\"#bd3786\"],[0.5555555555555556,\"#d8576b\"],[0.6666666666666666,\"#ed7953\"],[0.7777777777777778,\"#fb9f3a\"],[0.8888888888888888,\"#fdca26\"],[1.0,\"#f0f921\"]],\"type\":\"heatmapgl\"}],\"histogram\":[{\"marker\":{\"pattern\":{\"fillmode\":\"overlay\",\"size\":10,\"solidity\":0.2}},\"type\":\"histogram\"}],\"histogram2d\":[{\"colorbar\":{\"outlinewidth\":0,\"ticks\":\"\"},\"colorscale\":[[0.0,\"#0d0887\"],[0.1111111111111111,\"#46039f\"],[0.2222222222222222,\"#7201a8\"],[0.3333333333333333,\"#9c179e\"],[0.4444444444444444,\"#bd3786\"],[0.5555555555555556,\"#d8576b\"],[0.6666666666666666,\"#ed7953\"],[0.7777777777777778,\"#fb9f3a\"],[0.8888888888888888,\"#fdca26\"],[1.0,\"#f0f921\"]],\"type\":\"histogram2d\"}],\"histogram2dcontour\":[{\"colorbar\":{\"outlinewidth\":0,\"ticks\":\"\"},\"colorscale\":[[0.0,\"#0d0887\"],[0.1111111111111111,\"#46039f\"],[0.2222222222222222,\"#7201a8\"],[0.3333333333333333,\"#9c179e\"],[0.4444444444444444,\"#bd3786\"],[0.5555555555555556,\"#d8576b\"],[0.6666666666666666,\"#ed7953\"],[0.7777777777777778,\"#fb9f3a\"],[0.8888888888888888,\"#fdca26\"],[1.0,\"#f0f921\"]],\"type\":\"histogram2dcontour\"}],\"mesh3d\":[{\"colorbar\":{\"outlinewidth\":0,\"ticks\":\"\"},\"type\":\"mesh3d\"}],\"parcoords\":[{\"line\":{\"colorbar\":{\"outlinewidth\":0,\"ticks\":\"\"}},\"type\":\"parcoords\"}],\"pie\":[{\"automargin\":true,\"type\":\"pie\"}],\"scatter\":[{\"fillpattern\":{\"fillmode\":\"overlay\",\"size\":10,\"solidity\":0.2},\"type\":\"scatter\"}],\"scatter3d\":[{\"line\":{\"colorbar\":{\"outlinewidth\":0,\"ticks\":\"\"}},\"marker\":{\"colorbar\":{\"outlinewidth\":0,\"ticks\":\"\"}},\"type\":\"scatter3d\"}],\"scattercarpet\":[{\"marker\":{\"colorbar\":{\"outlinewidth\":0,\"ticks\":\"\"}},\"type\":\"scattercarpet\"}],\"scattergeo\":[{\"marker\":{\"colorbar\":{\"outlinewidth\":0,\"ticks\":\"\"}},\"type\":\"scattergeo\"}],\"scattergl\":[{\"marker\":{\"colorbar\":{\"outlinewidth\":0,\"ticks\":\"\"}},\"type\":\"scattergl\"}],\"scattermapbox\":[{\"marker\":{\"colorbar\":{\"outlinewidth\":0,\"ticks\":\"\"}},\"type\":\"scattermapbox\"}],\"scatterpolar\":[{\"marker\":{\"colorbar\":{\"outlinewidth\":0,\"ticks\":\"\"}},\"type\":\"scatterpolar\"}],\"scatterpolargl\":[{\"marker\":{\"colorbar\":{\"outlinewidth\":0,\"ticks\":\"\"}},\"type\":\"scatterpolargl\"}],\"scatterternary\":[{\"marker\":{\"colorbar\":{\"outlinewidth\":0,\"ticks\":\"\"}},\"type\":\"scatterternary\"}],\"surface\":[{\"colorbar\":{\"outlinewidth\":0,\"ticks\":\"\"},\"colorscale\":[[0.0,\"#0d0887\"],[0.1111111111111111,\"#46039f\"],[0.2222222222222222,\"#7201a8\"],[0.3333333333333333,\"#9c179e\"],[0.4444444444444444,\"#bd3786\"],[0.5555555555555556,\"#d8576b\"],[0.6666666666666666,\"#ed7953\"],[0.7777777777777778,\"#fb9f3a\"],[0.8888888888888888,\"#fdca26\"],[1.0,\"#f0f921\"]],\"type\":\"surface\"}],\"table\":[{\"cells\":{\"fill\":{\"color\":\"#EBF0F8\"},\"line\":{\"color\":\"white\"}},\"header\":{\"fill\":{\"color\":\"#C8D4E3\"},\"line\":{\"color\":\"white\"}},\"type\":\"table\"}]},\"layout\":{\"annotationdefaults\":{\"arrowcolor\":\"#2a3f5f\",\"arrowhead\":0,\"arrowwidth\":1},\"autotypenumbers\":\"strict\",\"coloraxis\":{\"colorbar\":{\"outlinewidth\":0,\"ticks\":\"\"}},\"colorscale\":{\"diverging\":[[0,\"#8e0152\"],[0.1,\"#c51b7d\"],[0.2,\"#de77ae\"],[0.3,\"#f1b6da\"],[0.4,\"#fde0ef\"],[0.5,\"#f7f7f7\"],[0.6,\"#e6f5d0\"],[0.7,\"#b8e186\"],[0.8,\"#7fbc41\"],[0.9,\"#4d9221\"],[1,\"#276419\"]],\"sequential\":[[0.0,\"#0d0887\"],[0.1111111111111111,\"#46039f\"],[0.2222222222222222,\"#7201a8\"],[0.3333333333333333,\"#9c179e\"],[0.4444444444444444,\"#bd3786\"],[0.5555555555555556,\"#d8576b\"],[0.6666666666666666,\"#ed7953\"],[0.7777777777777778,\"#fb9f3a\"],[0.8888888888888888,\"#fdca26\"],[1.0,\"#f0f921\"]],\"sequentialminus\":[[0.0,\"#0d0887\"],[0.1111111111111111,\"#46039f\"],[0.2222222222222222,\"#7201a8\"],[0.3333333333333333,\"#9c179e\"],[0.4444444444444444,\"#bd3786\"],[0.5555555555555556,\"#d8576b\"],[0.6666666666666666,\"#ed7953\"],[0.7777777777777778,\"#fb9f3a\"],[0.8888888888888888,\"#fdca26\"],[1.0,\"#f0f921\"]]},\"colorway\":[\"#636efa\",\"#EF553B\",\"#00cc96\",\"#ab63fa\",\"#FFA15A\",\"#19d3f3\",\"#FF6692\",\"#B6E880\",\"#FF97FF\",\"#FECB52\"],\"font\":{\"color\":\"#2a3f5f\"},\"geo\":{\"bgcolor\":\"white\",\"lakecolor\":\"white\",\"landcolor\":\"#E5ECF6\",\"showlakes\":true,\"showland\":true,\"subunitcolor\":\"white\"},\"hoverlabel\":{\"align\":\"left\"},\"hovermode\":\"closest\",\"mapbox\":{\"style\":\"light\"},\"paper_bgcolor\":\"white\",\"plot_bgcolor\":\"#E5ECF6\",\"polar\":{\"angularaxis\":{\"gridcolor\":\"white\",\"linecolor\":\"white\",\"ticks\":\"\"},\"bgcolor\":\"#E5ECF6\",\"radialaxis\":{\"gridcolor\":\"white\",\"linecolor\":\"white\",\"ticks\":\"\"}},\"scene\":{\"xaxis\":{\"backgroundcolor\":\"#E5ECF6\",\"gridcolor\":\"white\",\"gridwidth\":2,\"linecolor\":\"white\",\"showbackground\":true,\"ticks\":\"\",\"zerolinecolor\":\"white\"},\"yaxis\":{\"backgroundcolor\":\"#E5ECF6\",\"gridcolor\":\"white\",\"gridwidth\":2,\"linecolor\":\"white\",\"showbackground\":true,\"ticks\":\"\",\"zerolinecolor\":\"white\"},\"zaxis\":{\"backgroundcolor\":\"#E5ECF6\",\"gridcolor\":\"white\",\"gridwidth\":2,\"linecolor\":\"white\",\"showbackground\":true,\"ticks\":\"\",\"zerolinecolor\":\"white\"}},\"shapedefaults\":{\"line\":{\"color\":\"#2a3f5f\"}},\"ternary\":{\"aaxis\":{\"gridcolor\":\"white\",\"linecolor\":\"white\",\"ticks\":\"\"},\"baxis\":{\"gridcolor\":\"white\",\"linecolor\":\"white\",\"ticks\":\"\"},\"bgcolor\":\"#E5ECF6\",\"caxis\":{\"gridcolor\":\"white\",\"linecolor\":\"white\",\"ticks\":\"\"}},\"title\":{\"x\":0.05},\"xaxis\":{\"automargin\":true,\"gridcolor\":\"white\",\"linecolor\":\"white\",\"ticks\":\"\",\"title\":{\"standoff\":15},\"zerolinecolor\":\"white\",\"zerolinewidth\":2},\"yaxis\":{\"automargin\":true,\"gridcolor\":\"white\",\"linecolor\":\"white\",\"ticks\":\"\",\"title\":{\"standoff\":15},\"zerolinecolor\":\"white\",\"zerolinewidth\":2}}},\"title\":{\"text\":\"\\u00d5nnetuses osalejad\"},\"xaxis\":{\"anchor\":\"y\",\"domain\":[0.0,1.0],\"title\":{\"text\":\"Kokku\"}},\"yaxis\":{\"anchor\":\"x\",\"domain\":[0.0,1.0],\"title\":{\"text\":\"\"}}},\"margin\":[5,5,5,5],\"name\":\"ParamFunction01043\",\"viewport_update_throttle\":200},\"id\":\"1288\",\"type\":\"panel.models.plotly.PlotlyPlot\"},{\"attributes\":{},\"id\":\"1294\",\"type\":\"Selection\"},{\"attributes\":{\"data\":[{\"alignmentgroup\":\"True\",\"hovertemplate\":\"Aasta=%{x}<br>\\u00d5nnetuste arv=%{y}<extra></extra>\",\"legendgroup\":\"\",\"marker\":{\"color\":\"#636efa\",\"pattern\":{\"shape\":\"\"}},\"name\":\"\",\"offsetgroup\":\"\",\"orientation\":\"v\",\"showlegend\":false,\"textposition\":\"auto\",\"type\":\"bar\",\"xaxis\":\"x\",\"yaxis\":\"y\"}],\"data_sources\":[{\"id\":\"1282\"}],\"layout\":{\"barmode\":\"relative\",\"legend\":{\"tracegroupgap\":0},\"template\":{\"data\":{\"bar\":[{\"error_x\":{\"color\":\"#2a3f5f\"},\"error_y\":{\"color\":\"#2a3f5f\"},\"marker\":{\"line\":{\"color\":\"#E5ECF6\",\"width\":0.5},\"pattern\":{\"fillmode\":\"overlay\",\"size\":10,\"solidity\":0.2}},\"type\":\"bar\"}],\"barpolar\":[{\"marker\":{\"line\":{\"color\":\"#E5ECF6\",\"width\":0.5},\"pattern\":{\"fillmode\":\"overlay\",\"size\":10,\"solidity\":0.2}},\"type\":\"barpolar\"}],\"carpet\":[{\"aaxis\":{\"endlinecolor\":\"#2a3f5f\",\"gridcolor\":\"white\",\"linecolor\":\"white\",\"minorgridcolor\":\"white\",\"startlinecolor\":\"#2a3f5f\"},\"baxis\":{\"endlinecolor\":\"#2a3f5f\",\"gridcolor\":\"white\",\"linecolor\":\"white\",\"minorgridcolor\":\"white\",\"startlinecolor\":\"#2a3f5f\"},\"type\":\"carpet\"}],\"choropleth\":[{\"colorbar\":{\"outlinewidth\":0,\"ticks\":\"\"},\"type\":\"choropleth\"}],\"contour\":[{\"colorbar\":{\"outlinewidth\":0,\"ticks\":\"\"},\"colorscale\":[[0.0,\"#0d0887\"],[0.1111111111111111,\"#46039f\"],[0.2222222222222222,\"#7201a8\"],[0.3333333333333333,\"#9c179e\"],[0.4444444444444444,\"#bd3786\"],[0.5555555555555556,\"#d8576b\"],[0.6666666666666666,\"#ed7953\"],[0.7777777777777778,\"#fb9f3a\"],[0.8888888888888888,\"#fdca26\"],[1.0,\"#f0f921\"]],\"type\":\"contour\"}],\"contourcarpet\":[{\"colorbar\":{\"outlinewidth\":0,\"ticks\":\"\"},\"type\":\"contourcarpet\"}],\"heatmap\":[{\"colorbar\":{\"outlinewidth\":0,\"ticks\":\"\"},\"colorscale\":[[0.0,\"#0d0887\"],[0.1111111111111111,\"#46039f\"],[0.2222222222222222,\"#7201a8\"],[0.3333333333333333,\"#9c179e\"],[0.4444444444444444,\"#bd3786\"],[0.5555555555555556,\"#d8576b\"],[0.6666666666666666,\"#ed7953\"],[0.7777777777777778,\"#fb9f3a\"],[0.8888888888888888,\"#fdca26\"],[1.0,\"#f0f921\"]],\"type\":\"heatmap\"}],\"heatmapgl\":[{\"colorbar\":{\"outlinewidth\":0,\"ticks\":\"\"},\"colorscale\":[[0.0,\"#0d0887\"],[0.1111111111111111,\"#46039f\"],[0.2222222222222222,\"#7201a8\"],[0.3333333333333333,\"#9c179e\"],[0.4444444444444444,\"#bd3786\"],[0.5555555555555556,\"#d8576b\"],[0.6666666666666666,\"#ed7953\"],[0.7777777777777778,\"#fb9f3a\"],[0.8888888888888888,\"#fdca26\"],[1.0,\"#f0f921\"]],\"type\":\"heatmapgl\"}],\"histogram\":[{\"marker\":{\"pattern\":{\"fillmode\":\"overlay\",\"size\":10,\"solidity\":0.2}},\"type\":\"histogram\"}],\"histogram2d\":[{\"colorbar\":{\"outlinewidth\":0,\"ticks\":\"\"},\"colorscale\":[[0.0,\"#0d0887\"],[0.1111111111111111,\"#46039f\"],[0.2222222222222222,\"#7201a8\"],[0.3333333333333333,\"#9c179e\"],[0.4444444444444444,\"#bd3786\"],[0.5555555555555556,\"#d8576b\"],[0.6666666666666666,\"#ed7953\"],[0.7777777777777778,\"#fb9f3a\"],[0.8888888888888888,\"#fdca26\"],[1.0,\"#f0f921\"]],\"type\":\"histogram2d\"}],\"histogram2dcontour\":[{\"colorbar\":{\"outlinewidth\":0,\"ticks\":\"\"},\"colorscale\":[[0.0,\"#0d0887\"],[0.1111111111111111,\"#46039f\"],[0.2222222222222222,\"#7201a8\"],[0.3333333333333333,\"#9c179e\"],[0.4444444444444444,\"#bd3786\"],[0.5555555555555556,\"#d8576b\"],[0.6666666666666666,\"#ed7953\"],[0.7777777777777778,\"#fb9f3a\"],[0.8888888888888888,\"#fdca26\"],[1.0,\"#f0f921\"]],\"type\":\"histogram2dcontour\"}],\"mesh3d\":[{\"colorbar\":{\"outlinewidth\":0,\"ticks\":\"\"},\"type\":\"mesh3d\"}],\"parcoords\":[{\"line\":{\"colorbar\":{\"outlinewidth\":0,\"ticks\":\"\"}},\"type\":\"parcoords\"}],\"pie\":[{\"automargin\":true,\"type\":\"pie\"}],\"scatter\":[{\"fillpattern\":{\"fillmode\":\"overlay\",\"size\":10,\"solidity\":0.2},\"type\":\"scatter\"}],\"scatter3d\":[{\"line\":{\"colorbar\":{\"outlinewidth\":0,\"ticks\":\"\"}},\"marker\":{\"colorbar\":{\"outlinewidth\":0,\"ticks\":\"\"}},\"type\":\"scatter3d\"}],\"scattercarpet\":[{\"marker\":{\"colorbar\":{\"outlinewidth\":0,\"ticks\":\"\"}},\"type\":\"scattercarpet\"}],\"scattergeo\":[{\"marker\":{\"colorbar\":{\"outlinewidth\":0,\"ticks\":\"\"}},\"type\":\"scattergeo\"}],\"scattergl\":[{\"marker\":{\"colorbar\":{\"outlinewidth\":0,\"ticks\":\"\"}},\"type\":\"scattergl\"}],\"scattermapbox\":[{\"marker\":{\"colorbar\":{\"outlinewidth\":0,\"ticks\":\"\"}},\"type\":\"scattermapbox\"}],\"scatterpolar\":[{\"marker\":{\"colorbar\":{\"outlinewidth\":0,\"ticks\":\"\"}},\"type\":\"scatterpolar\"}],\"scatterpolargl\":[{\"marker\":{\"colorbar\":{\"outlinewidth\":0,\"ticks\":\"\"}},\"type\":\"scatterpolargl\"}],\"scatterternary\":[{\"marker\":{\"colorbar\":{\"outlinewidth\":0,\"ticks\":\"\"}},\"type\":\"scatterternary\"}],\"surface\":[{\"colorbar\":{\"outlinewidth\":0,\"ticks\":\"\"},\"colorscale\":[[0.0,\"#0d0887\"],[0.1111111111111111,\"#46039f\"],[0.2222222222222222,\"#7201a8\"],[0.3333333333333333,\"#9c179e\"],[0.4444444444444444,\"#bd3786\"],[0.5555555555555556,\"#d8576b\"],[0.6666666666666666,\"#ed7953\"],[0.7777777777777778,\"#fb9f3a\"],[0.8888888888888888,\"#fdca26\"],[1.0,\"#f0f921\"]],\"type\":\"surface\"}],\"table\":[{\"cells\":{\"fill\":{\"color\":\"#EBF0F8\"},\"line\":{\"color\":\"white\"}},\"header\":{\"fill\":{\"color\":\"#C8D4E3\"},\"line\":{\"color\":\"white\"}},\"type\":\"table\"}]},\"layout\":{\"annotationdefaults\":{\"arrowcolor\":\"#2a3f5f\",\"arrowhead\":0,\"arrowwidth\":1},\"autotypenumbers\":\"strict\",\"coloraxis\":{\"colorbar\":{\"outlinewidth\":0,\"ticks\":\"\"}},\"colorscale\":{\"diverging\":[[0,\"#8e0152\"],[0.1,\"#c51b7d\"],[0.2,\"#de77ae\"],[0.3,\"#f1b6da\"],[0.4,\"#fde0ef\"],[0.5,\"#f7f7f7\"],[0.6,\"#e6f5d0\"],[0.7,\"#b8e186\"],[0.8,\"#7fbc41\"],[0.9,\"#4d9221\"],[1,\"#276419\"]],\"sequential\":[[0.0,\"#0d0887\"],[0.1111111111111111,\"#46039f\"],[0.2222222222222222,\"#7201a8\"],[0.3333333333333333,\"#9c179e\"],[0.4444444444444444,\"#bd3786\"],[0.5555555555555556,\"#d8576b\"],[0.6666666666666666,\"#ed7953\"],[0.7777777777777778,\"#fb9f3a\"],[0.8888888888888888,\"#fdca26\"],[1.0,\"#f0f921\"]],\"sequentialminus\":[[0.0,\"#0d0887\"],[0.1111111111111111,\"#46039f\"],[0.2222222222222222,\"#7201a8\"],[0.3333333333333333,\"#9c179e\"],[0.4444444444444444,\"#bd3786\"],[0.5555555555555556,\"#d8576b\"],[0.6666666666666666,\"#ed7953\"],[0.7777777777777778,\"#fb9f3a\"],[0.8888888888888888,\"#fdca26\"],[1.0,\"#f0f921\"]]},\"colorway\":[\"#636efa\",\"#EF553B\",\"#00cc96\",\"#ab63fa\",\"#FFA15A\",\"#19d3f3\",\"#FF6692\",\"#B6E880\",\"#FF97FF\",\"#FECB52\"],\"font\":{\"color\":\"#2a3f5f\"},\"geo\":{\"bgcolor\":\"white\",\"lakecolor\":\"white\",\"landcolor\":\"#E5ECF6\",\"showlakes\":true,\"showland\":true,\"subunitcolor\":\"white\"},\"hoverlabel\":{\"align\":\"left\"},\"hovermode\":\"closest\",\"mapbox\":{\"style\":\"light\"},\"paper_bgcolor\":\"white\",\"plot_bgcolor\":\"#E5ECF6\",\"polar\":{\"angularaxis\":{\"gridcolor\":\"white\",\"linecolor\":\"white\",\"ticks\":\"\"},\"bgcolor\":\"#E5ECF6\",\"radialaxis\":{\"gridcolor\":\"white\",\"linecolor\":\"white\",\"ticks\":\"\"}},\"scene\":{\"xaxis\":{\"backgroundcolor\":\"#E5ECF6\",\"gridcolor\":\"white\",\"gridwidth\":2,\"linecolor\":\"white\",\"showbackground\":true,\"ticks\":\"\",\"zerolinecolor\":\"white\"},\"yaxis\":{\"backgroundcolor\":\"#E5ECF6\",\"gridcolor\":\"white\",\"gridwidth\":2,\"linecolor\":\"white\",\"showbackground\":true,\"ticks\":\"\",\"zerolinecolor\":\"white\"},\"zaxis\":{\"backgroundcolor\":\"#E5ECF6\",\"gridcolor\":\"white\",\"gridwidth\":2,\"linecolor\":\"white\",\"showbackground\":true,\"ticks\":\"\",\"zerolinecolor\":\"white\"}},\"shapedefaults\":{\"line\":{\"color\":\"#2a3f5f\"}},\"ternary\":{\"aaxis\":{\"gridcolor\":\"white\",\"linecolor\":\"white\",\"ticks\":\"\"},\"baxis\":{\"gridcolor\":\"white\",\"linecolor\":\"white\",\"ticks\":\"\"},\"bgcolor\":\"#E5ECF6\",\"caxis\":{\"gridcolor\":\"white\",\"linecolor\":\"white\",\"ticks\":\"\"}},\"title\":{\"x\":0.05},\"xaxis\":{\"automargin\":true,\"gridcolor\":\"white\",\"linecolor\":\"white\",\"ticks\":\"\",\"title\":{\"standoff\":15},\"zerolinecolor\":\"white\",\"zerolinewidth\":2},\"yaxis\":{\"automargin\":true,\"gridcolor\":\"white\",\"linecolor\":\"white\",\"ticks\":\"\",\"title\":{\"standoff\":15},\"zerolinecolor\":\"white\",\"zerolinewidth\":2}}},\"title\":{\"text\":\"\\u00d5nnetusi aasta kaupa\"},\"xaxis\":{\"anchor\":\"y\",\"domain\":[0.0,1.0],\"title\":{\"text\":\"Aasta\"}},\"yaxis\":{\"anchor\":\"x\",\"domain\":[0.0,1.0],\"title\":{\"text\":\"\\u00d5nnetuste arv\"}}},\"margin\":[5,5,5,5],\"name\":\"ParamFunction01034\",\"viewport_update_throttle\":200},\"id\":\"1283\",\"type\":\"panel.models.plotly.PlotlyPlot\"},{\"attributes\":{\"active\":0,\"labels\":[\"Aastad\",\"Kuud\",\"P\\u00e4evad\",\"Tunnid\"],\"margin\":[5,10,5,10],\"orientation\":\"vertical\"},\"id\":\"1280\",\"type\":\"RadioButtonGroup\"},{\"attributes\":{\"children\":[{\"id\":\"1285\"}],\"margin\":[0,0,0,0],\"name\":\"Column01051\"},\"id\":\"1284\",\"type\":\"Column\"},{\"attributes\":{\"data\":{\"x\":[[87,214,494,727,869,892,1134,1385,1531,1555,2007,2298,3217,3413,9757,11886]],\"y\":[[\"Maastikus\\u00f5iduki juhi osalusel\",\"Kergliikurijuhi osalusel\",\"Mopeedijuhi osalusel\",\"Bussijuhi osalusel\",\"\\u00dchiss\\u00f5idukijuhi osalusel\",\"Mootorratturi osalusel\",\"Esmase juhiloa omaniku osalusel\",\"Veoautojuhi osalusel\",\"Turvavarustust mitte kasutanud isiku osalusel\",\"Eaka (65+) mootors\\u00f5idukijuhi osalusel\",\"Jalgratturi osalusel\",\"Alaealise osalusel\",\"Jalak\\u00e4ija osalusel\",\"Kaass\\u00f5itja osalusel\",\"S\\u00f5iduautojuhi osalusel\",\"Mootors\\u00f5idukijuhi osalusel\"]]},\"selected\":{\"id\":\"1294\"},\"selection_policy\":{\"id\":\"1293\"}},\"id\":\"1287\",\"type\":\"ColumnDataSource\"},{\"attributes\":{\"children\":[{\"id\":\"1286\"}],\"margin\":[0,0,0,0],\"name\":\"Row01050\"},\"id\":\"1285\",\"type\":\"Row\"},{\"attributes\":{\"children\":[{\"id\":\"1271\"},{\"id\":\"1275\"},{\"id\":\"1279\"}],\"margin\":[0,0,0,0],\"name\":\"Column01042\",\"sizing_mode\":\"stretch_width\"},\"id\":\"1270\",\"type\":\"Column\"},{\"attributes\":{\"children\":[{\"id\":\"1269\"}],\"css_classes\":[\"panel-widget-box\"],\"margin\":[5,5,5,5],\"name\":\"WidgetBox01053\"},\"id\":\"1268\",\"type\":\"Column\"},{\"attributes\":{\"children\":[{\"id\":\"1270\"},{\"id\":\"1284\"}],\"margin\":[0,0,0,0],\"name\":\"Row01052\"},\"id\":\"1269\",\"type\":\"Row\"},{\"attributes\":{\"children\":[{\"id\":\"1283\"}],\"margin\":[0,0,0,0],\"name\":\"Row01038\"},\"id\":\"1281\",\"type\":\"Row\"},{\"attributes\":{\"end\":1640994300000.0,\"margin\":[5,10,5,10],\"start\":1294185600000.0,\"step\":10000,\"title\":\"Ajavahemik\",\"value\":[1294185600000.0,1640994300000.0]},\"id\":\"1274\",\"type\":\"DateRangeSlider\"},{\"attributes\":{\"children\":[{\"id\":\"1278\"}],\"margin\":[0,0,0,0],\"name\":\"Row01030\"},\"id\":\"1276\",\"type\":\"Row\"},{\"attributes\":{\"data\":{\"x\":[{\"__ndarray__\":\"2wcAANwHAADdBwAA3gcAAN8HAADgBwAA4QcAAOIHAADjBwAA5AcAAOUHAAA=\",\"dtype\":\"int32\",\"order\":\"little\",\"shape\":[11]}],\"y\":[[362,1248,1251,1265,1246,1364,1278,1354,1319,1280,1492]]},\"selected\":{\"id\":\"1292\"},\"selection_policy\":{\"id\":\"1291\"}},\"id\":\"1282\",\"type\":\"ColumnDataSource\"},{\"attributes\":{},\"id\":\"1289\",\"type\":\"UnionRenderers\"},{\"attributes\":{\"data\":[{\"hovertemplate\":\"lat=%{lat}<br>lon=%{lon}<extra></extra>\",\"legendgroup\":\"\",\"marker\":{\"color\":\"#636efa\"},\"mode\":\"markers\",\"name\":\"\",\"showlegend\":false,\"subplot\":\"mapbox\",\"type\":\"scattermapbox\"}],\"data_sources\":[{\"id\":\"1277\"}],\"layout\":{\"height\":600,\"legend\":{\"tracegroupgap\":0},\"mapbox\":{\"center\":{\"lat\":58.970824436264586,\"lon\":25.3924791589749},\"domain\":{\"x\":[0.0,1.0],\"y\":[0.0,1.0]},\"style\":\"open-street-map\",\"zoom\":6.5},\"margin\":{\"b\":0,\"l\":0,\"r\":0,\"t\":0},\"template\":{\"data\":{\"bar\":[{\"error_x\":{\"color\":\"#2a3f5f\"},\"error_y\":{\"color\":\"#2a3f5f\"},\"marker\":{\"line\":{\"color\":\"#E5ECF6\",\"width\":0.5},\"pattern\":{\"fillmode\":\"overlay\",\"size\":10,\"solidity\":0.2}},\"type\":\"bar\"}],\"barpolar\":[{\"marker\":{\"line\":{\"color\":\"#E5ECF6\",\"width\":0.5},\"pattern\":{\"fillmode\":\"overlay\",\"size\":10,\"solidity\":0.2}},\"type\":\"barpolar\"}],\"carpet\":[{\"aaxis\":{\"endlinecolor\":\"#2a3f5f\",\"gridcolor\":\"white\",\"linecolor\":\"white\",\"minorgridcolor\":\"white\",\"startlinecolor\":\"#2a3f5f\"},\"baxis\":{\"endlinecolor\":\"#2a3f5f\",\"gridcolor\":\"white\",\"linecolor\":\"white\",\"minorgridcolor\":\"white\",\"startlinecolor\":\"#2a3f5f\"},\"type\":\"carpet\"}],\"choropleth\":[{\"colorbar\":{\"outlinewidth\":0,\"ticks\":\"\"},\"type\":\"choropleth\"}],\"contour\":[{\"colorbar\":{\"outlinewidth\":0,\"ticks\":\"\"},\"colorscale\":[[0.0,\"#0d0887\"],[0.1111111111111111,\"#46039f\"],[0.2222222222222222,\"#7201a8\"],[0.3333333333333333,\"#9c179e\"],[0.4444444444444444,\"#bd3786\"],[0.5555555555555556,\"#d8576b\"],[0.6666666666666666,\"#ed7953\"],[0.7777777777777778,\"#fb9f3a\"],[0.8888888888888888,\"#fdca26\"],[1.0,\"#f0f921\"]],\"type\":\"contour\"}],\"contourcarpet\":[{\"colorbar\":{\"outlinewidth\":0,\"ticks\":\"\"},\"type\":\"contourcarpet\"}],\"heatmap\":[{\"colorbar\":{\"outlinewidth\":0,\"ticks\":\"\"},\"colorscale\":[[0.0,\"#0d0887\"],[0.1111111111111111,\"#46039f\"],[0.2222222222222222,\"#7201a8\"],[0.3333333333333333,\"#9c179e\"],[0.4444444444444444,\"#bd3786\"],[0.5555555555555556,\"#d8576b\"],[0.6666666666666666,\"#ed7953\"],[0.7777777777777778,\"#fb9f3a\"],[0.8888888888888888,\"#fdca26\"],[1.0,\"#f0f921\"]],\"type\":\"heatmap\"}],\"heatmapgl\":[{\"colorbar\":{\"outlinewidth\":0,\"ticks\":\"\"},\"colorscale\":[[0.0,\"#0d0887\"],[0.1111111111111111,\"#46039f\"],[0.2222222222222222,\"#7201a8\"],[0.3333333333333333,\"#9c179e\"],[0.4444444444444444,\"#bd3786\"],[0.5555555555555556,\"#d8576b\"],[0.6666666666666666,\"#ed7953\"],[0.7777777777777778,\"#fb9f3a\"],[0.8888888888888888,\"#fdca26\"],[1.0,\"#f0f921\"]],\"type\":\"heatmapgl\"}],\"histogram\":[{\"marker\":{\"pattern\":{\"fillmode\":\"overlay\",\"size\":10,\"solidity\":0.2}},\"type\":\"histogram\"}],\"histogram2d\":[{\"colorbar\":{\"outlinewidth\":0,\"ticks\":\"\"},\"colorscale\":[[0.0,\"#0d0887\"],[0.1111111111111111,\"#46039f\"],[0.2222222222222222,\"#7201a8\"],[0.3333333333333333,\"#9c179e\"],[0.4444444444444444,\"#bd3786\"],[0.5555555555555556,\"#d8576b\"],[0.6666666666666666,\"#ed7953\"],[0.7777777777777778,\"#fb9f3a\"],[0.8888888888888888,\"#fdca26\"],[1.0,\"#f0f921\"]],\"type\":\"histogram2d\"}],\"histogram2dcontour\":[{\"colorbar\":{\"outlinewidth\":0,\"ticks\":\"\"},\"colorscale\":[[0.0,\"#0d0887\"],[0.1111111111111111,\"#46039f\"],[0.2222222222222222,\"#7201a8\"],[0.3333333333333333,\"#9c179e\"],[0.4444444444444444,\"#bd3786\"],[0.5555555555555556,\"#d8576b\"],[0.6666666666666666,\"#ed7953\"],[0.7777777777777778,\"#fb9f3a\"],[0.8888888888888888,\"#fdca26\"],[1.0,\"#f0f921\"]],\"type\":\"histogram2dcontour\"}],\"mesh3d\":[{\"colorbar\":{\"outlinewidth\":0,\"ticks\":\"\"},\"type\":\"mesh3d\"}],\"parcoords\":[{\"line\":{\"colorbar\":{\"outlinewidth\":0,\"ticks\":\"\"}},\"type\":\"parcoords\"}],\"pie\":[{\"automargin\":true,\"type\":\"pie\"}],\"scatter\":[{\"fillpattern\":{\"fillmode\":\"overlay\",\"size\":10,\"solidity\":0.2},\"type\":\"scatter\"}],\"scatter3d\":[{\"line\":{\"colorbar\":{\"outlinewidth\":0,\"ticks\":\"\"}},\"marker\":{\"colorbar\":{\"outlinewidth\":0,\"ticks\":\"\"}},\"type\":\"scatter3d\"}],\"scattercarpet\":[{\"marker\":{\"colorbar\":{\"outlinewidth\":0,\"ticks\":\"\"}},\"type\":\"scattercarpet\"}],\"scattergeo\":[{\"marker\":{\"colorbar\":{\"outlinewidth\":0,\"ticks\":\"\"}},\"type\":\"scattergeo\"}],\"scattergl\":[{\"marker\":{\"colorbar\":{\"outlinewidth\":0,\"ticks\":\"\"}},\"type\":\"scattergl\"}],\"scattermapbox\":[{\"marker\":{\"colorbar\":{\"outlinewidth\":0,\"ticks\":\"\"}},\"type\":\"scattermapbox\"}],\"scatterpolar\":[{\"marker\":{\"colorbar\":{\"outlinewidth\":0,\"ticks\":\"\"}},\"type\":\"scatterpolar\"}],\"scatterpolargl\":[{\"marker\":{\"colorbar\":{\"outlinewidth\":0,\"ticks\":\"\"}},\"type\":\"scatterpolargl\"}],\"scatterternary\":[{\"marker\":{\"colorbar\":{\"outlinewidth\":0,\"ticks\":\"\"}},\"type\":\"scatterternary\"}],\"surface\":[{\"colorbar\":{\"outlinewidth\":0,\"ticks\":\"\"},\"colorscale\":[[0.0,\"#0d0887\"],[0.1111111111111111,\"#46039f\"],[0.2222222222222222,\"#7201a8\"],[0.3333333333333333,\"#9c179e\"],[0.4444444444444444,\"#bd3786\"],[0.5555555555555556,\"#d8576b\"],[0.6666666666666666,\"#ed7953\"],[0.7777777777777778,\"#fb9f3a\"],[0.8888888888888888,\"#fdca26\"],[1.0,\"#f0f921\"]],\"type\":\"surface\"}],\"table\":[{\"cells\":{\"fill\":{\"color\":\"#EBF0F8\"},\"line\":{\"color\":\"white\"}},\"header\":{\"fill\":{\"color\":\"#C8D4E3\"},\"line\":{\"color\":\"white\"}},\"type\":\"table\"}]},\"layout\":{\"annotationdefaults\":{\"arrowcolor\":\"#2a3f5f\",\"arrowhead\":0,\"arrowwidth\":1},\"autotypenumbers\":\"strict\",\"coloraxis\":{\"colorbar\":{\"outlinewidth\":0,\"ticks\":\"\"}},\"colorscale\":{\"diverging\":[[0,\"#8e0152\"],[0.1,\"#c51b7d\"],[0.2,\"#de77ae\"],[0.3,\"#f1b6da\"],[0.4,\"#fde0ef\"],[0.5,\"#f7f7f7\"],[0.6,\"#e6f5d0\"],[0.7,\"#b8e186\"],[0.8,\"#7fbc41\"],[0.9,\"#4d9221\"],[1,\"#276419\"]],\"sequential\":[[0.0,\"#0d0887\"],[0.1111111111111111,\"#46039f\"],[0.2222222222222222,\"#7201a8\"],[0.3333333333333333,\"#9c179e\"],[0.4444444444444444,\"#bd3786\"],[0.5555555555555556,\"#d8576b\"],[0.6666666666666666,\"#ed7953\"],[0.7777777777777778,\"#fb9f3a\"],[0.8888888888888888,\"#fdca26\"],[1.0,\"#f0f921\"]],\"sequentialminus\":[[0.0,\"#0d0887\"],[0.1111111111111111,\"#46039f\"],[0.2222222222222222,\"#7201a8\"],[0.3333333333333333,\"#9c179e\"],[0.4444444444444444,\"#bd3786\"],[0.5555555555555556,\"#d8576b\"],[0.6666666666666666,\"#ed7953\"],[0.7777777777777778,\"#fb9f3a\"],[0.8888888888888888,\"#fdca26\"],[1.0,\"#f0f921\"]]},\"colorway\":[\"#636efa\",\"#EF553B\",\"#00cc96\",\"#ab63fa\",\"#FFA15A\",\"#19d3f3\",\"#FF6692\",\"#B6E880\",\"#FF97FF\",\"#FECB52\"],\"font\":{\"color\":\"#2a3f5f\"},\"geo\":{\"bgcolor\":\"white\",\"lakecolor\":\"white\",\"landcolor\":\"#E5ECF6\",\"showlakes\":true,\"showland\":true,\"subunitcolor\":\"white\"},\"hoverlabel\":{\"align\":\"left\"},\"hovermode\":\"closest\",\"mapbox\":{\"style\":\"light\"},\"paper_bgcolor\":\"white\",\"plot_bgcolor\":\"#E5ECF6\",\"polar\":{\"angularaxis\":{\"gridcolor\":\"white\",\"linecolor\":\"white\",\"ticks\":\"\"},\"bgcolor\":\"#E5ECF6\",\"radialaxis\":{\"gridcolor\":\"white\",\"linecolor\":\"white\",\"ticks\":\"\"}},\"scene\":{\"xaxis\":{\"backgroundcolor\":\"#E5ECF6\",\"gridcolor\":\"white\",\"gridwidth\":2,\"linecolor\":\"white\",\"showbackground\":true,\"ticks\":\"\",\"zerolinecolor\":\"white\"},\"yaxis\":{\"backgroundcolor\":\"#E5ECF6\",\"gridcolor\":\"white\",\"gridwidth\":2,\"linecolor\":\"white\",\"showbackground\":true,\"ticks\":\"\",\"zerolinecolor\":\"white\"},\"zaxis\":{\"backgroundcolor\":\"#E5ECF6\",\"gridcolor\":\"white\",\"gridwidth\":2,\"linecolor\":\"white\",\"showbackground\":true,\"ticks\":\"\",\"zerolinecolor\":\"white\"}},\"shapedefaults\":{\"line\":{\"color\":\"#2a3f5f\"}},\"ternary\":{\"aaxis\":{\"gridcolor\":\"white\",\"linecolor\":\"white\",\"ticks\":\"\"},\"baxis\":{\"gridcolor\":\"white\",\"linecolor\":\"white\",\"ticks\":\"\"},\"bgcolor\":\"#E5ECF6\",\"caxis\":{\"gridcolor\":\"white\",\"linecolor\":\"white\",\"ticks\":\"\"}},\"title\":{\"x\":0.05},\"xaxis\":{\"automargin\":true,\"gridcolor\":\"white\",\"linecolor\":\"white\",\"ticks\":\"\",\"title\":{\"standoff\":15},\"zerolinecolor\":\"white\",\"zerolinewidth\":2},\"yaxis\":{\"automargin\":true,\"gridcolor\":\"white\",\"linecolor\":\"white\",\"ticks\":\"\",\"title\":{\"standoff\":15},\"zerolinecolor\":\"white\",\"zerolinewidth\":2}}}},\"margin\":[5,5,5,5],\"name\":\"ParamFunction01026\",\"viewport_update_throttle\":200},\"id\":\"1278\",\"type\":\"panel.models.plotly.PlotlyPlot\"},{\"attributes\":{\"children\":[{\"id\":\"1273\"}],\"margin\":[0,0,0,0],\"name\":\"Row01022\"},\"id\":\"1272\",\"type\":\"Row\"},{\"attributes\":{\"client_comm_id\":\"e7a3c359f89c430b9c9d18f619e6033e\",\"comm_id\":\"d2de37c7634b4ca28cb50ed488f48073\",\"plot_id\":\"1268\"},\"id\":\"1307\",\"type\":\"panel.models.comm_manager.CommManager\"},{\"attributes\":{},\"id\":\"1290\",\"type\":\"Selection\"},{\"attributes\":{\"data\":{\"lat\":[{\"__ndarray__\":\"qZgWz11KTUCyZ3D7MLBNQMOW5pp28ExAua4bfb21TUBjW+FYSq1NQKze4lfrsU1AI3vMc6amTUCoexOTbTFNQIVWFfaIM01A/8xSO/FcTUDejUG5wJhNQPuKI2hpKU1Am7Y8XZuuTUBcOBXH/7dNQP/Qpd95tk1A+iCyL1m2TUAarOd+aKtNQIg8RAJsf01AqayonREvTUBEOc6YBDFNQI6gKijeLE1Aa01dHG25TUAmruVUvrZNQJXX7sAbMk1A/XyBhq2xTUAsUtMpd7JNQIGDLd2Jt01AMdrXuL2pTUB5I8ktajBNQOPSqKSoPE1A6I113G9nTUBnZeSG5jJNQIqI7fKUvU1Af/Br8tmwTUCZyTnZlrNNQCt9AOxMZU1AL5s251e1TUAI9ADZGLdNQAD/uq05FU1AOPG0Ynq4TUB7ULWivbdNQMi9k9RiKk1AMbVtuzZ4TUAJcUk280tNQAGqOSZaSk1ASacvfKU0TUBFOxexRy1NQGdQdstgEE1A5P72SbK2TUB3YemnTrdNQL7NXzT8f01AK0MVVO2zTUBbZIPiRrZNQEm0U8gInk1A1bEUnTy6TUDO7bXPIWhNQKuAf0rK60xA8NiQCj54TUCFYAf0oH9NQGKXkhDjEk1AIVBCQimmTUDYikfJMTBNQElW887krE1A6llFFpjkTECpXAIVlQVNQEjvcVPiL01Ap9s+yYm3TUDL8OOEmS9NQOjmM94BrU1ADu7RfwCtTUCzRqa/R3tNQHcxNuOLsU1AEch7TzsuTUBwV8CWj1hNQN9kKLustk1Ab3bMhkdVTUBJYLA5/69NQM98E6PhrE1AvZRSCyFuTUCNstHqBTFNQKzSZbGCs01A/nAFLP+0TUDmK9VzzS9NQBvQhyi9Lk1A023Ym+MuTUA3U5m28LVNQDp5B3Y7uk1ATYHk5i1/TUDd46pO8qhNQK8QUBeDs01AFacSqB8zTUB3Pm4+lx9NQHdDGDyjsk1AZ4OIZEswTUC5LKtAnLdNQIOEGQ6cRU1AaOJZA+srTUAYdr/2DrhNQC6m+23mp01A9/026Tl1TUCouMXCEZVNQOV0p/DGPU1AeqSUVz63TUCAgoENGbJNQCYg13pOe01AojNoWAp7TUC3N1hQ02lNQH8Ux7SpGE1ABA7QOtnrTEDiX3+1LRxNQM2uQBl/ME1AP2baH0q6TUAHF80yKblNQORKDnB+nE1AoGPTB824TUALhO/H8g9NQCCbqMelME1ANbxx4EIwTUCwojoNkXpNQAtwRyQctk1AqGkKWVysTUCt83YNNrFNQPZF+Ysxt01Al98L6QmxTUCs38Ft+RFNQALK+UEDuE1Ap35l8bipTUBVL4uWaa1NQFkvbdKeNE1A/A061fW3TUAzEaDDOCZNQFGJxalEME1AMXIq7NCWTUAbn26LK7hNQHJnAdSgCU1ANSIUajzsTEDT7YE30LZNQDR2O9optU1AKLKFC3rtTEBF9sBiiTFNQPzT70jqsE1AXfcPMGoxTUDLajHga7BNQAe2d0ZIL01A06aNTzGgTUDjuX0g7z5NQCwXjM8CLk1AuDwgnHErTUBUY7LZcrlNQGnlOw2kt01AZysAwFGwTUAdfW/9Dq9NQP1+hjQOtE1AndrJUTu3TUDbRi1VJhVNQOvrZmq8tE1A5zJtU0u3TUBGHK+T6jFNQIgw+EJ9v01Ar6ehrasuTUAulcO837RNQEw2RLPutE1ASswPwBW2TUAF31yUDrdNQKv3tc4tJk1AqfnOWhW4TUCzVnfWlrZNQKrrMu+jnU1Al9u+OiSzTUBwEVN/erlNQJe1svP1qU1A+Y0wo+QfTUBK/YHcxbhNQIyYVBH5s01A5NFsPCa2TUC4cH4fGLlNQISYkrhHOU1AMUJuwvEfTUAj7mTWBLlNQE5HK0exPk1AzHMEJVMfTUBM4pHM5i5NQB2UOVtQME1AyVnq15poTUAfNOGzg7ZNQM4EwXIhCk1AqqupDHCVTUC8PqYLO1BNQB54d0oxRE1A2y3GM/UuTUA6Ge7IffZMQL2XsS4Me01AsRoMbrYtTUCbaHemhzFNQPL9BVFNtk1AtjJae8FpTUAy27jA55RNQOm4T/YarU1ASYtGSKh+TUDdhmesQ7lNQOrLu46Tuk1Aw3FMOje6TUBsoKU4/mdNQAM7hLkMB01AwdJOvA+wTUDChuFzArdNQG6hDf3EuE1AWAa0faEtTUAnc/2CVFlNQPGqWhzMtk1A5zLCF9/rTEDAvIt6TRxNQEhVIwXvu01Af6FxmZu5TUBOK9MrS7ZNQL5XxN/rME1AJukqTb0dTUDSaq7lRbFNQBPLExq0t01AWA6nSgScTUBTEt5bNa5NQOHXisU4IU1AROFx/4E6TUBZLVRYWzFNQGUkBJ0uuE1Ag1zCFlm9TUAR2GzcM41NQKJ3DORxMk1APg/sPF+3TUDDXkr5LTBNQBvpUnwbqk1AKorc1ejrTEDJkxv5qZ1NQFYhSq0ZM01A2bYz7YHjTECL/vzX0rNNQM3kPh5YsE1AdXrc7CfCTUCZaJ96GzJNQPlFrTZAMk1AG17YOfYrTUBT2NAa/ipNQCqc4WE9Kk1ABcXVqMwYTUAUepgFBRJNQDR2sHIbYE1AYxxuIHO2TUAOSo+s/y9NQIluT0NQj01AIrodaurrTECVHIs+frJNQGcVfkZTt01AuJu1N9G3TUCI8SFVZ7hNQDWw8HscrU1AubbEHNu2TUB+ZG68KblNQElFG/aXC01AmEy6E/+3TUDZI2+vIcRNQJovcJ3LuE1AHi+BC+EvTUD19e0adFdNQJq7f/hZnk1AjX05BBioTUDsx1XZ37dNQFrghemyuU1Ae8xdOsCfTUBmB3Fbh7NNQNUNXbxRsE1A+h4AhouKTUAnH7fFVe9MQPQ7CdEBhU1AZAF+6xUwTUDXoZ6JxrdNQE36FW1qtk1ALu6pAoAdTUBgku9C3ltNQI1z6J9iME1AtIuSimFbTUAP2vV4sGVNQFNRSD72u01AlU8Jshy4TUAkZV2H3rZNQPDfqhBDsk1AGQX4JLcwTUDdfAeQQLpNQIJFJ8IOfk1AaHTBUy+yTUBpQr9oTTBNQHkkt1crMk1AkTmrElS5TUDDlAZMHjBNQNOkFxuJsE1A8nHb/QOfTUBOp1Kd8a5NQMTue4wg8kxANZseXmWyTUAO4+TMDzBNQHCEcXxEsU1A70bvHsm4TUAZ8GyI2bRNQEfNQn8zMU1AOR2sZkawTUAo3WbTsrhNQICVicvrtk1A+FYFeX0rTUDelM1EIrRNQJqfq1wGtE1ALo5I3ICzTUBRW/MeNKZNQB5hi5YgsE1AN8ro/ZsvTUBiCiXfo7NNQDCdHANjtk1AHLylFvovTUDXK8RnHb5NQMCsQKHPs01A/qx47isuTUAKjMycHbBNQExe/A56L01A/YmcuQuqTUBBGgGA2DFNQOQ8YMPpX01AlZNmgxgsTUCbMB2SgcBNQL/M7535pU1AzYasKO27TUABFQyYfEZNQCXdaDQKV01AiUsp8jQvTUDt6lqJ4q9NQFZuvLl+Lk1AQ+0/ysi2TUDM91OQ3rZNQBOzm2vdtk1Ahbujd4i9TUBiVZxgc7ZNQDf+Qs/KuE1AX0Of/9GZTUBiWNuNVbNNQFwbCH9CKE1At0+55U8hTUBCPNWyX49NQA/nf2VUuE1A+aBRug6dTUAM2yYCwzBNQHZKxP2BK01AIG7bYw63TUCmq//XNA5NQKmBWeRlWk1A9dGXPDS4TUD95Be2sbNNQLdm9JT7q01A7mA0wNm5TUD6O/8a3bhNQMVms1h0uU1AMikeL4CoTUCu65hHf+BMQFm4ZwY1F01AEu8CoAG6TUD7OgoksA1NQCfFU74iBk1A8KLT65S4TUBphsv3wLdNQDvVf5fPtE1AP2zMnZkiTUAC9h1xSvRMQBBnqMB5ME1AJ+4KsZK2TUBGhnpmU7VNQH552BzEuE1A1O6ht3mxTUCZ0YADeSlNQIdB5ZYK/0xA6XUzns1eTUCmXSxuWLVNQNXvWQaRr01AmKw+pnm3TUC8se2chghNQGitiuTWJ01AMdGN2HamTUBTkX95cL9NQDLjw/U/sk1AUNxZYe+aTUDBBXo5H7dNQFDy9pj/t01A0Pi8lyX7TEC5fTg9ehVNQGee/4KEtk1ArSR5cdGnTUAmBg6l/P9MQId5yXaoLk1AFhrlbVAxTUBqzAmiaJdNQLgDMPaXJE1A5SiSoUqgTUCfQjzke2tNQOumwMOIik1AXwDAaDe3TUBCSf16KKVNQC6F0hdMRU1AGf81w8SuTUAUfXn/3a9NQPpaKX6HtE1AxQ3ttRIvTUAVhJ3tvbdNQBTOSRcrtk1AjChu8vIwTUCmyWnH3WBNQJqcAgjXlE1AamawY1ApTUDBWo1kjKhNQF33WR2duU1ACn/YxApUTUBwtr0ZZ1JNQI0q/h8msk1AFbQyREy4TUCM2y6BOC9NQO05px/ecU1AHKYwsJKxTUCQqZjCYTJNQOO2ci3NE01AtTlY5pwPTUDP98E7dLpNQL/rd8X9cU1AzXnGKgIyTUClPPaS2LdNQHqi9FPRLk1AbT0eNmxxTUA66kinKC9NQM3Okm5ptk1AkAsIFtS3TUAvlHFek0lNQOfgUBgYrU1AkQd8PbO9TUD7jjKUQaRNQF+cIC/ssk1AnRxXTIBPTUDfv9MR+bdNQDk5/Vq6rk1AzGgelLvvTECltia44i9NQB5iFFGawE1AocTuFnK5TUCHaSclir5NQA8zNTqtm01A26EpNgSjTUBYENNLxQVNQICxhg/5q01AnFegeNavTUDtz0o2hblNQBwBUBFbLk1AA6SD1sO0TUAcKcoU7LhNQCcTzUBGuU1AVjvvxF92TUATgeukzzJNQGMel6HHtk1ARFL+i32mTUAG1xUCtDBNQASUusqwL01ADmXdRc+zTUCvN0zs/rVNQPUGr//dIE1Az3kCDti1TUDF6QloVaFNQLHTlvF/LU1AU8falkkwTUDy6HJ317NNQJRafsSVL01A5cfp2UKwTUDebzylxrZNQGkLja+Xt01ArZiYU5d/TUBmezYPCq9NQNFZMRVruE1AYeZs5BOwTUA1bl4IObVNQKyQQ1W6tk1AybHbElGzTUAGiiNhyHlNQMWoS8ovVU1AnFvfqPm2TUCAkFLlq7NNQJ57nK5cs01AWyG3GE2LTUB2o1HP3LFNQBdnH85qoE1A+d8zYOIrTUAoo8mzcrlNQPM2U/ier01AG1hkpqsuTUCiFB1QnbNNQB+e15XSf01AKCyVwQEyTUCZGArQ+xFNQGxwmzamaU1ALfROr2smTUAUGbG2DbJNQDAYsALItU1Ak/9ebNa4TUC5rAJ4vk5NQE9hNwP+7ExAaSjL49l9TUCG1Uq/yYlNQGTes+YNuE1AP8NDQJe3TUBKIyhrQbdNQJbP201euU1AZxlCOd24TUDXCorQUQVNQMPPb56ssk1AbzwGR/qsTUA2Mcl0VixNQB0zAEchrE1AytT1DK0uTUBSsUf+7LZNQNZpSLJLuE1AsVXXonyVTUBET2iX1bBNQESCwdTdG01AlJZOj6hRTUApTLNKniBNQOp27HIVuU1AZuckIeBqTUBWUxA5CrBNQG2PbRCMu01AN9sTlRykTUCtsmt53LdNQKj3BBkzuE1AVma+e4QxTUCyIrEcEa1NQK+eEUx5t01AK7ZkTWOlTUBePveUeLRNQLeMjtgVL01A+61IhDaqTUDJmk4fOrVNQBKZYUDIaU1A2L9Abta2TUAOF+h+e/lMQHzWmvxIME1AqsdNsSYvTUAgdt04CjZNQNcylzzItk1A5X8JLTa6TUAAHNExHLhNQGGBa3JWsE1ADK5MQIyxTUDo6AsOwLZNQBCBjXtcAU1Auw3bB8tOTUBNrFc/3LZNQHGE/SEP6kxARg0FW+MwTUDkrc40g/RMQKd5bkxpMU1A2k6WVMa2TUA6ygw5/rNNQIJbIH7lt01AZl8Kvw+5TUBv/xT65rhNQFLeW69mt01AL3jexYDoTEANZW7PNblNQA+Cn9jMrU1AKzdmwO+1TUB4BYFs6SlNQGfo1ow+YU1ArmjqI84wTUDZWUyYV9VMQBfl9VdWVE1AjCw6yyq3TUBJAf+KlS9NQAcY4zquRE1AKeTJs6y3TUA3aXUanwlNQPEp5FXLCk1AjxIf1qanTUBuJG3oHDBNQPocQKOU+0xA0mhA6d61TUDJEWPhngVNQCTUnfWrWk1AYQZtNzlSTUCinLYvGX5NQO8s0xpMuk1Act8YavquTUC9Vkr/lP5MQBTzvm2tLk1AulEGd9+tTUD2FPyVkbZNQPUH2Zy2s01A5S7Eqi20TUDTc1HVprVNQJ6jQ1+zME1ArY8zw/IxTUBoGdwOsOtMQClZtvEoME1A5ca0NSu5TUCJFcvx8iFNQEdDqRuKFE1AghgqOgExTUD06xRbaLZNQLcgochaeE1Ajb3zeKYhTUCSQTzwGrdNQL23SGOAs01Azn5PkXcvTUBKt8/S6rdNQOhXvIdirk1AEYmY4LSzTUDyCH7v77hNQOasM8vptk1Amcj3giYvTUCGbihDcS9NQI8HIlEjtk1AoAJWOeXrTECmCuMQUx9NQKoel9+yt01AKXR2VP8qTUCDoqacS7RNQDMZ8IvdtE1AefDKU9atTUA6zE5Vq7hNQDFhYBmyQE1AMzNR2oxKTUBPqmQEzF1NQI/EbESnxk1AsDBSvDufTUAbutWjZh5NQGdX1LnBLk1A01DN+AqyTUDNHCtLWLVNQABJquOcs01A7JMcnMuyTUAQpJuOF7VNQKNsddg3z01AWmhf4pO4TUBXGyr0zLdNQPC6+U6avU1AXNGtzBAXTUBzmATx7CJNQKwCurNsuU1ADh6AoHcwTUCm/hHDrbdNQFrQqr+isE1AQl/vkTMiTUBOCJ2vWbhNQAkiHn3LsE1AAmsD/BiyTUD515H6uS9NQKkkdOFTt01AvM+3ap+3TUAdk/qs8b5NQOCl61kdsE1AYl8bNsYrTUD8qYtdmMBMQD3Q0nTNMU1A94KtV422TUD4Obh81y5NQMEWNUK8t01Af5QaeHQ8TUAHhiNMDQtNQCPDXH46q01AQyWnDQEwTUB3pXAvf7VNQHIF+4uOw01Ag/VUhf27TUCO9A82yuhMQGfE/ETgMU1AMssNcKyoTUCrVSCLVxxNQEtokBZ6uE1AjpdzMQ0wTUDwMLh5mKlNQOwa1Irysk1ATnpAo+K3TUC7RomNRrlNQEIz57MBtk1Ac6eqLVq3TUD+d4/r36xNQK1Mg78NuE1AKh9keYYqTUBioGpNizBNQHnmpqMZM01AVNSLhZWsTUDujnZ1fQ1NQLpNQ9gvt01AlVcWuYu2TUD7F2Dtsi5NQP10skuwL01AZre8CHq2TUAMXrN03gtNQM48j1jUM01APmnmw5ySTUCv/jmlebdNQEj0QHHcTU1A2dE4UekrTUDP31eiprNNQCOTEXlbrk1AnFMQppkxTUC8QxgXFy9NQOVFmaNitU1A1dgVyDOvTUCMwOQqLzFNQKcSBvTN8ExAABe7TjivTUCQKu5lX7tNQB0gbso/YE1Aed7kL4AETUDCqVQ+pDBNQAgyQd2wtk1AogWReh7pTUDkZefbM7NNQNH0fQtHt01AEIWwDjC1TUArCVCgxbFNQI5k5cpdtk1AkGGFjoW8TUBGbt0+gL9NQAQJgBGytk1A3DrzNSC4TUDvAJEs8JVNQPZhCI2Bt01Ay0STXbK2TUAUk3qLDiJNQBaqubfgo01A/iIfk7N7TUCG3hT/HgRNQE/pKbjftk1Ab4WvPXa4TUAL0b80xS5NQL5HApNvoE1AS0+/Uw+rTUDWdh+9oLNNQAKJi2VCVE1AnIdaqN8xTUDvE3uLX71NQMYiPH7UNU1AL6VnKENdTUBDMf+4Qy9NQHNJWDiItk1ArRYNug+2TUDu7AZGfblNQH91jzKQ2kxAaKwYnZUITUAObSbh+hFNQMibnilUu01AlMcqUAC4TUABu6IdM7BNQCQPCF7BsU1Ac7tvCyu5TUAnBgbTwrRNQK8aYfb36kxAYyCCHH6zTUDRoZ5j9LZNQHBAxhuXbE1Alr/AKYWxTUCMrpBfr69NQM820Pvutk1ATUL5N/eyTUAn6ulYPLVNQHnn0s+ZMU1Apf9JcwseTUBGk9JScy1NQCpjlX6eOE1AaoZhTaWRTUCjbHXYN89NQJgR6ejAME1Ai9At+9tBTUANeNmkgi9NQKRhl2U1AE1ASPCwSTevTUAv8uH1Ti9NQCJChePVq01ATesr4x6tTUBGCzcP3yxNQPs+PAvxtk1AXFd9Fq45TUAbFS/qJ7FNQBtxrxre7ExAMJMzi2+xTUAjS6OAfL9NQEE3LyN2v01Aegv2FPeoTUALnaLI1hNNQBrDda9Ktk1Ah/MaIGotTUAtpLYijMFNQCO9qjMmtU1AZ8UiGjovTUBzeClcDjFNQKnDn8xCOU1AVfMK67ouTUBUOA6CKLlNQF+kjTcDsE1A/r4GLeO+TUDg/bisBytNQMgFcNm+tk1Ayc1+4vQ/TUCsPnw9BLdNQGfcYyodME1Anr7r38MHTUDY9tijsoxNQOyFUWX6qU1AOxMkyIa4TUAdc11PBrdNQINUtcJssE1Aq4/UGZC6TUBl4gJp7zhNQBWhwuUJuE1A0f/NoHAJTUDVIG6sqZ1NQBNjqf0QtE1A+mVMnN+2TUBQZWRLyXJNQMtkg42QsE1AJRznf3svTUB9h8s9pAxNQKxEM/mfME1AYhAynqs8TUAdtAiC0bNNQHue6zimnU1AFfErbWiaTUD+SxQZ7bZNQEWC+L5+uE1AEkVnHVsuTUBM5COZPDFNQIBp3fuVsE1AlqbZkR6zTUCYjPUD17JNQMHYkK7LL01Ao7WDW2wYTUD9D/PUBLdNQM5m4HzBL01AfZLWpkKzTUBADcEZYrVNQDBPP/81TU1AuyH4Mdy4TUDb4zXXurxNQBgwMVQ5vU1AiqRuB8OzTUDNkoS20pxNQNm7rOz6q01ANRbeSCauTUDOT0c1tzFNQOToi6wftk1ACn/VWqi2TUDyngkaM7ZNQEikOpHL3UxAhAtT9r6ITUAIizDKU7dNQBNIrn4cok1Ayfl7imJvTUCZZGZz4RBNQE1J1u2/Mk1AV/oAbk5ETUB0l0//cv9MQCLUr+UM5ExAj8u2/o71TEDzyRM2d7hNQN2F0pPvAU1ArIiMVVOuTUDEwn324zFNQApP1mtdtk1AALuHSdC8TUDeCqi+5itNQKnH3H3EsU1AvwRltEyuTUCUbmIeunpNQL1i+/1Yt01AoRcl3by4TUAqNEGwkG9NQClYHIfBL01AJY2cyei4TUBoDXinXrlNQMyZsjO8MU1AtpQI3UZJTUD/gUJrAqpNQE3VUgJJME1ArOtMe8GzTUD9T87h7rZNQKtRTe6ssU1AdqNXEacxTUAZhcSjXzBNQBHnkOepnk1ATl/pLfsJTUBWhNEAV6xNQPyetoSX6ExAxaj/17YxTUDIDg/RxS9NQCy18d+K4kxAGHtK5hiiTUBhsSRnY9hMQGMwQ3f8L01AwRgXgihHTUDL17tZTLZNQJG58P+rU01AcKjSCdzITUAjXjuXr4FNQDn73GE4t01AKnY93TQxTUBYbJGQ8OJMQKla7x2rt01A//c3WqezTUCLjAqqtLpNQF3ittuXt01AKhT+KFO1TUDr3zh8mLZNQOyqrLxOUU1AgMkpnfYyTUDrV2pZabZNQPbkZtdauE1Aj1TAPNO7TUDW6jA/azBNQLwvxIFUAk1AqekpJaKxTUAzcn9VpbdNQFjq3XSylk1AUGuQf14sTUDpgFhFwLNNQLgiBfSqsE1A0Aqwiqy3TUAX36BDFrhNQP+Vk5o0kk1AUkM8K3YtTUC6nXALMS1NQC39u4H7mU1ATu0ScUmyTUA4zZOtTrNNQF4WkSmpc01A5u6DLWexTUAgqSDvdSlNQIVdxtae6kxAqFjWSwcoTUDy906CgL1NQP9RAM0ZHk1AEAzSb0urTUCrjq+ym6dNQOZ5fZnFuE1A/tnXZ+e2TUBTqx8f7LpNQCuoWCLJ4kxAKN675EoYTUCc1aKC7l5NQNYYOi0LX01Aeoafz068TUDA7HZ39y9NQLguJQTQu01Az+A54wBWTUC/9Pjg6jJNQE2lhUM6gU1A+qyflWdDTUBdldPLdC5NQOxD7nj+sE1AsaRYtn+3TUDjjNu++mZNQEgPvp4VZU1Ah3vv8gKwTUCpj3UM3VdNQIvMPoqwtk1A4X+unEm5TUDDv19kPbJNQLr0AlCoNE1AVlFwXH6yTUAaxYJ5GzJNQHM1i3zPDE1AWMEwK/w5TUDh69NB56FNQDWuc4WOBU1AujnTzQydTUDE87aM+3tNQIsBm6JPrU1AD91ze0kOTUB/9/4PqbdNQKbT5Il5rE1A253/OlmxTUCrvYfguLVNQCZUEH2eU01AmaTsjWu3TUD2lSAAwzBNQOjrPQYZpU1Agxal/h9vTUDUKqcM4LdNQGtIxW8tLk1A0rkDbDi3TUDytlqFKRRNQFbJRz00mU1AcZtPw/+5TUAvE2pzxBRNQAU4DgIOME1Au+pfiVygTUDTk0vfNt9MQPkJp5RYQ01Apw8dfR6hTUBl8iCeRIpNQP/bDI0V3UxAGBcw7Xx5TUAQPvWTOKZNQOA++0MIqE1AjNnxPycETUCFRzvCTzJNQNv7n9NIL01AdjwXz1+uTUCKNgE4yYVNQBqnsfb9XU1ArXMyyP/aTEBCsNzObkdNQEKw3M5uR01AIplFI6uBTUDpW51SgTBNQLz86qjdGU1AqZab4GefTUCIE1BuErRNQKWthb7Sx01A2b0K4lU0TUDnBBER3jFNQLKptMY0Ik1A0V0pv2suTUDh/nkO8bhNQN1ccCNNHk1AavRnr1ctTUBkWTtd2bFNQAp+Twe+rU1A+wV4+TS3TUCdCVVdozBNQP4Za+x7K01ActsSNKOzTUAdvlHGBCtNQD2pgbaZrE1AQ86Z4rE1TUB07F01C2BNQKD0gldQMU1Aij0LJe8wTUDQXlLYBbhNQJK5xacoL01AUfmr/lQuTUAXi50j1CxNQHsf22Sbhk1ASBQV/nMuTUBBR4cZKhRNQKmUSLYuMU1A053SDWoUTUAYCOmKardNQEJCTUthlk1AJ120BL6zTUDXZMSdw1FNQJcLP0JgME1Aq5flOVOeTUBBqumZDG1NQDoWQpvUw01AXRcpvc63TUCegYSVSrdNQCunUq9t/0xAmw7i+uNxTUCOsKYcurRNQJXpQmv+QU1A59y3z54JTUDAFkuRZrdNQG0dWbpsV01AQDCe2LYzTUBc5QIxJS5NQAmJ+R86sk1AFTiGHL22TUB1Srh+NztNQBSDsnELpU1ACxXoKmy6TUDJ7aiiITFNQGquwR3+r01Amc2jM4WzTUCMjBp28bZNQE61lyDstk1AQIkeeadTTUAvHyW6XVtNQDzJLOkpyE1AwkGrGE4aTUBMNMZ9jhFNQKur+FCrt01A4K3Z3Q6vTUBnkypCUUpNQG8Uv1zrLU1A2X2rOH+9TUAIORvSqrBNQELC9lVCt01AgmU1fuahTUCZeYb+frZNQG4F479it01AXl5NI0OzTUAA0tonIy5NQH7/tf7l/UxAcpEbOb21TUC2aSeiU+hMQJYgxneoU01A7MNmYJOzTUBI9uv8+bZNQAmMyHySqE1ADKDJM8PtTEClHYYJa5RNQOtyze3QCE1AurXisju1TUCpT1fsUjBNQInS78E+TE1Ar8GnV+OuTUBoOJUYeC9NQJni0grGaU1AaJyFNnG7TUBiS51AfytNQL9CPGr0uE1AzcU5VEItTUDca7gCJ7ZNQBuONPaMfE1AjTl7yl2zTUCHOBwNNWxNQIkUAx9SsE1ANfmsxuFUTUDGYvxPEbhNQFbeABvBLU1AT4TirLt6TUAx6qBZlS9NQNTq2DVLuE1A2nyO69lVTUAQJP1fyWdNQLAIRq1Rtk1AvjRvsxS6TUCd7SXxvsFNQFOgDeLGsU1A7PdmSXoMTUAYCGVxirdNQGsigLHlrk1AsG76MBOpTUCM01lldbdNQMAvNShlZ01A+4LEgBmtTUDGWTkH0B5NQAfCA2het01AR6glQv60TUCqry9hhwtNQHYKzTtiaE1Aa8B6Dqi3TUCv9ras/rVNQHFoWV+Vvk1ApXl33h20TUAv47IhwrdNQMDDOs4Hsk1AUDL9q5C3TUDa1BMtWsRNQHzK+bz+t01A0o0+yHD/TEAsM7U8mrdNQFNeCOdbo01AnInWKBjBTUDRmH/goqdNQPyFbVdGt01AiiYybE0JTUABZdSg5DFNQNvBd3dSMU1Az6MFzUC3TUD43cJxVhxNQM/5v5dLsE1A/34SR/m2TUCeVL7KQSlNQGqtxdxkuU1AuJnt8pVHTUC4+yObsihNQOUb93/wL01Ae4wF0ES1TUCXIX0dQzBNQOutQAsaMU1AoPVM87AcTUAXono+TLNNQPJQ114zuk1AIx6ztsm2TUC0qqUverZNQAunthjruE1AoiCR/dezTUD9Qzknq7RNQBsIXndyX01Aiyxrj6weTUAke4++57hNQMyLx38MNU1AC74OI9VzTUD3VLdGa7hNQPwEiDj+vU1AIurARO+2TUCvHFmMRv5MQN94Kr4tME1AcrW/bQ7oTEAgKtqzaFxNQA6FT+9JsU1AOGvrUXm5TUBc/VXdYCFNQLImiqo6Hk1AOACA9MZyTUAcOXjyU7NNQORlGtbRMU1A1b0/wEu6TUAgGPSVTrJNQKunfyUguE1A36OqSSmxTUDQOZ5xs0BNQN7nKy31UU1AjWDxEpAATUC8XcbKsuNMQGmdwOc1t01ASCeduhyuTUBA0RJNXLdNQKclGyBiME1ASoRmaOhRTUCnuEh+CTBNQMvvc/ZHIE1A2Q9yJtJcTUBxuDgWyC5NQJYuoy9uMU1ANVzDjG6zTUDqHtz7z7ZNQEDZ8fJRuE1AYAMdt0CbTUDsDh+r7rRNQDmENPwwnE1APv66m137TEB9eL43ukZNQLGrbkEw8kxA/UXvuFw0TUAL4ye41zBNQJY33biAHk1A3q+z7GsxTUCryO20e7JNQHGEPBylL01AqnvaZht1TUAlyRvZ9bBNQEYUD9XUr01AYQV9M8m4TUBGJIyrbbhNQBRqavrfLk1AHsSaZ5y7TUDbIK/deS1NQP2VT0N6LU1AIkebbTamTUBDHeWN+bZNQKJuBtWfd01A5ViqhcYHTUAlkYBp+bdNQMIpHPXHME1AHvYGe0i5TUAL8vvDbr1NQAnxrVPitE1AUtUcx1S3TUBdRnWc2S1NQObmwer0uE1AQ4BUrz21TUCHj79fmh5NQEmPovRkBk1AePIVuSOuTUCo5J/ynKZNQHg464zAL01AtUtwrtNfTUAESrNVny9NQO9XCsx0p01AxqsNJzaxTUDzc5bFx7ZNQML6E0J9s01AyqgGLTQvTUBMMs/HcKhNQE1HLoL6QU1AXWJYE7QTTUAPOLJxz1BNQIEHUuddu01AaHpg/rQhTUBmmqMwsDFNQFyUZbOFDE1AeuHlH+POTEBCDZHdWrZNQIxKybJrt01AG90zAYcjTUDY4HEgAq1NQJxdvngV3ExAJbJCIb4uTUAyvQ3zri1NQP7/RqDVNU1Ax1goH7u2TUDosftRxRBNQBlZIeip20xAJxARXCO2TUBZI6ILyRZNQPb4paneOk1AL9WEW6+0TUCykFh2YkFNQP/4yCZquU1A3fGJ8d2hTUA9Sb3s/bRNQFbHZm5ffE1AGv4WOFsvTUCwf/890zdNQFK2H6tnMk1AmobrY7LRTEDonZtf8LhNQLJxCrrGfk1AIO1Bo7u3TUBX+7U3HjRNQEffl2dep01ALAPsKIgwTUD89Ow8XSZNQA/CiM6Ms01AS0fA+Oo3TUDzjqYJFRhNQAHGPJgtsE1AoDScjZF4TUDNX07l1ZtNQE8UnHrwtk1AbExac1y3TUBggUL7V7dNQI555fQotk1AufxwoFUwTUBtcrJyzrJNQCW0DXitME1AI+u2NbAjTUA6Xu9ifC5NQK5zInbXtk1AHbAfKVxvTUAqEpqMWeJMQGxwjGWN40xA2DnKIldZTUCNnE75Si5NQLD7+kSxaU1AN2hi1eUvTUAQzrbZpLdNQEJ5NkOb60xA9B/+3H2zTUD0YNc4W7RNQMkgsjFxMU1A2Myo2au0TUAcGd5xMq9NQHx/nHsqtk1AIzn4s865TUB7EI0RKMpNQKm8UDndsE1AzsOPEVizTUA4yhx/DGJNQGhQMdfLM01AfJZeN/m3TUBWcW776LBNQBm97FkBL01AKAD7ZtqeTUCg4yO5B7NNQMsGFhiQtk1An8ZKQUmNTUCAOUyD1axNQM9OB9Katk1A2Tz/HQQuTUA5grhO4TFNQBxz4hwNtk1AeokkM4ezTUD28tw/gS9NQNfLjAoUeE1Apr9+77AvTUCrBKiS8y1NQP2OW9D4Lk1AuKTsSCMvTUDTZlmpVVRNQLvpus09t01AH88trl64TUAAmUZileNMQFEPpNFzNU1AHSNL3Sd/TUDCTEFeK4JNQFsUbK/4tE1AoUwDN8XETUAxsLFpfnFNQDMRFpAmTk1A7socIyYeTUB+ody6vrhNQODj01/OUE1AZSUvwh+4TUCO1FHC7L5NQH0ZruOC3kxA4DC/IicvTUD/1dE9v7dNQFVYzHdddk1A2NSY2KJxTUATK4MWjS1NQNkdA5aUt01ARaCmmU4wTUASEdYhsjNNQJXGF9vat01AonVzrdk7TUB4ETDGKq1NQPR1LqrevU1AcZjivFClTUCNGjrN1rFNQFBhwgFu7ExAo6tm3PSsTUD9PAll7i1NQHJj6UhoLk1AZWfui4QqTUAJkjZiPrVNQC/fXFqsME1ARov6z3svTUDLh1U3GLJNQJoJl604t01AVTXVawq3TUCe2Kz8RRZNQGXW/62XYE1A2TVdl2MxTUAKpVCUZIpNQF4Wh5JpPE1AYpe4lj4gTUDC7WAtXxRNQBPkuUM2FE1A1ZFPRZ2LTUBrAFjXva5NQB9t2UCkHE1A4GiGtTmxTUBja6tUbbRNQA34JYfut01AjeBiFbm3TUB9AJl/JyBNQL+A2UHbUU1Acug0elq1TUCV50gi50dNQAirkcieME1AgLWnf8X8TEC1Yv62JLhNQKbPnd7yFU1AodFuIa+2TUB5aGxwdbNNQGHoJTop40xAXNyZrE4NTUCH+n7FnLNNQFz1iqbkK01ACYYMx4ewTUD9uWuS6zBNQG6P1ocwaU1APox7et3pTECO9OS6xNxMQHtpAW+i8ExAsosav7IRTUDkz8o2TapNQK5z7sxzd01AF5VtLtuzTUCAuyC7hbFNQKW//ATUL01AsOVO+ReeTUCxj33rSC5NQBDUTKR7Lk1AilIaHG50TUCQxKR6BnNNQAXnQINyuE1Ai63lr2YtTUB2bcpcvq1NQBXRFODGt01A0oGTFK+yTUAGN0PJz0FNQK6Pr+13pk1AlP/yln2lTUDAfEvJiWdNQIi34mSVME1AH0iov+u2TUCSCRShV6dNQKJEYNzktU1A7ngnBKUwTUC78z+bCTBNQBfx6Sl5s01A7KTBGZa4TUAGa6tioDFNQKUtql/FBk1ACTNCLyuyTUDDUdphhC1NQIQgJVqsqU1A2xuxxa6zTUDGFDEZzy9NQN6QeN5CIE1AEekoshuVTUAEGjRHtTVNQMbBzLt1t01AFdTdFpTETUBop6awGE5NQAYGCAwhMU1A2TN8UmazTUBIn0Q86L5NQGAr52VM70xAZApdGkG4TUCdGq0V9rNNQB8YF4zMqk1A/LmkQfMvTUCB5AQ8UTdNQH3ooPPyK01AvTRQfUC4TUBWWwGCFrdNQP+NCPhmCk1Ah2sF7nysTUAqkrEeyZ5NQNu55fNBCE1AUwMhoe8+TUCZcxqSpjBNQIKEmG9vMU1AmM26kbAyTUC2WgC0qLVNQDSQz5yyr01AO+p1BNy2TUBTje5e+mpNQGfAYgA3uk1AZgSQzGy5TUCKqFrQGaxNQFO3QVUVoE1AmC1uX/yvTUCkk7avXCFNQMRBAexduE1AzchuymO1TUCItq2NGrRNQO/YG7rTrU1AnIsrLny4TUAnN8HCTS9NQJSVgHfcsE1At5u2qXQqTUBscBpVTGdNQHnwreGpME1AzXs/x9uxTUCt0GzWMrFNQP/Zt1qHt01ApR3l8iSwTUC9zM+ah+pMQPlzgVhnsE1ANmT/1oEYTUBZF+xWZ6xNQMUaHyaZME1A/XnWxzejTUBSyTKgzLRNQDS0OyjRsE1AkD2v3Xm8TUDsA8VvYy5NQM0HiPf3Zk1AK/ZQM0A2TUD1ogFhDypNQEGql2UsJE1Aa6TXLJBzTUBwZQJVhHNNQLVY4axtVU1AEJ8Wt6m4TUBVONqVBLhNQJtLvA5UlU1ATJocMqWzTUCPYTY9hrRNQCYSdxt940xAP/UEKVW7TUDRpFTJ4LRNQNSHT4Q9rU1Ai0YarMyMTUAPiEW/6qZNQNZULomcsU1A3gjD6yQuTUBY5lyACrdNQHxmC0G9U01Av+PcTTdDTUAeOV0h03dNQBuQkzkUqE1AxUREGv6pTUDCQul5MrFNQNCM/tRDIU1Ao2x12DfPTUCke618Ci9NQF3egQxEKE1AFVvG3MdoTUDMoyF655RNQIfaxLpDu01ApME7mESRTUB41/nrQrVNQPKvc6HUtk1AsicNCwwFTUBFevqXyqlNQGxYqnHesU1AJKG4Z6kuTUB2wVeTfrdNQFHf8jq0qE1A6VPJr+2wTUDI77y0NK1NQHrBmcZ2rU1APrUaO0K4TUAlPKxi0DVNQG7b2oZdJU1A0mQ9l+kvTUDuJMvlhrZNQBnb7p6gd01AcZk1T9KuTUCzphGD+bFNQGLa9Dzftk1A/vU2LyO0TUAuc7cy1ihNQHLF7d7Lt01Apfr02Ye3TUClx0wVji1NQPuGWIWZwE1A+YSVJOWuTUBKvtYG9LZNQO7/uujFtk1AR6QAGNcdTUADFsQt2p5NQH+hs0vRrk1Ay5JxBsq3TUBN/MtBn4BNQABpqC1JQ01AFNDK81YgTUBjAZoUP7ZNQPW40HCJuE1AzMuHoKS2TUAq0K993LZNQNTnc1obKU1A7oKFNW2xTUCJPCt9eq1NQJMI9nSot01AjN0994I3TUBpc2JNKLdNQG88Bkf6rE1A/fnYaRC6TUCNPHi6nC9NQFENGdi1t01ADBiMCK24TUBG0AV2PrFNQJwYmovEME1AEkgWw+ORTUCto0N5gTFNQHv3l7fPuE1ARUGicfW3TUBBHpWthzJNQPLcHCfRFE1AtVUzoDS6TUCMHTVL9TFNQFJnVa6aN01A2Jmt9pe8TUBUlZvJyDBNQGygH/42ME1Alqpep4D8TECR0EPRZDFNQEOq0PU9FE1AMhpdoi4tTUDzh/XJw65NQCmiNAquh01ANi/UJiqyTUC4NV66lK1NQMVqxnXTsk1A3spuo6KJTUDJ7Yo/6LRNQAAEAbsD80xAwS0Tq021TUDcE7KQj7ZNQAanSBfDsk1AsjUDE0JJTUApTut8LzdNQOKPq0oRMU1AVzRl0FH1TEDcLVX7G7pNQPZo7C7ZoE1AaytIqth0TUAs20X5FThNQNlQT02LQU1AjjeESNO2TUCVq8vnG+xMQNy8tgdRNE1As/sY2xKsTUDApcpXVLhNQDASylBEhE1AABg2X4w0TUCj6FnS2S9NQEhDbT0zuE1AQ3xG5du2TUBPNSZBD79NQGEQsTeJCE1A33Lg31ezTUBttRM2iQ9NQFBGjOMhQU1AJDFsgNEiTUCowv8Ye/ZMQJB1Bt1isk1AzL3xV/O2TUAZnWSsyVRNQEIGYCLm4kxABIfz+I6oTUBgTaaVzzBNQAW7yLWuok1AQGiIzPSpTUA3DpAV6jFNQHtp2dz2rU1A89hcxUi3TUC6BnEJqg1NQI9prcUUtk1AVKO3BQ+4TUAaLqgI3zFNQBG+OR8GEk1AszZdeNSrTUCxZ6SDebhNQLf9zAZ7L01Akl3pJWwrTUDUJKyBZS9NQAbg6PN9XU1A6EovSUsxTUDq6jnlxINNQPoYEMyDRU1AhQCHUQODTUAHYG+K0QhNQMohxEk7Kk1ADCAtAq3ATUDFCsSdDbVNQKvTuvIkqE1AjP3InyK4TUCYuK8956dNQIEa6bTuuE1ABAVFhSB5TUBIL9+gmLdNQNjfxSxEqk1AhBas+WOuTUDRMGmj2xtNQCTBWljbuE1ASxRPJSGoTUCtumChhatNQMbnu6mfs01AmCQFtjq1TUCoGRCCy7dNQPzqWmyAl01AuCSOnRgwTUChJtUxcDFNQO7K7PE/tk1AxCf8tQ5XTUDjxVKAIB1NQFziTORtcU1ARBbVUgUuTUAyGl2iLi1NQH/PcyDGIE1AyIa4LUm4TUAXOe78Pa5NQNPgkwhPoU1AkOzh4M+rTUCJWHdL5ApNQKbc+ITD6UxAKqIELEmsTUBD7aeyd7RNQMclHQp1LU1AaIwcVJSwTUDZMf2nOC5NQEtO/zWTzUxAaNDolWAtTUBQ3JmZOsFNQJ9bL4ZNtk1AssL//iEvTUDvzV3hlS1NQNRbbiHOuE1AkEY2D7G3TUAMfA15eC5NQKfEHk8fME1AAREuMvwvTUD645L6r/dMQDlhABivrE1AeNgCfIIsTUDvREUm1C9NQPRaH+xSrk1A6s07bsa3TUC0VAFMODJNQKEm1TFwMU1AcFP7+yq2TUDAHoKluLZNQGf2KpJ+tE1AoBtMaqB/TUA9LuYKvYdNQMwryJETLU1ACHb6ZXm2TUCDqm6t/jBNQJQ3LyN9tk1AB3x9M+S2TUBTb2qB9bJNQO+3AZu1wU1AFpGH7nGyTUCAPLSxkoVNQIJxWqdEuE1ArNUVN0+3TUATjHY2JzBNQCwiQT8ys01ARCAU/QW5TUAqaPDklrFNQNluBw91tk1A5/UMyqGpTUAQrBJalLhNQOMDlIgll01ADJZpGdavTUCrm3JhazBNQMuffbZFfE1A9K9GxIKbTUCfud145d5MQHVFWyIId01Ad7NCmh6vTUCCLHD2aTJNQPPkHJ7xsk1AytfZk5azTUDs3vXA1PVMQAYXWAbPnE1AkM83pQS2TUDyt6soLFhNQLKnuFk2uk1AI8zB42MyTUDK2DMAFa5NQJuVOAO1t01AEnujIQKtTUCyE9YPfbNNQAYytQ87uE1AX1H4Oc68TUBsk+/EDTBNQDIaXaIuLU1AhifLVBW6TUACRUdaHTFNQMPuXzS5ME1AkRXAfN9sTUClKo9xTrdNQCASyR4BmE1ADsoA0bUyTUDIXCqdfX5NQEAn0wmuLk1AJsoDaxuwTUBY0O1+M7lNQCFht8Eat01AIE8AGAO4TUCl9Q3PpDFNQPJY91x9MU1ABBKkqwu4TUDrjS9SH7BNQBmUz8CZt01AaeLhoSizTUB2qtrQj7dNQAHvuasJL01AIBbfX8e2TUCOPQH3V7pNQODvZKBtMU1AxFsbFIK3TUBShwmkHsFNQI5vCDWyH01AFVd7srq3TUAHKqI2IBFNQMk02fQ/L01AwWpXFRKwTUBmp7OG7jBNQOoBGEfEuE1AnCSx/Ly+TUCQOENbki9NQA7KANG1Mk1AtxNlEnS5TUBNVlQuBzNNQHsehpvj8UxAbAFGz8NkTUDG5kKHGLpNQPFAL9+Pt01AnXMSdxatTUA3H+19DblNQJgxEwYjMU1AX7S44xW0TUDoySTW5bRNQCXIZR+Ys01Ab460kG+2TUBM+h4587hNQDtakDPYS01AXajefbuqTUD1nQ9u57lNQFx/qDgvJU1ALLSqiGB1TUCbcUHaPTBNQBLTprdDsE1AMEDdPWgxTUCV7f6Tji9NQOV8Ne9Hs01AaTDehnwvTUByxeJgrrdNQE3nKp+B7CVAkJM6PIG5TUAx8sm71KtNQBSlAUZdME1Aimr83N44TUABangz1ONMQPGtR0J2+UxASQE5K7qyTUBSkkgmSSdNQOImpJbzvE1A3l8FlOwKTUBlFXt/OgFNQN2WINkYuU1AIYNHB2a2TUB0Y5Oz07NNQIsgC8JwtU1AbKAf/jYwTUCyOLjUkhxNQHCHJcnysE1AMhpdoi4tTUC6HXj9WB1NQKo8PHBrIk1APz9mERWxTUBW5NRzZLlNQHJAZfDtLE1APCx8Sr2qTUB8I6w9LLVNQDIaXaIuLU1AMxU9tbsyTUABES4y/C9NQHqyZ3P9tk1AWRCfEca1TUAq19Vs139NQHET5AGfL01An+MWTkkCTUCJnr5fx1RNQME3L7HBrU1AzVMbAXK5TUDg77GmxDBNQBRtpPdct01AK+QWLSopTUBDokmZ4pdNQER1Ajcotk1A1r9G89IwTUDnk4cCqy1NQExn3M6UME1AG0/Nj/O3TUBb5NSt9zBNQEnMZKS9ME1AQda3+JYyTUDLtOduA7dNQKlT81pJEE1AuJzHCuRgTUBoe7SMNu1MQJH0SHRaek1A94oz82i3TUBLZ23NgrhNQIWerwYetE1AVomhP0suTUCPfDgKtbZNQDWtOJrzME1A5ZvkV4njTEAMQLJwb7FNQPOJCDGOIk1ANuP5uplBTUBu8gfxJd9MQKsYTRd3+ExAfnFRyTKtTUAHHFIEqPBMQLmUcUNxvU1A6KBTeGK0TUB+kd8awrdNQMCBlrZmNU1AGtvk5zGyTUBFSCO2YjBNQBG2Lj95l01AoLhReQezTUAP+qFblTBNQELhqIpfMU1AIZYFDtSVTUDcORNS3LBNQFFV/F49SE1AgVyJUxn7TEC0pgGoTi9NQL9GgykRcE1A/SWQeXgmTUBqbHJ7yDFNQE3TNlwFu01AP/MD6so2TUCbm3/LB39NQOWnoO7wuE1AJXqXZJ2zTUAUJ7bh+xhNQIiY/LjDL01AbhaEU/cvTUBpBQGffq9NQB7YMhjQKU1AuteCWV8vTUC1W5kqxzBNQAvJTvuKL01ArYJ6KsnjTEBzM52oRmdNQDq1iJbFtU1ALKIw7HW2TUA7c6TahU9NQNwXc6kwME1AMhpdoi4tTUDdqyMAJbZNQFomLyDmrk1ADpzyAiC5TUBBrk3ca7dNQB/iQaiVME1A709AWvWnTUBV7wOmLjJNQNvA7lSorE1AVP0QowIaTUA1HtZ5Q7hNQOQngGYoME1A++wfuPe3TUBtibuRxi5NQDJRsqt57ExAc0EaVaK3TUDpSzxs6a5NQB/H0S06tk1At13i0AU1TUD4U5+nnLdNQJ4qwlWfME1ArtpDvxq0TUCAQ9l//zBNQGZ2M8haUE1AjYN8zs0tTUDdLk9jQi1NQAnGeUhKp01AsfgmCkk0TUAHq4VFBRlNQDOzJ6/UME1AtzkLtI+yTUDDrkCvr1JNQITqowDytk1AaJX+H+upTUDaqzu3fjFNQMGtNFl4qE1AWJKEQnWzTUD8gRLI/7lNQK3jQz76tU1AP6G6ksJzTUCI3FC+r1pNQBN0sB5gok1AoH0tIyxxTUD4zVXwzLFNQKzU3hL3rU1Aum1fgOMsTUAIq2JTg6xNQO2nkjufOE1ArOGwNR0hTUB6dmFmTXhNQPRNnzuxME1AGLuoXbsuTUAvyiRBEbFNQHy24PSHsk1A4Y1yg5QlTUDqFppwELhNQGeXgsPIt01AarRI28MfTUDEBP0TYTFNQC9xnvgHLk1AL6F7wKP6TEC3htklMnxNQOesO6/T9kxAP686CA64TUDeL0cFZLdNQKf6Qsa0N01AuUt5T2KtTUB3gRkLFj9NQIsGDmoeuU1AcJKb+8cfTUB2rUAG2T9NQLhoEd/fM01AFIqHWQG3TUBy5+A7t7ZNQDqnw6C7rU1AhmnMiD1lTUBhKgLjurVNQJ51LZL8tk1AODX08dwsTUBWvoXbc7dNQJDHp4pkdk1AO6X9n72vTUDpQe/8iS1NQNZZlQFoQk1A62SBS0wsTUA4xHkaaLhNQE1zZBlTrk1AH+DzEUa3TUChJtUxcDFNQATaMN3EXE1AZ7HJS8SmTUDe3sDGB7lNQJ5ttH8/90xAuhirkbmCTUCieHGy/R5NQMIa+MzasU1AvQiuJcocTUBUSpcdk3BNQCx7xFWEfU1A7IG8cgtuTUAbgoLjp1NNQMpwSCWedU1A4aFq+Lu0TUDQCzY/ecxMQOhZttMgqU1ASojzjsS3TUDH1IZxqLlNQHenw8dNLU1AcROsBdzrTEA4ZJ6683dNQMCnFmfKsk1AbjF6gd4uTUAqkkcNBblNQM228bVCMU1Az/xEu9+4TUA3Wgy0r7NNQFTyGJOmrU1AInQHVWAxTUBwvnby1CxNQKaoC9BOJE1A1LIu3X+0TUCMabSWxrdNQJYmpyL/rE1AFxVbNRF5TUBH2wkhabdNQCA70FOyt01AaohucbhvTUBxExisArdNQHtowCPvsE1AmYqXqY64TUDx9tmNHCVNQKdSimwYeE1AOw/xVJNLTUAjqRJkAsBNQKPOgnVzl01Ajd4WQTdgTUAx8sm71KtNQBkEucLtHk1AW1+FiMWzTUDhf/JlK7lNQEkOO+iRr01ApWShf9K9TUA2UgZdsWxNQGL2tVeOqE1ABI38/TM6TUAXN25Fib5NQJg61TRj80xAdXDQ8nwuTUCLc3mRmd5MQCKVd/gURk1AmNcNtQm0TUBFBUNh/TFNQIFpTXQEuE1AX1q9n63+TEBsZIEWQlRNQNuguR1cLk1ADYhP9vfiTEDSBRWJxFtNQDbP3wn53UxAFIB54XSVTUAZDpc5oShNQBJSN+SmVU1A7Wocb92hTUCdzvSikvZMQOiUuDwx9UxAX/qC1ju3TUDPilxnmrpNQLuJNaXdx01AdFv3psezTUDI9xhCfDJNQGQB/r5Mtk1ArUMhAW87TUBBw+Ee1hZNQLCA6fvpsE1Amwfo+/gRTUAve7X4LzBNQGLoc77MME1AX5svNXldTUAG7Dt5j7ZNQF9dzlr7tk1AowmbzGXxTEDGZAJ3nx5NQK8uSTrjsk1AJ7HZBAfdTEAbEFXPzs9NQFNVrqy6wU1A5CTx/oS5TUAFnH1TwbZNQHMAXrU8pU1Ady6+/yQiTUDIgnW3hwxNQNTnvxQqdU1Afe2TySgyTUDMw8SgRCBNQBEc7cQwK01A1RKd2pSdTUCXfKPsQjNNQG2tg5Dntk1AQeOKVC+tTUCfZDqROS9NQDDpN+N1R01AwqjwUJL6TEDMRvPGQ7JNQHl27x63tk1AXnK0jJ25TUDA7WlK47dNQAtmwYBruE1A4rb4iGnsTEBlfmLGJq5NQCAxMb7lwE1AHZoQDaMPTUClPbwOYAxNQKuTC6aonU1A3l8FlOwKTUDAttfgpXhNQOjCh/GZM01AjAQXChVyTUBF+3FmQS9NQCyh9Br4uk1AV84Ck4SzTUCEesp+j5dNQI/9S9Dzsk1AvC96/RUwTUACgSCQ/qdNQL5k0d4/tU1AfEzAgBO+TUC9JNOdwU9NQAirYlODrE1AWX83AhUcTUBb/d90nN1MQGyyiWJYE01ALudgOr1TTUAyA/q3+LZNQIYt3QAULE1AHIv6tXKzTUB92oKuirFNQGXIiqjMtk1AxjwuG+G5TUCTH7cJFWRNQA/KQ10YNE1AdN+xsjCsTUDn2ByggbdNQOjhhCGCvU1A85QtJ6WtTUBPf1C5+axNQMcZ51bVsE1AYUSD4ki3TUBr0weoOKlNQK3jQz76tU1ACh3iWn5STUCpHagOC2ZNQF0ZhE8k4ExAsKgkyFPJTUDvPrA5a1VNQADznD2kvU1A7XD0WIq+TUAzDfOHzipNQOrD80d1lk1AKkGKbMTBTUC1hMXaVjBNQF/ScdOBZU1AHdvOKI4oTUCKnLn/aK9NQFoUnpCYtk1AKoe8FHisTUDKWBkBHw1NQAIk+5zDtk1ASjAvZRqgTUDdlfuX9+pMQOWBOgECtk1AEtYAFMr+TED5c4lSxCVNQJYbxjr5q01Apk/BFgWqTUDuDoeXH7dNQGyT78QNME1AfKj/wGGwTUAoxscOiTFNQEy4U78tIU1AitRkQ/e3TUBBKEY+o7hNQB5rtM7ht01AzmTHj8KpTUC8SctGN7tNQCKF6zZxtU1AUo4jWuntTECyg6CYdB1NQES63tr5uk1A3aiWtuVJTUDCSn11RrhNQCF+n3NcuE1AIYCfKXqsTUDDBP5n3zBNQM/+rBmLtk1AkktTnoBvTUDowofxmTNNQNEwaaPbG01ABQnqe7TtTEDhiaPcf7dNQC9xnvgHLk1AfQrNqi64TUBt+GTLZUNNQKLwIcp2C01AfzMEf6T1TEAFMCr1/KpNQCtZ4FKmt01ACK8AExYwTUDp9Piyo6ZNQNjaAJWgME1AjnrzctuvTUCMUwHb1Z1NQGzV7LpENU1AvuW1Ce8rTUBavSszey5NQDEOyOzUe01AGYxRfK9kTUAQQBCfKbdNQDd3QhGilE1AHafmy2uGTUCK1GRD97dNQG0qoxV6KU1A0c9Mt1YiTUCa7Qo7H7dNQAYwPvp6v01Aj46oGqxzTUBSSiTsL/1MQI8AHAqrtk1AxtD+MqK8TUBIKaSm8bhNQP0ZpkM4J01A0yjwb0ZTTUCaDefhpyBNQKIaKqhFtU1Aw5+iMxozTUDRySm4erZNQOcOKZlMuE1AG2rxEja6TUAdOEtFC8BNQJwYmovEME1ATR5AxMa2TUA+v+8JUrJNQHWb9rCXME1Ao0RP44JvTUBRs3+/gbZNQNrm/2bCvk1A2h3QphQ/TUAha5D5b39NQOvpefNSL01AkM6mZIG5TUBfWailFLBNQC73I9/GW01A/trFQtg5TUD3v1AR8LVNQJ42zjlNuE1AaMP6qtewTUDKY6T/wb1NQGr+MQaStU1A+NRui6+3TUAB/QM7Fq9NQGpKeXDjrk1AiZr6JS2uTUDtu99lNbFNQN5fZo7EuE1A565AupW5TUASWGUfK7VNQJIvJCQcMk1Aa7yRAoxOTUAZOuXVuwJNQAjl+9t6rU1ARc6Gq+/rTEAW0o3UC65NQERdHMZzVE1AyMV+HM21TUAYDXoV2bZNQGggKFqBqU1ATHX/ca22TUBxtPswRK1NQJigsJalp01AVnaTTY6mTUDhnGeNbjJNQOI2xOOJ40xAt605Bla7TUBSsp7cma5NQLNbEsiEMU1A27q+ZLUpTUDH7hinMzBNQIYILySboE1ABpa7ZhG8TUBAxPBjELhNQNqYldSSvE1AWXAcEdBxTUAEBKykLjFNQFjw+A3MgCZArljKnHi0TUB3M9J00T5NQBxuiXR3uE1AhnXG4+RsTUDdZXohsq5NQOXzVWt7t01A9YiNTaCuTUCAiT1PN79NQPHkEP26tk1AkvLXBnIITUAFYv2WFbRNQBDHthbRLk1AM9jKX4MNTUAGicED1hFNQE85qqiprk1AyzaiNSGvTUCLUYNPAblNQOriyDDNrk1AJUan6B0vTUBx1v3w6bhNQOUYkv1ytU1AJt1XFxwgTUBjyF3VtrZNQHNKzwpetE1Apiki4RAuTUC1b2CQxJhNQMGh5ht2ME1Ay8YPYQI6TUATXFCQkKJNQIGYAwa0t01AsMb+2ucvTUBXZSsH8b9NQMkte1ehak1AZLtN+zcnTUDfhp3tCI1NQHM6YTtLME1AI2nSIa2lTUC8dKV9LKJNQCAIpk3Umk1AlSiH6oG1TUBVY6WmjC5NQJNKgcXsuU1AgWiwOhkqTUCJ4oQbnrBNQINkIO+jGE1Avpy+SFlATUASkS8LprBNQBSa4iugAU1Axlf1Nu7qTED/3uWHDTRNQKkbt5j+t01A1YpUoE+pTUDcw1d1izFNQARW6TautE1A5HSDox+4TUA/+2c/9DtNQP2jpj3YLE1AsMb+2ucvTUD/wy5HzyFNQDIaXaIuLU1AkOrB6YEhTUD8o3WDUjlNQIJWwYZF7ExA5tE2dpAeTUDzamGxT7VNQIz9yHHttk1AL7O7/bSzTUDrUfO0psFNQFhXPF7Yt01AUcx0mNR5TUABES4y/C9NQG610ZIilU1AdYiYR/M7TUAyGl2iLi1NQPx36iXd7kxAEu9TzzQpTUClNjW+ZVJNQGhnsHndAk1Ahnkq+ocvTUCmdfE/7KdNQBm3m6fYlk1Aoz+R0hy0TUCa8ajR07hNQB/UQhMquE1A6ECzsAf7TEBI6t1zFVFNQNuGCSptLk1ARdzA36KvTUBcSpIoeDJNQK6uVo0Or01ARAWW3B2yTUA1fK1+UmBNQKNsddg3z01A/VtStpEbTUC42UcoprNNQBDM1pF8uE1Azv/Ks1S0TUA2mZC/PLVNQDNkKPj+tk1ANsF4FG+ZTUBHhef97q1NQIg2SXuzVk1AzbbxtUIxTUDb2i2X0zBNQKxriInbw01AglNHqnKzTUBB2xXKWKxNQL12QfZL5ExAZVWM+V8wTUB26DJVyadNQAVsTmPtuE1AlV51GT5gTUCJlcGdXLFNQJtnFw678ExAT4hYjHO1TUBkBZE66zBNQLbd0b5nvk1AHRU3kcGwTUChJtUxcDFNQErzvgGBrE1AucMn+Fi4TUDQ2UttNzJNQAuVJf1TiE1AGgWEdc/uTECkL14mt7ZNQIG/CEbJt01AE1iRvpy3TUDxGf0GE7VNQIpIp+iLJU1AS0Gl6dO4TUBHh5oJd7lNQB30PhX07UxApgu3N8S3TUDaduFSN71NQDria7GSLU1AVTK8UtF4TUBGS3DcL7dNQJHqaxPbA01AI2l71Qm2TUDstelcWSVNQAy0S6L2tk1A7TqYfbKITUAtemQkKLVNQKUrsX+HME1AB6OJv3X2TECUV6w14DFNQMtVhZA4qU1AVGO0W7kgTUDlDVodIB5NQGEoCI8XL01A9DzU/4S4TUDz75dY4qBNQCnbi/b3t01A6FpnaztsTUCd/4jf8PxMQI6BCYuEs01AxItyNUG4TUD+O5OGDbRNQAEpSnT3p01AUunHmvniTEA1lCvC2S1NQOi4CHIutk1Apeqtn1+rTUBRakfenTJNQOiZWim+Q01AZHofKNmuTUDjt30DvbdNQOuauQamt01ANUaSVemdTUBlBnTGKqBNQE18e7B4uU1AY4nhjsstTUAqOGM+vedMQLu0d5TTLU1A7/hoQz3rTEButTmIRLlNQICRKW78tk1AtsD4O+4wTUAHiZVZMLJNQHun/B7HsE1APY3jzSgRTUDp3H/9mrBNQNQHcQZMFE1AMTdDz+bwTEDs7MzfWuVMQD7oU4fAQE1AoSbVMXAxTUCO8jTwMblNQMKQ3WOQtU1AFYKB8jWoTUD4pEd1ybNNQJEYwgJLMU1ANCcs8kN4TUB6Ntz92v9MQIPYlyC8uU1A9qkLYWgLTUA0n5uX2VVNQAk9dl6ba01AessTp5yUTUAlBUvJNbhNQHUo7qyv50xAZghO2Um1TUDfwAPgoJRNQHrhU1J5U01Abfdt2Ie3TUDcORNS3LBNQL6GdcGWJU1A6G9pXnO3TUAliVz27rVNQJ5o7TiGtk1AFhZqfcs3TUBNgywz47dNQJc6UHwctk1Ard2fTscqTUC7tAYaVv9MQM4W5xHBp01ACgIrIQp/TUC5GvCkDi9NQDK124sEsE1Ab5HTJjG0TUBmva0LpbdNQPhTn6ect01ALEac2POvTUB+YsjjhLFNQCy0qohgdU1ApiB0ktG2TUAZaCOqcJdNQLDG/trnL01ApHTJwccuTUBUlUkGqLNNQEWrQRJMP01AGv7ANj6PTUDC3LZY5BJNQMMzJ1DwL01AIWvzVc+zTUCkSUbC01FNQEYDyu2l40xAdwRMQEv0TEDw6PweQLdNQGWUd194uU1AGc2luOF6TUBBBsaA66xNQCFViV8gt01A4X4ZcnhxTUCB/jhouLdNQFtWJ61pL01ArnW/UxEkTUDLuiiX2zBNQDBPbjZSt01AoMQow36xTUA3IV/9H2RNQAarfiifK01ANk2dNMmnTUBwgdIUi7dNQPQu/kXCp01A1fimmuYxTUCjpPApNC9NQPolAiyUMU1AipY2F1a4TUB8XYo6vrBNQNXGv5Uqt01ATI+5A1LHTUA55rL1NEFNQBZUPKpRuU1A+TdYAy2tTUC614JZXy9NQOPO42eclU1Af5YSYg49TUAXFmwZ6LdNQHVUxNv6tk1APJ5kU3O1TUCYbs9g8zpNQGkybKIsqE1ANj8cCAPrTEBK2ijv/NNMQK2AR5/uLk1AY9Fbd2eFTUCf9/SzxbhNQK1N+z8BfE1ApCR1xGmvTUAS9wULikZNQMGIQC5FuE1AlJxGqosOTUCM5npKJ6FNQOVVT3xRu01A4UOWm3a3TUASpkn3UrpNQMI/IJCEM01AMfLJu9SrTUBbo/4/1axNQEsQHGSxG01ABASspC4xTUAmhSEmTrhNQANmeEfc6kxAXqcAHCi0TUChh+gdbrZNQGDfi7Dts01AwTBCw6Z9TUBoOUu0d/hMQLnJYFCer01AXJ7xTxwwTUBASFbswpdNQDZOc8uXX01Ase70z6EaTUDVgE93uKxNQALaCIgEB01ArxJb1C0xTUAwNNb2Mk5NQNflfkOWNE1ArWRowN2rTUAGiQQQY+xMQO9Kws5+uE1AOQUcoZ26TUAmw628HrVNQKX1Dc+kMU1ACfqchH6uTUBkgFUA0rNNQPFJA0Fss01AiugNkr62TUAnMIfXSXlNQH1PAAM/nE1Arwkqa+y2TUB/NEPnwrZNQJAVmuYq7kxAIERsBK2iTUB+wsAHt99MQIU4hkfeqU1AB/hDV2W2TUDnA4gFjDFNQHKcAMsetU1ABqt+KJ8rTUCJQUlpEixNQCujYTo+sU1ACnsP6UQNTUBzEUP+InBNQFa+pl12D01AuPRIFA24TUAUliON269NQEoZL5Bxsk1A3czmo2W3TUAiT3iCwHpNQCvMEnJztk1AeEn2PAO4TUCDiynQu7dNQKWEA084tU1A++hpCDivTUDhkN1i5zNNQGRLzS6DLk1ADRSpNz20TUDzB8wZ3L1NQGEvpzdXt01AbIfzbO61TUCl9Q3PpDFNQGwaplsmHE1AMz0bFdetTUDqmK+X2rZNQIcaXaXotE1A+gLpUPiRTUB/PyMi2XZNQE0MlUFNtU1A+InypVwzTUAYzYhDE7BNQI8SNKGyr01A1CnGgxg9TUBBzRTa42BNQFQyAbPUuE1AuXOZG5u4TUDZT6hQJ6hNQOAxLvOKl01Ajn7Zut+4TUBPJzd5ZmtNQLVkK6z/t01ADFxMbPCqTUAzinMdx7RNQJv9zZv2L01Acfo0rJ2zTUCRl2CEdbZNQMcZ51bVsE1A/Ktw34lDTUBUJtJ5431NQGEmBg4wTk1AuX/lmUWnTUBapxRopvZMQLyreD5iIk1ApBcgMnxQTUCzJkpn4VRNQPBSFmA4tU1AD3RUhOFUTUBEINH3PKBNQItSWAVreE1AoJtZCZ6xTUCe6GK9z7BNQKzNAUQdqE1A4AkL9T8uTUC3lTKjfTBNQAPeGMVSUk1AXQ17syxuTUBx4jTKKapNQIKmCAcirk1A9aZJHZROTUBcUGu5I7dNQBzGblQVuE1AcUZ5p8AuTUAVHuRGsy1NQKX1Dc+kMU1AGGLZB7cHTUA8FGjGWh5NQAvMhEKBt01AHxUnll6wTUC66R31DbBNQHPkfbXlt01A0sylwP2zTUC/F6slN1pNQMjR7uWPt01AFt0ri9xZTUBx/8BEWZpNQL7ODYXWt01AW/4ReU4/TUBoSTwjV7VNQLwr0QHssk1AIAS/DYWaTUDUSTpNPi9NQNfZI5Totk1A7aA2l5WsTUDDdwuZ5H9NQFkdrfmlcE1AozQNZZ22TUDDdwuZ5H9NQNvYnlaYtE1A9cdf1luVTUC+8drOHVRNQOD3LCYMIU1AR/AFhEGwTUDMq5pzv7dNQLYLlHhErU1Am0ppIwOdTUCtJ1EdlF9NQDdp4F6GrU1A/JG2AqifTUCgxCjDfrFNQG8+bKxgI01AnLJTuVC4TUAM2lIoMjFNQF0Rw11Mtk1APwkecLsRTUDU+2SPorZNQEJzCqkMsU1A+AACUjKwTUANTUetQrNNQC+KXPgOh01AbKAf/jYwTUDHKyDduPBMQPpmwBeft01AcPe5pcy9TUAKP3rYvblNQLJY/hqUtk1AWYf82B6zTUCVqPQOqbZNQO4F+Jeb7UxA3rZ1ZdC2TUAd0j8sZapNQLc0CmQXL01AXEqSKHgyTUCzcRf8yLRNQD4/VXnWiE1A7T8c9gG4TUDJ5wcRczJNQPGMApL9O01ARRXZ+GK0TUBQFJRUHLlNQGuZvpqOuU1AcPi6ULGeTUCDQ/NTSsJNQGP78HWNtk1ACCb/Kie4TUAGA/J2MSVNQPXs061XME1ARJRDbk89TUDw/YbOuZlNQAEyHMfu+0xACvQdvtnyTEBLG7cDSgtNQB4ffgPSr01AN/Z2DT26TUDj4emZfq1NQL0kpgymMU1ATUbBj+vrTEAUnYYu2FNNQDnfjVraq01Ar1wOJtLsTEBYtveijLhNQN95w/DdrU1AsAucoPSnTUAQtFjZOi9NQE+vTZD3Lk1AJ4+RYYU2TUCV7dVUI7ZNQHkGD3jYqU1A7mLMfnK5TUCQRPW24TVNQGVVjPlfME1AZsrWeAMFTUCXcFhf57pNQBw4fvDnRk1ABN3YX6K1TUADUfdHsS1NQKBVM2HsLE1ACLjLpc62TUBeasH6wLhNQMyVoNh6tk1AKgQuzbsvTUDB3gSHLh9NQK5ZG8Lbc01ABQbrto8zTUD19fdV3bRNQE2u3Tu0qE1AHqEkB/WOTUDH6SqFlbNNQBdAsoPLtE1AvzmtarvuTEC7n9xIXjBNQHCI0DeUL01AVHQer/OtTUDh4QQAWKVNQMVYKW8Ze01Aofmp6sm1TUAXW6+H1qFNQKGrJ3Zduk1AXZBQXiK0TUBvec8Ti7dNQBFT63Qltk1A1+xEs0m4TUDkhlmpILtNQKOwFg0UaE1AdsmuUbW5TUA6y113IrlNQP4dLyRCtE1AsWYFIJi4TUBRZoaS/LBNQNiW65DJrk1AAGHYB2OyTUAraHOL1RBNQEjqMpGZs01ApoKDs8MuTUDBHkkLVbZNQE1+HRsItE1AgOi8gxu3TUBPGMQur7ZNQPWBdZ49qU1ANnCX8EuHTUAkq136lChNQCdqyfmDtk1ADqZWycC0TUDItXUQ7+tMQKw57drF/ExA9zMVh3+jTUARR1L1HLZNQBEj79fAO01A5PXRuzq3TUBcVB+49GdNQGkl5ZgHtU1Ahe1Lhde1TUCLPcfaOzpNQKas1UtOaU1A4XeRdpujTUC5iuYAup1NQOVSBYc/t01AbwmQQLOATUAFILfgX7hNQLbZAuStuE1AElBku3AYTUBKfbHsYhlNQFqGwhJdtE1A7LDh9Ui2TUBpnNPx9R9NQGIb/4jj4kxA3aYFidxUTUCG2/VelX1NQJt6DyRgt01AtRhZ8qi2TUCTBnretLZNQPpGS0DSr01AOW/Bdsy3TUC/zm37yi1NQAAXKrW6u01Ar9xuY1y4TUBEa/kiYrhNQKLbxRVbMk1Ae52zd8bKTUDNiYuRl7pNQLFvjlcQtk1ANa67FrO5TUDROpsmiDhNQHxoHtgrp01AU4BLGYm3TUDQxuOvTbdNQNIaadyqIU1AsNKcBC8xTUDTbiCFVq1NQHA0Nnx5v01A3rFV1r8vTUBGdIkshLdNQICqJJePLU1A4yEyu8hHTUBN1o+KbrhNQPULJGfhIk1APU5fxeuzTUCe5Zt40rZNQA2nyYOdyk1AfAg6OtMsTUCqHLy8CDJNQGz86Uj1EU1Acv/F7mS3TUBtaRZsWrVNQPV6wY7kek1AiRThQseqTUDqvO2HvVJNQID7W3rdik1AJd3jflGzTUB1Ld40y7hNQD+SIuFNsU1ARf2s0Yh5TUCPnELIyp9NQJp8IKAtWE1AxslGW5auTUDY1mfILhVNQE7kWHEsMU1A7kBbqbMdTUCXJwRXSC9NQGAiJkZykk1AsiMu19q4TUDJRuefOqtNQDc+pn1+s01A4N7eJwDwTECqP1T44/xMQICbTisklU1A0XSnKJcKTUDgCQv1Py5NQL1amKuxtU1Aitq66wUOTUCZeOU0rJJNQMXYXoTAyU1AnCTDdSyxTUBDcQI44GtNQChNCoxnbk1ACVnIkGowTUB3vrcFyLhNQFqDHJ+hsk1AeZmIqf65TUCo4MgG0XpNQINKeNRXcU1AbeMwfXK2TUBGxIvfD7lNQCXm2H9ONU1AHbkdM+OFTUAHzsIgwwpNQCbOP0CnGk1AsYnlGvesTUAqdyDERMFNQPIWYFoIr01A+6L7u5QfTUA8FbywhbNNQL+IPYmkLE1AczE26TkvTUCcSzPqqrJNQEU2Scoba01A9tJX2qPFTUCHvoiTLqJNQCPO/jI4HU1A/Xxhw7ivTUDa4iyt1bdNQF/ScIUn+ExA1AZP6fbrTEBk80TUyOxMQIVWJtFotE1AksvwviGzTUAyGl2iLi1NQGnfoceoLk1ApW3etYq4TUCxixe3KMpNQEMXr6ZFtk1ALNcqlCF9TUA7NaD53CtNQNZ+WTiFRk1AW5oa+7klTUAmvEeYfS5NQDU9V4JbsE1AfM5yn7lZTUDSTWaVyblNQMq0cRCItk1AuVBEuChMTUBu1qcR+ndNQFxtcEkiuU1Ai4t5YmizTUBwJUW26bNNQCaNxH+AuU1A9GE3b1y0TUAErfHc5etMQBqIiJuM1ExArLT+qQ0xTUCptmWv07BNQPr3eeH8tk1AzHyD/pC2TUBAtmDlh+NMQKQDHp3GXk1AQWxGZNa3TUBSYZis+kpNQN+4G/Q9uE1A132r/fSyTUCp6Rkl3ixNQMS0DETCsE1ADF28UL20TUApE//8Hq1NQIVgVLOWPE1AgkhCDXWwTUBaTgXhTrNNQHG9VrbQlk1AlupeJoKsTUDnylgvbRVNQHVFEzEyLE1ARUSklD2WTUDI9xhCfDJNQI5q2vbCME1AHOG0+HqlTUDlOYr6DLdNQGHf9WnfqU1AuODqmC4fTUAHlb5JwYtNQCRTv0RnhE1AIkyoxmghTUAnp9sXNrpNQE67OY+tv01As8hkjRSrTUBIBBJOkbdNQA1P2CLEs01AzW2P9Tq1TUDQWSuQKLBNQBLO2tmttE1ANSRGdem2TUCRwvkm+rhNQKgM9vf7s01AJq6lPVWWTUDvkc3SrM9MQPZy4Pgptk1AxLvalH4tTUC53+fSK7ZNQIlR4BMOr01AgCGu3Fm3TUBMsdrcALdNQDIaXaIuLU1AO+pD43qxTUBYSIoGM7lNQEQ3sUCI50xAHRoCpyi5TUD6JQIslDFNQEVF7Qz2tU1ARURSyxOzTUASNLrxsbBNQBIAStKOrU1AbaD/6a4uTUCQsIHqTLhNQJ3u9m8stU1AaPpswuGrTUDeCtu9DzJNQC23AehVs01A4WqQOLu2TUCGUyXmIrhNQEGaurvTs01AkYyBYbOxTUD0CAdASrVNQNPsDkPqLk1ADtRO6h1xTUClMKWaUh1NQDcFxO5aX01AUNJ96NwvTUAcqdS1lm9NQC0lRsz4Sk1AaTo8+MizTUC7QaJv5rZNQBKzkAjcq01Al0X0JXy3TUC2tLOvJDBNQNUVMy/Vs01Ap6rMbq0sTUABhzWFhL5NQNsoHRyjrE1A2iKRb862TUDAb0uyMkRNQO7YRtIquE1AmxsZyT+VTUCw8QA3LrFNQBsQ6bu+sk1ATFldggqwTUCu7LXu/rhNQCS4z9+frk1AVXiYameoTUB5Cwc8Qy1NQD7oU4fAQE1AvdV6aIavTUD0ukG4djBNQA4MPKBILk1Ad3DtQXS1TUAM8ZeCKi9NQJH/vMWErU1Ayn3oIWYyTUBoiGehC7ZNQOZodAGas01A+nnU6i+3TUAIs33A5a1NQEASjb+1rk1A5MjrZ4+2TUBwc9haDi5NQP/5gYOyM01AzhkRia0wTUBd30PQe7NNQML5cwWZtE1AXpvexr9QTUAR8LUBx0VNQCVt0BPgtk1Ay3KfIam3TUCueWRBqSJNQFIASn1TnU1AxshRU2eyTUAGSb4Y95ZNQA2KAT8XNU1AV3jEW6AeTUAs9/EacztNQDOmzn6CfE1AuteCWV8vTUCh3mkbvx1NQIubYPiRwU1Aok9SN5MKTUDmzsH1G7hNQEqk1XWvHk1AkYg7ceO1TUD1VqdR8rZNQBSayhyvt01AV/Oy3su7TUCWXpLYTbZNQPpvrGHHME1AF8fQarG0TUBTmf1gIxxNQB2pUlx6tk1Axo3bGN22TUA3aOQRXXZNQKDZ0/QzBE1AH6+11bgsTUDHDre5QjlNQLioqJrWZ01AQ2hcwzuvTUC+wLUosDBNQHroZEKdMU1AlUcd1YeuTUBLEQaibrdNQH9pd6oFt01AKHhb8N22TUDoPTcdlbdNQFY6VJcrt01A18zV5VYvTUAW6ZyhBjBNQBTOKTKClE1ARzPkAykwTUANI+eOmLZNQIeEywKbs01ASA4RAtUuTUAZYJNdlCBNQMZ0syBAME1AQxn1+90xTUBeYZbSOq1NQFaRRWe38UxANVADS/S7TUCWxhInTrhNQKyy6Yoom01AXqM7OmOvTUBfOz1D5QFNQFhs259uuU1AqRczdfCyTUBlOno+YC9NQCYvL0bmU01A9MNkuF0rTUAZAqG1mZ9NQIdtbYgrME1ArL82Zt+9TUBcadhW2y5NQPjsiEm5aU1AH7JGYUW1TUClJGdaE7BNQOq0pXrpt01AbyruLsiTTUCZZ0fDvTFNQC2gOHNAmk1A6qNbFTm4TUC/XmnInqZNQENbENfguE1AAOpWhTK4TUC7jVMLrCtNQPKhHM6P6UxAvfoGAHO3TUC7f6SnaDRNQG/0UFqzuk1ATqyeZfEgTUCD312Tt3NNQJW5L58Ip01AHru5eLK3TUBTTtpZU/lMQJ0g0rI3ME1AnRmiXnmzTUAv5XdsjYBNQJaAf4PfME1AAgB70ttwTUAVXr5+D7RNQKgoxpO9t01AKjz1HdYOTUDoRM3e3lRNQH24NY+7KU1A42jmAnSzTUCIGuQ+JvtMQIRzWuK7L01AnLWW47O1TUAzinMdx7RNQKND7yK+8UxAMFRsd+29TUCpsjC4MC1NQDlDPAnpWU1AElhlHyu1TUAnTshQQDpNQKAThh5utU1Ak4eBaYEvTUCmhcGBCrRNQGNRhuRA5kxA1s8Ff1CjTUCprzTypK1NQNzq21Nc3UxAuePVlh24TUCAJqGoN/NMQMaqXT0w6ExAzvJTKHwyTUClsCPjvx9NQHzr9l0bdk1A66wnKRoxTUBOxEz2FK5NQJXVDy5+LU1AhCvIpm+tTUBYfJTPky9NQNUT/U+kqE1AjMouRnS8TUCugBJuzChNQP0PfDZfs01A8t9fC9swTUCD49Y6IPJMQHMP3bPZd01Au0vl3g14TUCtD5R/8k1NQE1b85PfBk1A6TOdWRO3TUBWTkpeQbZNQPz2rvdaIU1A+jBEdobpTECeqHQKIE1NQIDlCjzcsU1AUlM4m3wvTUD1DQ2vR7dNQOriyDDNrk1AJojV0H6zTUARNHpCkE9NQICXNulAt01AbN7N3MedTUBWvAu3GrBNQHMxNuk5L01ARpRKyim8TUB6y4mt7wpNQNQpxoMYPU1Aso9S9ge1TUDI9ibrLzBNQGc8Iubptk1Auc0Z62+2TUCvwABuVrdNQD/zA+rKNk1ADqC8cqjATUAsPxGvnDBNQGVVjPlfME1AU2vB7EE2TUADzuM29qxNQKX1Dc+kMU1AlszZ4zl4TUBgOLpUOi5NQM/PZic0uE1ARw4Kiv7jTEC+k81TzZpNQJlXSJp0ek1AwxjD+nWoTUB2phtoVn5NQG5rBDDyNE1AeUj56PC2TUAKy682QSBNQFNJnLseAk1AsMb+2ucvTUDeQAEDbglNQNoCwxjwt01AbTQBr2q0TUAsBU8Zz5dNQA72yMh+Lk1A4CYXU/SHTUCRYlfdwbRNQK1SFSGoH01A2KkM7fxdTUAiyJbUK0xNQOCsagWJsk1AkwXQF7KvTUBbiWxEySFNQFCvJdeASE1AXT+Y81pwTUDi5yb0M+ZMQIMeiskZtU1AlB9E1eIfTUAXsFWh8Z5NQM++dFoOCE1ALlzmhF+3TUDUO6CZkKlNQEcHd5Y4t01Af1SFrMMsTUDXEiKX5HxNQNWXKVHhtk1AotAMeXi3TUBaVfSJIy9NQKXXwYrNr01AML+S9+2xTUBlh2nc47dNQGoNbqkCt01AUMRGFs8wTUDZRR4hxLZNQB1YW/w/tU1APRNc+KYATUDWDpkzgLZNQHYvATtRME1AHvRoRCIyTUC78mE8ljVNQMb+G3fDt01A96SnZxGoTUBTRdFQ3TBNQFxIdB3/ZU1AJqautYW2TUBZBJ3ePMBNQArmLKe8Mk1AYyimZKivTUDNj5ssIbhNQEYbhnNGL01Aat7oe89fTUDP5JLp9HVNQI1dN9by3UxAmDcOira4TUDcfenRh7VNQHRRwrR4uE1AK5GFZBksTUDbsqmFR7RNQLn+2pXwuE1AdV8NF09ETUCSug6l/yNNQFxNXysQs01AclWwQey2TUBjER/ZSLBNQNpKVxvvY01AkcepJ8qYTUAm9l31brBNQFMZvDYHrU1AhmbHcT8oTUCHbIwUeSZNQNTMJjdprk1AVcRK3/hBTUA1/XekoC5NQCJq54Z57UxAS7Qx171XTUCBbMVConxNQOJSZ1ats01Aa6PFn60xTUCjb3PPqbpNQH21bXkouk1AHuJ7tm2OTUAjSQzGZy9NQG9gqLVCKU1Ac+ruzNy3TUB7KJEXRblNQBMcbTELMU1AnXuwyCGyTUCg6FUXALdNQPt+Y8MGcU1AZta0Ske3TUDAdh1iqLlNQHAM6wnItE1AwmMnJpwATUAKGt6ub7dNQB6r2vkEt01ATZUv5x65TUAG3X1ABLRNQOPyVLQuZ01AUKNOMwiuTUBEeLHfMbBNQEKvUN7r6kxAEDC8U4FZTUCNhqnLnr9NQAIok7CSK01AIO4Sze9bTUD+jTVxr7hNQK6hI4qLuk1ADCa92ha5TUCiyokAeTFNQDdTvbx3J01AXGnYVtsuTUAXaM8BW8JNQBc8HSx1Yk1Awq+Iui7PTUDPFu6Wh+1MQOKiAEYidE1A/3Yp7N6vTUAZnuD8YLFNQLwwQnakME1AwIHnfu9DTUCdaDjIGLBNQBuUhbfsuE1AzkDSDpmQTUB75h+IW1dNQMyofq+Mt01ABA1ieA57TUAtxA+csK9NQIwgseq1t01AYmK7FkPBTUAfNQ9DcetMQHG8fwMVL01A5lhOsb8wTUBQXM9UY6BNQBMcbTELMU1ALoY8qBAvTUBDE9H9r1NNQPhhm1KIsU1A/1S4j5luTUCUpRdF0rRNQL7hlCT3p01AOWoFf3i4TUAouVll9rRNQEM5kpo1tE1A44ybbGA0TUCyMBuBXDJNQGpKghoPQU1Aj75kPve4TUDs4x1iLbBNQA/1FFE5tU1AwiWV4AiuTUD30OM4jrZNQAqRZlxHuE1AMcZIPOK9TUDjGk0mTbFNQJyLgRpzNE1AOcr3WKCpTUDGNm45YbdNQB46FJcyCE1A0ArhDBOwTUAUQtpcH7pNQAmqShHbsk1Alk4HMkdpTUCGvpop5rdNQGv/f1n7tE1AKnsaWA64TUAc8THgOTFNQE7/W+DN5kxA3W3Vr0m2TUBX0IuXcblNQBiEi206uU1ADO2nXhezTUD09+laRTtNQMLXa4dFuE1ANc2freG1TUBs37ow1LhNQEOz8/sNvE1AddtE6iAuTUD60HRjxLNNQP9iFQ7I40xA4jBYxruVTUB9mw+MKrJNQJeuthNiuE1AjuszJCS2TUAfKorxI7JNQBjlRLKdpk1AqTcMgYyuTUDfnHMvzktNQIb5KPZZsU1AjNxnK6B4TUB6ANaiArdNQF4ILttZd01AD5m0bc/rTED+GpEiqyxNQEqFdzgEXk1AASLKm4gwTUBEZYzSonJNQGZaJrK5lk1ASm5+saQjTUCxixe3KMpNQLYvQTDRKE1Az2kYla63TUBX5ZRPUApNQBpYDvf4r01AcpXTKRkxTUADqYwFrU9NQBcEkdaxt01AcgqLZEO4TUBzeWwY7npNQP1EqUKjr01AL314WFRGTUBV+WRPu7RNQBFoEbl3uE1ALJ0xyVTjTEDqjczmNhJNQPjzrgybtk1A0q6m5L6zTUBuJK6hyyVNQI1OXv6Ht01AW4GVBlsuTUAthL4GerVNQMqnPJyNs01AZPE6WpyxTUDiveG5rmRNQEnFAZQQGk1AlhR/uRu4TUCp5Y33XIJNQPNiXVRGuE1AnHirWjy3TUC2OnWynrdNQAT6caUbuU1AbKyoig4xTUAGONpu37JNQHj4BE6wBk1AlOxoZZC5TUCZr+aJ56xNQFEtbEytEU1AMgUOm/6nTUCq1FIUxK9NQG6CO1HZME1A2tE5JDohTUDmmkYdirFNQM16hIknt01AI0kMxmcvTUBDNTE00rhNQFhQW1wIuU1AxBImxyq6TUDnJ8+f9rNNQK5jzr30f01A/3Yp7N6vTUBpwJf0fn1NQLrw9FvgtU1ApJo1Clz/TEDAqJ34iVNNQJZZi19ftk1AOnkHdju6TUAntbkzUiBNQMNlDMxqrE1AHnUA5HapTUAstP31hr1NQFPdVxZbsk1AgAZnBwi5TUA9BoiwbbRNQOaa3kYAt01AfWvXmBq0TUASauZAd61NQIwdNUv1MU1AW2XIgo63TUDt8YrK6MNNQGO9xCpjNU1AMHpdV9OsTUAxa/k+XspNQIwTINi0tE1A5xbCA8mzTUBhy4KU0LZNQFUMN8bhtE1ApLKTPF0zTUCxntFzPaxNQOhTSkxL40xABqEP7lxVTUCkKJKHjrdNQPhNqDcqs01Ati+fnHQuTUDo4Mu7LrRNQKr5wVJSM01Ad0OoaoGMTUD/dins3q9NQAWVautdt01A+rPVypSITUCsEDRaHTJNQEkuIxOULk1Ab4jCETSxTUBb4+OrDAhNQJxo5nPWL01AVI5JqTCzTUBR8xaqCjFNQBar3HOur01A090PWieTTUBXrH/+JBRNQLK0RWGXuE1AogtdXkmzTUDSCl79KxNNQOHPcfv7sk1AqPYsGJXZTEBD0EHe7i9NQPB+4+WSUE1A1GPsndq3TUCaQ/4PzJRNQIQ35zfrtk1AC96p5eiwTUCDZlEBW7dNQLpWNisKs01AmF6bVim2TUD/dins3q9NQMsUkUmPuE1Ah5U00JQyTUDG3pe5dw5NQDoXzdZj7ExAzJCUtmSuTUDYSeQcTrpNQBJbIuvDL01AZrtJQPPATUC2MjAOEeZMQFQFF42Gpk1A0AqV5lMxTUDinOKLlrdNQFitQSO3s01AddwjQSkeTUBc8TMLTrJNQAqxyrHEcU1AB1ZNNu2yTUCLSYBVGK1NQPMo3ykWKE1AC3JM0w0LTUD4y2g2WyVNQKnKGCMrRk1AjARb8usuTUB+CyBST4BNQGaT6uhAt01AXOTw/+K2TUAlG29v7bJNQMa8x8kCt01AWJ9tUSS1TUAQ0KD67B5NQKlujgqnMU1AZXhjiW+yTUBVrNhEi7dNQM373L1ls01Ad0YM8zu2TUBEBZbcHbJNQGMEkByIuE1A2O7M4xi2TUAUNs0D4TJNQDvjyblZvE1AeY3jqhW0TUCsp+j+V11NQDOCQ3ZqDU1Ap4qB7XuxTUCNfD6U7LFNQMMbLfs6vU1ALW7+squxTUCHzl1boC5NQFDd9+Ikc01AVT2g/+u3TUBnn2laDHtNQI6DWmAGtk1AfA2RYgbGTUD2NIi5G7FNQCpXLllwjk1A07tpFg8wTUAk4Mq7GfJMQC8ScWJkx01Atsvm/Au6TUA0pvwSg6RNQNYBmKPNEk1AmBTQTbafTUDLt+0G0m5NQDBxrzoNO01A/EY5qTC3TUCF6edA47lNQAwfxsbU7kxA8eSBREMrTUBSo4AWioJNQGwkGX7ONE1Ad5GE2RgwTUAYHErGyLJNQC2K6K3pLU1Abz/fsVK3TUB4MsrT+LdNQLBvqJ8MeE1Ae8pj+iy6TUDchVL3ObZNQB9jOTzEtE1AS4MY1yQwTUDLH5HBZgdNQMBzLDyt40xAiQTqjKu4TUCdq0FPRjJNQHSCxE9fME1A6hizf+8xTUCCKM+5BjJNQB+VjEDyck1AuGTSE5OdTUDypDNjQLhNQBYm8fadrE1AJ9A9WU64TUAkmhR7iDNNQHjZm7DgLU1ADU0prv62TUAoqUnHPrZNQGaslol1s01AvHVdvhe0TUCzjExh5LdNQNl4M5uTME1APoTjZlUvTUALRq4SoD5NQJMmUxzyrk1ATKpH5fwxTUD0iFhylG9NQNEATPWCtE1AiYVIY3suTUBefnPshK9NQIps4OT1mE1ApQYnMn+4TUBacmYFSa5NQD+QdUBfvU1APPWO3I8uTUC9jVwLxWJNQKClBnbft01A8gHn9GcvTUBwiNA3lC9NQH4YGb/ApE1ACBSSGjpdTUDiANAOy7hNQARmeejhv01A/WsAu4a4TUDr+GJc0bZNQC1qU2fQlU1A6IpWMqk0TUAvhB7uqmdNQAXYSUZKcE1AnedNIX5DTUBUbPCP7rRNQMEysDBHH01AxEyM/p63TUAJn5F1xKdNQNPoEPlsuE1AXHs2pm24TUAQWCNZ9QZNQC01baaLLk1Av/k9Xz+iTUAySfkvhq5NQJaAf4PfME1AmFXcaee3TUBJtYx+q7dNQMrPyUueuE1AjCTRhn64TUDuZaxDWolNQI0J113LsE1ABMUw5HK4TUCuj2qdybRNQAarfiifK01AH+JBqJUwTUA5nC2b0bhNQAP7OgKztk1AmAp38QUbTUA9DBe2rB1NQNGN2M0mtE1ApVqFBEu4TUCzQ7I1LrFNQIFZ1/ZOs01AWp/7Wg0wTUCWTCIX4P9MQFNCnDfGuE1A+cnUfbSxTUDI6Fzd3d9MQLd/zBGQuU1An1pUHij9TECFjMaU1RxNQN+X6qv1sU1A6enlmjW1TUAH0X6P4rJNQIcYFBJ7Gk1Avs6AQSzETUBnmW1h/LhNQEnPiinPtk1AxfYzpvu2TUDPr4KwsKhNQMcKdhhVLU1AEcf6WNxzTUA//g4Pu/pMQGxh+1YbkU1A1zHYrfa2TUCQxxjCYZxNQHBYzXegNU1ALxCTBJC6TUCLIO859CZNQPfz3xWycE1AwLMz1j66TUDdTK2MDntNQJtbJunLL01An+LiDkCyTUDjz2/Tlf9MQEVy5jq8qE1AEGp2v4G1TUAbG4kmMahNQF2R74T07ExAZwFcitS/TUADN0HQ03dNQG0UVYUBtU1AP7I9fKTCTUBdV8YNxrdNQC2gQb3aLk1AaCOvOrOxTUC8TzQ1ybNNQGKWRXlSNk1Aa3puB8G4TUDKn3/K3xFNQP18vLjCsU1AB0zlV1C4TUD9MDLn/KdNQEudzyGE6kxA5KHFH3C5TUBA7mPHZxJNQJ+Wj7OucU1AV+I8QLu4TUBoczKvCrdNQF2iYZBDt01AjYtoTyc+TUCmY85zZ09NQH2w0ZPm8kxAZYpgR+GzTUD41N4eQV1NQAadLI0thk1AWA2i3MS3TUAgcTOghrdNQIcSs7GCuE1AFMTxbpOoTUBMm/BEzIdNQNeyj21gsE1ApnjVWhu4TUDFx6hfFbBNQJzNoQPVFE1ATLJULNa3TUCP+s8ayOtMQFbS3CJzNU1AkG3SJwazTUAYfisxZKxNQAGdRmwAcU1ACTSwR87dTEB9mWLaHqpNQFF7gCByLU1AIOqlV123TUDSPgEEta1NQFnhVfuDp01AXhgIAFCzTUDgqRxmtrpNQGXvb8DitU1AIM1uHwS4TUDS+58ezjlNQPwV3wCDBE1A+kzVry+sTUCmV5gbR7pNQKBSxsCzHE1ALXpWMLGuTUC5vh5FOjVNQI8DFhJiNU1AXeHidt11TUBWQpGXbStNQPlRjWfSvk1AZtB2vSUxTUDigxf/hDpNQH5AVgMAHU1A6uLIMM2uTUCt40M++rVNQI6lFLT/HE1AzwLajLkmTUBOAMDD4a9NQHMxNuk5L01AlXlwapIxTUChpmbV5AdNQFZf3Kl1uU1A6x90wI25TUCBHVdWCq5NQHCamnrJDk1AWM+gI350TUDmSSxvfGxNQDm41WijME1A4OEC6UO1TUDMqu4HebVNQNJYumzvEU1A/m4CXVMwTUCSkA4PHatNQEwUMQ4dMU1AtoqmBse4TUCStnOaM7RNQFbS3CJzNU1AzxqbezgvTUBBg0qN47FNQC77VV8BtE1A6CPcWz26TUCF8erX0y5NQI9ZzoMCKE1ASOD/yEGATUBEN8SY2HBNQAJRDmGusE1A11EdQ3cfTUCcf3F1brZNQH3fmQUEtU1Af7Z646+2TUDYO+ImZi9NQO6/l8q6gE1ACtcYIzJkTUAlS4R//blNQBFogqdqvU1AnrfCLf63TUCUyr0O2h5NQM/T5GSKKE1AVyZnn8qsTUD/dins3q9NQAnldCA2uk1AkZcYGVLATUDvPWZQamdNQBa9MkiTqk1ARtdTK2+zTUC9IQcB9FtNQCgqutg9tk1AfE9tSpedTUBGirdBG7ZNQEPzY7VAvE1ASl3/aoWhTUDvF4XaX7dNQGodfZshqE1AAyG0goswTUAWJOXmPrpNQJ1sE6SAd01Am1sm6csvTUAe/VmTTCtNQAOCZWnEtk1A6LnpNhowTUC8s0x9CLBNQPqzeXUks01Aa/QhYJ1yTUAUq8iixWRNQEAMeZGL40xAXSFXyIuvTUD+HS8kQrRNQBvzCwVFIk1AeEoJbXiHTUDVuCXN2btNQJPT14BhdU1AtI6aDsK2TUD40idLeLVNQEH9rEKMXU1A/h7okyT/TEA8HzwBLTBNQDsuU/Mct01Ar5TMg7UwTUCJiD95zbhNQEZF2PJQME1ABV285WoFTUBy+HGCNjBNQIM96FKYtE1Af2npJHW3TUD2Sxwd5UdNQFzfKhY5sE1AJG9w6SqSTUB8LWwalrFNQOQZI900Ik1Ab1BeAcezTUAiVzeyb7JNQFNeUiqV7ExAy9V+VXiyTUDnFCZtFJBNQKJWgmULtU1AMLkqw4ssTUAwBwy48rVNQB+j7n0gu01AhhD+5pG3TUA9qAkfbLdNQM/lqlTu/kxAoA3bywwiTUAadKiHWzFNQKpheOAIvE1AMHIHj8EvTUCcSHeLdS5NQKywe746sU1Ai3MNHBe0TUBV6s4MdTBNQIIAuaBXS01AY7+zLTYwTUDYIu7NsDBNQEATAP95rE1AyVT+g423TUDfr8vs9rNNQDex2Wqi+UxAsZ7Rcz2sTUBEX80IN+VMQE3rSk37DU1Aewx49mE0TUBq4zHqtDRNQPq9ROxjuE1A8DiEevcvTUBjMmxCyy5NQAmqwT+OuE1AOXD4eN4uTUAAMUFYasRNQBLje/KMuU1ANdaQhPkCTUAot364T1xNQPjSJ0t4tU1AljRROUyoTUD9KKbpqrBNQK99MF9ls01A+pK2wxsyTUBugGW92bpNQMro27Uft01A15DbkgfsTEBGZ3rmLbBNQAcahLwvVk1AUZzMe8i4TUDT9BKHw7ZNQFtXi4gpPk1AGa8plJ2uTUA2xbNtOLdNQEtzRBUisU1AGOptNeybTUC/X6jruK1NQIRV8SoCs01AwH9eFAdvTUAjh51p1INNQPlyo71OtU1Aj8lswbYNTUB6Xux0RzBNQDt2Br2/8kxABxfdtXbjTEBVpWByJo9NQMFY1eVRsE1AiuFM6LWqTUB+ZjHNfbNNQMObYBK7t01ArOOyKQy0TUCmGWfNX65NQO2DBj6HX01AgTCdz2i+TUDTjq+0yUFNQHTy2fZkuE1AAJHv5aiDTUDfZoYmYfxMQESHaM8pEE1ACmNjwH7aTEAsigZ9sLhNQOQVkQroL01APanH3C60TUBzziNRTfVMQKxO+qAe5ExA7nkOYOEpTUDJNKtP3rZNQJ9WZuWNXU1A0ZG/JGgdTUBCUV2GqbVNQNrP/v5FLE1AQNU67f74TED9fRoREuxMQApaHp9stU1AAzkK3gUxTUCEClGhxrZNQBlCcxr+WE1Aiix3hPm+TUAnyZL/3btNQIefZmgncU1ANT0LLRauTUAXEuwt/adNQEBS/Inar01AVwu4v1ezTUALgNQtqrdNQP1beUBit01A+lp2KFmnTUAPV0f0yLNNQF95rHWKuE1AIycb3iJETUDP6xEigL1NQCAi2OISeE1AOVIY1IJlTUA2vJiYGLVNQOJG7Hg8tk1AZbZ4DS20TUDM+9HTW75NQLu2lJuxY01Af48PIz+zTUBEl4cEXUFNQCqaqRPuB01ALnXEfKwyTUCF8erX0y5NQLaw9ZugtE1AKGrqtwe6TUDe5eFyubhNQLG+ykg+tk1AmdwuGqFmTUD+I/TUVLFNQLfuMBAGtk1ANKb8EoOkTUC992DP5S1NQPAMl2foU01Asy56cY60TUD5MvQETh1NQAEiypuIME1AppoupdytTUD/dins3q9NQN0FAu4ZlE1AnPoPV32uTUB/8yNhw7hNQP+kJX3muE1AciXH1/64TUD7QqxmYAlNQJm8jDnum01AfsozhL63TUC6hV03M4NNQD5+Lh/cq01AcxvUHzHETUC/JJttNrlNQHnNgHmbq01A6RPSmlK3TUBpCYox8rhNQCfLlCNwuU1AGUoeKEMuTUBWFnn6D95MQHW7ZDZRMk1AlreZg3qpTUBVbIftKSBNQAZjR+6Tvk1ATKEWDYSSTUDlrwOXjzJNQN5x6Zt2SE1A5ateCXS+TUDvb9/gTbdNQArkAVi0TE1AoHy8Axm5TUDvMzSc1bdNQApfdiBhuE1At/SnfEq1TUBaJkx9pwpNQEJipRPftk1AGPEGhFu5TUD8+2TIN7dNQMZF59iXR01AWDcxD/93TUBX3uErf7dNQGkKTLbNoU1AVPxLI4qpTUAdtPbQhLZNQJkGX2xdEk1A+0jkO4DFTUDcfcfAxbZNQJCaircJt01Aio8p4UWyTUCeerCSJnRNQPt/Usk/IU1AhkGdI/NVTUCkgKnUs39NQOcZ84rnuE1AK2QDb1c5TUBbpsFl3qtNQJ0y464DsU1AcwNxMEeqTUALrRGlL7dNQBXs6Ivft01AMuFlX4+0TUCOERUv0tVMQIoAOCTPsk1AGRNOFqaxTUChjz4U2q9NQD09lTyOH01A3t6l2/o3TUA2OkW77KhNQPlFKLbEB01AYwv9N2e3TUBEZYzSonJNQLOfl78em01AElwq63i3TUCEJWOuFDFNQGScPK70MU1ATnKlTs48TUCm6XB97LJNQHprzM76rk1A1wt1cLNGTUAx2rsD+q9NQKoSTWTZM01AUOTBexS5TUBaOgxX97dNQAKOnUKIgE1Ausxkoi64TUCK2q+b4rhNQIcAlqVXlU1A+W2q23SsTUD34qAd0ZpNQOX0miaRtk1AfmIjQZ4WTUARb5RiQpxNQIMA2Z4Pt01AVtLcInM1TUD7B67Uw7RNQMSLEbYu+0xA6YnFtgDDTUCYvyDjtbZNQF/396pLsE1ARTYnvcauTUA1SlxhTLVNQHwDjO2V8UxAzkDSDpmQTUCLeXWXtrVNQHAbe/WJtE1ADdAY37i4TUBCwQBa5DJNQPDu+1yliE1A3I6BvJq4TUAB/DGOwb5NQD3J+n3wp01AWfZjg/K6TUDFS5NFr65NQMUJB1oit01AUq4VyNqvTUBpwJf0fn1NQC0tVHGS7ExAPQdX2DCxTUAx2rsD+q9NQMhf+1/+uE1A8roi3xuzTUBtD3+Qm7ZNQFTisYXJQ01ALYN/HIepTUBFhkFah7RNQLybpyaBc01A8Nim6Jt0TUCoe1vT65FNQOa70dL5rU1AXAC+6DGzTUBC/4DCo5pNQDlxq2Br6kxAuinwn2CVTUCkuDM2eGhNQFuCkieMuE1APCzpjykfTUC5kVALz7NNQFZLLtyerk1AywxlW7R9TUAwcgf66sBNQMQBFnCGOE1AWx/CQM8wTUAvextnD11NQF8qxxFTeU1Ax1P5UGCuTUAF+VTHSL5NQBoFQtn/r01A0AqV5lMxTUD7W0IN5ZpNQFhy534NtE1ANHI0GBa6TUBSta4GvjFNQA0g1JSD7ExAMvqHLnqmTUBCJXvaSCFNQIwdNUv1MU1AbMMcIHmATUApaz3d9rNNQNpmEaTEsE1A0IDCc1y2TUB1OQBaJIJNQAh1B9WCtU1ADavMf824TUDEx7VvILdNQPPo6VmrLU1AljA0D4UzTUDX9ss+yrNNQPxEx/746UxAyAH+MdKyTUB8V4PhixFNQGD19raIuU1AsZ7Rcz2sTUAoe/pxIpNNQKvv5DZZvU1An0ZCDpOvTUBTg4Emd59NQPd1PjjQ70xATFY3Lnq5TUByxBkOKbVNQNQ45k7xrU1Az09mQO22TUAh8du+H4xNQJsnMGakik1AUJLu8RK6TUBH10Mqoz5NQJ0AEvFssk1A8OjfDUmvTUBKOwFB1bJNQO1qZF6QuE1AMMcIrM4uTUC5fqgMKfNMQFGj16Svuk1AXHabRBS4TUBmA0C6IbVNQJ3TLeyNIk1AqH9rTag4TUDSP9BcvbhNQJzvk+OnvE1A5x9Uy//jTEBZm1Oce7hNQKFrg6A8B01ADfUDJV22TUBIRXiot7dNQJND5hvTs01AUoCeJeITTUD4S+7hCw5NQNIR3pWXoU1A2Ygt9JK0TUDOiOV4YbhNQEhWQ5DbwE1ANOVI9w+6TUAn9slEibVNQEX9rNGIeU1AAJaQRbawTUAPxCeDxrNNQIZWwOahs01A0d9F3xkxTUAwYYw5grdNQGJtMdD1tk1AVph+ssVXTUBu/DW2XbNNQBuUyjiJt01ACKtiU4OsTUDm0TFE0zFNQFrWwLhBt01A2/MLlhG4TUDITeaqxjlNQFv52zitCE1Arb27Um0ATUA+9jEzA7dNQBXRspFzt01ALcblV9QkTUAphZ31sF5NQCp7DCe8Y01ACJLyvcO3TUA9Lj3aMJVNQMdT+VBgrk1ACZffafC1TUD5MvQETh1NQI8nh00kL01AuSaCMewrTUDN33N0b65NQI9ygnskhk1A/3Yp7N6vTUDc5cFU+LZNQCbRr1EWlU1AQDJnh4mxTUCkptsePsJNQCZFbLAkeE1AsQcfDOe4TUANek1RG7dNQICPdBzgtk1Au5YYeIu5TUDu584Af7hNQFhCO5p5ME1AJZGR5cG3TUDAsag5x7VNQK5MxrdRL01AEUsvoq2yTUCpwIAUjbFNQGLV8i6tt01AK4eHmJunTUASTEiC27ZNQJacecGdA01AYxwJbOS1TUBEO021ELFNQPEVWRO/tk1A8+jpWastTUAFgOVXZjJNQDGSR3ZmBU1AAISimZe6TUBG07rDBTNNQCTOGr2vrE1AFFXzHXmzTUBcadhW2y5NQLZqXLuCuU1AgPs1EDe1TUAhviq2KrhNQJhxP8ZLuU1AHDCwbwfATUDAfVRXXR5NQGWJJCN/LU1AFS6jjXTATUBtrhDmjQhNQHOffK7g8UxAd5CJHTNRTUAGigYbgrVNQNgO8LZDqk1Ab5XFcIEzTUD7VDgVkLdNQKgyOXuXt01AXq0ffXCwTUAiEIJoNS5NQNdV2tfrtk1AWqLlGcCBTUD28aak/qdNQJcpyR9EG01AkPH+t/O0TUCnBPxP87dNQOLjivUmL01A80Ivmw64TUA80z8slqFNQJccCoZ7tk1AvSOW2A4xTUDb3/S6ALpNQPULJGfhIk1ALQIjL+S1TUBhe7WLiFBNQEbQ00btt01A6Vi25ie5TUAMOq0/suNMQP0Q3BxUt01Aolexz+G3TUDHf7PyyrNNQOKPL5bWsk1AY2jOqTZkTUCjihzzyDBNQJIUe+7yr01ArOgL72OyTUCmjmC5p1hNQOlMvU4xuU1AOKoI6xK4TUBcadhW2y5NQGCRzHyOuE1ATxASRoKzTUBl91072rFNQJEvfuGRO01APjq33Xi2TUCMHvmKcetMQKK3QvQ6t01AUVTraIurTUAJgFXfr7NNQFF7gCByLU1AxyPO3UOzTUC6/rY9NDJNQLOkm8tlr01AVrdUdS2xTUBRtc8ZgR1NQKYK9tnysk1Az9/WrgmwTUAcdzTrZ7lNQJxp+2liuE1A0E4x+b+7TUBKN2vLk7hNQCnTLVd+s01A0IgyuPOnTUDIAHua1HhNQC4KKbh1ZU1AivNimYaxTUAyBkXotq5NQIKRxGcyOE1AuPk8TOIBTUCtj6y5HIFNQGNOT8aitk1AmqGRophHTUCm3bIbii1NQLWnnwZ5t01Art1W5MAvTUCxTNt7L1RNQF+BzT1ut01APPs5Vh3qTEBrFXD0hLFNQMM4RGOCt01AA6r4H526TUCe0ToaJ6hNQEddSMuMs01A4N4j/AqwTUCw+ITiczBNQO2IHZSWME1Adq+tmEWuTUDsgddfX7FNQNfIl4J77ExAOSX8pa+0TUBDMnzulKxNQF5iiXvktk1AR11Iy4yzTUDGBQI5IbhNQBFLrzPUsU1AC77YnNtQTUAY6ZdJFDNNQBMdiRgcdU1APunz4isbTUC/Sclo8bdNQKV3aAvqU01Axgr3+JC3TUBmqrTTukJNQO56P79Rt01AAyAJk/2jTUCrZc5K0bFNQEqFdzgEXk1AvAxRmMo1TUDWJpEo/RxNQH65nnzbnk1A53UwdvwuTUDwi9G3P7lNQD187G+6r01AjVUs6iPdTEBT80CVlLFNQFfwL2pPlU1AF4EL48O2TUDWtE5WtrNNQGXQ5jHguE1AcuhgKbS1TUBUoazedbZNQO3BA08GME1AF9Kb4mW4TUCEN+4S/xZNQMdAg5CaZk1AmPvjxYQwTUDpQsLkQaxNQC4xdJzotk1AylW1d5YjTUB+0WhlBetMQA8qRHsaaU1AMjNI97GwTUDQLJ3g/7RNQLfdgoeRrE1A06dTg02VTUATDBv37i5NQGbpQYb1t01AKpH7MegwTUChGSMiYvs9QNBBrkvuL01AVqTEhiK4TUCSbiG20a5NQB1Ti43atk1A/Fln1P+yTUDDSs3YC7RNQJ2x/dnGcU1AJ3UcxrO4TUC7n9xIXjBNQMH9dbmruU1A6Rv+LZlaTUDwy8k7qadNQGtDN5HbTU1AggC5oFdLTUArLftkY55NQJcbjU8LkE1A9jXiUiOxTUBZapBXJZhNQOC6V/TW40xAbI+jwXItTUBrrmt2OLdNQIBBL9f3tk1AZpCDDRa1TUAFna4LEwpNQBVhWxcHuE1AFBVrtYoUTUD24ZOjpa5NQFunLhvTuU1A5xUrO4ItTUDfbdQyM7RNQNWgqndxTU1AUd2nFo6zTUDMGSr4zhJNQN2G0r7yrU1ANWR8/Vy9TUCgl5lNQKdNQP92Kezer01ATLcXK0yhTUBjy8pGfUNNQHYJzyf0rE1AHHwzKJgvTUCwJwQhhAdNQAFdHgri8kxAWGO5d2UvTUA+eMY7xaRNQPXPCtZeMU1AH7Guzna6TUCYPqsfHi5NQN+4zsxTWk1AYRsu3DeuTUDj4NFWkTFNQJYDdcwWsk1AjGEN93EsTUA+frngBrJNQB6P69x+tk1Aw1Pr3PUITUBWw3NDTnRNQENBVWzbY01AG03Vz4ezTUCyLmGKBbhNQPNIFDRXyU1A/BD/o9+6TUDdo60WkGxNQIUoRO44L01AcB2YSBS5TUAXFYJN6blNQL6ZWgyDIE1Ai2UpBhfgTEA4iB1cQKpNQDQ9xEU/sE1AOqWmuR2hTUDO9eteEbRNQJxJ+AQJtU1ATeq0Fz5DTUBXTyEr+oRNQNeXoHZ1lE1AVQ8zS3z1TECIgSvRhTBNQKpBPWs3tU1AsDfbGtKKTUD3vKOUpbdNQEygvkUntE1AozQNDL+wTUCa2CbTabpNQNnsDnlP/UxAuWCZRU4wTUAptccYhl9NQA3ypbzLLU1AozsucwkHTUCsg1m0YLZNQNHnANBoM01Ahrjm5xExTUBHrMa6hqtNQJLruE0JrE1AoWp2P2i0TUBp4BKtXIFNQAMZoUXnL01A+K0R3cBJTUB8VFVg+HhNQNLlWJoFuU1AXGnYVtsuTUABmMMO3UlNQPZbVdViCU1AgaMMQDq0TUBxF+wX2npNQIpbWE7FB01AW/UhF6K2TUAQZyOrpUxNQI5lDoJDDU1Aj9/Aca2uTUDLgYUk3q9NQPTZPsMoZU1AIB63hlKxTUCfHxNf3bZNQIogRfRVSk1AsZ7Rcz2sTUBOqCt3a7hNQDx8BGxBTk1AKEPk3jm6TUCTDNACI6NNQIFK4wSftk1AdkYYLPm2TUDVzVo5oLdNQHF3EoPqsU1AamKotSVITUA3yCIkaEdNQPUKDbjHtk1Ab0j1yk2uTUDgkc8S27dNQL6PwIOPIE1ATXo299O2TUB1Q4jDIrZNQKGpfxY0tE1A7ouDpO+YTUCvsjhFyS9NQBD117DVsE1A4lNIiDyETUBMLtdjKLZNQOqt56EYX01ApGA6+8gFTUBrgXR8hLdNQGovNd7vuE1A8OMXpVowTUBGROAVfz9NQFPmyD7gtk1AQbWQqSC0TUCH2pxyoJJNQOSEey+WuE1AuWMu35W4TUDshFGx8rhNQGiJTgRguU1A2f22rHIDTUD5hFFXirhNQPqQA0ee8kxAdNsKdyy0TUA2d2mrErFNQG6kyCeFW01AHX0l4xadTUAHcoEzgrZNQGOwV7z5MU1AGzjoFn+2TUB75aYh6LlNQMV7mUnE6kxA7lFMtf+dTUD7cmLAGqVNQAuFdVb3O01AR1THGkONTUBZ8Tf+3bBNQEVAUbotsE1AYiFJIvZ3TUD0PjDst7lNQDXyvixLJE1ArALmbPGyTUArwaXhqLdNQKi9uuqtsk1AVbVsawMvTUB0xLY2YaxNQFmpZ4gHHk1A1CEK7xUATUBX1PqMR3FNQBggwp1csE1AUzDEP4OyTUBWNo/vZa9NQNsf6zzQEU1Awrto1tKpTUCj05fDibZNQN3tgtHJkU1As4vnWIIkTUD3sgpxR69NQFXezcVvs01A9VE+EBGqTUBLN7VTlLhNQHX5Cnn3t01AodwMooVsTUD/ZYOJM7hNQMvzlkpRGE1AT2i1n3a4TUBU5vMYuy1NQJ1acXb1oE1Aq1uJVNyyTUAvCCK6cLtNQH0UnN1CFE1A4LpmYPcwTUBsMe+zCLVNQOcYJjAVj01AExxtMQsxTUCn+Itl9WVNQB7Pt8LoOE1AKwG1MVgqTUD8aegpiy5NQDbBeBRvmU1As5yzQaESTUC3Cfgx3bhNQJUJXif24UxAPpYENHQzTUCxKhRLYIBNQJnPT/dCuE1A/AIcVNYqTUAknhXeWS9NQJNOCjvHtk1Atsi+VRO0TUD8Fpd+lbdNQGZJpygIu01AUsf5AIQvTUAkxoAWv7BNQNdkaZ5htk1APvehmK65TUAEMFkad7FNQAit6HRcsE1AvWAETgKeTUCAzkZa5rRNQOPBmYxYMU1AmZc/TwG4TUCzqxNd66RNQJMSPUX9rk1A0jQxyq5hTUCO6yzEnL5NQORZkLPttk1A9r4fooZXTUCxhBnPOLpNQDFHZSaIvU1Auinwn2CVTUC9lTVeibVNQFEnGlXtsk1Ax8DzfpezTUDzHNJXgWFNQMqBAHb2g01AAlEOYa6wTUD5ZuEdjHBNQOXEweAw7UxALk0jJ3SxTUDOKAIagbZNQDjsH1uQuU1AR1uKcdu8TUCcglDTe71NQMRxacpxV01Aeu4jGaa3TUC6KfCfYJVNQLWKLBv+p01AsMMw4Xm4TUCJRt0MM7ZNQMueBZQmsk1AeySUXrm1TUD6a2SnbbZNQAuVyIHSwU1Al8k76AmoTUDDi6a32gdNQMH5FPriE01ASm5+saQjTUC8rViV7i5NQPE2VL0Ps01AmYjwlFC3TUCn9wKVLb5NQEQwDAUPME1A3A85eB+cTUCIywka8H9NQPLvc7Byt01At21w4gjrTEDcpd3FT7dNQIFAd4sHuE1AvV/OvdOnTUAhvDpxc7dNQFIIAJSUt01AiOSSs/gwTUAoj74GEq5NQHgXtiTeM01AuOBeEPu3TUAva6jGdCxNQOx9RqheLU1A+8nsNNlVTUBK/mK4OjJNQDLcSieGs01AndMt7I0iTUCSbwqq5LZNQOEHJF10qU1AY/cPfKSzTUCWGk2ssbhNQOAVjHxVp01AGZAf3BkyTUCSruZxYK1NQM8eYXZ7uE1AD2fPU06hTUDOQNIOmZBNQPT0RhaLlE1AHjwMvmjvTEAj/uHow7lNQHAvYDF+Lk1ANB0D0XesTUBTFubi4KJNQE1N7a3FoU1AAAFEXr/vTEC2Pr/HpzBNQCAOMDNG40xAGRQUrvsvTUDYM9spErdNQLoN9l69uE1A7xEKoBbsTECvZttbGntNQFF+41kEt01AlANvhg4wTUD2xRvovlNNQJ2EODe3MU1AakxsR6GtTUBT6SKr2LdNQPz7/RjdJU1ArN6VN5G3TUCGuG/kjbZNQFbS3CJzNU1AvXwQjWyoTUBz77l+EbZNQJsU+W0UuU1AJOGpr/anTUClAHLYZLBNQCEuiwaXJE1AcZV3++IFTUCHbW2IKzBNQMflbxzbUE1AGuJQ70EdTUDRhJ7NpzFNQJrhHR10uE1Ab9MQnXe0TUC3ic0lQ8FNQKU9oUcPIU1A1IyTffi2TUCOB7fYwU1NQF1Ga96/sk1AUhu6Ew0cTUAReO6/MitNQD3epwrPkU1A1y6TpKXbTEB0Rh7SNbhNQGG/31tPLk1AqRlf7hK4TUDN0XUhnUpNQOdLfgHMu01A8+jpWastTUAJz3rzZ7hNQBSrYpfZv01ACKkOwmC3TUBrJ3oDJ7hNQHCe8qPTsE1AgZqZy3ybTUDmKa11SrFNQD4JJhzfsk1AaAuT57G3TUADIbSCizBNQFeXlCOpsU1ADnG2WHacTUCrzXbpP3hNQCPnaH1IuE1AFJzlXri2TUDC2kSyi7ZNQCUJxm5+sU1A4+DbYFewTUAeOBheh1JNQK1JFUwGt01ARYOM7FK2TUCaQ3pEbbNNQMKU7VBXok1AjY+0w0T1TED85Nvs/LtNQJgZzBNeuU1AVbTy21ceTUBvEvZ4MJ1NQFccfVEGt01AvCBVo9ztTEBgnzcud3lNQFBrzifUtU1AH2MqJme4TUB3hxmv/FNNQPS9j1mNuE1AVoBJeXizTUAwD2yX+LZNQBoZF79Ws01A7069I2+zTUCD8+m6gLBNQB6U2qcurU1AcvWNlU/qTECgZFHX4bhNQCX2CMmD3kxAo31blnO0TUCFVsQc7qxNQLNQUtzVtU1AnHixEflUTUCezzbOd7RNQH/Q05l6t01Axi60w9G3TUAwpAiCnKxNQIq0O2S/Pk1A8RUIdPIfTUA4B3+q67RNQN6Hz3SJtU1A7camGI9xTUBKepeL9bhNQPtvv5BEt01AioP0/5W9TUC2YsllFSJNQGk3dWsp/kxAYzq7NXSyTUDMqlSeFzZNQBE+FKOSs01A1skzWKG3TUBSh10PbLNNQEPLs9NCM01A5RvDItMPTUAN9+BlTbhNQDPlUDaOXU1AhXWbSwKxTUDvEqgvBbdNQAx8Qpjsuk1A0Uc2/6dkTUDWSrKCgrhNQCxyyRCXsk1A06dTg02VTUBiC5hMZa1NQJsUg3kJtE1AUQ/cZ7cgTUC4dRBknrlNQPAQkorkME1AX2z+fmu9TUAh4KYj4cJNQBerksTl40xAfSi85TevTUDeRinwn45NQC+xqc+iLU1AT4ioWwwwTUDURdmcIbdNQOToPKYWuU1AJExO3MgwTUBUgvh9fLhNQLDPVYbMsk1AgngeETK3TUAVSm+7IK1NQFYpADweuE1AhwdYfHBnTUAe7HIjK7BNQNHoO8aYt01AkRCQUxuzTUCikVpu3XBNQD30yD7N2ExAcY0VOAjlTEAF2vilePJMQMg+WV1IoE1AfFs6bddYTUBp6DeRAlVNQEf0JuABr01AwuHsFyfsTEBx6hW9MpJNQMyth2RbuE1AMnF+6kOwTUB6j5oJx7hNQDSxDSFpt01ANp2dYe21TUAQcXArmZBNQEAs96LtLk1Awh9fWby3TUAW82E+t7RNQAm3L8xLtE1AFNs7CxQxTUAwfwoFXbdNQGdIQJrCNU1AQ6IAL7ysTUC7wmMySx5NQBQreNedNk1AUdO6vkm3TUBRe4Agci1NQGXIpgwtrk1A4K1YUh0VTUCUMx2C0LZNQKh0BmfhtE1AEZ8BHa0wTUCeWGZ31bBNQEZbgSd6vU1ARU/ZJFW0TUCJKolPridNQPHOZ8OnM01AvkNDHKO3TUAZwRAmhGlNQEPQQd7uL01AF8T7tzWwTUAhJGS0IHFNQL/Az2jetE1A4NLZO48yTUDSzUB+IrRNQPzGySU1uk1AlU+DgcpSTUCaOGxzorNNQEmixL2fsU1A2YFoBb6xTUDk81eFULRNQNKIc6INAU1A4bIa0TgvTUAZbk6jY3pNQNZHNbHQbU1AL2mtsM0vTUDAZ3nn5yxNQISw4VlOrU1AWoK0WF4wTUD7oJcdeatNQNrzX2B9L01AAyG0goswTUBIys8EpE5NQCK8Ro2oRE1A0oL5MY2tTUC8275J4bdNQMhZAzr7t01AIC23V5tOTUDdB2PNxsBNQDSm/BKDpE1ALHjVVAa8TUDsfQDcMzFNQCQlYCS5tk1AYDZOp5q5TUDza+AE0rNNQBJaLQWmuE1A98ougfmxTUBeG3wQQrhNQLtBQUC4tU1AWAojD2KDTUDcy0bq3UNNQDeLNwXTtk1AXGnYVtsuTUA3CFjQb7ZNQDWkek6jsk1AvvJvPr4MTUBx/zXQA7VNQCUOFjYvNk1AcDqIujm1TUDZTfhJvbdNQBwS4HJuN01A8nSCrjS4TUBvGX1rNrhNQDo7Vy1HME1Aqq/f5ze0TUCK048yPrhNQDXSzoIssk1A4alJeQANTUCVotdQbfFMQDIzSPexsE1AsC0ZCC+BTUAEt4mYT69NQJhgI/MZuE1AlG2lMhOzTUBSXMJzJ7ZNQDaKy789ME1AbJGDQAqtTUBHl8asvrdNQEXF1c42M01Aslik2jK3TUA+YdnJPbZNQKn4yUXxuE1Au5/cSF4wTUAarWCRKLlNQIE5m6Q2yk1AuCYnwwhDTUB2dF0cpRtNQA13mgY+tk1AQtLrrgy6TUANciAUsxNNQIhtoRcOsE1A5imtdUqxTUADOJoq2WpNQHjDwk20tk1AoV1dwYy9TUAmslZDhL5NQK07lYSluE1AedvjMGI4TUDhshrROC9NQPbNo2bxtU1Ame5y4A8cTUBU89ZbFTxNQEhLy31Ou01AXcWova1sTUC+NrUnZLdNQJquhFlsdE1AbFkOF96zTUCDssCq4yxNQFR47zu3sE1AQPZr1VkyTUCpt+jCVLhNQIX2lLrxLE1ALTcF9RNKTUCT//my9WVNQK+UzIO1ME1AYVN0F0W4TUDQhYgiEaJNQIHBwJS2sU1AdTeFYpE4TUAmELX1PuxMQKFu2P52GE1A0V3O5Y++TUDS2UuPeLRNQBEk1TRnsU1AlegZm0MfTUAjg+B1H7hNQCduuXveHE1AQekuNuwBTUCfrYZASOhMQPPo6VmrLU1A1tlRnYE/TUAEldw+fi9NQFnU9rbVqE1AU1BCTX6zTUCi7k8xBbBNQDEUQNffoU1AevleiBoeTUB30pEzULhNQAewR/WHhU1AbIxxhyLdTEDYluuQya5NQEsmoL4NIk1AhZEG/JHiTEDpVNyO4iNNQMlyTb+Ya01AhcrgX/6VTUC4h2PUUK5NQCu+QnzVtU1AHH11QbW3TUDRBNlUnrpNQJJsNz5WsU1ADA/Fh/q2TUC5CD3/Pg5NQE+ttQEqdE1AOZ+TMJ29TUDIUvROObpNQDuE9pm4tk1AZDhZfui6TUCeV3epn7lNQNEPNkwjuE1ASpJTb/EsTUB7GKcyCmdNQKRdl8Zmu01Ar5GLtaG2TUCocef2WZ5NQHII9Ad67UxAa3bA68W3TUDLEPOI0TJNQIz2y3UxL01A0tMtHiK/TUAAl/ZO7QZNQMEXj7DmL01AgTgFYLOzTUCfkYbM0rdNQP92Kezer01A592f9n23TUALNUPwhLZNQH1HLicHuk1AAlEOYa6wTUAJxgsc3etMQG7d3PuQsU1AaxVw9ISxTUAsHIJ8UrhNQFd69ukdxk1AjDORNGG2TUDLv2InkKVNQJWkvroFqk1A2Xgzm5MwTUAAU3NuvbRNQIw9Jo/dsk1ANFTR6bqwTUDlXTpEabNNQKd28t8acU1ABEmUdj4wTUBUuXSWGjJNQNEu0ZCEtk1A7GUbPiWyTUCis/sunLdNQKnMKXuI7UxAysx4ge9dTUAwq1hYWrZNQCUNKFhb/ExAqGWEJvy3TUCJyDWahrdNQO+fIAaXLE1AlZKk60+5TUBRvlSfj9tMQIXlCc47Hk1A9rcdvMS0TUDdVrbOEb9NQI7Lmulhsk1A13nEURtoTUCPHalBPhVNQFPslYNbr01AzdebUv64TUAxjoF93BpNQPxzFEl2tk1Ak8zOXpksTUAGpuPQIgFNQKrrRCANpE1AKqIbZSWoTUBAZ/St9StNQGAS9j33aE1A1za8d8jrTEAQKJ3hbehMQGZb4xGBuE1ApWxHIii3TUDaxwr997ZNQM5utv7+ME1AZvYZCCWNTUA0R8BAZ7hNQJUKw32Lt01A1nzXHku3TUBaShLfjm9NQCKSzyUZsE1AW5h5eBcxTUCreSeMkhxNQL85Hyvdrk1Au84olL6iTUCGWHGAM7RNQANKRYRNL01Aj/T0BmglTUCy6wIfn7RNQAlB6sKntE1AhqRDFXW4TUCqrks7SaBNQAswFDluDE1AcWu8zunpTEAzdgXrU7dNQB+kItSJME1AgBUh3XO2TUCPUwK0gSRNQCdTMQi/ME1At3dvUGW2TUCRjEyaiLBNQNll+rkis01AfkunPravTUCZiTNeL7JNQPl4mgFLtU1AqBWqIE25TUBuXuu2g7hNQFl174vAL01AXwU0m9+1TUBX0emR7LRNQLGMwWBHqE1AFtqopzm4TUBQbiRFlrRNQJf6Uc0rtU1AWr7Cz192TUBZNQaYSC9NQHeZddxBt01AU8BmWa0wTUBYrGn3HzpNQHbDMiuOuE1Az/eBlAq1TUBU7x93PiFNQKdrC2aLtk1A5EgKSd0lTUDub7ueur9NQN45iWRPuE1A2C+ZZcq4TUCSFUpGFPBMQH332vy2uU1A0/fOwIK5TUCCALmgV0tNQOIS8Rp3tk1AsZ7Rcz2sTUAEQmuYcC1NQMHdaHk9qU1Ahf7u+P64TUBsehQYr7ZNQERjrqfDyk1Auv5cp9+zTUCfYGkQfDJNQHmedSgetU1Ae1gXEIAzTUAHvq75LGVNQGp0HGkGlE1At0rw/o63TUC6x1NkWbJNQMSVhAnFjE1A2+xp5MsvTUAXWOEFs7JNQDV/oP7CuE1An8IKQR+sTUAso3hy4zVNQGe92znGtk1AR56EXJ22TUCX3G1fWzJNQFB1emxMuE1ATy6Z1qmvTUBhAClCZINNQKNbmrdIuE1AFyyQ0U0CTUDSE7jnp/FMQPJY6wM/uk1AAiYR5ZqdTUAwwugZTLdNQI42O5+V7UxAuhJ5c+m5TUAlWssthr9NQKK3i+Ujtk1ABKmWfsGwTUAGqFGfO7pNQNAYEFW9tU1ABzVKiBK2TUDAvSh0yLVNQFY0DAW1L01A8lZciQq2TUD/TK45ZpVNQE0ZLknmv01AOU1u9Ti5TUCyFrfTsLBNQOWM/DZZHE1ATCsyY2+aTUBjv7MtNjBNQFqw1XsHME1AKfx7szK6TUBYYDsalwdNQLDRUmIq6ExARcsWfCG2TUChHd+xu5JNQBnubK9ht01A4CYXU/SHTUBL/DMXUetMQNSwno5JqE1APTPQ5vQFTUA/FUbblLZNQCILbaVzsE1ANOk8dMa/TEAonBR8ElFNQEWOvYviQk1AsRKpSGoUTUCG9J0EOWdNQOAmF1P0h01AxgCwIn3DTUAb/C1fn+hMQC8rzvwHtk1AFMTsZLC2TUA2tU7+3bdNQGOBei+28kxAL8oevhS0TUC2l6bWD1VNQOssLiMfrk1A6L16qv4uTUA/GzYPjr1NQIOXUh7jtk1A3pNFIFy3TUAoKHTD4LNNQE30R3pfuE1A9QbhHiC3TUC5XoGM/6xNQL+Eg5+fqU1AQ9x0G0K6TUAl+cU/pLhNQKuLkFH9t01A7j2TDdCpTUB3xw032LdNQAlBlEwjB01AaSmpnp63TUC5gJTlynNNQJay2H4tsU1ANTRoBbBGTUD4hrtrYj9NQGkhmnDasE1AFhyGZfU7TUBzA3EwR6pNQDvFfhYOFk1A0ZD1+Qm3TUBObRMgHS9NQAZK3qzttk1AKE/W80wcTUDWvZJ867hNQIXNMiqbtk1AdP9zVsMPTUCmmi6l3K1NQE1k74AEsE1A4RqmpSW1TUB+FjPW7rZNQMLtZoDZME1AyHrSd9tITUAbr6Nx5rFNQAzl8jnROE1Ad3P6Vy6xTUBSmTdHy7dNQCk5WjMYFU1Az59Tm9icTUAizMKBELdNQBVo9RB1ME1AlY6jLxlMTUAl2P7kbDBNQOMYafyctk1AbJueWVQDTUCqJat6abdNQGIbPzRluE1A8u7r+aCkTUBzxcW8wq1NQINnEeDzsE1A70FY0TC0TUBSQY7xIjdNQG6CO1HZME1AFKK6aPi0TUC+6EryyrhNQKz+o+/3sk1AQnw70UFoTUAWlK/PjvhMQOUctegZ6ExA9m/rrJgtTUBRlBdazrNNQFpC3AcbuE1AS7j+mPK1TUASZlDuAwlNQAFqCSImuU1Ayo8rirm1TUAX3nKfhrZNQK54yHZJhk1AC6LWm+w8TUAkt5l7OLpNQGepv935qU1AvjhCWl+mTUBXpVk/y7FNQFp5R7lpBk1ACXEUn+C7TUA1GW/nqqZNQOKLkhSmXk1AMvhEXYS2TUBb3IH9RrhNQDoU8vizs01AQ9yfRMK4TUBnZyxJxkpNQPv6YsF4uU1AVyMGIOyvTUBS7esFADhNQOIuQtdYUk1Ar5dGNyi2TUAR0WHc7xFNQJH7LEj/G01A+KxRAr64TUCJC9hJzbBNQIDy7p2wtU1AdQvCKNBFTUBU0+cgGxVNQFYBIxNaYU1A85PGs8awTUBkkCqZUbdNQEk4nN9mt01AFOhE8JQvTUAgOAiCC7NNQG/UJePhtU1AunLlzhFGTUC922vFZB5NQE87OTAQIE1AzD1HUt+lTUDuspL9MnNNQPciDG2inU1AVZ9YQ3ezTUABPoJw6pJNQDHPZ4uNtk1AZDRuoJShTUASAIp1+hJNQF45354iR01AYhgC1pGRTUC63O8dP5VNQAVyg2BNuE1Ad9bTJgSqTUDzTp2jQC9NQPdJG6MTPU1Axa3PocerTUDhshrROC9NQD6jvGTnt01AsDpj0DhLTUAjss3LMqdNQMm8YKext01Axwj6JIywTUBDe0lcx7hNQKgpYi+zt01Arch8Ux7NTUA2BkOjrJxNQP6tQeUcp01A8oPhFYW5TUCmy/NvaLNNQMmgn7GLp01Aks0gj1q1TUByruMzRaxNQFDLQ7bytk1A0lLzeOOwTUAW0hdcgC9NQHiT7JGB40xAAcoEdJNfTUA7XRToQy1NQN6EVTSbsU1A4FPDY3i6TUBtBM2/C7hNQHH6VOh9uE1ArFdUU8W1TUA7s6tO3ENNQJMFmPgft01AJySmwpawTUC1tjS7wrRNQDfrNnktsU1A9EjUrtO2TUAn50cbsy9NQIbhg6o3uE1A4QlL0SC6TUCC4SD2I7lNQP4DGCACqU1A71KbxsO5TUDNIaZ6vKpNQJ6MigN+DE1AY1O0FqO3TUC1wp0U8KxNQIac/VNssE1ATp37bTY6TUAuDHGEZnJNQKN7v58R+ExASMfma0yvTUCMdXGYVSBNQDqu2RvOtE1AsQACeQC1TUBQr/y6d95MQCvzsET8L01ASYt+yAW0TUCaXTvi5L9NQKUzUHnvUE1AiNgeEzEJTUD/d7R5YrFNQA8gqYI5uE1A4CYXU/SHTUCnMCoMFrlNQFEjVHpuf01AMSFWijQpTUCzdA81r1ZNQBkdaNExpU1AffBQRcAvTUB0huTjZblNQNmLA0ZzRk1A42o4RBs0TUCybVlSHbdNQOQZ806it01AYGuCqsu4TUA6V0KKZz5NQPcfXy3Ds01AJuFjzAuyTUCCO1SoJblNQHhZUNzTuk1A1m8TNDu3TUBC+Rev0LBNQLlC+pgNtE1A2RVX8MGtTUDMadwAPjFNQEpVKsIBtE1AK887uT61TUCK3ajCL05NQDl+27Wa/UxAfpYTcc8wTUBPcwPm0bZNQG5OK086LU1AvOp/Leu2TUDd+z2SY69NQJwebqFnsU1AFwPAebcxTUBVk5DQLzFNQBQiLXXpsE1AaOANl8cvTUAyfWMjlgdNQObJ+Keyh01AtPJjg48UTUDMsC0XNrpNQP2pw/wSD01AYIkDQc1nTUAUtsZR2K5NQAzpy8B7yE1AUR79SXovTUAOZHPqkrdNQHC/Y65nt01AZcimDC2uTUBNGgjy3LpNQBKJAWMeuk1Al+9LxDNCTUA9axdJ0PdMQNaAfKAur01AjhgjW5CuTUC7n9xIXjBNQPaJJoCMt01AmY9LLhe+TUAsL0/VtilNQMaUsL2CIE1AMoatyXVTTUCK/a5/ORBNQLIUJ0Couk1AMasrqL0bTUA4P1v+E+hMQGcnIcYFpk1AO+vQNYKzTUAsj6vlDphNQLo8sEju7kxAydUskO+xTUDXVChtEbdNQK+5wbmTuE1A0v4RpV6uTUB0LUTWVLhNQOcDZQr1hE1AurOPmVO2TUBnsukMILlNQJ/ETK1Gsk1A3bUqBUqvTUAtKVpJDrVNQAzNWs6ftk1AwlWin4xxTUBuIH4aWrZNQKQ8qrs4JE1Am86OXuUvTUD37vy0uSBNQHb/MdRpME1AkkFjF66wTUDDe3MfY69NQL5LmHeisE1A6A4t9LQnTUAg5Q2pcrRNQBGQBMM5t01A/3Yp7N6vTUAvaa2wzS9NQOFTcf9+sk1AfLW0X3uyTUDMs7guATJNQMrbBu5huk1A+ac+u+oyTUCSP0kd47ZNQEwzeF68uE1APoTjZlUvTUAAaOiIUTNNQIexe0B8xk1AP90zray4TUDV4ZCP5yxNQGqEkyjubk1Acg9hJnitTUC/BRYUnbRNQHxSgMR5rU1AnwiNrwayTUDQx5rKx5JNQOdrOpCnrE1AzCPibPS3TUCyCuIvaY1NQM0tQJn1uE1AW+EQCKevTUC+kxREfrhNQE9Yl3qftU1AQVkVaD0tTUDI6jakajRNQB3PpVJ2uE1AI2iRLMy2TUBMgmU0IbhNQC5x6dh3uU1AyVrUv2zjTEA1u4y5vLZNQIwKZREePk1AxCgee8fpTEBLsFPoq0BNQMcEOz+wL01A6opwD2owTUCh+Au5QrdNQOQZg+IZpU1AalpISXQxTUAhY9+50SJNQB2e+fDcsE1ArvCx/zCyTUCMjrVSty5NQKNNd4xit01Aq+pvvNg6TUBuUhJ2PXFNQAizrzE0uE1A8wHCwWQVTUDLQEq05sFNQOKQGCIauU1A1Dnzme+4TUD0yhkiJsRNQB2RFALvDE1AcbPidae7TUDrEOsGsMFNQKsV9KgUtU1AVpKpKPC3TUCFEFGWknVNQL87NwSRPU1AQ90MSacvTUBRxWZN8x9NQB8KhSYqjU1AaLXLula4TUArlTPS9b1NQJs2vumAtE1AdWd+dse2TUBswkmuNbhNQIDDXyRTrk1Akmw3PlaxTUCvBOfCoS9NQH+tb9Q7kE1AP10/Er+4TUC/DzPATqhNQE71FaXKsk1AmCwsT+0yTUDDmzBt2iZNQLf/oPc7rE1ASjMZrRWyTUCMawIMQbVNQH4Qc904LU1ArAipT1MTTUB67mDfvrdNQPzg0uzt5ExAw4J3fQAwTUBIx+ZrTK9NQIC6hkJpeE1At+yixX2iTUAcaDV723RNQKaXxgeLj01AVEB68WwyTUDUWqypDrZNQB+yum3xtk1Ak8aSH1KoTUAecGEDDrBNQLlnfsGpvE1APihEnUYxTUDBhc8gVbhNQBOhJxeeHk1AzByfJ0Q/TUCJOAX/7r9NQIrZkzPBsU1AGDs0VzG4TUDYdUG8/zFNQNKRELcY7ExAd7NCmh6vTUBb7bgYvrVNQGg9vF7YBE1AlCAk5iG1TUCjgJ8l5bZNQDL40ZuNfE1AbvOA0ZG3TUAjSYoVVAhNQDJxfupDsE1Aev8RsUC/TUDDU+vc9QhNQJeGDnvZuE1AEppCxhOqTUBFE1p/HBhNQNIKXv0rE01A3eavRHCjTUDRso1ts7ZNQArVih3LuU1ANWijtF9OTUA6JstWT+NMQDerx4nEt01AofT+W7+6TUCOVFjBIPJMQCkm5QENt01AeQZil/CsTUBlIpxgzElNQJrJnXuLtk1AADrHFS6dTUCMY0I+1a1NQFS/p7A0t01AYfnyj2G4TUDienpctrlNQDKwLmkfuE1A6wKcIZqsTUBSUFfirUpNQKd+nfISJE1AENmhH3GzTUA/iHAF3zBNQMeowF2Otk1Aye/n9V24TUC0adxt2rlNQOdGHurMtk1A0DEjfkUuTUAIqWI+PTJNQPgDjWysqU1AKaJJ658zTUDWEUm7nJ1NQCahKtNst01AkArmET8mTUA4puGLnrNNQAzFBK/YgU1AyTLJnjC+TUAeUdjkP7BNQIth7fwIsE1A6MngDz00TUBXxhM6MrpNQCPSrMD3S01Aqk12/Km3TUCua6NE2jVNQB7YHfYmNk1ASv5iuDoyTUC8uGDZC/JMQBIEaB0osk1Ax8N+Gs18TUAOXq+bkaFNQBkyl0ty40xAjNMu1tbuTEAll9oqK3JNQC4b+IdrMU1ASpBKQdGzTUBU7UInH3tNQLGe0XM9rE1ALpl8jnu5TUAl8kOjgrRNQHX8f9pTm01AgcMzRqy4TUBMHjcVVaxNQP1OIduSr01ACL+/sim4TUDDyM8H/bdNQINDb7yLuE1AKCpVeKG6TUDMzpJc+o5NQF4sPAV/uE1AHC3kfva3TUCRNR2pZLdNQEqQjcn3rE1AoukGY0uuTUAp0q5v1FNNQGd2RPGTsU1A5imtdUqxTUDfOj6Rg7FNQAdzdmwiQ01AHYvwXy23TUCvY1CkDQNNQD+GGdgYs01AmaTnc260TUAtUIoivy1NQDm6BdMQtk1ACt4/vBK7TUBiEC3s7DZNQB0LoxtqC01AoOJNt+/tTEAAnCKxyjFNQJwWQpRgEE1AH5ZePw64TUDq4CxQz7RNQAKzhDnLF01AAu/Tepa5TUBzGQKaXa9NQKmX1Fm6uU1A19l7yHl3TUBNqdTPPVFNQCjLxeKh40xA2X7FBpOVTUA37UkdNbdNQNYqx2EgjE1AXOGQgfB8TUDzA5aRSyJNQNHot66Ntk1AoU8WuAq0TUAzE39igbdNQFyWWIMEt01AqOIiNq2gTUDYH07EEbhNQNqu//5cL01ADvkZHz2OTUBZVM9mvaxNQC7AyR81tk1AVs5kPDXBTUBK61IAUbdNQNj9BdkhtU1Ah6gmwW+zTUD5SsP0GaZNQIBwCtHFm01AyhYSOEEyTUCqxng3aa9NQP90/m6zqU1AFdiW+A6yTUCvlLAV2bFNQB1TNfODZU1A0+CTNYOzTUDORHja0k5NQCwyCXuQtk1ApgylHfz/TEB5KUWd2LZNQNHFMj61uE1AsZ7Rcz2sTUAaTN19v7lNQIExNI3GA01Ad2VarWeyTUDqTJ+0PhNNQNg74iZmL01AL60h+Ca1TUApxisdBjJNQEWLodIRsE1AnIkKnPS2TUCI5JKz+DBNQFPCHkGst01AaLiEs4IjTUDgMus+57dNQHoQ1bVNak1AEPC+23f2TEBvlHXW869NQHTQdOwXG01AYZGNFL+yTUBobusid7VNQPZQjOdXsk1ATz0vteBVTUBDN/6zqg5NQImfLe7Z+0xAz9PkZIooTUDANofB3B5NQPkUSwXUpU1AL1hTQQPOTEB2p1TFd7FNQK/yzenbKE1ABORcuzdHTUCAfaO+vw5NQHeXH6FaJU1AcNhnX7m8TUAzjqaAQOVMQItQ24X0pU1AZBVBm6WrTUDCU527tLhNQBkOAAT4Lk1ARvrxi5SsTUCsNBMzZC5NQG+9F0Fpt01A1tfjVJe9TUB3VspKQbBNQM/T5GSKKE1AEDGpTg6eTUAWfBhl7bFNQGcn7zUvgU1AXo7TPBwzTUDbYSefMrhNQOffhWdxL01AunCRDOG2TUBax46qyTBNQKnkAS3yrk1AnFkJfz6oTUD3xYwqxrlNQBo2oQtFsk1AmBXMsqGXTUAy5AuxFLBNQJrlbzgmN01Ag9k8mHa3TUBsnU3Mna9NQMHULvsCkE1A93D2RFm3TUA0ZZU+drdNQBmr/Y/ZuE1AdtGR7pmtTUBks/ZePnhNQJmp+mnC2UxAqG2fUn/jTEAi7oMvNyxNQHOxOk9TuE1AN0Om/35QTUAYl6VY1rRNQJ2Ba8/K4ExAG28GQ5SzTUDMIEB4+bdNQIl/xfd4s01AJB0dwqttTUA73XY17mBNQBkpP1JQpU1A9866XQOfTUC1lfZOCS9NQCcDoSoHuE1AadPlqMWyTUD8alGmfbNNQBIMm8dkmU1AG7V6eJhETUB0ONrUkaxNQMP7zAwJuE1AZJd/azjATUBl4Swu4bJNQCwFkfjMG01AV2384QY6TUD8LYzD7ZBNQBDc5IEesU1AKS7oE3+5TUAal0RnZyVNQMkav5OOLU1AhiYngoF3TUCwDUKmR7dNQKMAUrjMrk1AlKVhgFslTUAZKLNaa+5MQGjIxjiQdk1AZQ5PN/7KTUDHgnRBplZNQP6tTSBXvk1AonW1bDC3TUAq8MwOPrFNQJXTkn7Ptk1AAw45ezkgTUB32GK2GuRMQKUcGZ1/uE1AtNkbZI63TUBT6gHSxo1NQDlifYQJBE1Anj9HqDrFTUCl6Bek4zBNQJ8iEYpJ40xAoTfwTNu2TUDOplBOYexMQPbGNiL0sE1AkUW95luzTUAUoTkhBvJMQA7SIsACqU1APCZhGb23TUAKzKJB47lNQPtReAdtt01AGsDmZ9C3TUBe7/9WzzNNQK6UduqRuE1AtMORfXg/TUAlHZWjJrRNQDKVebouqE1ANvLxZkXyTEBgkcPdmyBNQOB05aBnsU1AGmgzKdYfTUBCcOAN77hNQPLe7/XbBk1AuQt79h60TUCdsUD4z7BNQMcjzt1Ds01A0sf09eCwTUB49eIvGq9NQPlvKWhCOU1A9wiq3A4yTUDyyD2jlwlNQM95TcuFr01Aw51Yj2tBTUAkDgGqgjFNQNXj7G+Gp01AQ8ezmUa0TUCejGM4C8JNQPOptnQ9xk1AtqECs7QtTUDN/Aqq6SRNQNmTTacftU1AYC6iJqgtTUCocEqaB/xMQBVqN0azqE1AHzjjbsZRTUBDqkf02LlNQCBTWLGgsk1ASxQvIaeLTUBJckHGBn9NQGXI3vOWuE1AjZEhLkStTUCY/rLZ+DZNQA2ARXdoJk1A4ubLY4ssTUD/dins3q9NQOccve/NhE1A1QjGfZEsTUAugg79NHxNQBDtOMozuU1AfxRLJTOqTUAyqlS39LNNQFi2D8AfHU1AfpYTcc8wTUB9XpADj7lNQChYil+Ct01AJmV6d7TsTEDhhxb4nDJNQFojUR0OO01ANg3tdXu2TUDdvfXt0bNNQHiMGL2StU1AELHxVZAGTUCgReDY+whNQFQiGEMBmk1AR67h1vmnTUCZ1ydYsbVNQKlx1LhWHk1Azt4Zj1GnTUCb3AqnAbhNQOl+I0F1oU1AlDdP1TS2TUCY9oEuuLhNQJ1nylaFs01AePpPxU+1TUAaBAFYTe9MQOcIoXgSMk1Acrz+FLTlTEBeN7ADVzFNQJYvJ57Gtk1Aw5O+v5qATUBU8/uC6yBNQLel7nXhLE1ARcPqrEwCTUBvBe0GiLBNQMyQlLZkrk1A2ngfRm9+TUDAOU12Vg1NQCr/mr2Duk1AyK42oSSyTUDTfHqIlrZNQBFVjXhWsE1AX5AVhdG4TUBGQ9b0Xa5NQPPo6VmrLU1AxjnUOyCyTUDd85v3cLdNQFd7B7tUJU1A8vIGv9uVTUCwZKzS8C9NQG1uLe6NtE1APnSEF0MgTUDahYcv1QhNQATycPPCME1AKaVy/ruyTUAPFQXbv5NNQDmqJdB4Mk1AO2ZEXAiqTUDOaYyYS7hNQOgJTN0/s01A5REZKh66TUACTffrwb9NQGNAOnCjWE1AAzgmnjPoTEBNO4D94rZNQE5gFDdwsE1ApKYc15ivTUDQMSN+RS5NQFxp2FbbLk1AXMBhn16pTUD/za+gZLRNQM/aJXUftU1A1rH7Z4anTUACj/PdgLBNQO/lyT0zuE1AkqZEd/+nTUBV5snwwrlNQHMh27rIL01AiuQs1NWzTUAbseJzJa5NQCkZIGqauE1ARyzE+FIsTUDQ/UG9yLZNQHO6gxnxuE1AXOGQgfB8TUB6NRp38uxMQHbsoy2ot01AYcmbSCuzTUB+0f0Eq7NNQL3UY0oNok1ABCy7eA2dTUCshgnNkuNMQNlLXjmFXU1Aabg+ln+2TUCA7vlYX65NQAX5Et+lt01Ablb3/ey2TUADUxatUbZNQKjjvVyLtk1AO67ndA6kTUDFTXb7ULlNQDz9U3vDr01Acfe2HFO3TUDGOxLs9S9NQLbNAfuAtE1AkwNf0dNJTUCQMkgCA7ZNQHdFSgcPuE1AUA4VdtSwTUBQE2Y0n51NQMIDblVNV01AJaUsv58WTUCrjHkjEqtNQNxHanxnuE1AA7vfO8e6TUDSlv5J+TBNQHn496kw7ExAydUskO+xTUAl2P7kbDBNQEwAE8g3eE1AEw1Uud6YTUAAHI7odrdNQFxUqfZXNE1AdC3nUwi4TUBfMU7vuyhNQOM/+kuJLk1AAJfc8Bm2TUALrWpBJa9NQLeJitXBuU1Ad/pfeIa3TUD1vEyvfq5NQJwWQpRgEE1AnSz5Hp63TUBerkpbS7ZNQLHxiw5zwE1ABJfsQIe/TUBHNVAePD9NQEpegLmmsk1AOGRwhT02TUDj3FcMWLhNQEAL9qsVt01AlPh0PotaTUAgKpwnqR1NQGeFjVtYL01Awo8DFDlbTUCSaynSdTVNQAzBFk91uU1Ae4+IuMyjTUB6Xux0RzBNQO36sTYB7ExAjZtLUz26TUDWWk8S1LdNQJ/GwZG8t01AXUFgnFiyTUD0WR92r7dNQOWmQtJy/0xAqpZPOecjTUDKTfX2U4NNQCllnmFIuU1A/3Yp7N6vTUBz7ajgomNNQPHyUUaduE1A8krVMX2zTUCUlAR5FLVNQHraAZ1qt01AjT9piAb3TEB3eLroBK9NQIny3PlbuU1AFm4UiBm4TUAzrff8ZLhNQK+qzVVHtE1A4XATAdJFTUCxntFzPaxNQCGGRKPXtk1ArCKIHO23TUAPJWTtIuRMQELb8xBKOE1AfO9kskwvTUC0BJ9oGrRNQP1aus1KNE1AGhg5GAalTUDDR5/7wrdNQFTyGl8LCk1AG/+VFDFzTUCEnU2p/a1NQK25H9mXLk1ASPY9w+22TUBYkHYldy5NQFOmYp0zeE1Aw9sga18kTUB4mTCfxbBNQDo7Vy1HME1A/3+PIAmwTUBx/oyYm7dNQP181Vf4KU1Ah2unCdMBTUBJ9yFK0bJNQPz7RbAQuE1AAGoow5owTUBgftcdezVNQGgeMV7cuE1APsvfujaqTUB1ZCz0h7VNQNoz7ZXbtU1Abp7NBrW3TUDJ1SyQ77FNQNk+JLsnuU1A+uQqXXelTUA8fARsQU5NQB2iv3JZwk1AnAac1M6xTUBp/2K4/rhNQMl2Z5Gv3UxArSx1DuIhTUBOmEhMBK9NQH+3m+VVb01A6HIPtU2pTUADu6m357ZNQGB6EGqmMU1A4H+ftc+zTUC4DmmekXdNQJB/4aLGuU1AzkDSDpmQTUAAgHBz5LdNQIetNFZ2uU1ABcmB7ePxTEDLBBo0bqtNQAaSPYXFBk1AoxkE4WIxTUCRX7c6pbZNQGg3vpGFIE1A/uNUK3GyTUC6Tw6Rk7NNQMwbn3Hzsk1At/0gAWsMTUC78mE8ljVNQGrl2PpgsE1AZYkkI38tTUC56uHEJbZNQImW4lsL/UxArD9cABcrTUB2KlIUpHBNQILVls/LNk1AXNK+9f34TED9doUFg/hMQJKZKllCLk1AcRQbXP4vTUBT6oNdy6hNQEEx2gCHh01AzPFx1Bi3TUB/Tla4xrNNQBLHfMxztE1ApTWhnzmqTUDLuT7/cJxNQOcR0d3ziE1Au2K9LHq2TUAOZECP0oRNQKraaRjyuU1ADqjLVCKzTUCQe3BceDBNQOk+TuSOt01A3YhDZA2dTUDV+506zwhNQEky833Eq01AkmbQ7m+4TUCoTCdy8TVNQJ8fNt94UU1Anlhmd9WwTUCz8MteUbhNQAQfdVsQuU1AloB/g98wTUB+pG+cMS9NQFupL0B+aE1Ai+eT4EqtTUDjvNeGxsFNQA6C3q8kuU1ADWAfa+KyTUDAIGW1DLdNQFSo/9F6tk1AZ1FhyE3BTUCIrBZaCsFNQMiS2n2rLk1AjkUxRF+nTUD3DdrwSS9NQAqxzMAysU1AVJR8TRziTEDk7F1c/AFNQA90f7EMK01AqKrJZfGSTUB3/rwDCWZNQM2uXVbRtk1ABSPiuj2zTUBNjSzOqbNNQLzJKMwCbk1ACoTSqWbjTEDvsSPf1LlNQC9XUynqlU1ACB4j02y4TUATyhYyQU9NQHu/Y1cwtU1AvySbbTa5TUAzeFf156ZNQFQdm8aRt01A/3Yp7N6vTUDM/jF45blNQDpYZ2W240xAW7PQFwihTUDbLblSYqZNQG06uzi9uE1AVHN87se2TUB+SDlUzLhNQM0d9bWPMU1A9JaAY04wTUBXFsPpXolNQFObYb29uE1AYwtuHgG4TUAN7oKAVQtNQPbeEcCM5UxAU417P9q2TUAUTH5ECgtNQP3iOEITVk1A59vShgIXTUAeOI6bjr1NQDx8BGxBTk1ATApovnivTUDcdlzbtDJNQDIhbb+ttU1AC5KpsWi4TUBbf2BuH7BNQIzYDW77tk1AZZF9LIFmTUBbMTqbzrZNQPhioNaku01Alrk9TwGlTUBjvWtIXbhNQCMa1MCarU1AVNxlDrKvTUBm6X/FuMNNQOYsZdvNuE1ADLBecqiTTUCNuCg3PI9NQE4n0wjMME1A5imtdUqxTUCSe6xR1zFNQLzrsJ+ArU1Ahb0022K5TUDA7770MrNNQAS001G7pE1AoUPbtZ/aTEAJ5DFW2KdNQKqu1CH3t01AbVOLeDa1TUD7Xp0DyLdNQJWHTCtuvU1A9oit+Ya2TUDLH5HBZgdNQHqU8bTrt01ADpoHLoK9TUBaiJSNQrdNQDeCSJIXuk1AR2a3bYXjTED1dSQg/LdNQIhHAr6Urk1AzpB+yyS5TUDz6OlZqy1NQMnaYuBGuE1AldeUVaIUTUDK1PkRfLZNQIXlCc47Hk1AvjWnPhP9TEBhQn9lRwtNQL+HveGZuE1A/gr1jd1+TUAVEvgm37RNQAc7k5p0rk1ARpi7BAPrTEA5UvtV2oxNQC1RBz0Luk1AfbJ1Y4a4TUDA9QzS8bJNQEemeldavk1Auqnrdge3TUBV7IJZCLhNQFYyMjuzt01AMjArs1O1TUBdG5Aar6BNQPwkAP5S/kxA0wKWvgG3TUCoP+5lyIlNQM5A0g6ZkE1ASY8/DL+wTUCZlz9PAbhNQNbA8FaPLk1AmVlde4ZsTUABIsqbiDBNQIlkAfOwt01A1pixvpu5TUBW0wPB57RNQC5nWXhfeE1AwVfaI4i4TUD+yv+cerZNQDI2S/51s01ApizHHTG5TUDzSHnXDK5NQKZ+2/FpqE1AZnr5FRKvTUAVRRbAb7ZNQKinhPwKtE1AayNi7ha5TUBzvR294bdNQA4odncwHE1ABqUqJ06nTUBjsFe8+TFNQKxntvDhsk1A0DEjfkUuTUAIhH8qnOhMQE438gTxt01AzdYm93d6TUA0qOMYdbNNQL/4l8bDuE1AkGEv2agxTUC2Bk5mK7NNQPXTTyS2KE1AETwqnti9TUDBND+vorBNQL7tktGVME1A5HbBNX23TUDkmHFl8cBNQHQ7wV6jt01AFBK318m4TUACZHq/r7NNQFwyATVauE1ADypEexppTUC6KfCfYJVNQKBxypI3L01A1zwigsGvTUDBExZruLNNQGOd6GSFuU1AL3f9oRqyTUDZgUq8ArdNQEE3RVBstE1As7VshZexTUB+lhNxzzBNQKrUUhTEr01ArHK9FgC4TUBY7rxdyjJNQCVntoYMu01AxO57jCDyTECvWLpRT5RNQD3q5DytqE1AClA/3qKdTUD1CyRn4SJNQH1eNRDVd01AeSEeT5SzTUB0WUdtQbhNQB2Ho5XiH01At/42B86zTUBxBaXD435NQNvusXQcNk1AWgHMVc37TEDK4uGKAq5NQBzC3xQ/uE1AsmEaOMOnTUChFHhH8bZNQBAVuUuaME1AYB626aItTUAaeqOK6CJNQM+M8koYCE1A+60QMJ62TUCEw68/qblNQOe0PIwHxU1AAP+DT/22TUDv5RWxc2dNQJMuFYq5t01AFKw+5I2wTUD+5PWnYbdNQJYcEeJVU01AvBxUdZ+8TUDIvWEWsLdNQA5K8KSntk1A/PpYf1uYTUCBH5l7vLdNQA7UxtvkLk1A5/O2zVedTUBviMIRNLFNQDNjuP+7mU1Adg3oOye4TUAE3ykrrAZNQAzX/KDHLk1AayBK+ZCtTUBcrkPtfbdNQIzAzIlndU1AQgoIUT4DTUCw3TRmZA9NQNg1yMD4tE1AEciW8I93TUAhORn4qLVNQNWS6EDGL01AI0MF1rsfTUCTz5knHU1NQInIz+XY70xAGk4yCcisTUBpKNZfBTNNQPy1+WCDuE1ANKb8EoOkTUBM8xKSvbRNQFtXi4gpPk1AKMH5ymyzTUBGYuOIfoZNQJ2N5vlsok1AJ4yFVJAhTUABIsqbiDBNQGKoE6fqt01AEDos1JMuTUC1fIyphLZNQCYemk1htk1AV18bXscuTUBoldKr+bdNQElohZujtk1AlTs6Yui2TUCdvu5U27RNQGKmGQ6V40xAeBT4NDvbTEBTOo8xOu5MQEXgnJhJHE1ASeXppAivTUDNl6H+fbZNQPtvRlgKrU1AaeFIEKm0TUBclJfGyixNQM0AGPgxtk1AMrC/6zrFTUBwUbsoVC9NQKpV/0ZSMU1AR/Zth4k3TUBaf7oSA6lNQCoU7k3it01Aj5miE4WzTUBXyK53CndNQLV/rNUcu01AbpCeDNG4TUDhSRLxNGhNQNXhkI/nLE1AQyGlCL+4TUApVi33uKxNQJQz//vQ60xAl65akSeyTUDTlsEz2rVNQKFACw3At01AqRuzUz+3TUB8IhusKaJNQLrM7Xh7ME1Ak/4jVu2wTUCPS5uYe7NNQCfx7Oh2YE1A/nUP+9zrTECT/iNW7bBNQDJG4UPFt01AzJCUtmSuTUCo5n3okyZNQP92Kezer01AazHystSCTUAlWJV4aTBNQBw2oTg6qU1AX3wgDL+wTUCeUTfMpLxNQETGTgtPAE1ABq9VWH2cTUDdgprT37ZNQOmYyEL1rk1ADypEexppTUAujmATdEFNQN33I2I0uE1A8/6fa4O0TUBGUz089bJNQLK4QwYwu01A0zg9pcy6TUAF4KyuAqtNQN4MePzafk1AoLDmlUocTUCfwtWGjrNNQIDt+lfHs01AItguKim4TUAO3F9w2LVNQNEj+RQeu01ANOKpaH62TUDhIXOqrrZNQKZR2EXJUk1AI0kMxmcvTUDkLtnIof9MQJptnRXiVk1AtBFAQW+uTUDmChK+XS9NQEnjIPgOLE1ADPFVfgI0TUDKAzh6Z4pNQNtamAC1zUxAT0xUwIC3TUAFQ5EWle1MQFUxZOQYMk1AQb4elm6oTUDojozb7bhNQAOa85VVLU1Anhr0Hq+3TUCLN1/q6KdNQEkhQb67sk1AN3cEWAbrTEDj+auK4OxMQFBCNxbhsU1AkbMZXoRKTUDCQZiXuqtNQI4M74OLpU1AGydccRG5TUBRfWKWo51NQIBwtbYmHE1AzAhtvEG2TUAbBRU8bi5NQB3Bw7wlL01A4+ag9r6sTUBxFPUhDS9NQMiDljT7sk1AoCKlkii4TUC/Jn3ilqxNQLUg7J0mn01ALkWaL123TUBFNie9xq5NQEbOplwDuk1AYM8MDpe0TUAunDG6QMJNQCgF/C2Gs01Azy1PS4elTUDImcFduRtNQDzF9n/BL01ASNgQZjydTUD0eZDwQrhNQNOSz6gOr01AVRg+QMt9TUATBsGS3SVNQFVM4OCUt01Ath+nh2C4TUBuVvf97LZNQCcOrr2Xuk1AxhuvRuCuTUC3rawTRQtNQMEXj7DmL01AuWm/M64sTUCeJJFFMLdNQKtCG1cnrk1AyCLdX3a3TUDug0eMTqFNQG7Pbarbtk1AnPhszeu6TUAU2+mV/k1NQI69YwemSU1ATYIUZcG5TUBlq5WqEY9NQKylQc27tk1ANKb8EoOkTUC29BdDk7ZNQO8yrnOXvE1A7aZIW/i2TUD/dins3q9NQDrtTRTjrE1AxGGzeROiTUCMSxM7wbRNQC3eiubrp01AG+h2YnC4TUAJ6Jkxp7dNQF/U3N3et01AVnE9iWyzTUCwMuk7+yVNQN0LFuHLrk1AEOmoh1m2TUDWh3dlazFNQFL5sOAps01Ao24ULBazTUBY0bf7n/BMQMPuvmuVgE1A+PpCc0N4TUCnY3xf9AtNQJX3pCFkn01Aj3MOea6uTUBT2An0rq5NQH90eA4uHE1AzdD6aVl3TUCTh0TGVLhNQAImmLiqtU1AMme22h9nTUD2t0mx/mBNQARJlHY+ME1AdO2/B/WUTUCIM7Xd1htNQGYhvOocuE1AV3aEUlovTUDwtGpxU69NQItN+7wkU01AUL+CcmC3TUDP4NHBFEdNQCCo4z8etE1Ai6Uq4r+3TUB1zfx9lstMQPpBAKpDJU1A4LeUarq8TUC+T8cptcxMQOAtqUfLs01Anz6wIVQdTUCFsDrnzrNNQDBqd9q+t01AZpkWkry2TUDTxbor17NNQHoWVSIY7ExAK9aKQdABTUDE1k+2e7NNQOP8y/VluU1AH+zXy58nTUAfLfMQjaNNQMFrP5uLdE1ANWBuAoR+TUCVZp0R9rJNQGAQin7Dt01AHamVe6e1TUDCARnObJRNQDjzohuit01AbBNsJWa2TUD4HgI0ZrZNQLZ/nLmKB01AC2BJn+nATUBZvMF6/bdNQMtpZkAKuk1AOuoP8TTfTECA2j5LOZRNQJfwR8jNu01AGP2NNS61TUBogFsVi61NQNrszb9oIU1AeEnoMgkfTUCzJkSOUb5NQG/ne4k8uU1AbOXHWbkyTUClcpPyey1NQHo+LzJO3ExAXwTm3xi6TUAyIAnQZC9NQM/F74pNr01APadjHIC5TUDcqWiKmzBNQN3gEYvnME1A52WxM2yxTUA3qFobx7dNQF6CSjVjq01AFi8Ma++2TUAexF42pLhNQKyzdtAs/kxAG6pDyyWqTUB1NX+b+wJNQMPjDKy1tE1A0UDktb+zTUACth3lK5dNQDWniBATik1AKss1KoWATUDcDzl4H5xNQGbOwkrJnE1AiaWtPTu2TUA93rYbbbhNQCArbnp0uU1AHE5p8Cq6TUDEVWgM6AZNQLAbdd1juE1A83nCXEOzTUAxhq0nSbpNQAsiE1ntpk1A5BPPb3e2TUDULoZkbq9NQBnn20Jlt01AlDzBwhg1TUAqIqh+Dy5NQAfcOa3C5kxACprWCLOzTUBe2/J7ku1MQKuUPo5ssk1AlJNUmhwzTUB+vW0AlQtNQH3J2iBrq01AI8YMgGifTUBghCyt/qBNQO+5CEioH01As6hh/fEwTUAIwuus05pNQNSesJK1t01ARgOL4QuNTUB8rwh0FqlNQGeRKEtOMk1AMCS4EymtTUAx/c3+4LVNQM6AUJU8uE1AqblEzIy5TUCRfegECIpNQOkYdL6LuU1ANQ1piR3ATUBrDGLm6rFNQHeV3to5sk1A8Zj+kjUvTUB5ism61rJNQMVxfg7kt01AXChXi/W2TUCEJVrVYrRNQDYCmJmEmE1AC0Wk61q1TUCOekEp+KxNQPwpfwZ2uE1AvMlCi6AtTUDo7Zgn6CtNQJgwd4CTuU1Auy08/VEITUDDMiU/QsFNQKyuqavCtk1A6jdAj1ezTUAnl9yHfeFMQNEUU1FduU1AnFrUd9NCTUDZEkjSbbZNQIGQXx3vlk1A23GGzUu2TUBdCi8ZVipNQG2b5htReU1Ae5Va7JpDTUDkqMf1rLhNQA16TVEbt01AG6XObCq5TUBKsm4GR75NQBdbuNS3p01AD4Z7QP63TUC0CLjKwxxNQDqCj5sysE1AlHgdezizTUB5QflIl6lNQF+UbnRnr01AdxG9JJGrTUBkDGe+QzBNQA+WsxuRuU1ApeJdUAnrTEAy8ndXX7NNQMYR3MCrek1AtwuTsdyoTUB76lYmrrZNQIdzofQ+sE1AY0q/M7kwTUCVOo42qLVNQOFGO1UaMU1A2uJ/t9y0TUAo956v6LRNQE7fvfn/rE1AkOW95QW2TUDNHrNoYuxMQGdyJplwBU1ADYkp/AIoTUD9eJw3S61NQA7cXnNE8ExAHmzW5rDsTEC/Eq26AjBNQFfDTPPCtk1ACfRQP1CDTUBOp6SPvbdNQL+k6GW/uE1ADtTG2+QuTUAcL8QiKjZNQIE+Vu0GH01ACTiIr+XrTEA9n2Q2JH9NQKs0P9WoME1Ad0ATxYYuTUDeziOrRcFNQKp8dxLGuk1AzXEIffWgTUDga/jRJrZNQG+/SIJKK01AdCtZ2PygTUDlYt7LXbBNQF38J05ktk1AW11NYfkkTUBRc7bmHbFNQCfyvu69tU1AY1cgrsohTUBNDSw0bi1NQNF66DnUt01AM42UBS25TUBl0bcpHblNQFyAfrPNpk1ASpvHr4WtTUAn061tjrdNQBC1OSPlt01AkcepJ8qYTUDPc23PFSlNQEp7snHMME1A57SJxby2TUBJZyThKjBNQGRKXlLYLE1AVxnXPK64TUAaCdUW4q1NQMhMhD9Rpk1A+d7F+MELTUAP9hkCzbZNQFE1VOiMuU1Ag/Q7oCc3TUBTRdFQ3TBNQDSm/BKDpE1AKskKPhpTTUAnXBQJkLdNQCgc2K/IuU1A10yrqjy1TUB1VeVIgaxNQOz5EOpIuU1ATnIYYDRoTUC2vs6gtmdNQL33YM/lLU1ARQpdzaywTUCWwWIL4LJNQNvegMcr50xAtr7OoLZnTUBhP77Z7PRMQF6QpScVME1AIJ+0IvMvTUCNm7pOdHpNQCnGKx0GMk1AfQxYPlt+TUC8cMnZVS9NQJVs3Ug3ME1AS2/F5YumTUC9whLjvbhNQMoPS0wzuU1AZI3XdsS2TUDFCQdaIrdNQHKsvqg57ExAJpRbIwz8TECn6PFxi71NQCJ0u23zuE1AqVXT0suvTUCkzmmcSDBNQJM4SJzOd01Al19jjM6vTUC0QQiRZ91MQBA2jddTs01AL1A8sEtxTUCMrQtxjVNNQICK2UJ5t01AhHh90oSzTUDCtPAeFbdNQAzXaiynuE1AJdUj1gG3TUCoMeYlR7dNQJuApA0Ea01A2mMVEdy0TUCS+1mwAFpNQEk71ctGNk1ACuIqzxcyTUALtxvb/bhNQB07dzlGME1A6ImUvhotTUCEgviYCrdNQMl+Rwotsk1A/3Yp7N6vTUAZSpw7/ntNQHUBUTrXaU1AFSyKS36qTUCra05NOLNNQItp9qDntk1Ay8wWcM+xTUAm4es8ibZNQDsJnYIb4ExAwQz3voouTUBp6J6yE7JNQFyx7bMPKk1AWniNFmLETUBt5B+6crRNQNBKLiJGtk1AjBeSvaa3TUDmkk+waEhNQGe8xSfBOE1Ay8HoNRy1TUARsroqqThNQIfgVPTHKU1ATrOjfLmoTUDFh8YLGLRNQAgx2ZyAv01A404pLc2FTUAge9XIL3hNQDtlYaZPsk1AQmmC5fO0TUAYv0RtMpVNQBYmfGVQlE1AZPw+RT/tTEB6vNJ0v7RNQMeD3vG8LU1Asng168oHTUBoCOSX1AtNQCdVabILu01AfchVBi61TUAhCh1346dNQF4DQjSsE01A1Mh/Dc8wTUACaayJFbZNQJI6rlJ1sU1ADlS9es+pTUCue1fcELBNQP92Kezer01Avi0uSJWwTUCsocmqqiVNQE21FaQnt01ApKYc15ivTUALDE8NibFNQAiVXGy9EE1ASQ8TvICyTUA1Pb4ZHyBNQNkEQDhpO01Atr7OoLZnTUBEX6t99rdNQHLNEH6As01AbnKcC2awTUB/HVVIjF1NQOXUoGE3H01AYKiqZomUTUDjTaXijbNNQFnZBwY0tE1AM4/K17PsTEBtqDh8eRxNQPVQgaIXHk1AOzuxANS5TUD6+5/ADpxNQJG8X2Wzt01AYpCwOJu2TUBplxgkDK5NQBat+orytk1AhNfGDkC3TUBzURwcv4hNQDROIa9sSU1Ao+Iadi+gTUBQ+6cyD7ZNQBp8PZXW60xAMhW2rIC2TUDzda0AnbZNQLTce04Fuk1AXJQlhYCzTUAFnIGbx8JNQK/H+LE1w01A390aH51QTUD3tSBjvKdNQGwPWZmgfk1AYoP9kVGzTUC7pyC4uy5NQI2npDWRs01AHZ1CmWpCTUCOKRg3Va9NQDzf4MSoKU1AEBp5lse3TUB8QvbMcrVNQGdz6Q12j01AtmRg/S61TUAMH+lXLxxNQMfcXEGCoE1A8jc/lICzTUBlygXihbNNQIXlCc47Hk1AZDRuoJShTUAo0/cBVrBNQMuQu5+rrU1A6mxUP2+ATUD5/mKx8rdNQNhFGz/Ntk1AjvQ398+wTUBWtJ1CM1RNQLAiniwYdk1Ab01cxtUwTUDKArjlXLdNQMtAwLPsSU1A4rWv+Pe3TUByL6Cwr7lNQMAeRuwhMU1A2FTTpPS0TUBayneVmjRNQLGetiXgtU1A7HH7ES5wTUC0GZFGjKNNQFrD3qVLtk1AIWZYIpi4TUA5XKQT+K9NQHXDqqegLU1AdlV43o1DTUBpKWF8x7dNQETNQXSDpU1AAVlstF1MTUBuw9pct2lNQPa76hdEMU1A0d8JjoctTUC6ogFT1qpNQHroBL+SME1AokSAkWyzTUAms4/rR0NNQPS9vcfTtk1AndBcJJSoTUDfkgLqK69NQMDq17fus01A42kZFvC0TUDMm5xFtRJNQCkR4iX9sU1AvfKT1CIZTUCnWZl+br1NQOBBfR2TFU1A3Kwpe0+2TUCrw/4t0qhNQONmDC4frU1AiR8kg+q1TUD8OtQAsblNQKk+5bbeME1A/J3zPbSiTUDOOaCo9t1MQM2Vg1BffU1A06TimGkXTUAG91Gi17ZNQN38TsFWtE1AK8nVqK69TUCZ62LTyrhNQJcePZuMZU1ANYGFoISyTUCLxtxkVLBNQDLDsTxStU1Aiwf3ZvKnTUCs9Ra8LbdNQPiV22/v6kxABnT3SXANTUCMoHJz+rZNQD7rxiZsMk1AiaON013RTUCHhcX+J7pNQFlxh5VLt01AR9vxmymuTUD8VnlfWLRNQCIZDQvlXk1ApPVL6BK0TUAFXks7SCxNQGPJoMJKIE1ApbxnaWu3TUBaESbPHJJNQJSTTA90mE1AdEgKf+FcTUB+KGbCIjFNQCQ+VTjXuE1ARAC2OcS1TUA/BgVXVC9NQGqKcQx/LU1A7Bo6pmS4TUAl480RpbVNQASa+qoc5ExAXZwcbrgSTUBZchDj27dNQPAu/uVUtk1Ae3GFAndATUDLkPAzBzlNQLTXYaqnqk1AePqRDgHkTECMaiNKfppNQL+3bPG6Uk1AZH7VMI2rTUAZRPKAC7ZNQJHgJmTOsk1A/QNR21YSTUB655rH7blNQOyjmcylr01AKC5mdby3TUBwVPUwAbdNQMD/4vULuk1AjZMUCHeATUCm0DdzOjBNQL4hL9uFcU1AtOhncSmzTUCJWbhB0AhNQAs1tod1mE1A1J6SO418TUDqqlfH1rdNQOwRbYRd7kxAPRLo4mZ0TUANtWrPhrNNQFI3O+zbuU1ASnPupKQhTUCAl92CfHNNQADYFCGzsE1AbaQFdxK4TUD/Ufqfz0JNQMQqB79AIU1AgSRPQ9k/TUC1/KoOwbJNQOkwIqVMe01AnHM+m1EYTUBYq/Pik99MQPe7oUmNt01AFDpAXFwvTUAEMFkad7FNQCmWvZ7ltU1AMhxBbNAwTUCjUUS8dpdNQPWEFnk0tk1AG8fGYdJ/TUDBvjCIqe5MQCb1mNQCL01A0iarFZOzTUDmFgVpybhNQJ4gMPaNuU1ARqnIqkkvTUDztFDnCsBNQOJ2GLr7tU1Aa3JHcKkBTUBtuGxPKn9NQH7TIWeAIE1AVSO4DQgBTUAbn07Qlp1NQH0WiPKgtk1Ab/evB8gDTUCXSn/sPbFNQN23PXHVt01AILy5lXa3TUDUNI/h0RpNQKVCPDgqL01AFULeWcsxTUBbWnKzyxZNQBF/GWqUt01AjM0pJGPdTEDdch8acLlNQGeI6sL6MU1Aoc4Ei6mdTUATOAfL6K5NQCNBv67aZ01A35zfbC+LTUCrbm8YqTZNQJmBTG/luE1Azni6KzgyTUBL5N/PQyFNQFI5+UTAsE1AmWlDWWm1TUCx15ME9rRNQHag96dSqU1AyRE9cie4TUBGeN7zKwVNQKNsEgRS6kxAQPFqcNdqTUCAPWD+ILBNQLNeFTg+xU1AFRXGY1yITUAlwhhG+rlNQA6J/QKxO01AbocIaNCxTUApxisdBjJNQDxEBjmoh01AKAuZlQitTUALYgs1m7dNQAT4I0hWv01A4z9lrPa6TUCNpn0SObpNQL4zbZLJt01AdX9v0ushTUDixUV/s8FNQMOItdmRr01AAU9hGCixTUBePPYpZkhNQGLGzn5VsE1A+gg+1a6wTUA/Y8R8VLZNQBxi79QYnU1AlBOBd7urTUD1GXTKOrFNQKgi9Eq/RE1AVuqofc+0TUCH5IvCal9NQLZQ0CxItU1AlvnCicecTUDOYBRfarxNQM7H9KNoLk1AnADg/9CuTUDRx4vTqE9NQLpAGB9rsU1A52gYs6kwTUDXbZPFb99MQJAmZLBxYU1AFsNNcjqeTUDSyqupDrhNQF5NLrLyEE1AgYwvi0h4TUAORllGTrhNQFUuYhK6tk1ABYvPEbECTUBl4ojBmbxNQNc1oX8ft01AU8nXZrEtTUBrh6qR9rdNQIc7Dk8guU1ApMftZWGRTUBuAIG90r5NQEqU75Sfu01A0rlh2CPATUAB+Ogl4DJNQOinksHDAE1Atrp9sKYwTUBUxUet4sBNQOO7AYs5tU1Aio8p4UWyTUBun+6SWbdNQFDERhbPME1A3Yye3KyeTUDRZ8B8nkxNQDVv8YaRuE1AZhPCuNYvTUA1CJQdUjVNQKY3kgx7CU1A/2G0ZZy5TUBcvW6g2n9NQFFaFvavtk1AY9lUs7S3TUBuvXqyKzJNQOVJUbejs01AFSZ1mo+wTUDFV+MV8jFNQAvGugQjJ01AYW1JAB25TUD/jDD3+EZNQNemlPcMK01A18AhADXeTEDHxVelWO1MQKo9vO8WIk1Asq1L4rudTUCImaTk9BFNQGj4vf21gE1A9jZcepa4TUA6RNw0MrZNQMR2K/ZwEE1AnzUn95+ITUBd9ymRErRNQCqet1J8qE1AZBHdRIzvTED7jy/wn7hNQLBI8fGstE1AeBbDM3WyTUASdikgjrNNQJsC7lZkt01AyPRoACP7TEBXyOZ7V5lNQPKEOec7tU1AkClRgXWtTUAzVw6/XrNNQAnmBaFXuE1A9XyTPxPpTEDS8xZrr/1MQGw/cpCpck1AOZwNm5GxTUCUeVfDXjBNQOsl26VMs01ASkI0xS0uTUANTpeTu7RNQNvFiKagLU1AdqwTbygvTUBZUzjRC8FNQAaJg4sgNE1AqRhjHe60TUBVgc0NGidNQP91xC/jH01A847b780vTUDxh+DxtrpNQJ3euid5q01A0IA9uMuqTUDOTDIa8P5MQN2J8rcVKk1AiqYx56B/TUBoEuAuGrpNQD2G/ij5qk1AK5Lk1UW4TUDjkX2FQbxNQMbJLgE9LU1AzHaKWANeTUA9+j8wxrRNQP/ymQ7Dkk1ArBWC4zm4TUBcadhW2y5NQPjJ8hrSq01AT/yz9ou3TUAD7w2tev5MQKkY3FGdsk1AASRSaEO3TUAFKKjqGFVNQOPcw5wluU1AXXY9B0nATUB036xTjLVNQJhEthxjr01AwjVuP2OnTUD3+gPSvbtNQHEGeRWkt01AL3iQpq2zTUDgEc+yJrlNQDtmmTpxRE1AldYruimwTUAyRjagAWhNQPFE1UlFsk1AELskFpaxTUCDxokcZ7dNQHFq7hXXP01A7zphEfstTUBy2asyOrhNQGQR+3nmt01AvZAdV38PTUAGb1G8XrNNQBdgqlF2/UxAvPaTyMBvTUBImVQy7ORMQH6Gogvxs01AwGksHTQwTUAMRzqIxi5NQHwudNlNtk1AgusZ5qu9TUBsvwmOvbhNQD0RYUs9NE1AMDwtvA+3TUD9B9eT77dNQPxkdQZ6HU1AXMdQwlIuTUBq9QVIsLlNQGaiSGtdvk1AF30NZr4yTUCOcqssxxFNQA1HDFZBtE1A4Plh4/K4TUCkwWaoAi9NQJ0rtHOsuE1AOgugAXeiTUC7cMHvQKtNQBK/4FngB01A/OGABK6kTUA+SCIOjQVNQEyyQqISLk1ABsYvLJKmTUA+mSV+nrhNQHbNwGILOU1A5z/5Ccu/TUDWwaMn4hJNQJ2yo/jhCk1A7oxVcTHfTEBknDyu9DFNQAmnBTTBpU1Atpv5iNK8TUAoZOQ3qbhNQOMkWDXNrE1AayVj3wxTTUDn62vTEZ1NQDL1YR/8rU1A6QjRwaW2TUAUB/R4y7lNQM2dIpR3wkxAsYTGfTu6TUDj+mNF6DBNQHxj0CzGsE1AMET8TRS2TUAP54m3zbZNQECfm79/uk1A7p1xRBAnTUD9XWe/TbdNQKnpGSXeLE1ARDtUjZ+zTUBwomRE3LlNQPiZilNwME1AQDZLXe+nTUDmhp8eV7RNQCL23q7MME1A0Mqw4ka0TUDa76ED4LVNQGQy4np/tE1Alm0q0Oa1TUAvj3Day7hNQLZyqh0xsU1AQ/ftnuzrTED1LgKQGiFNQEOu+FQaHk1AwXRPhBoeTUA8O0bu07tNQC+8N7eqMk1A0e2Aw9EuTUCAb5MP06tNQCLJrBIPt01AwTrxeK0GTUAI+N/VB7hNQC7BSXWPwU1AyXRDTEC2TUBe3L2NKLRNQIqnnL1URU1A8fgxGlowTUBpQCdiMbBNQIoMNMT+r01AQ98tI7gGTUCKLKxQihNNQOGuKewAt01AkQo5AOO6TUDAbuV8eDFNQEHyeCJLHE1AcCXdtFirTUAoHFUQd7BNQBz7Jq1Hu01AYufRiKvoTEByRZMcgrRNQKNG/VUCrU1AuLHXLX20TUBbkegzvC9NQHuBWtWVME1A9KU17NIwTUD3CKrcDjJNQKvRs/Vst01A6waCAeirTUDixRJGMfBMQD4l5TBvt01A66kVOWu2TUAg9s4HLLNNQElin8O2Ik1ALwz2ijW6TUD80MFMnk5NQPQQYRA2uU1A3BakcKCATUDJbivr7LJNQDWiLM/Wt01AFb94TKi5TUDUdoCPbbVNQByXUWR8l01AK9ATwA8fTUCFvp/GKLpNQALFX2imsU1AWcKRDLU5TUD1hA+jCF9NQAlNywkuaU1AhbXNLP+rTUDEG/iAR7RNQCTdODOpMU1AMnWMmmdHTUAFF2IqnrxNQJb/sTJgsU1AYL7SzwhgTUDspZPT4h9NQNvgF61JsE1AJCW+IJa4TUDu3LfwwbdNQEExzpB/tU1AuRnOwSE0TUAHjrM3uPBMQJ1ecW8Rrk1AMOIyjfOyTUBSwYnIdrRNQGVGwXWfBk1ANv4Tio8wTUDZ6mx/hHFNQOb9nCiVsU1ADM1Qi4BnTUBxCc2eArdNQIy0QTfcuU1A54V7t9Y1TUDN3hNYR7tNQO1QpHnPsk1AxXhKR/aeTUCy+2Av9rdNQP5niaj4L01Acs1bEIUhTUDyMPFMDjJNQL3+FAOShE1ABdwamB24TUBXvwM8ULRNQBrt/Tzitk1ASOZj8XW0TUAnr8w51F9NQKdomU/Mfk1A5G2A/zeyTUDkyrC8r7NNQERdD4mLG01AzLsK5jkLTUB6HOP8lLBNQLcqidHiC01AdUZut5G3TUDS6pQIvbVNQCDc00C7tE1AhgawM48zTUDG0lC7KZpNQHjO5rw/L01AWTRE6kqxTUDcLQN3K+VMQBpQ07FRCU1AjNwfMXUpTUCYgLBDJbpNQMUdAsuytU1AThkf+S61TUDQ+Vgy2VJNQNX4KBmUt01AFGiO+SClTUBqK5u2baNNQG5n81q3tk1A5C2qZYq+TUD23rqUM2RNQGA7yJP6PU1A9ydOwT14TUCADAA+x7hNQB07dzlGME1AQ35ECEO3TUAGhAsZs7ZNQHT1A4wLFU1Ac3H7BvO3TUAeJ2Gf3LdNQOMYHkMt0kxAuCciBIy4TUBGnHckZ7NNQMY359oWtE1Ao/p5Cn1oTUBlOmz8D7lNQGww+8OONE1ABi8Y2v0DTUCaDRh+ubZNQCoBwzufo01AknBJSJSwTUB6yUM7+blNQCr6n0g5tk1A715rOgS/TUCjowu5BUtNQES5nT54uU1AP05JxOQwTUAxlZkoxq1NQCEAtIJ5uE1AEbNXA0S4TUAfpnF5dCBNQOdlFe33tU1AZc9E3Vu+TUD/Fcxa2i5NQOwXaC4nuU1AY2XuGt2/TUBYQH4jFbJNQIsorZzit01AGIT47By0TUCfsAN27RtNQOCJPeqPNE1AcPgGXSgwTUBgddvaJzJNQIKJmdnY9kxASgYiksGUTUBDB43IQIdNQKLI3mBOuk1AZH6FzH+5TUCO415mYr1NQN2Su1TPNE1A2OHrfsCnTUC1dwhKl7VNQNeyj21gsE1AjRS55yDyTEBO+1kjWrhNQMhGT/0/sE1AqW55PqWNTUCDCpo95LVNQMk6YZ6RU01A2WZWoUEhTUD/s9swKDBNQBdtpxrmrk1A+A62Fea3TUBa59ugODJNQA4T0zBCtE1ACW3fLae3TUB+I7ep+LdNQHliuajdrE1AyMN3rJ2yTUCZ2jfRxkxNQDGrK6i9G01AvOrrr7EzTUCsW2y77a9NQHj14i8ar01A0j4BBLWtTUAv4i3Hz39NQNiP1UqDik1A1u9AeAA/TUAulE98j7RNQFbS3CJzNU1Af9rGjb2zTUB1u2Q2UTJNQAjgznIBtU1Aolz9T2A7TUAbjSi9ebdNQLcxqF0tMk1AaJiOtaKwTUAm38dWI7ZNQJGzEf5M7ExAMr9/8m0xTUCGlKpebDBNQO2bFVNprk1ATlG/N3ohTUBBSBi2y7RNQKIe0cLnuk1AihLL/CS+TUB/mS87eUgmQGHhncw27kxAGejMLVu4TUCyGtM89LZNQC2bQykls01ApswH0uW2TUBdRxAwy7ZNQBCa6o9kvE1AFeLT3qkxTUDLCrSGT7NNQAjtAucXuE1AupOHOCdrTUByYa6YmFVNQG9useqR4ExAE5URNntxTUDTDeCQ4bhNQItP36Veq01AKqb+4IHiTED1BklItbVNQLGYWEfJuU1APxW+nR2UTUDMWT6Jl/BMQDqiYmsR7ExANMu78IW2TUDUB+SVIbZNQM1gdc+a50xAJpdryEe0TUC05kgZXbZNQFt7Z05Ns01AtPJOdD+2TUDGoVT0l51NQGaoqUvsBk1A1yl/5N+zTUA6d75QK+RMQCPLC0GwXE1AWLV3oRa4TUAXiF+c1PxMQLew+xE7uk1AruIAl8S2TUANWJjUd7ZNQOG/dN3Yt01At06/LFS3TUDuZSzB5LdNQNPr43YesE1AYVZkdIiNTUBRyRuwEbRNQDC8Wpz+6ExA2HxikM63TUCBByhi8QxNQGq+iF59o01AFwlzoWGwTUCPqSnAvzFNQC9vTVhVIU1AboXlymW5TUBxbdr46rVNQGPYX8cnuU1At8Pjqva5TUBu67m8V6dNQHqksaK/vU1AydegLw+sTUCxAZT6va9NQA3Wy7B/s01Awwtj3ky5TUD+zq5UkrNNQEd+bb2zs01AgvCETGS2TUAcE1ZlzbhNQGh2zS4ssk1AOZdG3VJ4TUBUmvszfLlNQJnmJSeYt01AVtLcInM1TUA7Ah5LKLRNQGmgk6+/rk1AY/zZ5kW3TUBw4g0CkzBNQFwRlEnQcE1Abw9wA9C0TUCsxMSFWrRNQCpfGVhVn01Ad2xswzeXTUBnfcOBibZNQGYHr3qduE1AVqMFsJO4TUDmHMuO4GBNQGTzpX0Gq01APj18Dc6zTUDv7euESbxNQL003qoBLk1Aty8eNeuFTUCK7GcpCjJNQB8M4dZruk1A2XPC/SO3TUAiOt/KIlBNQAL25ze360xA0vryXU4xTUACfwzcPFlNQJXGuviuqk1Asr2n4O+2TUAtBgLJQrZNQLjUYcnpsk1A6IvB+nCzTUDIVSOBs7dNQDBksYbTME1A2gKEgCGkTUAumSkrKrlNQHiXN4+WRk1AAnBAZe6yTUDpHyI/3LZNQK29Fc8JMU1Ai5LmUPG2TUA12QpyaDBNQE16lLCGuk1AhyJFJvMgTUB+vVatN7pNQE3piehxMU1AA63eUNq3TUCm7wRZfpJNQLpDANzZMU1AmuSIwZS3TUBBohOpS7pNQPMp08g9RU1Ancrj4fUGTUD+cgNFfexMQL2ayk84uE1A8ave0gCZTUBDvaRUIfJMQMgOe+ucr01AdXtCnDi0TUBCT3aLErdNQA3R5RZvC01AL222QuOuTUCB7hJyYy9NQCvkCW03uk1AeY9nB1y5TUBsjDCAP7VNQLNZ9vZIjE1AqmC5oZyuTUC/XFIoHK5NQFgOD3OCVk1AHHF2/AKqTUD+wBmAV5lNQOrXzyD7tk1ACovfudOzTUDIYkYf6rhNQBTXog9uWE1AMDxLFry0TUDj+vCeFQxNQLnUsDHJt01AePO5BTu3TUAEMqjjeJ9NQJvHavjgtk1AGMXriroPTUAChlO4t5VNQJxuSqZgg01AIhStgEquTUBLXAMDtCRNQPrZ4YF0Ck1A6vZp4M60TUAw7+GcmMVNQCD+xcu4Mk1AfJz7Cqm5TUA6Fpt9A69NQJqMZ0uiuE1AdDgCOv23TUAAKpaDvw5NQCCSgCHLrE1AGN3m1/azTUCn2NB5SC1NQLT9FMQ4mk1ArSrhFDq7TUB1K7n/KGlNQKnhjfKko01AmtK+c/y3TUD3w1wT3rNNQGou1X9Pu01AhGMwe124TUBaKYsvrWJNQP3IjFxvt01Aal3X81exTUCIkKgXcLZNQAmbwgeBOk1Askk2aNcwTUA16Uk0z7BNQHQVWfKttk1AObEz2/ygTUD4ywWTpUZNQO8iMneBL01ATpENUpO2TUCFlc9X+q9NQKw+jLgAo01AbCGo86xKTUAoBzZLHxpNQDSDUf95MU1AqYKZA7W8TUDiqWP6NlpNQNi4f1lSZ01AxY6sbVWxTUCEUkwK07ZNQKMvTKVSt01AxhLJbdOvTUBQd12gETFNQPoIGnG0l01ARxOhkpexTUAbDLVaETFNQFdpd9jFME1AmwYgL1O9TUA66Jb9MLdNQB4eQ5RouU1AyMk2Afu3TUBCKB4vdb1NQAjRhkwxrk1AbeFNQtnjTED7pvpwvIRNQBNYqBQELk1A+2plpzq6TUDwjSrU+C5NQLcnvFS5tE1AmYwJMf+HTUBaodTRB4pNQP7/0P2etk1AXKsbv6GxTUD8cH+siopNQA58UzSqs01A+ESUAoyzTUA7axr6dRNNQBvOHVgqrU1ANZffB54dTUDQOvEA1LJNQBohi7nJ70xAnElLsdWCTUA3p/TFibNNQFJpWV8KuE1AJPAgAoxLTUC3NwJUErRNQHNRJVvStE1AbBrIMxG4TUCKlhu3qrVNQJ1Zm5EejU1AxFEf7fS4TUATXrPKn7lNQOmlc7EZrU1ACP1moj+VTUDHcgRpwjJNQMOlGRUMYE1AblqpRcC3TUDNWMQSEaxNQFAgGvyQt01A1G/2kxC1TUAtQcME5rZNQDhfOHgJME1AmGX2EiIzTUBcUu7PwcxMQIYeYBLH+kxA8WgNjwI4TUBADf5NJj1NQHGAuDwYEk1AL3dVZrS0TUAUAG28k7NNQDzWEZAsI01AB7Z4Bjm4TUBc4B/9qSxNQLhei/1vtk1AswINvoM5TUBk7Bh87jdNQNN8ULwguU1AqlHZotKyTUBeZ2TazbZNQKQJ5VfQM01AEP8IYViyTUDWzagGdLBNQElrPbgVuE1AmCeKnpmsTUAnvhFWqnNNQIHdCg3WuE1At6RWgPWyTUDr1n+yE7JNQFiCAx1Vt01A1DN33pCYTUACPGFvop1NQCDxj1ILMU1ApgdpsDM0TUBWOCOi3EYmQFuHJHLGL01A5xu2g/63TUCd5nJn165NQHX4Ebm1NU1ADVYDd9GnTUCVtfyPSy9NQIewBC1zdk1Ai0Q2KxV4TUBxjALLv7ZNQCTJR0EDeE1A635PUvi3TUAQENXTjXxNQEgM7AVHME1ATcb1ZCf/TEAL4qIWiphNQBjk2AVtLk1Aef7vjnVuTUBMMvL3lqZNQK+bdziWek1Apq2cYt/CTUBBlfQGXklNQIvORlqGsE1Ag2Uw0GYuTUAHJZHm3LRNQADNz8J6c01A0Z2UEEe3TUCvRXqAIoxNQILne/qE7UxAjzqcisetTUBqq/fEZiFNQPVtSXQgtk1Aq2UcjVwvTUC3MYl4wLVNQN7MsRq5e01Av5SF+eYlTUAE26reGjNNQPlymR9ku01AKaP/KYAXTUCHnBhws7RNQBFOmAN37ExAJgIoAXG5TUDR3F+M+rhNQOaPxpsjj01At/M3hI+kTUBdwXiRtrtNQBiy6MYHs01AHqzf9r23TUCVABVGe7NNQJa5PA3it01Av3jswaK2TUCDseXrdrZNQFcp2bb4t01Ax7Zmpq66TUAw0y96r7ZNQHZJdDT6rE1Ahac2fye4TUDGZNLBFKVNQMs0nFb1tE1APDwtFpe0TUBB38jPCLZNQIyFQVLWsk1A7wpVYS5eTUD1x9fTIQlNQJdDa3PYuU1A70Mm6324TUBJxCYZorRNQLWtBRrgtk1AaL4K3NC0TUC+sz3MI6hNQI7mnqSNjk1A5sd+dq60TUBSNv+0l5hNQDVDyH34KE1AQJTKU7EBTUB1haaHaLNNQObngD0jd01A+Ai+3R65TUAGQkDiIMZNQBqNbDgPuE1AAIXrbji4TUAwkrJcTgxNQOnHeQABIE1AmDELWcerTUDUT5FCQDFNQCZvsmsUtk1ACMLmbyWwTUBgJnd6BbdNQBDLNgljuk1AdaAakha4TUC9hXiXv5VNQOaEXraFME1Af8uKQYUgTUDozX4A0rZNQPDVr1/dtk1AMpvEd4GzTUCy/Qatjl8+QFNQpzm/rk1AwAeKn+hOTUDfO8TpHbhNQMUB5tOxtE1AhoEHd7x7TUCI6AwIR6tNQNJyGmGKt01AVV+6u5i3TUDXdql9ELRNQIu9xZWqXk1A4XxuRQe6TUDFJob5xqdNQP1BaXWDO01AfCeFCim5TUAfJCZJDy9NQJvfPrnfuE1AnD/Dj5IiTUBOJ5Ab1HdNQB7PsiPzmU1AR9gjpZW3TUDh1xFlIT1NQDLC6GWZwE1Ao+kZxmOpTUCQ2OZP0LZNQP7ht0qyMU1ArC2PhVytTUBUlDKDEVxNQNxh+5pPsE1A0iTWCjq0TUCKA1cZiLZNQDC+SL67sk1AwDIneFizTUAdhPWF8rZNQPiJHscBR01A8Fz0AVLBTUDNrq4sRLdNQF92mbPHtU1AOiPW+HCyTUAldnjh8rZNQCSBTk9+LE1A8eK4u5M7TUCtuS1pXCJNQA0SlEnzX01A1GwOYqSrTUBeTVzcFlVNQDUA+WWYnU1AIVupruIyTUBuoC1ym7JNQEa/gbC8tU1AwruUkr+NTUCEmiszAVpNQC+rWX2esk1A4/qh9xq2TUDJdvTewblNQP12216oRU1AxSwDigtpTUA0/ladg7NNQOMjnXIDKE1AEVvGNwbyTECu/gHuX7ZNQF4Q//H560xAm7uwXCgvTUBVB7bxnrBNQPf7id8Gt01Aen/+cWCoTUBjTDdFt7hNQE1k74AEsE1AtEJ9ev63TUAtTBSzAq1NQB2Pe6zpuE1A3ailGG2zTUCnqiYmaVtNQKgL6jOrt01AejOAmUS2TUDF6YQg97dNQJ+g8xxSw01A3EELtdVqTUANy0e7Y91MQOCEScviRE1ASFAlc7u3TUACaAWCH7VNQE9RhtMOt01AZYrtvCq5TUA5BI0e+zRNQKCeF6eELU1A+38L4QQvTUA39zTtNrFNQMhiSq0ut01AnZEJV+6xTUB6QBbZBPhMQDqFtZbFr01AVx89MjwtTUDRUGoln7NNQLSH9BUctE1ARr/LYaWqTUDIQc+I0rZNQNmdsYastU1AR+hFwiqyTUB28ZBtWLhNQGh14toCaU1Abpkdd/S3TUC/mrcIAR9NQM1cEEdGMU1AYCSXuVS3TUAB6NY5Y7dNQD2Iekpjtk1ANZffB54dTUA3bbKgSLtNQAiTuvCIuE1AhqJuHnWwTUB+tr5rMrxNQBGZnWJvH01ANegZZ50vTUBXu337eqxNQLpImm+TLk1AD+8iL+2zTUABiB/b2K1NQN7CWwj+ME1A0TDNX3QXTUAZPg90VLhNQK1OFgCJs01Af47yYhWoTUC3tOrMxbRNQKgxCUpbHE1AmJNgem2wTUC4lzfPEnpNQPkTTfTkNE1AU+hIrswwTUBbKzuDYLhNQGM1BRMMLk1ATqfYLYuyTUCfNCVqU4ZNQBYmYHN/Jk1AUvtcLny5TUCdA+QSIzJNQPBEQJ0juk1AJ4eTNa1LTUDXFWeEDLdNQF9+XP9Qt01AlJKaWka3TUDL8K6tM8FNQEFGIX/oME1Ah2Jv6sS2TUCjkm/K0BhNQLDd+khNIk1AUXqwaz+6TUBR38nWI7lNQG4oBMZmq01APpw6Z11RTUD/qLShngBNQN9Ql+2itk1A6FXOaOxuTUA/xcoP6y5NQPRhrNkVmU1AzQeouwl4TUBMUDYGIbdNQF/3X/4NlU1AvNDY26C3TUBJx1b7cvVMQOqMuQOVsE1A7JWidV1hTUBthGPxVJlNQBXYlvgOsk1A662y0D7pTEA/4CS/t3dNQMpnEdOvME1AlkteLMizTUBrUT0c4sBNQHOEE1MqvE1AHd+P+gUyTUAhVorBseJMQHoOfxKttU1AGHkaviIvTUCCOfK5cb1NQMWfO8hpuE1AacALWq3jTEDXzN2sbD1NQKMEvUK+DE1AyEfSf12cTUA399MC+SJNQCY+3k9JYU1AGEjxoMO5TUA+vI96ibdNQPVRbwo3L01APrwt6gYxTUBYtGSWkvRMQLN6dVUzt01A5wCw2s6pTUA5D6OAo7NNQLUJfyWQMU1A1q8Nye62TUDsPWzKJ7dNQD5kyIRxuE1AI7JY/5K4TUCFhXGiRepMQCByWOPuuk1ArHh6HyS6TUBcMYfRV8tNQAwVq+x8X01A5FbVAKmxTUCh2NXktrJNQAE7KqA1uE1AF7iy0v6sTUANEpq56rhNQNuY3D/wuE1A5AKjy30vTUBavqP6n7dNQJISslDJMk1AdbjjXPOuTUCTNe9h5n5NQHsXBCPCL01AEosfet2zTUBC5AdEabFNQGkjigvZL01ArgTxkYgwTUBqlboTzrZNQLEcfzTct01AejU8VeRBTUAlMHmnA7dNQHdCwLHLtE1A6v1tTNiyTUBPRpyb57hNQLc+BPKUrE1AddYpZpElTUB555JsY7RNQBnzjMFHVU1AzSV0UiJRTUCbGLIaZL1NQNRv702ZuE1AOhabfQOvTUBj2QGE9qlNQEMlLi6VuE1AYZtUziYsTUDIRlEXTQJNQH9x2rQ3tU1AabCl8ru4TUARtNiVoa5NQFAmw9osPU1A6N9w9hbATUDafKNw/PVMQG1Dg600tU1AaTk7GRG5TUBPNfnN7htNQM2rhvn3tU1ApxmH3PXyTECPwoK1bbNNQOgfuBLQaU1Ap0UiM9Y1TUBNaPBXzrlNQMeUYclpuk1AtiP1NKYmTUBdyi3Wg7NNQAZdwKmqt01AtHzjLuO2TUDvuG3Jx65NQDqOb4yLs01A0FGr7rgtTUDbOmt+5rZNQHBx85NXuk1Amb/+K5mpTUAZ3+RnQh1NQEgOb3mht01AtKlVUWswTUDpE78FqLhNQN6Ce0D6r01AeGhOIHuyTUB2Mi8+f3dNQELhtExGdE1AzFX5UuG2TUCCKwR0DzJNQD3jzV9osk1AfOdb1vFdTUA5kjdLebFNQIbBf45pvU1APH6fJ0a3TUC/AY/9VGhNQMUDky8Guk1ASAk8kiYtTUCqyYuSH6RNQLVwnkWTVE1AWLwT2SCzTUDFUOby2adNQNmidFwtc01A24RmMgYyTUAnp67VSrBNQKkze9xeq01AUhewbLB8TUCluM68wzFNQFqAV/6LpU1AvMhjYmu6TUCXpZwVxbdNQNDUDCCOuk1AOuA92GWWTUBUivW7e7JNQNf+nzWptU1AtKoTZbNjTUAVCu/v9v5MQMiR8XTUtE1AcGvm85KeTUBWTOT/IrhNQHkFmz6MLU1ASnanmrXjTEA0qQwCmLVNQOdGVBckuk1ATLlGqxexTUD1OWvnaLNNQJyYZREws01A7kRSS/K4TUDX/mOkSy9NQG0xpGZ5uE1AOP0GWObuTECOaqHa8lVNQHxj0CzGsE1AtCQdPze0TUBFmSu5CZRNQBqvgCkytk1Am1VkLK+2TUBXQQUdA7JNQIX8MrzFIU1AO/DECvuvTUC5nYX+vG9NQGVQCFYl10xAy8r57Qi3TUChN4BC0LFNQAXyj7Jmt01AIBKh2fqcTUDZlxkJIxhNQLHn7KrLEk1Aaw/CX4txTUCE1jFH8KdNQKM13lVLeE1A9mrp9rgfTUDBg/MqWq5NQDD4haPpLU1A+HGuhGKuTUCOzGg4uoxNQCPIHdkIt01AsFAViJKxTUBgt+QJW7hNQGhtlKm0Z01AkcJ9rlW3TUABgv1GpLdNQOb/VoDWLU1ArUjCFGgtTUAWgqfSnLBNQHCpca1ubE1AQWlmSZ97TUAWC4Kb0bNNQIedUecjs01ALG0AliMvTUBqzgDVqalNQMTqe2nis01AM3Y1cPCwTUB/d5WCA7VNQOBBRn6ef01APMu0S/grTUA+kD1E9rJNQDhn6Hism01A5Rwn7lW1TUDk6d0leE9NQMso1hu2rk1AgK4HZCktTUB1bPp+9bdNQOFG6HOBMU1AQdHYsPwdTUDRrS4fEORMQLMYpyI2vE1AEUeo0NG2TUAjuUYjubZNQOXp5FHnuE1AR90MdikwTUAcFFrb6SJNQMe5Zv3esU1ASaMRYsO4TUC+c8nzlqxNQOvaGQtfvU1AxWFrajWUTUB7l30D2LRNQMq1rTUcSk1A9A2uecqrTUAV2Jb4DrJNQELBaodAuU1Aw5U3BXYJTUBAZJBUQLlNQIlXe8U760xA4HiVwTGzTUAqj8AgQbdNQKeaj664Fk1AhCkN/8KyTUD9AL+nO7pNQDLz7O4IuE1AAsEYuP+6TUDIiLuF9zRNQFR+LsX2IE1A4uS0P65ETUCo0OMG77hNQF98H5Ubq01ACNYKkiQpTUBt/baV5LhNQNusc2FAm01A0z3r9I8oTUCGOELfmGJNQMLa6Y0st01AaJHSZrsuTUCBJ9o00rRNQGBqTIfWHk1AOLbKgwklTUDjx8hdJrpNQIuNO9gxeE1Akf72KIfpTEA3QPtGGsRNQJjtmCJRP01A5GXRCw5eTUBaAWB4dbJNQHpoP1wUtE1ASCvv0JgcTUC1N2nOEV5NQMM335CTtE1ArN68xzbVTEDeKcC+M7lNQHzW3f9xrE1A+kc9YO9FTUA4B3rUnLFNQDPvQnV/v01AdNP5BV65TUD8UUtmALJNQOW3YkSuEk1AJ5Ofsje3TUB4VIdIGq9NQJnqIMGWkE1AiRaiY9ZQTUALsgYAjL9NQJDx50FZwU1AAw7vvwK1TUBCiZ7mnLNNQIXdflz1SU1AKamyShUaTUBNSkvAabNNQPYdB7Nss01AdyxxHrifTUATTKOQAbpNQE8KKlEAuE1AKsdnFdK0TUCskZnaXLNNQC4y8zqYIk1ACHW1rzawTUBrGwK/KrJNQF1cKvNBTk1AEIc6M2i0TUDEgbTYdbhNQLUulMpsuE1AZrKwAj22TUASK91Gl1dNQAL1taOa7ExA4qlj+jZaTUAupJWxr+pMQEw1b8Hitk1An7XWIs20TUDLfpGl9bdNQNmN7MPhsU1AYZY2hB+wTUBxk2QX5RRNQKArq56kl01AGnX6eiutTUBMXCOuQ7dNQHJvCO0Zt01ACz/DEDrNTEBGPS9Wxq9NQA1M58DVME1Atqjvj8y2TUCY2A8zn61NQLh1Q8tKrk1AKUR0lOW6TUByRHa8LLFNQKUeyFPhB01AkKoUJVOuTUA/av6SurdNQNW+brlIHU1ATKzYDjUyTUD2aGpAJy9NQH3j6e/1Dk1AhqAQNAu3TUDrwRHNGbJNQJwvj4mWqE1Akb4ps0C6TUAsUnFWVTBNQPyTYXkAVE1AUCmHo1BZTUCWYgvvN7ZNQJoTEEvCt01AHfdFqyEvTUCfcdkZh8RNQMQd48TUl01AEoa0OX15TUBrupVuc61NQAxka+lLyk1A/OGP5JAkTUAB3si3E7hNQErUKQSbaU1AY8fZCQZJTUCi/ZuXw7dNQMpQotTPoU1AjRcXFlaBTUAj2XDFX7lNQLs3ffVXME1AnyO7EWGqTUB7w6OvQrhNQF+XxmQis01Az99UmCCxTUAzBlgbKy5NQMt2Qnq7tk1ArDzAGErmTEAlhRFGOHhNQPVlaoHCn01Ajq9B4oezTUDjm54pCtZMQH9L3ng7OE1AS/bnPX+3TUAUVToQELJNQD2LgCQ5tU1ANGII3bqrTUBwL+JmWq5NQC/7NX1UMU1A8OjX5uSyTUCfpnsWBrFNQMFXQ7Dvd01AR/cE+X7DTUAGQ8ZT7K1NQMyr6KyfsE1AZULoYosyTUBjUTwlin1NQHiqgRRfrU1AeN7U4uwzTUBmLwK6o5dNQE2mzgMjuk1A4tGg2+C0TUCdtofjWzNNQCqjr3dNt01AXycJJkw2TUDBjfd6pUpNQI+j4cnpN01AArTPLpG4TUB0J6+Sm6dNQMRlTPHarE1AwOZnbW0xTUDixjQFZrZNQHL4pG1OAU1ABCUHt7sjTUBRfzNu9y9NQCB2Ys01u01Aq387JJmKTUBSb+vwHbVNQNP3D7qyPE1APdc7j+pUTUCeFE2zjLNNQN9rNqbitk1ADxwfwZZnTUC137VBHBpNQH4cxOfcnU1Arnh52Xy5TUAqow9KhrZNQN+BnBGNtk1AX4sxAgiqTUCXxVmGhTFNQAPWZyW1kU1AdYfWEvW4TUD8Njw3bTdNQCWL2wZHlE1A9eXZquq1TUBFratW5DBNQP879u81u01Ar0n9Wk2xTUBElmOv87hNQHNzr4PPsE1AmoOzH5G5TUBkiIRlzi9NQMIN2tgsuU1AeSN2NhaoTUDsIVlcGahNQIR6lVdDNE1AnOho6In7TEDc/balsrVNQHJxfntWuU1A4LUkdTq6TUCdYGatGi9NQFRbnmfeIU1A/2VxNqtCTUD1VU6q4CRNQKkVrTjpuk1A+h8WDfZQTUBu4An+F51NQKc8LJ0WrU1AesBgRSKVTUAV6p16Tp5NQEdKyrQouE1APTw/XRA/TUBTlb4D+LtNQDP9g4KYs01ABwxeMIe2TUAM/EwjvrNNQOWh7hGGs01AsGiUvMi2TUCXPCsC6ftMQPyVfGtauE1Abo6bycAtTUB1EE4z17NNQB7TSk7Gt01AQFsoK0K5TUBVp/u2P7pNQN5d6H3GIE1AvK5dAYX6TECd8xKqZ7dNQIrXJKJucE1AuEkpTee4TUCPUa97yyxNQMmo3DlNtk1AszyRRRu3TUBlRaH6xLhNQCZdt3f2vU1AvDOt4au4TUD7q7wkO7VNQNqIAlqYv01Atx7gJuCaTUBPC1aeDL5NQEmxx7haek1AGJyu70gpTUCOcL1yV3hNQERqDSFvuE1ANGbH0WK2TUABtomkbLBNQOZ3yXQEv01AapPKEB4wTUC+7asUzrdNQB0Dn2sreU1Ap2YnGQGVTUCcd7yMHi5NQBORKsDfvU1AssFKFye9TUCTo96FsqxNQETkJBkouE1AytQJZjl/TUC58hgXu7dNQOgLyzFWJk1AsdWwRxqzTUDrQFprwzBNQIp0AmQSsE1AlRHXPS7kTEBfUZbyXOpMQNz2FwAzME1AJLS/yAm5TUB5ft5n72dNQBgEz0xgpk1AsaHr4MU0TUDPgjjRCLdNQNaJ0ZvBuE1ASqv8jdm0TUAftgYmX25NQK4uRCB8LU1ACvym30AzTUCZOUq3D7hNQFklhEPFHE1AfrKh9L22TUBFTSiDeLhNQAt4ANwrf01AIHJOVL63TUAf4lUs3rdNQKIDdxGQq01AkFxpSoimTUBJb37Ty7NNQOg1DIjzrE1AYzRmGEmwTUCy8ska9K1NQJ0Fi8VouE1ACasbWROpTUAjxmDK6oNNQH+kn0D/s01ALaP4XC65TUBLDcuGX65NQFUAJpjTt01A9uMXdEC8TUAjbZD9Qi9NQL4cor7xtU1Aoy+uKI0wTUDyyVsxWZ1NQOKitom3DU1AKnVjviO0TUCZ8mLE9bZNQHxN+ppdrU1Aw7AZ/xC8TUBe9lu1AbpNQHeNfAPSaU1AfKntpqO2TUDdTM5Y+kxNQMVlu5N3mE1AnSUsxRu4TUDCtWWyh7lNQOQhVPcBME1AopJqOKe3TUC0gzl2BH9NQIEvX6/tuE1AD59RxFW3TUCxqBUC/sNNQFVbVnGns01ALlds6iS2TUDLuGfvXL1NQIcleBdHt01AqRgIs4gvTUDOVWkN57dNQC+beye8uE1ANdy6QkECTUC8kylfGUpNQHr4KfcxsE1ARMkhD+MwTUDCFzzYZAVNQL6+N42qok1Aqv0ThR8pTUAGcS9cBDlNQBRGlUJ4tE1AvS9AI1G0TUAHuGXXvLhNQPalZM/JxU1APpK5yIi4TUBVDQvXWSlNQD4hZqsruU1AxItrq3qxTUA6IqSS/h5NQH6xiLJpsU1AIRdFXma6TUCxMYaQcLVNQN089DqXsU1A5kYcpMO1TUCjcdD8p7ZNQMsgZxcuF01AwQXHFV8STUBAtmtt6rNNQL5NV/uNB01AW9CJ4DM3TUDoPkaaczFNQIWqOd0jIU1AnGN0AX29TUClf6zTNbZNQKtzgkcvt01A47vH3u4uTUAHl6wglXJNQA3ZHmy0q01AW32NIGNxTUBxXXaCIA1NQMkSefvWr01ASejwMoOzTUAabbIQI0RNQBuxuLcLsk1Af/q9cbOeTUDHRDDz5rRNQKUh6s5Ls01A+LE848xDTUCOZ+UdPbdNQDvLVyCStk1AZONkklevTUArf2Bg7bRNQCAoQyXuLk1ASXQapWGeTUDRqcv7BrNNQGxdjcF120xAcfakTabjTEAbyxLBZyFNQDtMVqyLuU1AsLR5PbpeTUA8lIDP+LZNQI9+HyV1sE1AlHe39zm6TUB4abjZ7bhNQIa1eq2ZwE1AxNRqYth9TUAf9lPUyoZNQJEjKZ6WW01AGnleObwGTUDedx2sU7pNQPFnw7d4qE1AS0K6z/6zTUBhg+VjEjRNQCgWjAQMsk1A1Xn9X7u2TUC7oc0OYn9NQE8fOG8bvU1Atslnu16zTUAP7LFBWLRNQMq6+sUuuE1AESMWy8TCTUDM82gkhBNNQPWyed3QtE1AabX1zMK5TUCoENaj17BNQPQqCKBlL01AmbtCkwSwTUAIsy0ll7lNQAcAkrwMuk1AXTabNv+bTUDMqDNbL7xNQPGSJFLHtk1AknNi5FTjTECc8QydBrdNQPGH8Vm/t01ALLrlRbu2TUDyIOO2JS9NQP8exix5N01Aq8/E8Ai3TUC8WYmDPbVNQC9rV1lXqU1ArwRP//GzTUBkVKNiULZNQCMNPH03nk1AZrVbi3uwTUBcjxatT7ZNQNpFpTQ340xA9BoOCrBFTUAiBSZpirhNQFhquF3Nr01AgmD2Weu5TUBKZXh/UCVNQANaYgKiRk1AawX+7QC3TUAHdzAH661NQJbIsazZr01A/m9K4QVMTUAvjBGaXLhNQDuSkgaws01A1Ixfgf5KTUCMxbtGVpVNQGFR51rcL01ARRjidYi3TUASaOYAZjBNQHTqEDMQNU1A0JTdIpYvTUBOeBUjWbtNQHPdfdOKd01A2OYBLcohTUBYGQXxprhNQBBI7bXVjk1AhntXrOSvTUD7p2XBSblNQKlwa1zpt01AlyUDPFgwTUAJEv/M3C9NQGP2EHjLjk1Ad1WrRudBTUD7zmmfes1MQPKA/JU7uk1AGkHAbuutTUAC3Ryyi7dNQKPDlcd6/UxA5x2zN7AHTUDVQnQG5ytNQPgRVW3wuE1ApMjEOKg5TUCmoF4FqLFNQGV5Ml6NuE1Ay6hKZoGtTUD90X0vc79NQPBFXW0vs01Ahz70bIiqTUCpzN0rRLdNQJ3p1Ixtpk1AOK6u2lScTUBjRuGRjrdNQGNrfatKHk1AibiLSL3nTEDybAhRXbdNQLRBa76/wE1AmmTmpae4TUCd23obs5NNQNdIHhOaME1AUMwGbb8hTUCCLSzN97dNQBBhm47mtk1Ay9dyK+m0TUAKdSCEurhNQEbqNX9Ar01Ag+r5Roq3TUCGW1sWlLdNQJFbTp1m5ExAb4KcYeeuTUB147R697JNQN86pV1us01AqvlazFOyTUDx12mBfrNNQGpeRA9KH01AFEnJjxuhTUDxpttNezFNQIEU2T3Gtk1AciMg5rO2TUDN4avLpS5NQAY7bv3CsU1AVgwJ+6K0TUBrVYsETbBNQC2W4VzQME1A62ISiSW2TUCScElIlLBNQHD3gqnAB01ALcZ0CU24TUAtr2CWsLZNQGX9kiVnt01AOmt8XTcwTUAyKvWSCKtNQLY1NoU3tU1AlE2UgKMvTUB5KQ7RQrVNQCImMcEIsk1An7xCdiUuTUBsrYmK97NNQPCTU1rNs01AScxWPQmtTUDPhjyXSbBNQLBW9h7Vtk1AIs5FN0atTUDI3fDvXKxNQM2wFnhY5ExACyWDgyW2TUBLJ0vD5LVNQIt4RyCroE1ArSpe4q0xTUCyNQGl+bdNQImFAzjnuE1AMuURv5u4TUD8x3FV4rZNQOANFooRuU1AHP2Efva3TUAmHc+Q2JZNQMExFtlBBU1AphUOgbszTUDOhZEK73ZNQCkzRDfqtk1AaDiVGHgvTUDrKZe3I7dNQMxd29oitE1AgAH5wd2pTUDntTaiAblNQJdLna8+WU1Asj04q/UxTUBLDcuGX65NQD9On2njBE1AMSNEQG63TUCVTQobd7NNQO44cy4VNE1A5IdMCaa3TUBh/Xl1orNNQB8UppIVqU1A8G/P542zTUAUO9mDJcpNQP22++zauE1ARUHvdqK2TUD4uEVsM7RNQKwKdlECt01A6/Y7tX2/TUAdhc5Cc6VNQL2zcWPMuE1AwF3ZRlWyTUAlv/sEFPBMQNg74iZmL01ArYRmUs6wTUCrdKZKQX9NQCeMnpKgsU1A/2RPWZSyTUCKF/L0k3BNQBrhItttsU1AGGu88sNpTUC/hUXjiy9NQETLv0rmIE1Ak/0J/zm2TUDkKvZ0RrpNQBNeI4fJrk1AMHpdV9OsTUCD0TRI16NNQBM9lkZ1Lk1A0A5rQb47TUDk2UDpT7BNQKrTE6uCtk1Akmqo05m4TUAOGoT6ZKtNQNE0vhMAaE1AZSHbgsC0TUBTNEVtKrdNQOasE3WoU01Aas47UFK4TUCiV3PEh7ZNQDvwxAr7r01AR1HmznewTUAWiJPsTqNNQHxj0CzGsE1A8SsKAhy+TUDnmxk9cT1NQHW441zzrk1Ar8nx7Y+4TUAeY2hhmrlNQPk1SMB0uE1ATqN18dqkTUAC810SzbdNQBNegrxMtU1AqZOesRC9TUBYWEAJfi9NQIVKbrLCuE1AYMz4+h+xTUADJe8lPSJNQL3P/MeCs01ATMbeFozBTEDb/kxx0a9NQMxI4ICASE1AdipzIzuwTUAIC9Uh2bZNQJwEq+qmE01AP0AV5xe5TUCybl2JabNNQNH/vEyFs01ATadkS+QsTUCJDCwL3i9NQJhFs7p440xApi7oICO6TUD8nBA/V65NQG/nJUJKuU1A8UM9mq0uTUCOAPkxzrdNQGeJRZkDt01AeCGpbrzrTEB3eCOFZrZNQFZvnB+DgE1A1lEcfXquTUCTLTXthiJNQCXfn3NNrk1APo+MqvKxTUBPCixs5LpNQKLXMTtYhU1A3vjL1s06TUCBpt8fjZFNQCuNd2VJtk1Aqnfrl7pHTUDsPF05ZjVNQFFDN6Vev01AyCuHDa2sTUCnU9VafLRNQPU2UjvVHU1AGAVIkl6ZTUDQN1qF+SBNQLqLmh76t01AnO7sEIS5TUBGG06kSLBNQCrtKNsIS01Axih3D0KyTUBzZ+O9nK5NQPMYrsnrLk1A5gCHZmLjTECD3mWGibZNQIDk6Ni+Lk1AhcGxnS+3TUC8BULoJjFNQMyQgE9Lr01AVOs7F9euTUA1SCERybVNQLssRXVcbU1AFJnxqfMgTUDGKsYYBVVNQO9ISChcEk1AvAIZ23G2TUBkEEzzgyBNQEHI8zrvuE1AHTfdNUEUTUCM1IMf1bNNQEBB/lf5p01A0tDhdaa1TUAVn2sBIbBNQCcIJIGIpU1AWJMyH59iTUDxeyQNRiBNQDmTmJI4uE1A6RPXnA6PTUC8eppipARNQDiWKvzjtU1AGHMWb0INTUB2mCdc87hNQAQnJ1lxsk1AAmD/kjy2TUBSTBi72LRNQP9QQSByi01ALDWbRR23TUCav8Kj1bhNQOE/5CbmvE1AgLZVT8+yTUDA6OZlJTBNQODpudm9qE1AAXlcRLm5TUDCd7OugrNNQAXuQCgAMk1AzwsWLiK2TUAf0YHp0bNNQNks2L6SsU1A3zqFpF60TUC6E3P6lCVNQGuuT5ebX01AAWOsGlazTUDeaA8Vp6xNQLTX8B3pv01AnUDpESy3TUD+dmqbx7ZNQGigItlH7ExA6Pi1A66qTUCxRcNSMalNQCAvS1U+SU1AhbarmG61TUAogPJSXLZNQBJyis1c/kxA83CE3y8dTUAz7S26mdFMQIoDe9FdME1AFNaYhBWaTUD4e3sx0LFNQBn90Ziuuk1AbsI8cxYvTUCyYjnvcbdNQNv+bJNUvE1AU/tJD5e5TUCf72Ivd7dNQBYgUl5oNE1AN4lABqG4TUDGUS6oHOBMQMt+ZW9nME1AB3i+138/TUC8bio9Ru1MQARF13+mOE1A0+46l1YwTUANqchXXVtNQNvZJgjvsk1A7K25SvceTUA2/u45deNMQEg9kYuzZE1ArvXKnrWmTUCEnULce7lNQCaNsrcqrk1ADFl9AALhTEBv+5rH07hNQFcZ677ktU1AqvcKxrOnTUBORazaO/xMQLlrP0its01AlGqsKvixTUAV8weXGi9NQGY4mzdk60xAr527+rKuTUBdvl08K7tMQIUTXk+VuU1AxUKbxNe2TUC4lgvRJ7lNQKudkFtUtk1AwxdE8/C5TUCwZGOJU3lNQHMCfoq2uE1A7QUQmN62TUDmWhhLpwZNQNcuHjFlsE1A2DbKi3izTUCzHz1yvbZNQOiXGIp0lU1AWyecu8W3TUBRhbtYrKxNQH9K+xXEp01AZRWmQA25TUAKjsAQmG5NQPJKMVpsKk1AIOf2B9VuTUBrnbs+obVNQI4f4ThSpk1AG13bE5O2TUBoMHPhSKhNQFAP7IBK9kxAeRj2cIq5TUDCcTetaq5NQJxltNZuMU1ArtsdxgW4TUBwl+T9FrVNQJQuE+RHrk1Aw/ZwSjCNTUDlkY3RRS9NQEOVMbe+sU1AUPNaEut3TUDnfiVkfq5NQFPw09m0tE1Aidju9y2rTUCWtvhr339NQBqZ609tHU1AZitzPkO4TUBt4m1uGrZNQCSCZwapL01AUgNAv6a3TUCZAnRTOrlNQOVMQUTCuE1ACxbdx822TUCjtZaiQ+NMQCeJLWEFsU1AGVcU/pAwTUDoAH+P6iRNQL6PKOgrsU1AvxerJTdaTUCRo6PnjYZNQAp14KMJo01AvNBQFwqtTUCaI17lP7JNQPeUiTA6tU1Aci+61rUvTUD1sgS9UDtNQGktzSV8CE1A8oS43021TUD0RVhgJrRNQC/zYiYG80xAMJACkJK3TUAjnRpEnnRNQD7UXHVetU1AODlpnKKrTUCOFJrrGrVNQKtXtMy2sk1A1O666Tm4TUDezhev97dNQCsnzrtOME1ATY0XbIsLTUBAYHSxyaNNQA6QeNUwsk1A2XKxXDAhTUBZ8DdcW7dNQH8wVRM9uk1AqPrzl6W3TUClwnC1zrJNQE6+TTQktE1Ana/ybJa2TUDh5MDsclJNQA0fBwHTu01AEToqaT+3TUCeP1UszLdNQC1QiiK/LU1A3hGu0eWyTUDL2h3MAbBNQHy/6dJApE1ApFkI/NwuTUD+S1EvtrdNQKI8oS50LU1A+u42HUa4TUDUdJndILFNQCRs8gZZs01Ac9XoZpO3TUCtt2RJE7dNQFN88X2Ts01Afk1bFd62TUArLMXwqUJNQGNcg3ZZrU1Avm7EX0KxTUC6gMKCLLNNQEAG8mtdtE1Af1ltzyK2TUAd9lXSZQtNQOIKfJ79t01A24WfKWsvTUBj+UB9RjJNQKid2strrU1AYi0neS0sTUA5Z8HO6UVNQOL+GVF7Nk1AmCbm7sa2TUBPcQtvNJFNQFMvf0m1tU1ABux+bc1PTUDv2Ti8ArJNQAPKiooQMk1A6fB9iuC2TUACH1EBYLZNQDOWxi8LtU1AYTZQaYkwTUCVh1nTrrZNQLsrYZCsNk1ANo7FixBNTUB8kuhQHLJNQBDjTLbuuE1AvaohM0i4TUCbDPbTuq9NQLF1OoPlZE1AtxKs3jqdTUAhv5raaHtNQAFLWJ/Guk1AM3adaU4ITUCwIyVwy7hNQOkyVLWLq01A3Fkxazu3TUBnNi/goMVNQFCMZ4omEE1AnRrqCUtvTUDAMzXjurFNQOl6IDUAvU1AHZXOmAUtTUBKf1EqPrVNQBmba4nWGE1AOly4Y/GyTUBA6dPOFURNQMWDJpylt01A+RDx9ZbtTEBh/X0SqapNQOCu9i/3NU1AoOLw+qO2TUBqpQ4qZbhNQMI30Q4QmU1AWNw8fVchTUDXlzOt3q1NQFGtLHsRL01AfBsDI+UvTUA8ufuA7rRNQGjGxeB6s01ADsYJQ1xzTUDC/rj3Ua1NQDKmkNlpME1AFIw36GC1TUCi2y2poyFNQKhi581msk1AoooXi94vTUA/CP10z7lNQHEEjU+ruE1AQjIpeaiwTUDSWetcBLJNQGb4/Xmb30xA+3RVt9xVTUARIOU3zVBNQFF/M273L01AGijB9t8tTUDRNBQviRVNQGOxZObUKE1AigzoBye2TUCa2NTUvXNNQLe8XeayR01Aq7PEsPevTUC+UiGW0yNNQPf+o/rRr01AcFLzFvC3TUALLmO8Rh5NQFAubcZWX01A8rZ7GSAvTUB7paZx5a9NQCTP+smmrE1A2Nj4a/P6TEBMNaDCi7hNQK+nTHkDt01ARMmiGB8bTUD5MPcYbzFNQAx5gbXduU1AVm8xavK3TUDr21kEgbdNQNG+7QMns01AzZlkfjyoTUCtmJoIrbhNQP5Ty93lL01ALRcYctmkTUC5NOoteC9NQNblwB2vtk1AxUPodyqxTUAKAnY1zhpNQD+DY58t3UxAr6lstUWuTUDoKbF//7JNQDXC73mXt01ASOOt08K3TUD5tm/NxbdNQIHGNm1Mr01AEZ0chvNTTUCrR5ve1eZMQNjh/PXFtE1AFg27qxX1TEDZeHr0PU1NQA8nV3S3d01A/Z6+NF+nTUAYb1YJybZNQGXeL55NuE1AveNz2+hATUCOEoEzpapNQDclY4VouE1A6MFN1yUMTUC518MGMrdNQHaW9aUTL01AL8o9i7u4TUC/zdn0czJNQE0YlkvHrk1AOI7wjESiTUC9jA6a97NNQMOfojMaM01AMHg8rRq5TUBAycq7YDBNQASN9jJOtk1AjQSnsvS3TUCI/sQzlrNNQGs7bvqmpE1AUMq1p01XTUB/P9pUAyZNQGOp7wjHLk1AitZd+e6wTUBaeItrk7hNQLWVSDZzt01ApJIOScC3TUBqgma1azBNQH0FqaSWt01AVDLb67m0TUABOYWhmLFNQDYvBbskuE1Avp1vSN99TUDo1pO9aTdNQAjrCv/NtE1AeU3YkcSqTUC3ad9uyLlNQPQ8rUx6Lk1A1549rkrsTEAfdLgdzrtNQOt5Vnipuk1Ah8rxSG54TUC3hh/viyRNQIF2JsBCt01A0LeM0UYmTUCjUMcEPjZNQN9jTf9kmk1AniMrLn8+TUDHO8lJrhFNQGcrQTCXtk1AzfqhGiCATUCo1oxKqrZNQKNl9v1oeE1AWFuDOYKzTUA4Xhc2abNNQBmNp6FMuE1A1/bAQfqsTUBnOJA4BQZNQGoBBKjRtE1Ar281pbC4TUDEhcFvT7RNQAl1mgTEu01AWwh+TVu5TUCzgBktQapNQFw4ODhft01AZINvNOcgTUCHc6H0PrBNQCXSLOgYM01AFBbC1m0OTUBV1G2w2zBNQC+KvLBoL01A0pag29YvTUBUSp/8iitNQDUjVncOrk1ANT1XgluwTUBHqxYTH4BNQMGjLlHQt01AkhytiVSvTUBjKn5TCTRNQOy8JCX3mU1ASHnFX5WoTUC0LQgNFbdNQMiRu0jgK01AMAsBXP9eTUBcAYqacrhNQKs3me+8eE1AUK93CHyzTUApVbyhvLZNQOk85Vo+uk1A1V+zfIKxTUBbiqVxArdNQBxV/yvXrk1AM+8jDAy4TUDYjhFFTq5NQK7Ef1hztk1A5qhNC1owTUB2OsWVrLdNQNsuknE7XU1A+Hjgi7UkTUAglX9YOz5NQGeGrQSWM01AI85Wn4O3TUAD79tYq7dNQFZfmHCVrU1AJ+q9OeR/TUCHaKBCCrRNQBZxlzWKs01AlurniSLbTEB10FDS+KdNQFNmDEzMuU1AE9d+V65XTUC1BEb2Y7NNQGdVHkuGqU1ArH3R5dK+TUD/KmF+EaxNQBIqECJTe01APLE8ebSfTUC/6IxoyrZNQO2vnPtCIE1A+vGBbqClTUD+kpFPtG9NQP1Zc2Vguk1ARKKJfNnATUAi4aQnvrhNQKalsVfZtE1AZa++qmYtTUCDzBKeS7pNQO43nwrjtk1AKptxKtGpTUDomxmD3a1NQFAtcNGbtU1AoJwZZLy4TUCIHXaiKbZNQKM1R5kPtk1AXRJg05A5TUAIv4IPOwNNQKAE0hM1Pk1Am5h8/juxTUDU6KSlIh5NQMk5SgxGu01A3YYCLPO2TUBunK9LpLJNQDOVJsAcnE1Awp+f/uC2TUB2p3FdWLlNQI1wmsbYoU1Air6Y/FK3TUDi7Tc1zB1NQMn4GOiRjk1ARUwN0L23TUBiefY/qLZNQOUaK4wxvE1AOAOSxRm3TUCmocR1BjpNQHvqAQFhL01A8zGvpvq3TUBIMcnZ2pdNQOSfVJVzr01AL2p0WmO9TUCOFWayIy5NQNoFEbz4t01AE9PDbbG2TUA0KRfxa7hNQFBFQzNRrk1A71ez9LzvTEBXSnoq8bZNQI6cbomouE1AsG9gerAxTUATohQJnb9NQMFuCHSFt01AbKWN3Xm2TUBuh5/FwLhNQK4NTxOWsE1AMw23hHq4TUADgrlGSa5NQJJImtY5Mk1AKzRRuZjfTEBcjUYhR6dNQJFLXYDktU1A/SoXbzktTUB1izsym7RNQMHo/Onfq01AGoOdzw21TUBMaVWsbrdNQEsY7tfsL01AAD5m+QeyTUAxhhbDRDFNQJPqQVy1tE1A4aPeldG2TUC4j1AcELpNQH5hMV/Xr01AbzVjlz2XTUDfQEK7ejBNQO2yAF4vtU1ADWJWJ9G0TUAIgYXwo7dNQH2IkPbYtk1AEMs5vsK5TUB4TpcufS9NQLb4j+Fns01AYYJ7K3FQTUDTXMcUlZRNQHMR12Hotk1An+gVN7GyTUC09Bfjxi5NQLhAPC74rU1A0w0kVfMuTUD1luATx7JNQMHTh6SuV01Anx6e92S5TUA6Vq7C17dNQBwTnaUsuE1AaqptN+9CTUC+UJuulCpNQFizpUrAu01A+L1PKAVzTUDlIqQ/8LZNQNGYi+tutE1A4TNrxnjMTEDZQlwQJ7hNQDs45ALXvk1ANGdYflu1TUCYBfZk1JRNQKQJ0X6YuU1Ak4dUt9W4TUCAYlOE7rZNQJxSnTA+rk1A+a/aKGwSTUB7cw7mrLJNQAnKtAo4LU1AysX77mCzTUCmSsmns7hNQMct6f1jL01Ax/BJAnNYTUCED6BbbbhNQL8N/ZJWtk1A5BSwWeehTUALpj9ckPtMQAj25oWTak1AOsDQFT8HTUBZgH9dYbhNQGSm0TrjQE1ApAYQ2XZuTUCOEz/QerJNQCFdlj8SuE1Ao1sQkwK3TUBZAtopxLJNQOlpi3vQIU1A3afYPdkvTUDQRm4Et7ZNQOv+6xJSuE1AWXIzL/usTUBuxSLJ7ZZNQL4gcB1qak1AITLc61WzTUAQex16jC1NQGzD5hyfRE1AGwpan8Z/TUAb3s7Ul7xNQMoAPe/wuU1A+orZkIR3TUBepY38ALlNQGSLGxJEV01AhU13oLGxTUBe72Oz2rdNQF6PFEDcd01A2HBeiNYxTUDOF++g1bhNQGcEvwrruE1AAJIacHq1TUCrXBV6mbhNQLvzY4m/uU1AauXY+mCwTUBAC5l39KRNQEaFNyRcuE1AISwLLhOzTUDsGIW5545NQLYe2GtuYE1Au1NeAlO2TUAE/KtHTadNQOuL5jWeuk1AHH37PtG/TUBxjtxSH7hNQMr2URq8tE1A2YNonaqxTUCuW1WhWTRNQHxj0CzGsE1AifvCMcuyTUBMpk31mK9NQNYrOFUNJU1AbQUo5Z0JTUB3MnBmt7hNQMeYGFjNrk1AI5VkL+VCTUD20F486FJNQI1ymIw5fU1A097e7j4tTUB6mvV5Z7dNQLdOxAUDvU1ArhC3Hx5oTUAX3AdTFbhNQEK7/taCtE1A37S+QRuzTUBpIAebDbhNQD7TJ0OGs01Aghgn+me2TUAmwYsaurJNQO93s81psk1ArGOpLt63TUD/eAo4shZNQBHuxmF4pU1AKWh4xcScTUCu2x3GBbhNQE8jGBZstE1A7vejNw6tTUBLTTNuM7hNQE+Gcm8XHk1AT37GMT6yTUDo1AdHYqxNQMKOm4YiMk1A2mw5vTqBTUCAvg/396hNQOzkSXnBL01Ad+2YfjOYTUBOBQEfvTBNQHTaF6bmck1AYLgdn1iJTUDjTI7xUHNNQNXOJ16hnE1AILoBFO+yTUDAAD4NF7NNQB5cFpAKt01AOED3ZlWoTUBuUOnyu7lNQKfBTqe8ck1APKa2WwawTUD2DME9SLdNQPpYgBM/Lk1AwfqfmxeZTUDHUM2KZqhNQBzi6kbvtE1AdwahxjeVTUDHb5rw17VNQBipTehfrU1ALJIf1Q8yTUCd0y6GhLZNQAi7dIPvs01AtseiCj+dTUAAJIEE16FNQDbLgqi0ME1Av0roBGhsTUC8tx5wW7NNQOFHtp8osU1Ar/cLhbO4TUCNvguu2flMQOUw8dZOME1AyzJO/REjTUCupJLlP51NQC6p9QGJ9ExAO2x8qjqsTUB1PRgFzqdNQF8hg8aGgE1ApyZQN/S4TUAdH+9C7LJNQJt8RcS4rE1AdC4zlFe4TUBMYCDjVLlNQB5Sqp4u60xAjsZpVNmzTUAQCsyMX7lNQKsZSS6QsU1At15OZrKoTUCIsoijEHJNQBZXOsp+uE1AYMhUY2EpTUDWBis4pKZNQAkTvDo9fE1Aaz/Qyq+xTUCTScDB8KxNQMYLn20yuk1A8/SpAh23TUBHDz9qlbBNQH117LsMuk1AkthP9925TUCMe/FXxbdNQKk3RBqVs01A5gMXtBq4TUCHnDfxfrFNQCGGQXq7VE1AERw9qOPuTEBkFoIv3C5NQEtNGrjMAE1Ayj/9uzKVTUBq34tKjrdNQDtg1Akutk1AV/0Yzp2TTUCa+9VPpLFNQJ731Y48ME1AdRNob716TUBM/1S0KKRNQPPedomwbk1ALauReVotTUCyIZoAPDFNQGVrVFteaE1Am9dw+HCyTUBdffBoBGBNQJxMkraBMU1Ai9YXAQ23TUAhrpgdFLFNQMHzEfbQsU1A8MGGAKW3TUDVmKYzbyNNQKVl8GtXBU1AgDICmwOuTUBChjAFKBpNQE8d5mr3RU1AuEXW2hYiTUAGHfL99LdNQC7o6DaKvU1AvCRYHzUvTUBa3fRGF7VNQIQikmyVr01AlXwnMVO4TUB4Z21y9StNQIkjXgOUlU1AJFoBVjs0TUAZkIi4nVBNQCrS991pt01AWO4blKTtTEBtKUzen8BNQKmUEzSarU1Aqp/Oj7TKTUC588beHzJNQBlJ41aQt01AsWU7OuQwTUD3RR0sk1hNQAiywsTsnk1AfcTpsCIsTUCKEcEq07dNQNwUEtTtCk1AxkepEJe2TUA54HTM1LBNQFDDxF8Kt01AShu+Qc+4TUAVJgell7ZNQN7pRPe4sk1A0HA4wcGxTUBXprxSKrhNQCzHw1eqs01AneQkCsO3TUADNcgzQrVNQBDJIBgYrk1AfkPRFDVTTUCkfqskd7NNQAEaA1ass01A4Vc5vRm0TUDQ5jjzjS1NQPWM+Uhcsk1AjOEAT3BDTUCZqPsm3ahNQJsC4nLQmE1AEQRtube8TUBppZDfupRNQLW2gROKt01AHSWX6Md+TUBp7QvgP7tNQJQ5ievtLk1AFLiUZqS3TUDtHkcdVFpNQLBE0B13uE1AHVFfkVuuTUB6cVMvS7BNQHkzVvt1qk1ADnBQcTGsTUDU+qe21yhNQIMIrbu6sU1AyvNc9k+4TUDYtW0Jva9NQKEi4xHJrk1AG+XL67O/TUCnCxVYY7dNQGfHNN8uAk1ACqXj1pyUTUCIrjkqmLZNQCb9T+SisE1AE77NpdC9TUBWG4iorrFNQAL8UxKTt01Ap6/oEpqiTUCquJg6pStNQOSs/EhwnE1AmBjQ0Fc4TUDOcbRANrpNQF99Qp58U01AkOV8OzVPTUDpwsufQhJNQA/MMXk2rE1A6u2VNoq5TUC0ZE7jQrZNQPgO+MgVQk1AHi2iczeuTUD/sF3gysJNQBQ0DyeUZE1AYki9uFeuTUBGCnhTN7NNQIo0+zQkuk1AAdX1bi2tTUAoSrmbirlNQMLbpWvsu01AK9pyDZVDTUAClFO6VF5NQDyxUCnRuE1A8dMFx88BTUC3owMhgHBNQLZ6MJ22u01Am6L4tJ92TUC4aTsYJ7ZNQEOZr9b4K01AbA6CzZxsTUALiFoyK8NNQKCjiytiuk1AHVxSagq6TUBxkipkMa1NQHq2Ij/u80xAN9SUg/O2TUDVFkPk0HdNQD95PHuvsU1ACmJ7pdWMTUCM0yvf0HdNQOyI978wsk1AiMY8fMCsTUAzwVn/nLhNQF3V6ud7s01Aa0oGwfEkTUAN/MEn5rdNQESNUGp3t01AFqh/KO4rTUCA/K5wJixNQHXurHwG3UxAF40m6zq3TUDHWev0fbhNQBeQkXX2tk1A9f2EUhUnTUBXyvKNkj1NQJnU5+fcrU1AgCD0KWS2TUBH6L9LdYhNQD5p4PWoE01ATubBYaU8TUA3lGt/7rtNQGiA0UbeLE1ABE2ATQ6wTUAQEDkMp7dNQJnHYK6Zuk1AXTRsWHEqTUAwffmpXrdNQPp2YZPU40xAVBxWruGsTUAsLcmhZzFNQEprhzBomE1AyewBkQOtTUDC/BVqumxNQKOZbcp0C01Awfq11DCxTUD21BbNE3pNQP+MkuFask1Ac/QA19+yTUCWrRFb6yNNQIyaeQaEsU1AJJ9rNEu0TUD3UaOWG7lNQGTfYYHxwExA25wmeniLTUAYRt4zbaVNQFPg00eltU1AHNY2U11uTUArHLP2erBNQDhHAbN7LE1AtcqTPoC2TUD3XDDAjpRNQCzuJGnYpk1A13Af5465TUB4w3ajU7RNQDSRcGAts01AwFZ8eSqxTUBuCWcQvaxNQNAIvjfpvU1AcAVlkvu2TUB7/gnBkTRNQGvwu2sgFU1AbBQKwggjTUB53W61x41NQGsVcPSEsU1A4sHLiGSwTUDVgYumOy9NQAESiftst01Al1Xrf92zTUAqRBep7KFNQL5g+J5it01AnE8vya2fTUDQTqgtJLBNQB9qjfnTTU1ALAv/SiWwTUAuts2psLlNQH1TiqEttk1AG24LBR/LTUApSPUFoa5NQCLAKllaRU1AptNR4WexTUCGHOiKQrlNQCUkyOsZNE1AkP+7mVD8TEDXPYQJiydNQIaTIYRoME1AIwkEi/grTUA2VA3MLXhNQElc7oJpuk1AOSmah5pTTUDLKxpQX5pNQLfQwKF2uk1Ajik8AGW4TUBMoN6p7LtNQKn5XS5cHU1AY6C54NGzTUC/ErIP+jBNQK9TO0kzt01A1QxkKk68TUCGAk/pFTpNQIweywzIeU1A53/ALny5TUAz4q02R7dNQKWfIVDEtE1AicoSKMrjTEBOHVhh9b5NQJUv93dMuE1AB00P1FIwTUCGJnqFgplNQK1N1VYnvE1AOjpauliwTUC7EAl2DbdNQJe1hX5nr01Abc797RdaTUCNBVIFQoxNQK7XSApikE1AuV9iawC5TUCHqgM7UbpNQPIio0BvU01AN6ZrpidmTUDG1cwZ87RNQEDy9vtU2kxA7b6nOqYvTUDM5JYgqbdNQJwySB4RME1AmuuPfjQyTUDvaV3JY7hNQAKaB+qAvE1A6PXubOy5TUBB3dCoDp9NQCdouPXpv01AoJVDZSizTUDuO3JkI6hNQBktCeaNt01ARoh5kwCxTUBQms915LVNQESWt6ToLk1APv9C2WmsTUDuFhsh6rhNQI5on+UCuU1AAMwVNzi3TUBjyrovK7JNQLlInZ5nME1A89yihBSxTUC3PgTylKxNQIvPFa0HsU1AFRdAxjztTEDT0/RuDIpNQH7KM4S+t01A2SwcZ6cQTUDm77ugsLRNQDb+E4qPME1AqSOMzcVCTUDt4XRd1LZNQG8pJ++SME1Ace1Ljx63TUCOYAnA8KdNQOtdgCEbsk1AblpVKWIrTUAx8+yhES9NQC3HpTqKLU1A5fnNRiC2TUCY9f52pUhNQEqQdz5Dt01AjZC9Qra2TUCp3KTW0rZNQP2ACcj4tE1ASfDDMKe3TUAUWnN/pbZNQOL4Oh3Ks01AtNNun9u0TUBwxRv/zvxMQIvoitomvk1ArVzppJy5TUANbKMKZjBNQLfO8tRTt01ABG+xodumTUD73PtS+7ZNQLpgBXiKS01Ajn8X0sYyTUBdT8q9Na5NQFkP67hIUE1AbDcEZFa9TUBjZbYxvaBNQEt0xncOsU1AccwmEYi6TUDiZjuzC0dNQFeym2mIoU1AjwECj78yTUCRPFLDcTFNQFHdm7JLu01ArDHiH3e3TUCeMEoeXZFNQH9QcGS4uU1A01cI5nS9TUBFdyWqYbZNQM9jf1+AL01ABLTu7UUwTUBv840RKXZNQEVscc2uU01AYnlRw7m3TUCsLaM3x7hNQJAoyuQNME1A23dJE2C2TUAfqNidqq1NQO+7q6vZt01AQP5vTKi2TUAbahTnWbFNQL7nwKy1sE1ArBwIuAoyTUCZXV3UBq9NQOexubdGuE1AmanUPtqvTUDKl/KmSC1NQCG0FKsdtE1ADKMoCXG3TUAxlAJnY61NQPjXetIfsk1AACEWarywTUA4QTXPJrtNQEx3ovkemU1Aww7WnIG4TUB9Vz6IIPBMQErd39U5CU1AJuF+GtoOTUDgKNuq0htNQHlC30D6O01AEuBZr1a3TUDI9L9qf6tNQOMIRDRiiE1An8SxeCOpTUC3lTKjfTBNQHmNS3AXME1AljpwgvusTUDb7sdiXbVNQEEZMfsdL01An7demqi5TUCBEEho77hNQHuJ2cHkfU1Aeg9HDDVfTUCBeDPBn+dMQDMFwxh/pk1Ag4GDwwazTUDcyVnnqadNQCixgkL1rE1AkxQR5McvTUDaH2YPpjJNQBctmmZepU1AAK0ffMm4TUD99FYuxLZNQDCJV2lSt01Aaq/rpx8sTUC4k/zLdbBNQHRlmBbyt01A+zdqB3C3TUD+zGz66bhNQFt/vGPvuE1A4bHHYtjjTEB54Klh+cxNQE/ceAZ/ME1ARTnW4cGhTUAEolk16zBNQGFicLC4nU1AdlMTNL+lTUA4wiMP/rJNQMVlypmeuU1AZ6MD9LUuTUAcjrPTXi1NQJuNeucluU1AaRewQ6q4TUCiv0J0cypNQEkV1rzWv01AYikNBw6rTUBbxIjZM4RNQBB7BcZ4t01Amak/sxk/TUDk73knX7dNQAfK/xuqt01ApgL3edIuTUDIjyo+8bNNQIDb8Z6n40xApEvXRoItTUCGLZAmMq9NQOfi542340xA9zcbza0wTUBpxpZSQalNQN/zeSTFt01Ap5lMXbm1TUB3R6VrMJxNQOxwJn4zCU1AizfUulJ4TUCuIPXZalNNQPlJefLjs01AuxRFSZMgTUAhdeGuZLdNQFpqbChUtU1APmOPc0MwTUBpb1riWK9NQMtAFxceuk1AbOtsI+e3TUBh0UqVBXhNQCDcMpqdME1AOPYtE+y5TUDyWi4h80ZNQBjS3qmz6ExAfo3NCxCoTUB4H2ikdbFNQEsNy4Zfrk1AeMYrcyPBTUBdtPMpWKhNQBVsu2BGsk1AJSXQJ3C9TUDSX7IKpbFNQIuQnA3rt01A1Z1Up4EuTUDF80n1YLdNQDChhvv6rU1AJntgupitTUCXrk6LsrVNQMDc4yJxt01A3e6pwl8BTUDIh8p1ewtNQNVq8+2Dtk1AC+jNLza3TUCh2a3UQ61NQHvPDLeat01A8lW6cDu1TUDksP6WZLZNQJhJyJD8rk1AWlX0iSMvTUDFroVzCp5NQIdo9BmNs01ARsrurIGwTUAl9Bk/euNMQEjbV8RUuU1AnMKFlVa9TUBRIOXxELBNQEyxLG8XtU1AvGHOEh11TUA2rGeSyi5NQFtGCloeuU1A5LqcBzK3TUADeL3B3ixNQEzUKNCkLk1Az2oz6zcyTUAMmPU0lbpNQKclX9AVqE1A7L87rAx7TUAQo9W6piFNQOp+XztCuE1AElnkAxS4TUDeBQmDW8tNQEKfyXkjtE1ADuQ1LwkuTUCbvjAph7BNQBcXMMi3rE1AbJPWDim1TUAfBFPC7LBNQECVflBJME1Aia+WnwUyTUDuDPNz+7dNQLMfgQ12rk1AFg7wWAamTUDqrRW5/LdNQBXk6fQs8UxAwqFB0Cu5TUDo424DlVBNQEeSKCoxt01AKIhzL0G6TUDTwXLgz7tNQDzGDOVduE1Ao6DaXFonTUAVdBJi6LJNQEDQoy0TCU1A6WShep+tTUDNdkUDES9NQHfqStRguU1A5Pi86ZwiTUCpItb1R7pNQMC5seMOt01AW6VS3kC3TUDKQpZh+bZNQDp7HA7JrU1AWjR91Qa3TUAhYRE1VLhNQP23vjF/vk1AbGsiDemuTUByQJ10K7hNQJAxjSiysk1ArKtr+EymTUDwtGpxU69NQLiMFlOeNE1AnK3/kTAyTUCBMaOVRDlNQFxNLAcSsE1AvmYyCSszTUCirZmP2LZNQDEJASUvrU1ACkNTY+gvTUCn+Jy9fbhNQORqWPAlIU1A03vyPjK6TUBb3NvkO7RNQPIWAkkkt01ATQsXbEkxTUChADEA0iRNQKFUZ57NtU1A+KXuhlmkTUAiuloQnDhNQJJ0gEiis01A6BcNb6C8TUB40p0XvbdNQHQenWAOo01AsoE1h86zTUB6f8gt+7FNQI5ttZ1CuE1A+MhMMR+vTUDomzcbNrxNQBBFTjPTcE1AAoNpVze1TUDc98Jq+whNQCpEIzDyrE1AH7purnqtTUApozUvibZNQOocQKwo+UxAvbRI1/yxTUBO02GuB7ZNQMlo9pQtHE1A+PxW9iuuTUBXvGkcZjBNQFqx+112ME1AqqIAFCcwTUDRP4bZXbNNQPQBLK9Dt01AbQxgKui2TUA0PO4d3UNNQA3nh8zJU01Ac0Tjbzi4TUBHLC0hPbJNQBiJ67M7tU1Ath4k0uK3TUAZ34XAfrlNQJNfa2UwTU1ACCDnWyi1TUCX/4Wrni9NQOGXH/wkJ01Animf/DesTUAeNKtyprNNQCzXnUqNsU1ACN/gnyYxTUBiffk4sy9NQKt3nsRDM01ARZucEx+zTUDC2gf/VcBNQP9ZsCX7sU1ARt+IgDe5TUDwdjZcv7hNQDOhrKXs60xAQqrq5PAvTUBgCy3Y2ixNQFAGbUK6vk1AsO5jI9+3TUCBjp92iLlNQAMULEPVrk1Aq2t5wL+4TUAs0Ajmwr9NQKEhyXPxt01A3c4izmSeTUDwbIq3ekhNQEMVHSDHH01ACXSSXOG1TUB5y//alh5NQInVO5JEtU1AuAdgBNGqTUAE0XYaUbBNQKBZtUn2Lk1ARZ91tbC6TUAetmCnQLNNQEM3fJF0pk1AwJsfbKWzTUBZ060AsrdNQNclrIUHsE1ACBlbZwgyTUA7rsL5BapNQHOW9cSHtU1ALAv/SiWwTUDrFUR/bjVNQK4xcARURk1AcpaAsS6UTUATAqPIx7BNQEhm8i8kK01AkkGh4sJITUBX9DWyNbJNQOhhm0ZsuE1A7xi+H129TUB5Pkf15CtNQDWAO8l6sE1Ax7WtRVUITUAyhmi1JrdNQJuJt7dOs01Aowd4CC63TUDwp84N0VRNQOK+65J8JE1A1C6GZG6vTUByxpNVDrNNQHXYuGrvtk1AVJo8ioG1TUAElyxI/bZNQAxUmZGAtU1Ad4Qn+9hITUDVBnpedr1NQLyhsGDDuE1AldINXkYyTUCz9CQZTLRNQKHdY7V5tE1A1YOVcR8nTUA7dLlo+ndNQNdPc1faf01AqOEK1amsTUBi/BnDd61NQD6M3O8vDU1AeGlsjbWwTUColcVFpZ5NQJz3cP3vsk1AjiLoLWS3TUB8z1cfsAhNQAI4rgNktk1AbjhTT4ezTUBu13jfprdNQL5qr9fVsk1AfSk8Kuu1TUCR36Dk0K1NQHsdT6d0cU1AgKp0VAu3TUBODjgOfbFNQByC8ydmuU1AefAnDYazTUDsX6sWlrNNQCkAAD6gDk1Ap6IP8jAVTUC6NbOhubBNQPkqxaF2uE1AiQlQLWW0TUDx08h89itNQO1MlAx6NU1AjvnofJX+TECdf92qkU1NQJcxvzs460xA/acgiK62TUB6E8/b+blNQG8F7QaIsE1AbcQ/Z6yqTUCUE9C4kblNQOQKst+Utk1Ana7/HPYvTUBMQlgfmKdNQHDX+nbbfU1A67XXZv23TUDwQUMTVa5NQONaSl1bpk1AES9YaTa6TUBeXCzdLLhNQEbN9BX3t01AoKyaTB+oTUBdSocbxbBNQE3p0bUMtE1AmPL2gb2zTUCW5GwhNytNQEKxvRv0uE1AMF5FG9DjTEB8UDbGg7dNQL6rOHhBt01AF3DrCtOpTUA4vwi5EaFNQA68K9Ldtk1Azwx25RWvTUAGH4/NVMxNQGz/9w+atk1ASMM/K+riTEDkG2uM/rJNQJMBb28LME1AAO5zXhasTUBVkB9DlHZNQNIsI1GqtE1AAy/auVg8TUAncCRPh6VNQB2sCkAwsE1ASVKI4mytTUDubeZAq5xNQE0b0WDHf01AWUbtqxWnTUD4zzoLgcVNQGQXMyrYuE1AQUGcJniyTUCyBkxJGrdNQN98Ll88v01AzWHFj8K5TUBaYyAuK7RNQLbQhxXALU1ANRFYjaDrTEDb38cqNbtNQFHsYT2/oE1AjTsUph24TUCTANlI3bVNQGxhFdG8Ek1ApKsn2YSrTUB5zj12lLdNQNtBFGQXMk1AW5jzIYkzTUC+LJ8kcTFNQMdULgYPVk1ALwm7nxUvTUADCjZWh7ZNQPvKyPHlwE1AQ1WtTgmzTUBficeVeLNNQCKO0KNxtk1AqoPHhed9TUACBeRpXb1NQBg17fLbtE1AD3C/ytu0TUBThuKtFDBNQGWnLkINtE1A2UBinqG3TUAnCqysV4xNQIzp1yMqMU1AH8cSOeO5TUCtNJdoB69NQMIoJPoCs01A6olfM9y2TUD6oPqMs7ZNQGRq0PMQME1AUFJlnJgsTUCPYiZiLTBNQKI0m8HBrU1AlTd15sotTUCYtY8gurtNQMqRUT9at01Ae7TBHKS2TUAJSOpj0VRNQNX7OQ+bs01A33QHgdSzTUAmlgyLtbNNQIUJ9g1ot01A6qLIT3uoTUD1cR+9/+tMQO2l22iGLU1AnxHnIYUtTUBU3HGLK7NNQCz1yCAiuU1AnR/Vqsq4TUDhrRxFmzNNQON9ofFCt01AqyR6HZIzTUASafX4VLhNQGmfEQt6tk1AgxtaUyi2TUDXso9tYLBNQCtgLomnvE1AzemYd/a3TUC8RPlIqLZNQDB0vZ5B7kxABgSnZ/mnTUCUVc+w9KNNQB41mvsZCk1A5HBwD+ujTUDzHScNuC9NQIAgFE8utU1A2HoQnN6KTUCdT+VhDn9NQPoNzFPgtk1Az+2aLt50TUBUkZd0JetMQInOZ4r7t01ASfC7Q16tTUA75h0Qde1MQPHQR5KRuE1A1wYiAC2sTUAOgo9DEZNNQDAjGjYSuk1AS/DkktOfTUCXPO8HP65NQALeElXZuU1AQJ4vf/MxTUBo/JkCUbpNQOr6oy2CFj5A6l963AI0TUCPucFCHLNNQO/S88m/g01A/y6WgC21TUClx8lV6btNQKzl1hTftk1AGleM+hu2TUCgU+kEM6hNQI4qGkJOsU1ASAsc9yqyTUAPTMIJOq1NQLN0G5+ks01AsLf5KK68TUBAsMrbg6BNQP3vZvwesU1AasDGUvi6TUBddJdC/rZNQMBN7cnGtk1ANDQhAke1TUDGq9SSzqpNQPY0gcmWek1AH73mJt69TUCa1oPt6y9NQMtGGYjuCk1ATJH5ufa3TUDiHanasbdNQFPD5m+EsE1ALzkUYDW1TUBavR7r4q5NQODEO3/Lqk1AR0vV6Xq2TUCOFgq/zalNQCen9hoSI01A5rIXg5QlTUCIbmZklLBNQMK1T71ltE1AGDnLLqe6TUCeIiG/wblNQB4zmayQtE1AziafPiK7TUDGzfhJ2q5NQIGy/joMu01Avek6fetMTUDxyVRDQEBNQKEpXC+Jtk1APJm2sJkiTUAWN3PaarZNQA9T55VevU1AWLGkzf0uTUAHDYaluYhNQLe2vF21v01APLvjlEe4TUA7U6FXLK5NQPSZQqMQJ01AdTd2KzqsTUDcPq0fqLdNQJx5e2WGtU1AWxU7fDFaTUBN7psrEKxNQBJ9UzijuU1AgzV+76IxTUCGoL/pji9NQA8MWm9eLk1A/+oXHZEuTUBedI7UYbtNQJVmPfXJtk1Ao1T8LUe0TUBSYO5tLq5NQH3tEK2+uE1Abkf0PHG2TUBOZrPpv6lNQDaiig+OL01Aqop3aRW5TUAOVvH7X59NQC/sZWQcuE1AljLpauO2TUCy10DD8TNNQFWiFDP1t01Avzh1xNYvTUDyqD0lvbhNQPetiljbqE1AosH1C9KZTUApUyEcrLlNQC7toIint01A0AY4lffkTEA1LogDebdNQMGnXV/dsk1Af1qebti2TUAGNR8TnvtMQCJ9H17OuU1AtanSmOu5TUB4N7bf/IRNQHBOe+B96UxAnQTLImC2TUC1xUevOHNNQNZe38F9tU1AfC90Irm1TUDe7UQ7xbhNQJyFdCmIuU1AojQmTDioTUC5a/sggqlNQBpbmB3GuE1Avan/zi8bTUB+RhT0WDxNQONUFIu8L01AwtYr3g5HTUDGCRO8xY9NQBy0qDoWuE1AkHNoiQEcTUC0bLCjAFJNQChdBLSaME1AM72DKyu6TUDL9C64ErZNQPB+T7xvsU1AGhWfnJasTUD2briMhq9NQCArmLe8sU1Ac7McoUO5TUBOyT6VxSRNQJCf1GGIr01A8ActH3OvTUB4VrpYvbJNQGYKWR5Lsk1A7ZNOi7yvTUDTazmQ7r9NQLZJ25L4wU1AuC34b3K4TUDqse1RVrtNQK4xcARURk1AUBe+p+C1TUCjnZNfZvNMQCjGRS/wuE1At0zkGXnpTEBEXwDs4rpNQAAYpIAkuU1AOgfZy0iyTUBhf3TETQlNQB9kbYydLU1AVOicjKD8TEBvImaS7PNMQIT6LCHKtk1AWSzp7pe2TUCKqrg0r7hNQNP06jXssk1AQqIwUBCuTUAx/jl1qLhNQPD8r9VXD01AMV8A71kuTUC7EAl2DbdNQHg35EjiKE1A2bPRG0SlTUAdXFJqCrpNQJcWG86yXk1A3atuFci1TUCTypbKww9NQC/ysJyXLE1AvdG7p8q3TUB5Ug74iatNQCrVM5Q5Lk1A4ueqIyRpTUARbRgejy1NQBFcvhJPs01AdqoQAkOwTUByj+ZV6aZNQHDKp4b9Q01AFOYjZN64TUBuhnTW5K1NQLSNDoAwtk1AlQctiTm6TUCKFb/3nbdNQGQGLgXYL01AbVhhzaOeTUB9/EZigrpNQOowYrbVtk1A5AlkldS5TUAlYbPPo61NQLBi+7HdrE1ARo+BpXO2TUBAskuMWJZNQJNBGsp1vU1AyaktpkK5TUAIDi6Gy7lNQPAd8GsC+UxAWchA3hE5TUAVEQCu+7ZNQPRw4E/atk1AHuIO4SFxTUCFT4b+kZ9NQImj8kPNp01A6wNfx3azTUCWbQI3BLdNQDS1x0GnBU1A4pwHnWe4TUClGfhhogdNQGm0twqDt01AV5s3ZT61TUCXyGkoe7NNQILqvoIUv01AbfuaxLm2TUABsu12i7ZNQJlXo44xtU1AoWzp8gWpTUCpl4izNrdNQGnamXOhuE1AIhCZqV+4TUDRNSpnzbJNQJdGGu2nCT5AH+GWTUe2TUDtG4Lq/LlNQCJNnK4Cuk1AxO9sHGAqTUAjBBjSkbZNQCID+RBZu01A8Wn77AKsTUBRZrBhpCZNQCL2BUe/sk1A0eBvqIWyTUBPFBOMZ7FNQHtjm8Upsk1AocpwWzq5TUDillU86ZBNQCwPEUivqE1Aqir7Gd6xTUBVJbTmUbNNQGRg3hJLuk1AZKbno8S3TUAyL+YoBINNQO9ZB7j5s01ASX25UksQTUAkJ7miQS1NQI/uiU8vBk1ADIdPJ3aXTUDUGGQ5AnhNQPAhuHVFhk1A+W2mv82+TUDoRSn57+JMQHK6xm21Jk1An3a/3mG1TUA0WUmHuOVMQHV7+5VfMU1AVaVMUjayTUAUNQDJdb1NQPDtPOn9ck1ABjAELLifTUAobwQjp7hNQG8Sjw4rLU1ApUpEXXVxTUDEdE311y5NQHZNmZNowE1Ao0HRCSSvTUDwe1P/ebhNQFV3R0UUlU1AqCHImO69TUBT8JOr9LNNQNP0SaEAuE1AhLUZswQrTUArx/8BuKFNQENPOzjjs01AuhrTS7mqTUCoZSYI3rVNQJdBAj4Qt01Ax7VZ1jG6TUAcZ+sbD7tNQFlczqRrIU1Au7yFGdINTUAbkOipnh1NQCUCBbOxnk1ApWFOrJG5TUBoGa9/NlJNQOJsQw03uU1ATarJAzVjTUCpUePmDRtNQIkpohSbsU1AQ52UB1S7TUAyb2fMrrNNQGgU8ahlMk1AwUwxkmoWTUAPwMZG7LZNQA8xwWzzMU1AoU/MSrd0TUC+Q/f6X7hNQGZZQ2O1uE1AWcQAYh8xTUCnErl+C71NQPxdpbgEME1AZmNIKxaxTUAU/9A9TKlNQNDlUEdZME1AbBqQPcYtTUCdu3Dkw7hNQAAgEp2xuk1AiAdYRDYsTUDUs22B8qhNQPHwaOsntk1A1rDI01HrTEAz3nfJTbpNQDE19fCPsE1ATn0r0FOyTUA9w5cg/zFNQPwe17Clw01Arab/ymuKTUCQyLH+8rFNQBPnDtBNlU1AoogzKfCzTUCN57jYKbRNQFwCfvM5E01ATeA+h4KzTUBLODo2/7tNQF0AESkbt01AbwTkmii5TUAcAaGiorNNQHVZBcpgsU1A8gKDTZtsTUDGAdXwWLlNQPfWSCrLtk1AGCcFQ+d5TUA8/OPwVq5NQK1Dv/F+uE1A8h3aJiy1TUDENMn+iLdNQDy9c7VVuE1A+znFAz62TUAx5TVKMLpNQEYapwiEuU1Ad6vsFKC1TUAU8fw6mCtNQMmP9XIbsk1AUnJu6wK3TUAkxos3QLBNQA2BBqAFhU1AiW2BjyG2TUBoeXMyhHVNQNhv7LFqME1A/hvPFfN4TUCELCwH3rVNQDAwB0E7uU1A6T6H8860TUAd4vVVyrpNQB0IawgovE1AjZI8uPC6TUCVwAmyp7RNQDObhsTDuU1ArKaTD3m1TUD+x5I5XTRNQEaPd19AvE1AoyTetYa5TUDjUCOiF5VNQPWROV4xrk1ALw9FhUE4TUDPzmmo5LJNQEUFAebzpU1A558MSiG2TUAHaSZyF71NQDR8nOtgjU1A0T/vgNi0TUAWEhVPobxNQIiJPm0xs01AZk4G5YupTUDCG6segVFNQF5FcJMzJU1Aj1NC5+qwTUAdmBikUqlNQH1S5JnpB01ARM21yg+rTUDftEnV4KpNQLWxp0AXMU1ApPKeaFwpTUCQ5ZQ/i6xNQDHEIVuapk1AmamV8dwPTUCQGCsvcLxNQBsn96qssk1AtVjPG9kgTUAB/L87PDJNQPqwJPMgtk1AQfoak764TUBUQpdKinxNQKuBbfw4tE1AB8OSbRjsTEBf5I9eWH9NQCE/q8rbrE1ADx9mkr6wTUAX2TSHUbhNQHYQEc0vqk1AgDXwq+aRTUDm8m4tWjBNQAlZp2cBMk1As4Ios1S3TUCAiDWV57tNQF+WKt6BpE1AGte4u/6+TUCatuojzTtNQG8pJ++SME1AClF6T4a5TUCUiJIpmVkmQBY+VqyUc01ASpO3vj+sTUA2GfH4r+5MQBWY/Tdkfk1ANfvB29y2TUBMC0QMFG5NQNlIxP/OF01APe2hossWTUDOeK+8uK1NQJJfZIyes01AZ270x2GvTUDW33remqVNQKCSVNQLt01ANuBuf1UwTUDj/uHn0K5NQBeRPSN4rU1AAkgNm6JTTUD3EeuoGbRNQMrWXcbCsE1ASsdtUGlBTUD8MzJj2bhNQIR22qJtfk1A54Fvm1DkTEBNqs8N4Q5NQIxynnD/MU1A37IMQNa3TUDZjldAk4JNQPhdFU0QL01APfYrpJUETUDKCUTlo7VNQML9PEcq0kxAjjO3TI4uTUAakKvcFbFNQPdsz+N1tE1A1/GQUER4TUCpMpZki45NQMg23HLJuE1AgnDnq7a1TUD42PxFADBNQD7vnnjEsU1ASBnt/1SJTUAhF+LhHqBNQCpqkgdZME1A4bTOuOqxTUD5r5c07D1NQLQ20oLtnk1A/G5vQmP2TEB7A3LrqLZNQFwI70h2uU1AF9+U7n+4TUDjUdLpqL5NQDU9V4JbsE1A6ARFs31STUBPPbAQxqNNQJrDNBm/AU1AefISMOytTUB30tYNYiFNQIPHVj/NtE1ABtd4MemyTUDPSppr2lFNQMR3WloeoU1Anmtugi6PTUBDWXJDwRdNQJ9IVpS/pk1AS5jM/ZOdTUDvQ8TTIrxNQAXb4RaoHU1AP0KkZpGoTUBKNN1B4NpMQA8reknIuE1ATrHMl6+wTUCAezruiLNNQFAiGcF0uU1ACUduZb+4TUCqv1Mx7apNQIk+GK8euE1A1BR6Zx67TUDkua5YS7hNQMDTvdm4uk1A3Jn7YhGZTUAKrUqj86dNQC/Mwm2HtE1AzBeAE0W4TUCkhgfUW7hNQAJIWDaHiU1AJMbM1rS0TUCD9kh+JDFNQJqcNYZ5LU1AERiM64CuTUB0W8MOQsxMQCX1cUt5ME1AMlvuteW4TUCSfSv+c7ZNQDjPYz0krE1A9S55rvS2TUBolkfGtbNNQKw6VL/euE1Aym1dxNC2TUAsCFMKH7FNQD2c43kDyk1AYdNvBy20TUA3hOuNHLBNQIh9f9pZtk1ABTxzpua1TUDz/pUYI7RNQPSbRWNMok1A7bfwwzqwTUD1VbxUTLVNQCgN6op4tk1ACVDUkRK4TUAB5uLqfi5NQDXrJspXF01ARJARDvm1TUDll+HR6bBNQP5fcKZylE1AUSUSuzAxTUBtU2umHbRNQAqvHMACt01AhUvy4a4YTUD21hEirOJMQK8zwLcY8kxAAQSay1aHTUD+DEfkYLNNQFslxDYWuk1AzAlvWnm4TUDIm4/naTFNQPiqCrSosU1AnjNtAd5UTUAbyw2tB7NNQFdVi71x4UxA1B3ddJ+hTUBFEpCP4rhNQGzz0TiCsE1AjDoHzPCvTUBk5XVftLlNQOv0hnVbJ01AxsxuNnm2TUC2/GVqOrdNQH7BZvJlrk1Asiu9UA2zTUAqKYA77bRNQHKekRjxtk1A8e9WGJC5TUA37v9lprNNQGRVP+avfk1AHn018G/MTUBAvdWK7TFNQKt6eOZT60xA/zKLJPgfTUBwaIwrTLdNQIofB8pZtk1Ar6pmor2xTUC2TYqQUJhNQOaf9WF8qE1ALln5oWu3TUB1F+Ds2rRNQIevI01fAU1APqKX9fq3TUBD6RDntyRNQP9mPfX2/kxAi4sAIoC6TUDn8QaUV8BNQHpcwaA5m01APv1y6SK2TUCkac9iibNNQLM4Hjx4t01A/yIMJ9GuTUDocHOf9bNNQEghIpIOt01A4LyVt8u0TUBNJikrebRNQJG9I8TLJk1AIB6eHpAfTUA32u7aeL1NQEXJ8gE1sU1A+msqsGV/TUDMXYrieLBNQP7qAhNs0UxAhsO7bqe4TUBTK5Qhfr1NQGDI8qY80E1ALM8XQmswTUBgEHB0lVNNQJAiN8Y8aU1ADOLP9J2xTUBd9Xbgs2RNQOwbpKUAIU1ApFkxZDC9TUB5YXD33bJNQKunXuSztE1A77TluiK4TUDFIp76lQRNQO6I/gzfLE1ANy6erQB4TUD3puanJa5NQJ0ajPCjuE1A0k6aA3WzTUBp19TVTbNNQPdFAZV2n01AAz8shPcvTUDwCRj0zLZNQMkmRGfNuE1A4LMAYI6xTUAPSidV7W9NQLM1y0OYtk1ADrBzGt+1TUDVDivIIrFNQMtODWsj+ExAXbajy7u2TUC321Ii0p5NQPiBqa9ork1AacztlMn8TEDoUU5B46xNQJfbrVT3qk1AUDzeThq2TUBwePG9tK1NQKzaeHOvtU1ACmYA4KMvTUAk/pacLbNNQA1Qp+aotE1AagEVn7ehTUBcLjslD7RNQOxsQktaKk1AIpNfY9KxTUAMBHQ0PrpNQAqMCeUt50xA69eY4AO1TUCnttU+ELdNQHgMsyHvz0xAW2jdODjjTEBcPu8w7ixNQO0vjs2YtU1AwPelVp+9TUBxBCZWSrdNQBBpYZU/qk1Afy6HzCu9TUCkqItqxyFNQB96BJLxwE1AMzMed5+vTUCSqiSrRn5NQENlkyz/20xAMcm/pKYmTUCn5lMa6rZNQBcv1Pj/tE1AOOiAboa5TUC20NRbGahNQD6qznJwsk1A0neHeFN/TUAZT2k2YFJNQGxlRimAsE1ASqrDoIOzTUB1aCaRO3dNQBGZWAu1Z01AjyIJrCPjTEBYxq/GWLFNQFcdxy7rK01AXtHUsa5XTUBS3Oy3Yu5MQPyQz1jaf01Ag7Lnymi1TUDaB+uLQTlNQDD4sM2yqE1Apv67Cxa5TUD+bW68p+NMQHmc316KcE1A8ZN7WYq4TUAR1n/WuC9NQA/2G4v4MU1A0nixDuSyTUBFwCI6KZVNQJC+uBQEnk1AM6qGJCxXTUC5l24x7jFNQGmynuGQsE1AftITMeW1TUCsTHH/V7FNQKhfh7Kslk1ApNwd8UCITUCHCdL0d3dNQMRCXqJbsk1AKHpq3jYhTUBS+OK2IAdNQLjWnUwUMU1A41DTsV6hTUBqL8AzcrFNQOcaCz7OIU1AyPSdC5ExTUCyzqyqBLZNQDWBETsdqE1AS+M027e3TUCDyzsfM75NQOdE9Zppt01AB4MZXAG2TUAtL1PxsLdNQDikTOBquU1APpAde7pnTUCeumFRzDNNQIU6Xm2xuE1Amwetojb+TEBqBpczpLlNQOluDln/tk1AedLIuZLwTEDklF6mq+NMQDyzTaHit01AvBhnYa7oTEBxNrb8jrFNQNXUQPQLIU1A6w6ubRy3TUDkxnqkqLxNQNrcCFIYmE1A5pkQaWejTUBVm99t67JNQMXHvM4KtU1AkMALTtK2TUCR4663N6lNQMDZN/Vrsk1AEM+voRkyTUAIVu2CczhNQNV8utFgu01Aj728UwK/TUBlCZd25I5NQGWo6bR7t01AtSr+T2o1TUAs5Ndi1bRNQCdjf/IoME1ABl2hXk9PTUCHnt+XyLdNQEHK4lXcs01APnB1OLhGTUDuytmyd7hNQMzmmIjqlU1AqF96B2GkTUAhqyZgVHxNQPKmerwfIE1AztYQUS+6TUBZW4r+tjJNQGcyo66OLk1AwlEs6e49TUBFEQVa57ZNQM88deV2sk1AscL+oZmdTUCsA5rzdLdNQCdEkJvdMU1AObNjEyi2TUBThUMu5rBNQIPdC2gNPk1Afzcyinq2TUDVIZzZg7dNQLvWNN84t01Ave6/DgiqTUBFlEAeIrdNQEztPEyZs01A5Hf5gqcWTUBJrrY09rdNQMLxMNvHLE1AhDCMd6q4TUBJE8xkkbhNQH/ReSjWP01A4o1uB0q3TUDrR7g+v4pNQNG7Ml7xrU1AfmExX9evTUBM7TxMmbNNQIaRogJNt01AeoIvbbS3TUCWsjFehalNQN1xVg2esU1Asix6CXyzTUAEB0/3wulMQILG02Pcbk1AZZLGEWjiTECzOLIPdSVNQJMMe7xSMU1Adoo0ACG2TUCQAySa2rVNQDat+gpEuE1AEI235WWeTUAYCzMqwbFNQPmy3TJiuU1AlnSqTPCtTUBXA4Jwut5MQA0Nav3utU1ApH/9Ml65TUAeuQzqw61NQDmY83q9rU1A9Hjy/Qy3TUAtreGxmi9NQBdGjFk/uE1AwkPNYIexTUA7De69u3NNQEeCbrult01A/bHFoSy5TUD6kE7YZ75NQEYE6K2FbE1A0xefpN+5TUCG6hjGhFNNQG14IiKRMk1AuPrwYrW2TUCdFCzry7ZNQMKDZImLTU1AWTZwzS27TUDh5ECd2spNQDulCMGhoU1AAqBBpm+4TUDkIMe59mpNQDHew+fqME1A1l7fwX21TUBnJHp+LrNNQFDVTCuWo01ATviv4EK1TUB+mvse27hNQATWi1iLtk1AW0e7kqazTUANStTvA0lNQMMvBv2N7ExAcU8jZn27TUB2DQ1PzLhNQK1wG7u5QU1APZDGDee2TUDnsuUjCLBNQE5G3m9+t01A8tYno/O4TUCwy/lC1K5NQN0zrMPcsE1AcQmOtMa4TUAwtmhezDFNQIGvwnTxo01Ax+zSz+G1TUBBf19fYy5NQHg0aMZJt01AN8EebAC4TUC3KTv5jQBNQN8L2lCGt01AzzjNWCCoTUB9/jZvE7VNQLOEvCA0vE1AC+MnuNcwTUDtAOnv7BZNQIVmLx8DvE1A/SQsPOiRTUBw3/IZDLtNQMJYg/0Frk1AKePv+ItcTUAMIPbayLdNQM3xO2GqZk1AFfoNCN+2TUAKWwPYtLFNQKR32aIpmU1AFwxpLfG6TUD/OepYfOlMQP/5atQdtE1AXRSROPm3TUB6ykPPPLpNQHjLQNfOL01AgbgjEou0TUAqBJosDJdNQIzxdam3ME1AQz12lKq+TUBPRpyb57hNQJGLJ7S6oU1AtLfq4yS2TUCDR66puLJNQBkilny9tk1AcS/n1ZwuTUBescASCrZNQLehvmKKuE1ABJkE9m27TUA2RYjOETBNQEY9vwoIrU1AgN7Z9OWvTUBMF0EQ/LNNQEVCC/yZrk1AZV19dV26TUAO4OGk7C1NQKlwwVLXtU1A4rgr2TW3TUD0u9wXWq5NQOT98apF3ExAq9dV9rayTUCuPXjYFTNNQEKsYraKs01AxPDTBGWzTUD048vv8rpNQOlvyOQ5vE1AGSWULyW5TUDGGqtecbBNQN6GDNX9tk1AMS0pOWaqTUCOMdeiKblNQH0YN6QKt01A3oYM1f22TUAqMEGtV7VNQOIxPy8AVE1ACcgR36ilTUAVdoo2ixUmQMqxAS5/TU1Ahr4hIja4TUBRaGYUprZNQHHY0r/2u01A3PUe440KTUDF2SQFBbRNQHufr8yO7kxASzd2C7h3TUDP8yUzQ7hNQLR/dlcyOU1AhLy/61W3TUARcVxfJOpMQIgKadGQuU1AaiU2pRquTUChrytM7rBNQGaApvQzr01A5Q1wodOzTUA1ceHfK6hNQNYDRMhRuE1APHZcc8e2TUAUKViYMTNNQMqGaF/lMU1AgRZt3BG1TUBoM4DXVV9NQAVdAcXPME1AwTwcS8yvTUD/fG5S1rNNQIhG5+RsvU1A6/hNp9+sTUDhg9QIErpNQJnhVrcCsk1A9gVbkiu7TUBPrYKx1TRNQFQWXRwowk1Ay+CiVF+oTUBPtBhkLS5NQNlK+S9vrE1Acbwbs+pQTUCmUeJ/zbNNQKsI4unduU1AQ+HvsPEqTUDqXvBpPrNNQKZ3mC1tuE1A723Tz0SyTUDL1KavE3hNQLBfn6qZtk1AnGkxKoSnTUDEGMu3EU1NQJJsNz5WsU1AI+RyzKIvTUCQGbu2/cFNQPtIAetmt01A99ySJyRxTUDZTE2i7OtMQCB1Rj92MU1AMiGQx1CzTUBd6xvJvERNQOZOfg3Yuk1ABsGe2fqqTUDkuubUi7dNQCIm9UZnsk1A56uMT3EFTUDEtZNkr7VNQJ+zEp5svU1AII9UdyCsTUDZEo2OsS1NQFfB/02gE01AUADDeEG4TUAqYBAD3rZNQNe34l0itU1A9sN2MMwnTUDb5HMESgFNQPQq2VYAuE1AMxhBtel+TUCR08ZYpKtNQBy26yPark1Aiyyyv40sTUAdEz+LHzZNQJ9kr5dyqE1A3AUMsTcrTUA1xsq1H7NNQK8qCMZcL01AI0tE9XZCTUD8aWCbbb1NQIwJ+cQgt01Agg1q9ba5TUBoGA/t0rFNQNk+0kkatk1AVtnoEuoPTUBaVfSJIy9NQJKNWlROIU1A/Zym2qi5TUA21l60+7tNQDzGhsY8qE1Ao/VuCka7TUCTVZSSDK9NQM34QsBBuk1AeUcfwbxSTUDwhArHES9NQCMgkeJHuE1AaWCb84pITUBMHK9tNCFNQBMAfwL84ExAsEdDJSusTUCqdsHgTa1NQH+eghJJsk1A4UNS53ixTUBg6/0/ZrpNQMLzgdFbuk1AuRIlMZGtTUD20Eh5E65NQNGHSYdzME1A/oqvObXETUDvzkelhjFNQKr0NLjht01Aad0o0OSmTUBmMRja1qdNQCjkerPWs01AOJZM17S0TUDEB3tL9rdNQJJxQmNCdE1ADuSlWlgtTUBcaS6DnLJNQNcoARgWM01A75zlSHeGTUCg1w0RuLZNQBQAw5PfcE1ACKG2D5e2TUBhlSj6bFtNQO/omFHmtU1AWbWXamGzTUB4PLKeErBNQKA9LHhnME1AiG8Si8+7TUBnTlOVrbhNQM0lWsXXKE1ALcbc97e4TUAubg/9i6VNQBvgyqjOjU1AGosQVlY2TUC4aoFHezRNQO6sueUws01AyM7jYfCxTUDXP8pUHbJNQK3jk3Hts01AyDOgBD+4TUBMpCTGcaBNQAEG46WQtE1AZgep6UmiTUC0JDmBOZ9NQKLZ6YXipE1A6MlBgI/mTEBjy8rqOJ9NQOgDy0khtk1ANkgMeHAxTUC20IcVwC1NQIRbsz5wrE1A1wqFO4stTUDxZxjT9OtMQB8fEAeHuU1A4iPoD/cvTUBUiSanArNNQIYQDS7eH01AzuOTglwwTUAIG0XSarZNQNpXRPBXtE1AzjOe+ua7TUC5dUVj8LNNQK5IdQv9Jk1A+uXdGbEwTUAv8UAKzjNNQDzfAyXhEE1AXhVnUgaUTUCh74JtKa1NQGis9drytk1Ax7apnXDfTED47XN3ci1NQFtneyIkDE1ArIvFcLqzTUBZOw0iJbVNQHoeJ+5GL01A9eOPazC3TUBFkMspsrVNQNOjB9Biu01A4TAkQP20TUAA9TL44QJNQF2mq5aFKk1APKdLNZiKTUBC4XMeiZhNQFjmn9qdtU1AmZMXKOJyTUAFmu/pGHVNQDcGtq72HU1AgBdrcz4uTUB8llPGFS9NQHfe9jB7K01A1kTlujGqTUCSFTMXCbdNQPFFNfyhwE1A0sl/MM20TUD73RbNH7VNQNeWZLvSrE1ArVM86+W2TUDAIXYDyNRMQD1Y1djWlk1Az0cOgN2zTUAvhyRpULJNQB0LjNujsE1AfodKs9UxTUCqrUthKLFNQF/pjBnbtU1A9LlDcTMwTUBlk63WhE1NQPCizr4umk1AuYLr78G5TUDPGSnw5bdNQDLsvAGU60xAbGqor+svTUA+iNEqATFNQO0dyBsVuk1AdbhoF6i4TUCd2vZtP8NNQMzuKxDvtk1A0vM9ZCytTUDI7rEzubhNQAM5cGyvL01A+wtAlNi4TUBh4JrK0LBNQL6kzepxsk1AoMoyWgaBTUCr+d1J0y9NQEYaGuQ+uE1AR2QW1c20TUC7FjHVKblNQIt00e13BU1A1S0ZKHe5TUAG32PxrzJNQATcpfidpU1A3sRujh8vTUCd7kzgTK1NQIb+nBo2u01A53ZjzQa3TUBb+4Cjnq1NQEKcIqSZtk1A2tFMPR68TUA+t+uiu7NNQEeNfRuqOU1AaK4sSC3jTEAtPXZJH7ZNQMiq2XMjuE1AgTFVfZy2TUBpF5EqrmhNQFsMT3/u4UxAxt7CyFIXTUDUUUTM/q1NQLIgKO53n01Az7ZdK+7rTEDxfYDz5bhNQIQ2G4R1D01ALU0yIvZFTUB9n9gmj7VNQH2rfaNXkk1ANDA7WgQATUAl9ph5nSNNQAyR7FAet01ApK0l+d+2TUBcOrnPi7pNQPCmo+jXp01A6fIfcC+ZTUCzWEOQ7MVNQGMHh3TnCE1ATdCGwQKOTUCU5+HIAldNQMvk3YaLhE1AItPzWBvHTUAhHfnFsH5NQGh/HCXfuU1AnQA1FTVATUAFXTMNarVNQGO5ZpXAs01Az6sMMumUTUAiy8Gqea5NQFBi2sHkwE1AXEwjMC3tTEARmjhlEalNQDeEsOEntE1AEtfn6d63TUB+l0vCvbdNQHoxF417r01ApvvednK9TUBMCoO87rhNQMxd0Rinsk1AKnkVlOe4TUCAzd9yf7ZNQHpeui2sx01AVxBQPOW3TUAqAaBzobhNQFh6WK4Sbk1ATi7GM7AuTUAMVdAurrpNQOA9HvvkME1AvrDZZGC4TUDE1jQwdCInQAEl0Z0frE1AtNUepOYxTUBIDHhif75NQM4lqaODLU1AeE868em4TUCFtrdZ/FZNQOdgkA68rk1Adx5Q8U8wTUDocsb3vqtNQOF1PnZLok1Af2j32iYvTUAU5A22vLVNQOeRdxI4tU1Ajl5kYoc4TUBpAheomL9NQLa7w8iGt01AcFujjiSuTUDy6/GkD7hNQIA5VwnAt01AcLdKNnG3TUAdEJnOO7RNQFvyx3UHqk1AoU3+CXq2TUBJ46HgU7tNQFTcxzSRrU1AtnR+W7ehTUCukKm1JbFNQH3VtavwI01AUX8zbvcvTUBKDE7LeLJNQCEjSoJjok1AiKchKQJ0TUDM3naPjL1NQAAWS5aesk1AYOitopssTUDmZTh/iS1NQIupy/YOs01AYITRqGG5TUCWOgOSLcBMQOCn0aXDuU1AX63qUoXtTEBdn/OYZHpNQHdEEZCfXE1ASWcZsXu2TUA/r2+0IDRNQNSO/m0+pU1AcW1eSg8vTUBuJ16WC6hNQM1cG9frtE1AIf13S8m/TUAqPGSbSS1NQO3s2BsatU1AqVPnESyoTUBTAOGiH7JNQCq+edQALk1AjbXDjA+rTUC/Fd2o9ylNQNG8KsI+t01ATTDpiouzTUAUXRaxBLdNQNlGvvHmWE1ABIVIsSgyTUCavTYSdatNQMheb3qps01A0m76khW3TUCN7aMxqLhNQPL/sECdJU1ASCW7O68MTUCD0JLmtCxNQP8iUcigtE1Ahahlr7i3TUC8qak76OtMQDcLeEciu01A6f/d1I8bTUAr6WbkGK9NQGfRYGc8VU1AtyJMx4stTUB1u2Q2UTJNQF5GkR9utU1A7UBSRdO5TUCQM2pc0zFNQL2cJR7ut01AF5pcjD0+TUC3V20aULhNQAyfyXuOLk1An/JOJZqxTUAjy2LcUsBNQHAN+Xwvuk1AzIhpPTuqTUC5dWurVZZNQNKPjW7Ztk1ABuK6Vc+5TUBP8xBBYB9NQLQKLkdhSk1A+MD7jzO3TUDbMWizb7hNQFpI2IywtU1AzC86CrGsTUCajGdLorhNQH5aEFk7uE1AZJsW8024TUBM9DP43XtNQMzdx8sepU1AGMjCfSKzTUCsIUmTz7hNQMnaRaKnsU1AakCi9HazTUBWQg7cwbJNQNKfVZzYI01ABB9z722rTUCCJ2sq+KtNQMbN3cGquE1AyAtfIW5PTUDq+eo2ijBNQKG9PMc0sU1As5XMSFiuTUA/jeFf07hNQBk44LTotE1AY6gj+PE0TUBNurKILoZNQCsO3oxet01AspASpre2TUCFRwJqBgpNQJgNGcJrtE1ACQF4xgyRTUAMqitK7eVMQIqVVs+4JE1AmJKi6v+yTUDJuFS+v7hNQGrsUVXhAU1AOYIjRwZJTUCC60gZCLBNQJaK8vN96UxArKdFrMMwTUAYtOlqRLJNQJ+qV5Ox3UxAM+myxDm2TUChI3PMJaxNQAAPOfq8tk1AMDozcsm0TUBAsaOu2nFNQLp52Czkuk1A7C1ubfCpTUCCnufKH69NQE+Kd0fOME1A/lGqjoS2TUDcCyZvgpRNQOIBu6fhs01As8uoRTm1TUCcQhUBrahNQJ4rRf4JtE1ApoYWZoCzTUBinkh407BNQAKFuGkvnU1AKqe9k8wxTUAOoOycJ7tNQI+iV+RwuU1AZKVHRyW5TUCbyjbge7lNQE1cuy5XuE1AscJfRcG3TUDukfI82plNQJOQLUyst01APPDiWMKKTUCG89q3UrBNQNn8c9f4t01AUHTcOHYtTUD6i/hCErhNQKg4/PentE1AGNjcTK67TUC54saAfrNNQFwO3JvOjU1A7N35KBwvTUB3VfSPhbBNQLjxvqV5Nk1AXc7l7xKtTUCkj02k2cdNQAv9piO8NE1A3OnttXO4TUDzXQf/3slNQE9JqquetU1AwCD1GLEyTUCWyb5MXDBNQDUFuLeYuU1Ad/QDHfKgTUBGEJaUgE5NQCI/bZT3uE1ALTYaVdq2TUCtLg40TYRNQOTWYAtTMU1AUNiSnAC3TUBwZNyj8AFNQBlx+8MZtk1ASYqndNovTUAMFAIRMrVNQA+8U49BuE1AgUOqKA2oTUCp6kT4pbdNQA52a995nk1ApmbaIwsxTUCQtC+Pu6BNQH1kYtL8sE1AvXtTK822TUDPUAgTDLZNQPVuzMZyMU1AxWxrY6QkTUAUpeYc6HpNQNH5XBQtx01AsDzXrbu8TUDdQYn0RDJNQKTU23BaME1AXlNzmdi2TUB6DBSwgLFNQEHExMoTuE1AslL3IdOzTUCRY/yL8a5NQEqIaZZRtE1A+vWNa5aWTUClVHYdH7JNQI5P/kny/ExAo/7A1kAwTUDOnt+ON7pNQLhfqTVVpk1A4Cw7LeJMTUAXWOEFs7JNQB7Z+V9hek1AXtE13cW6TUAi3aP/cRBNQCpHwSXjcE1AvRtj1EuOTUACef5esrZNQIUdIxdE/kxAdHmAHsYwTUBrLUqjUatNQM79G0sYuE1AluIBwsy4TUDWGuHkThZNQGa02qkJuk1A4BwyYaZDTUAmrn0DB65NQEtJ2QRzt01AMg/SIcy3TUADycxHG7RNQJ+TS5GNsU1AzrKQrQSxTUDnUZItGLhNQGCyGMWIQ01Awx6wyY2vTUAy+NOSurBNQBOessOptk1A2HO19ZYxTUCcp4GcEblNQLHDRkPPtE1A7IZKhxmfTUA7E5OH6KJNQMhMnTqYIE1Agj8mMTocTUAd7qVPRaRNQP2Q8byitE1A9XILi22qTUCecRYy67pNQHtnEQaotk1AybQMVSIxTUAV+MUpibhNQFT/z4UBtE1A/iZdP0uzTUBFrqfCZLhNQJZ5TsCKmE1AgrLkJ6GdTUAgggoTXrdNQBwWe+2Wnk1AwYeWn+BuTUDvOjBqHzBNQB9GWBnRL01Avv4tkoK9TUB41NwwkLdNQGFH7GQ990xA2P/3eQavTUDYlycqRTJNQCyhViUztU1A0GDowIMeTUBOEW5Ja5dNQIzSY4mAt01Ai/uPtzm3TUDw5tT2EbhNQMWftdZdoE1ABKfbEBqyTUDm2qc/KKpNQFjdiFrFuU1AlqMex1e4TUBL61/QtbhNQCKyLyqkLU1AH4lIfqe3TUBLHoS84oJNQDvCbEORp01Afd/Al4m4TUDqs4WfdLNNQFyKemGssk1AP6vt9+AyTUBPQIZbtbBNQAKGS5hNt01Azne3zdUsTUDZ0dnifHdNQFz3pnpBvE1AG/nczuigTUDlQDX9drdNQEotBW1L4kxAEu/Y42CnTUA6YqbEvLdNQJ1+7FHOtk1Ao6bkT5G4TUDs5J0xOLVNQHuX9AkduU1AJvDF/sw0TUB/adTTjbtNQGqy3w93uU1AP7IfO3+zTUBtRQglV7hNQFcoxP6frU1AXhIvRJKzTUAP4Fhef7VNQEV3BaBIuU1AxLXshfO3TUAnccnbn61NQDRB4w5ZZk1AnmrRGlr+TECvzizFHl9NQIIW3UNIsk1A5hDQUYe4TUCx3v8WorRNQBbw8FMRrk1ApZONcaoGTUDJ6SzC+LZNQD541gN6tE1A8ZBqJLy0TUBfW4WAPrpNQJjLkvI7uE1Avbdidd4vTUDq3DEEQX9NQCxgCG79tE1ARpsvyUa8TUB4ds/wObBNQA1mFqP5rE1ApoGoDKmNTUAhyMO+QKNNQHhZ3tjEaU1A1ZACSO5UTUCZ8NxFZ0VNQKdigl+OVU1A4I8M3fiATUBp6ddCpMBNQPLHPW99LU1Ak7E8Qt65TUDN9JjmLLRNQBSW0Svos01AoVbma7mxTUDknGKZHDBNQB6JRN2dtk1AfHSu3qh3TUA7+My4CLBNQHUMOIRz6kxAZCJqUZ5MTUC0OFy/i7dNQOqMhBe+t01AoWTu5YizTUCEGCcH8rxNQH6xUgqWe01Ax9yuuzKxTUBLh2wSk/5MQLEk4odCJ01A6gvJ3t0/TUBjGgwM67FNQEqNz6F/uE1AGnOuaqW4TUBXqwZUf8BNQJPOfoUvt01AGAWaw5KsTUC4j4jblARNQFG7cCNKuk1ApToOmOm4TUBEcHcH37hNQC7Xb6d0t01AYpIHNvK6TUDAfhl8arRNQMxDuj/Svk1ANvtf1X93TUBH7uYof09NQFlizNDOsk1Amjwc/srFTUA4dBiC17JNQEBjTjqCt01AvLNMfQiwTUBaTwLCg7VNQBa8gLAnuE1ACOgFsTq0TUACrTWcWC9NQAE6QuDEtE1AfVLwaOW5TUCL8il/xbhNQE0LtJMtvE1A7hbXi/uyTUCqL2CdMa9NQMdbcddDs01ABfbbC5+yTUCQ0mOeNLxNQCAlgm2Ouk1A+tHtxGq2TUC0Kj5d5bZNQEnCrZz7mk1Ayy+7+OTtTEDLXBia4bhNQAPhFW56FE1AZhE09du4TUAH4Cw027ZNQPFtJsQs6UxA6fnTXn8yTUDxeKDSs7ZNQIa2q3DBp01AwlAdd1G4TUALX5A9PrpNQDp050JIS01AzJqCGrvkTEBcs7y0Z3pNQCy4pN9wpk1AqnmpRIu3TUAglsMhT7dNQCzCXqkpsE1ASW4ycD14TUCQkIGKdhtNQFbybJsEuE1ACoG/C4e9TUAWZrb6vrdNQOumop5EtU1ApUZ/lngvTUDGbRzO/LZNQFTjQjIHcE1ACtFMUl24TUAjZHtKg6xNQCInzQvEtk1ASOXaTa23TUApTtCfHLNNQHmd00Zit01A6myxkpWzTUB12lb2erhNQF9WQUrPvk1AhzzhyE+4TUDIrM9ftY1NQEtKmUUjuk1Atv8HTmq9TUCuaC0j50NNQGwJODjOpk1AcuOwYh60TUAOCz+g7SFNQCNiWsmpMU1Ayr7gyEa4TUBBxF18pjFNQOA1A8n0rU1AcNC23PC4TUBUmQ9rKOlMQL1B6gyy6kxAWkEK892rTUCn6ZZxzrhNQIx7GVwYnU1AeipRwbwwTUAdR96iJyxNQEOPW/gJuE1AJ87GGU+zTUDp3oDgrblNQBOTWF6dsU1AL1R08ZKxTUC1fUHBbzFNQPozrX82tk1AQs5Y7VngTECfd+EKHrRNQOW11ITxMk1AuyYovuotTUBb3IH9RrhNQNirkQ7PwE1A4Sd6gcG5TUDiFN3NljFNQDbSDOFZHE1AzFY/4GfETUAvzlOYxRhNQHZGYTPrdU1AhAF2HT3BTUCl09G1SrBNQJ7gEd8QuE1AWswBRrRTTUAm9DU/tptNQDrgen85r01AaifLbcGtTUCC/aIArJRNQNSpNqutuE1Ad0PjR/jsTEBX43lrP1BNQE/ib4jJsk1AetoNnquyTUAXgeAxGLRNQNtzBrGpt01AfespcvszTUDmpC6L3rlNQI02H+gag01AsGzOQ+ezTUAoRGEbUDpNQB+LE4C4L01ALEoVQD+5TUCOj78MdxBNQFYYMBjBiE1A3wycW9W3TUDg34Ur9DtNQJxTlnA6t01AomI/GPyzTUDTXijHTalNQGJ2flrShU1AjbSh1+K1TUBKHI9c7rhNQJQ7XEasrk1AcDRtOt5wTUCbjWVnUotNQJAaWJaV0kxAZbnjM8a4TUBdgXa/zzBNQLh202foi01AsorVs9DrTEBaSKzhhuBMQCyeFBD7t01A9Eaf67qxTUDoFa5nO7BNQAHMtutqrE1ABVz63hB3TUBIetvFacJNQO24PDN3uk1Ayc2r1KCjTUDy2xz1TbhNQBYiB+Y6tk1ArKNCFdKyTUB7Vlj9/bxNQHX+CiyNtU1A8FDCA4W2TUBjdntWgyVNQKGHHg/etk1ApuD+4kqzTUDwJeV8ELRNQGaiEyKItE1Aefg9bQ+2TUATZj4fUbhNQEayAAErsk1AoaVVNfIpTUAzdLlK8opNQD+/vpRrNk1AGyG73SCyTUBmb+Qzi/NMQPcXenLJt01A5nCp31WyTUCiN5y+2LNNQNiqWr+EuU1ATfG8NjixTUC8yy4E3LlNQB71h2n2tU1AlVdxSzu3TUCZTVfpqrhNQHnumvW+rk1AGR1ZWyv9TEA629baSI1NQKkD0J5roU1A3E3nbzjsTEDacGn2RCFNQO8Te3B2L01AFP27a/anTUBSe2wm4l1NQIIFPh3Ttk1AAgre/Li1TUC7+x5/pbhNQEXQKF1atE1AX4p3eHe4TUBjL6s0xJhNQH+r/aEZM01AlqVnSm2wTUAN1FfrcbdNQDEiKiBJiE1AGpXSwmetTUAInZJourNNQEe3cYa8Ek1AosGFWdC5TUBQQcJgU7tNQKv8R/M9uE1AX7K1Vke3TUBAvQPTdTBNQD/a/CFbt01AssEL+4hATUCdK0Fic7dNQB8UWbpSuE1ALRY4PA/rTECLlIjEGapNQFQlcldEvE1ANqdqD/K4TUCTo7tEErlNQDhtK4ttt01Adqekc49gTUC1j+KLJLNNQJ0YYDPZe01AvFTcDpO4TUAZXnCqgrZNQODnMWJ/eE1AyHSyXD60TUBh8/lRCbZNQN9mEn4pLE1AREzoZy2yTUBNpYhYzxNNQMDZyRCzuE1ANH1XedW0TUCwdgIBAp5NQPLiHd/3tk1ACvK3TwaqTUDtsferzbZNQDwQiIRhMU1AOav0VDicTUAY1uKWo7dNQBo94qCZuE1AZdj5KN5RTUBBBAmfkrhNQBKv79Ne7UxAbz2UVN28TUCwjzQ6ESlNQBPtA2xmhU1A+tSx9IczTUB4l709ZLdNQBlsTyIJu01AaU4zTD/ITUBdVARQTblNQCvysklwvk1A9WMUZ6i0TUBX2YfY35RNQGnhgOzy8kxAgwYOccSuTUAPUTLMXrhNQJ5JQGJ3ek1ATLixKyq3TUD2kTM+PHhNQEQ+kCCLsE1AS2BNCKqoTUARm1Lsar1NQGs2/EE+nE1A+eFCc5MwTUBmu+LG/rNNQGe1doQTuk1AIam/gQ26TUA8/OQW+blNQMmJNDbLqU1A9cKnKAEyTUDChoJFwrZNQPBDQBoRrU1Auflysci4TUAp8Jag4q9NQGbhvNeTkE1A44Phnk63TUBKpZx5hbRNQM9S9OCYtk1AoIe4USQHTUDbM5WGfzxNQIcezItFnE1Aibz20zsHTUBZv2ECvblNQOVdXhj6Zk1A3zli6Wy3TUAhjO/GiENNQF01GVTGt01AsgPNZnqrTUB6aebAxiRNQKabh9ylt01AZ3L7HCIvTUA5sj3CE5ZNQMqd07XzFU1A2QmTb7W6TUB41A1Ln7xNQEMGO5LjtU1AYE4lJVu4TUDDMQIKFbhNQOqa534Ws01AqevNNoi5TUD/s9swKDBNQLNi62ZGuE1AcPMmtU67TUAVwgiDqLZNQPffzBjvvE1AyiQ4mrW3TUCT9Rbxi7FNQJXoz2Xytk1AXNeCrf20TUAcBg6pi7tNQCSjV7cCwE1AXEZJjA3VTEAU/Tl7+7ZNQIM0+V0cdk1AXcoOqnMFTUA6d2Tk1rZNQGy+a3pQuE1Anpas8J23TUBGZ3rmLbBNQG35YE7rJU1AJghWcEYyTUDh8A9ljrlNQCICyXuhkk1AU29DcieyTUB06g0HdrdNQCMIFfxns01A9qmyXKuhTUA/biApgzBNQOSADZGqLE1ArXx54DS3TUDiWmjJSTBNQKPqKq1nsE1AtDxB00y5TUBk68u8kqxNQLwe5db1u01A3U/rAkyrTUDwEsaHyhpNQDPfx+AemE1AdjDQ40ayTUDjhai12rdNQPkuM0xrt01A/4a/QTCxTUBLNRt0d+ZMQDY9ByCnr01ASniFiz0PTUDPqCDz17hNQGWwVQCHME1ARka7QtmuTUB+SqhCdzlNQIKQ4hugrU1Aenxyumy4TUB1DyOlSLhNQHUwI0g9DE1A2ev4Fvq2TUD8sVk7ErJNQOg306KZsk1APit3ORG3TUBCltabkqhNQJ0r9xyDwk1A9EBz/PO0TUCLvq0Ndr1NQDUaLEvAuU1ADDNDZYW0TUA713YRQ7NNQO36vHdDLU1AIZIBGKmHTUBEhYQEi7ZNQOfuouUYsE1AxPy7DjetTUBqQp19xLdNQPhUI/9AeE1ApsztJPG4TUClX03DtS9NQMAYH1XBRE1ANIsF5cy2TUCfS3M0drlNQPyqFrOptk1Ab4pWT6+3TUDbWRYp+59NQCRCuF6HIU1A31YoqTI3TUDC6TdPXLlNQEva9iaFtk1A22MvFde2TUCN9adhLfpMQGbgNTc6ME1AhO9gl9+2TUB5MOalsLFNQCCq4nUbtU1ATBBlK0/nTECVE0OFW69NQHZ4mmR4tU1A89hz7Qm/TUDBON0PeC1NQIaqZVBwtU1ALEcc6HX4TEDisXTxebdNQBQ9N1hnuE1AvvxSsSGqTUA3LrVYx6tNQFevs8hFOk1AYsqp786NTUD/Q3D6STFNQMlQHK/I8kxAhIRAvgyvTUDD/kLTJhRNQOwSCgzBpk1AV96db8KlTUDqOm5OPKRNQAdH9bjMs01AoKlmrU+4TUDzjC7Lo7hNQHiVr9CPf01Ay9HY66yBTUBaCusmwiJNQH7u2aCgsk1AOJF2NOq5TUDv+lq6W8xNQKnPNvgguU1Az4t1MzIxTUDLqTxJxLhNQJm59/pku01ASWM85i7RTUD6JlFx1pxNQFsi5MQDuk1A9i61GyFYTUCzK4VNBppNQC5C9EQpuE1AdWnBxCguTUAwjO3ajrNNQMFGEhlqfU1AGENUbxazTUDhah9t5TJNQAMDkHd5sE1AQn36XmPbTEBbNPyodwxNQOktuFKKt01A6HbYIqwvTUACH0xSA8BNQEY8nrPzMU1Ar9JfFN+zTUD6iRqZBrdNQIdVx82ft01A8tDJAWy1TUCgDLvjKLRNQKf9jokPX01AdZSVqSqtTUBmzvDJJrlNQFN33TkzV01A3I7Kmd23TUAI0ZlS5LdNQLehel2alE1ASHiyPQWyTUBcgMzpvbdNQKdS7glosk1ATnHLCJqtTUCnlmMJvflMQM4/1QDeVU1AlQI+P0/sTECR6TNVUrhNQLpe/XiKrU1Aj6ZZe0eoTUASukAUKrNNQJG3kn9DwE1ABwmbRzOwTUDLWybIATlNQOofR1PRt01A4U1B3g+1TUC4/wRotLZNQCdbZxhjtE1A17KPbWCwTUBvzKxYabdNQLbklYwJrU1ACu4RgM6wTUAXTa6Osb9NQCscX5tYrE1AWxGRbkHETUCA3hwdubRNQBeNFarzsU1AUa6Cq9i3TUBVVdkcluxMQGHe4/Dqrk1Ampb9rtyOTUATn+a6tK5NQElJ9LSHWk1Ajb1m5YKzTUCPtndtQbJNQJpwPKnLL01AoGZzgE0fTUDLb0+GC7dNQK+zADXWtE1AAiddjfyrTUCvg/XfYi9NQOm3CGRFsk1Ai+uMcsOnTUCVqmfWPi5NQP+PfHsFrk1AzTCTIUizTUBeMHSHbrZNQGGpepQVuU1A9fcbHYCzTUAqJZebm1pNQO/s45qiak1AfYAtDl+gTUClbxDT2WlNQHIEuMzzBU1AT52p5ZzOTEAIBvZ7M7lNQCnOrHofMk1ASibz3yyPTUB4c6nQgCBNQAteGep0sE1AXJCZhyy4TUAdw10awbVNQCLk7C2Ut01AX0HEYcHgTEDFt0elfapNQLv2ujJBtk1ADo/ooG25TUCwwke9B7lNQJp6U1TSrk1AbFyuCUvrTEAXc/3x0jZNQDV9m/lrtE1ArVgTjMOOTUC4VBFhZuFMQEKacB3er01AAMARPWy3TUA7FxYMML1NQDvrPZm1vE1Ar5xuxvF3TUDdcwXYmrRNQHdFbgRCq01AlQP/rXy5TUAi1DOrsbdNQKZsoxtCDE1APzkG0VW+TUB5uuo3Km9NQDpHYPJtpk1AJbjr2botTUDK1A727vNMQL9qL+bwuk1AqBRvIAB5TUAxgAjckktNQLv/c7f8uE1Ao65yNYHITUB/4kTPqaxNQNztLoCcfE1AKQhY97W0TUCK84kqkkZNQCaoO9gmuk1AmBL7SSO3TUBTZlbBkrdNQCx3kMtkuk1A1JIAZGwITUBPhtud6i9NQL+xNjjetk1At6jXwM6qTUAU4owxIiJNQAtFPEg4q01Akt/sp5y2TUARmaFZPbdNQGubL9e2sE1A2kl3DdeZTUAfOaqpJiJNQF7I1VRurU1Ap6Qyst24TUDB2QofGbNNQMnXjETPs01Aj0bQcu+6TUBITF7yprNNQILF2GQRtU1AjE1KWZu2TUBdey/PEbFNQNwUaItDs01Ad8skJr6ETUDbVGZQUKdNQMHfhnvoL01A5nq/WrIuTUD7CB6IHLdNQPvhrNuUhU1AXC7XCWsxTUBEHr+2R7VNQN+NotD2t01AOK+PRUD9TEA0cdyeN7pNQCvQox8GtE1A6s4O3qKnTUDqRjK2qhZNQEc0r9CruE1AgDAN62u3TUD+Oz0Et1tNQHa9RnsEt01AcsYiVx27TUBre6hoFbpNQA4LYiK8Mk1A+sqNJqUxTUAiXDtpULRNQIhDSB7t+ExAMP4fTA0vTUBLxjx01yBNQHUCHAEOKk1AGoITwc5zTUD4G7VbLbdNQE2Rhd+tHE1Anivt44swTUDBj7GKiCRNQBxYfssPCk1ATPSpxKazTUANmqsfyaxNQKXwi+dJ4ExARtN6lfa4TUC94homL5lNQERCoHRbbE1A4Kgs5Ye3TUDKdSba2zFNQGXytC6huE1AV+zFyamyTUCOz5JSo7hNQHpOjfnxsk1AK3HHq0q7TUCMebO7FuxMQDyGCqVrSU1A6jTGM82zTUDGXxM4ZLhNQG2C8cCluE1AwGwjKRevTUAiJ8DHcq5NQOZUBMFmA01AGILaB9gwTUAiyNemS7dNQLuKb+7kuE1AQh0MK9u2TUC3/8CVEPAlQCGvx3cKoU1A/P+9KDsuTUD80RyEII5NQJbaDdPdt01AJwYbDi+XTUC+xaeot6ZNQMPiTpM5j01A/PZXnkW8TUAfMagPnbhNQL3zc13jLk1A3xyEVVu2TUALp1hNmftMQCvKs2HjME1AzKSkqx+1TUCuz1AdtqZNQGaii92btE1ADs4Yp+YsTUCGSwEy2bRNQP9cUFZOqE1AEqmWYBy5TUD9sJWGCLtNQNXbylvKrk1AAfKq3PArTUAM3892Bp5NQEn8sS5WtU1Ayv/XXqWiTUCFTjREcLdNQASooerCuE1A54v3y060TUCXYz6beC9NQFA9A6ocrU1AkbIh4kAuTUCWdWM1ApBNQNMZ6cVfkE1A8Qvck7y2TUAnwMdB/k9NQEGin7FdME1A4YzcupK4TUBi247eaTFNQKsD2xD3tk1AKzSen1iXTUASeloTU7JNQNdL/IV1WU1APT8/8ASpTUASvXRGZ5xNQG55LXFItU1AfpkRLKCzTUBcwYu/nbFNQIxzvexIeE1A347llEiVTUD2m7vZ4zdNQEBKazK5sE1AjFznGv/+TEAB9TN19jZNQPm1b+odtE1ANlh1wPitTUAHuGXXvLhNQLgTlYHIpU1AxsLiUBOyTUBO7GSMSrdNQL0+U28TsU1AgSgmzP63TUCoMQtvz65NQLFX9pc2qU1AkYpWzz24TUCjTEkbhrZNQL8vC39FL01AyyQk1M+0TUBitJtHCbRNQC9RimPUuk1Aje4JdFUsTUD/iqiG57BNQNxCa12H7kxA/PTyli0cTUAjaO0Pe0pNQJsSa2zuuk1AUjpoIm14TUDAMuNK0DBNQLhT8I6Itk1AvSEPL96sTUCSqHE7da5NQGc1uQjBYE1AiqLx9N25TUAzfEZvQjFNQBcpBDsdnk1AiAjn4Y2nTUAn061tjrdNQJRBOoNVrk1Awr2PSaRTTUBw4AbgW7ZNQPIL50mdgU1AYZlEx5h4TUDJhMvTi69NQMGy1aXGdk1Atdm77V8iTUDLFo3/eHFNQOSEQgTu4kxAigT7aQPqTEBwW6OOJK5NQLjS5q0Ctk1AC7cb2/24TUCu0vqeC6tNQJDKarLpt01Ao2uTWJK4TUDagfEEHLdNQCf/YRv4sk1AjfP7pqUkTUD9okeuM7tNQKaXMXYfeE1Aud2BM6uHTUB1SoZS5blNQHNRBkjMuE1AkgoLxLauTUBBHPhyR7tNQKUpM/mtLU1AwnzaG+23TUDnHcyWfrVNQFnTuVHFs01AXlhiDIy4TUDvuppfqrRNQKCZPPdnFk1AMJYwNEGxTUAiDZe4NrpNQJOLQBV8s01AVyq3bMOwTUDGUHsl0LZNQD4pvH4JIE1A8bWMJ8UwTUBwbM53jLBNQMnFf5JjtE1AGrQUEKAxTUBhZdaXorhNQKi+lWBBNU1ABpUzI24xTUAO08lEDaxNQNKxmfJQtE1AsbXX3St/TUC9jvJCtCxNQJFSWbSZL01ACOdUHwWxTUDjUZzT/S9NQB18mc1QsE1AfMlAltC/TUCTcamrDL1NQOPxu4HTsk1AVHdBRWq1TUBGLIiI3rZNQM/zUfoouk1Akf0WOp+wTUBUEKScVbdNQGwNcJKOt01AMad+wTi1TUANlR7WpLdNQBugWdUrtk1AJELyms6uTUB0XEMaT3ZNQF51IWQMtE1AkelfsstzTUCCEdpcl+pMQE2yHqntlU1ALk9ANu0xTUCa3dfMNjJNQMdNS5oEqE1AazscJN+5TUBAcuval7BNQOB7BE3oME1AMI+nJAqjTUAPQHIzFS9NQOOErbqntU1AHPzkzd2tTUDIbAyiQbZNQLFDnDmxL01AnjeH2e63TUAlPjR/ibNNQBT6YXWb5UxAwlaGSbC4TUAyx7tBC7pNQAHihHnVtk1AucRbfeC4TUBDwO/HaNxMQMx0bJxiV01AYJmV335fTUBNBFAEYy5NQFBSZZyYLE1AQDi6P6S8TUDw1tG/34dNQCj8wKB5MU1AAsWDHiUvTUB3g9tAf7ZNQAHflEO5L01A7cBkPgACTUCRxpYC3q5NQBh5q74dqE1AIfZkP/OvTUAcWA2Z9zBNQMaXVtiWsE1AzbD97Lq2TUDCvkGFDKpNQHEY64HVu01Aq57LQ4m5TUATjHY2JzBNQE0PPH3itk1AkgrrjsyzTUCZRH6/crRNQMdRImLYLU1AiWU2OXm0TUBW5onbNLhNQM4bxZ8oqk1A7DBbiiS5TUCkYwAmzrFNQMZ5fLAXVE1A7Sb9ovq3TUDetLqgyLdNQAlVxY6b/0xAL/KxZ/sxTUCrc/Yfnr1NQB8tPOtjvk1AZf3Lz2i4TUASDY7tqqlNQOjT7cM8sk1AK6kk4KatTUDnIaYgO6tNQBU8iQuuV01AQwtHOYa2TUAtvVU5VIVNQDpAUknqr01AfIJ8uWMvTUDkrNqCjK5NQOhRjlu/s01AZv1Tn/a2TUA7TMYftLZNQClpQ+RYuE1AIUf6UQsHTUB00Lg/RyJNQDa8r96ms01AEoBsYxh5TUBCFhTA0bRNQLba6Y1mt01AdSHoDDy7TUCvcAPvJLhNQEFQG2rsvk1AYmeT8sy9TUCWl4MMm5NNQMU6b+fcuE1AMXmGPRYvTUC0qTwHBaBNQJrpyd/BR01ARQLzbx4vTUAYTKKeh7lNQFnNiutbr01Al5x8bl96TUAxkLXfS7hNQHtYZjNLuE1Aw2Up3LmnTUB+Yst1+rZNQLObQrmctE1AbsmJrau4TUDeB2cyGqZNQEk0dmwZMU1AAUlU7Cy2TUBsiVHHhrhNQAeHugshsE1A83OiG8GqTUCshQOuPLRNQLEQdfk67UxAaIDtR7u4TUBxdAJ3pDFNQPqLXJSTt01ArM0IeqqzTUDtv4swxTRNQCyl67Dk/UxAvLydzSO5TUAYIf5mODhNQEnu/tsvtU1ALrPDlIe4TUAqGoQbXjRNQDj4kXOlt01AOD0Z2ebrTED0UIFqYrNNQGlhQHWnr01A/YsQOfCuTUBDAWnTkLlNQEJH0BX/L01AnKBpYWq0TUCebG9utqhNQE+yDMJIuE1A7As7xiq4TUCGbF57V7hNQJbdPVY6Lk1AYy6x2s6vTUAFz3IvvLhNQJHklWXFvE1AfOEjq5u/TUBESR7DMMlNQF1XvswzrU1AgBcKKt2uTUA4/TKR0bFNQPJ0xhExuE1AMtJCHIe5TUBG6ZowQ55NQE71ALxUME1A1ntDCo+3TUA5rWpBAC5NQAlXhtAas01AhEQMc7a1TUCmgf68OfRMQO4G2mIUt01AsPm+r4W2TUDEzX8SOzFNQB2MvNVwL01AwCwk2BCuTUB6k/AfTLRNQK8PEjzCt01ApOWc75vATUC4ddLPcmxNQOj+2oge5kxAPraHQgq2TUC04kLO7JJNQLPwxJNQr01Ah7Fonlm4TUC8JLEd9WBNQN5h/eClU01AI9ecpUSuTUA2szRFpP9MQMlMOtlGsk1AFCfUKBOWTUBV1BTx7bdNQME/2LP3v01AV2A1IoR2TUA1foofXzJNQAUZw+btPU1A6h5XpGutTUCZ7HnQHyJNQCrNihCGeE1ARmdW8dUwTUCJ0DQ/07dNQBxbqy0Vt01AbmqBTpfATUCICrKxc6xNQLuzLBt540xADuLe3pmzTUBG8qEPEapNQGLrdRmjrE1A1aZ6KSu3TUD32Eq5JK5NQGk0yHSkmU1ANPV1gmC3TUDHGn5XoS9NQEReiCyRuU1Atx4WSZy4TUDO7K7uELlNQMyLmJeohU1AxyGri1/sTECpw32xZbZNQNSk+cFgt01Ad1/r48+1TUBG7kuO2b5NQO8qpvu2qk1A0e30BhNOTUDqsopd9rhNQF2s4SIqL01A8PYtf+O4TUA1y5FHifpMQIK6VKwguU1AyVd1o8VOTUA+SuJaC7lNQLKVHcEdqE1ACWW0zKiwTUC8aj01mbNNQDTec4gbJE1AcRLcGAh7TUB7ERfU1ExNQI2YJ8HVcE1AQwckZAe2TUA+glIXbq9NQLle3kxUME1AW2e0Nba6TUBXUw1UjrRNQHM/T8O/VE1AXLYOmMW0TUA4vfRTazFNQNGxXQI9uE1AYKtZQKu3TUA1LLYKC6JNQCqQE86gIU1AtwNYdj8wTUC4hl6nt7ZNQLO2DXhtX01AOR0NkUi5TUCC6Dl/4X5NQK1tmc/2rE1AhAK8XGGwTUBD5Z2mCC9NQD459pbytk1A7HtRF9ssTUB8KhftFTFNQKnyF91ht01A0If2ZUivTUA2CwTXCHhNQPXvBmG+t01A4Vq1mOkyTUBbPCOPGepMQDIa3ah4iU1AX3u6u+S2TUDiILvnarNNQO5bxxu6t01ArwMOIvY6TUDYrbr70q5NQFyu3ONJB01A4xWD1BOwTUA0KT+1055NQLm/BirYtU1A0RhnlYuzTUAQePHxO75NQKth+bxNuE1AIxeZTva1TUDrqLr/mQFNQDbWPYmLak1AtLgGE4GfTUCcVSYrDq9NQBYOtyUswE1A+mRe8gaoTUDJwJi1okpNQEXTY7c7sE1AAWP0jLY1TUBxET6WknVNQD4JhjtSWk1AekYRtFeoTUDfy3l3VrFNQN5UH+6uV01AdFGWtrxzTUA+u0c567xNQCSg7KFNM01AsVxh1Jm5TUA+qH7chXxNQLAIISjHME1AKFrukg0zTUDS+31z0rNNQKqIrmaIt01AA24y5s6uTUDSIgwpVBlNQCJfKm0dtE1AHKv8Gt6cTUC2N4hTBAhNQLG2v81i9UxAflHr+qOsTUA=\",\"dtype\":\"float64\",\"order\":\"little\",\"shape\":[13459]}],\"lon\":[{\"__ndarray__\":\"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\",\"dtype\":\"float64\",\"order\":\"little\",\"shape\":[13459]}]},\"selected\":{\"id\":\"1290\"},\"selection_policy\":{\"id\":\"1289\"}},\"id\":\"1277\",\"type\":\"ColumnDataSource\"},{\"attributes\":{},\"id\":\"1291\",\"type\":\"UnionRenderers\"},{\"attributes\":{\"children\":[{\"id\":\"1280\"},{\"id\":\"1281\"}],\"margin\":[0,0,0,0],\"name\":\"Row01041\"},\"id\":\"1279\",\"type\":\"Row\"},{\"attributes\":{},\"id\":\"1292\",\"type\":\"Selection\"}],\"root_ids\":[\"1268\",\"1307\"]},\"title\":\"Bokeh Application\",\"version\":\"2.4.3\"}};\n",
       "    var render_items = [{\"docid\":\"8dda71bd-9cf3-4012-b492-03841f70e42c\",\"root_ids\":[\"1268\"],\"roots\":{\"1268\":\"a2057870-f12e-4a42-91a7-7a3b139549f4\"}}];\n",
       "    root.Bokeh.embed.embed_items_notebook(docs_json, render_items);\n",
       "    for (const render_item of render_items) {\n",
       "      for (const root_id of render_item.root_ids) {\n",
       "\tconst id_el = document.getElementById(root_id)\n",
       "\tif (id_el.children.length && (id_el.children[0].className === 'bk-root')) {\n",
       "\t  const root_el = id_el.children[0]\n",
       "\t  root_el.id = root_el.id + '-rendered'\n",
       "\t}\n",
       "      }\n",
       "    }\n",
       "  }\n",
       "  if (root.Bokeh !== undefined && root.Bokeh.Panel !== undefined && ( root['Plotly'] !== undefined)) {\n",
       "    embed_document(root);\n",
       "  } else {\n",
       "    var attempts = 0;\n",
       "    var timer = setInterval(function(root) {\n",
       "      if (root.Bokeh !== undefined && root.Bokeh.Panel !== undefined && (root['Plotly'] !== undefined)) {\n",
       "        clearInterval(timer);\n",
       "        embed_document(root);\n",
       "      } else if (document.readyState == \"complete\") {\n",
       "        attempts++;\n",
       "        if (attempts > 200) {\n",
       "          clearInterval(timer);\n",
       "          console.log(\"Bokeh: ERROR: Unable to run BokehJS code because BokehJS library is missing\");\n",
       "        }\n",
       "      }\n",
       "    }, 25, root)\n",
       "  }\n",
       "})(window);</script>"
      ],
      "text/plain": [
       "WidgetBox\n",
       "    [0] Row\n",
       "        [0] Column(sizing_mode='stretch_width')\n",
       "            [0] Row\n",
       "                [0] ParamFunction(function)\n",
       "                [1] DateRangeSlider(end=Timestamp('2021-12-31 2..., name='Ajavahemik', start=Timestamp('2011-01-05 0..., step=10000, value=(Timestamp('2011-01-05 00:..., value_end=Timestamp('2021-12-31 2..., value_start=Timestamp('2011-01-05 0...)\n",
       "            [1] Row\n",
       "                [0] ParamFunction(function)\n",
       "            [2] Row\n",
       "                [0] RadioButtonGroup(name='Periood', options=['Aastad', 'Kuud', ...], orientation='vertical', value='Aastad')\n",
       "                [1] ParamFunction(function)\n",
       "        [1] Column\n",
       "            [0] Row\n",
       "                [0] ParamFunction(function)"
      ]
     },
     "execution_count": 27,
     "metadata": {
      "application/vnd.holoviews_exec.v0+json": {
       "id": "1268"
      }
     },
     "output_type": "execute_result"
    }
   ],
   "source": [
    "dashboard = pn.WidgetBox(pn.Row(\n",
    "                             pn.Column(\n",
    "                                 pn.Row(tiitel, slider),\n",
    "                                 pn.Row(pn.bind(kaart, slider)),\n",
    "                                 pn.Row(perioodid, pn.bind(perioodid_joonis, perioodid, slider)), align=\"start\",          \n",
    "                                 sizing_mode=\"stretch_width\"), \n",
    "                             pn.Column(pn.Row(pn.bind(osalejad, slider)))))\n",
    "dashboard"
   ]
  },
  {
   "cell_type": "markdown",
   "metadata": {},
   "source": [
    "https://towardsdatascience.com/using-panel-and-hvplot-to-visualize-decades-of-wildfires-2ac8d6f5db25\n",
    "https://hvplot.holoviz.org/user_guide/Widgets.html\n",
    "https://panel.holoviz.org/reference/widgets/DatetimeRangeSlider.html"
   ]
  },
  {
   "cell_type": "code",
   "execution_count": null,
   "metadata": {},
   "outputs": [],
   "source": []
  },
  {
   "cell_type": "markdown",
   "metadata": {},
   "source": []
  }
 ],
 "metadata": {
  "kernelspec": {
   "display_name": "Python 3 (ipykernel)",
   "language": "python",
   "name": "python3"
  },
  "language_info": {
   "codemirror_mode": {
    "name": "ipython",
    "version": 3
   },
   "file_extension": ".py",
   "mimetype": "text/x-python",
   "name": "python",
   "nbconvert_exporter": "python",
   "pygments_lexer": "ipython3",
   "version": "3.8.13"
  }
 },
 "nbformat": 4,
 "nbformat_minor": 4
}
